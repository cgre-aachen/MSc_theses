{
 "cells": [
  {
   "cell_type": "code",
   "execution_count": 1,
   "metadata": {},
   "outputs": [],
   "source": [
    "import numpy as np\n",
    "import pandas as pd\n",
    "import itertools as it\n",
    "import heapq as hq\n",
    "import matplotlib.pyplot as plt\n",
    "%matplotlib inline\n",
    "\n",
    "import sys\n",
    "sys.path.append(\"C:/Users/Tobias Giesgen/PycharmProjects/gempy\")\n",
    "sys.path.append(\"../\")\n",
    "import bayseg\n",
    "import gempy as gp"
   ]
  },
  {
   "cell_type": "code",
   "execution_count": 2,
   "metadata": {},
   "outputs": [],
   "source": [
    "data_s3 = pd.read_csv(\"../data/GemPy_models/Synthetic_well_data/gempy_model_4layers_horizontal_s4_75.csv\")"
   ]
  },
  {
   "cell_type": "code",
   "execution_count": 22,
   "metadata": {
    "scrolled": true
   },
   "outputs": [],
   "source": [
    "a = data_s3.drop_duplicates(subset='Well Name').reset_index()"
   ]
  },
  {
   "cell_type": "code",
   "execution_count": 23,
   "metadata": {},
   "outputs": [],
   "source": [
    "points = []\n",
    "for k in range(len(a)):\n",
    "    points.append((a.loc[k, 'X'], a.loc[k, 'Y']))"
   ]
  },
  {
   "cell_type": "code",
   "execution_count": 123,
   "metadata": {},
   "outputs": [
    {
     "name": "stdout",
     "output_type": "stream",
     "text": [
      "6.82 ms ± 443 µs per loop (mean ± std. dev. of 7 runs, 100 loops each)\n"
     ]
    }
   ],
   "source": [
    "distances = []\n",
    "nbh_dis = []\n",
    "nbh = []\n",
    "midpoints = []\n",
    "\n",
    "for j in range(len(points)):\n",
    "    distances += [[euclideanDistance(points[j], points[i]) for i in range(len(points))]] # stores distances between two points\n",
    "    nbh_dis.append(hq.nsmallest(5, distances[j])[1:])\n",
    "    nbh.append([np.where(distances[j] == nbh_dis[j][k])[0][0] for k in range(len(nbh_dis[j]))])\n",
    "    midpoints.append([find_midpoint(a.X.loc[j], a.Y.loc[j], \n",
    "                                   a.X.loc[nbh[j][i]], a.Y.loc[nbh[j][i]]) for i in range(4)])\n",
    "    "
   ]
  },
  {
   "cell_type": "code",
   "execution_count": 124,
   "metadata": {},
   "outputs": [],
   "source": [
    "coords = data_s3.loc[:,['X','Y','Z']].values"
   ]
  },
  {
   "cell_type": "code",
   "execution_count": 125,
   "metadata": {},
   "outputs": [
    {
     "data": {
      "text/plain": [
       "array([[ 145.3 ,  115.3 ,   -0.52],\n",
       "       [ 145.3 ,  115.3 ,   -1.58],\n",
       "       [ 145.3 ,  115.3 ,   -2.62],\n",
       "       ...,\n",
       "       [ 151.3 ,  144.7 , -196.88],\n",
       "       [ 151.3 ,  144.7 , -197.92],\n",
       "       [ 151.3 ,  144.7 , -198.98]])"
      ]
     },
     "execution_count": 125,
     "metadata": {},
     "output_type": "execute_result"
    }
   ],
   "source": [
    "coords"
   ]
  },
  {
   "cell_type": "code",
   "execution_count": 120,
   "metadata": {},
   "outputs": [
    {
     "data": {
      "text/plain": [
       "[[138.7, 61.900000000000006],\n",
       " [117.39999999999999, 65.8],\n",
       " [122.8, 72.4],\n",
       " [137.5, 73.9]]"
      ]
     },
     "execution_count": 120,
     "metadata": {},
     "output_type": "execute_result"
    }
   ],
   "source": [
    "midpoints[4]"
   ]
  },
  {
   "cell_type": "code",
   "execution_count": 121,
   "metadata": {
    "scrolled": true
   },
   "outputs": [
    {
     "data": {
      "text/html": [
       "<div>\n",
       "<style scoped>\n",
       "    .dataframe tbody tr th:only-of-type {\n",
       "        vertical-align: middle;\n",
       "    }\n",
       "\n",
       "    .dataframe tbody tr th {\n",
       "        vertical-align: top;\n",
       "    }\n",
       "\n",
       "    .dataframe thead th {\n",
       "        text-align: right;\n",
       "    }\n",
       "</style>\n",
       "<table border=\"1\" class=\"dataframe\">\n",
       "  <thead>\n",
       "    <tr style=\"text-align: right;\">\n",
       "      <th></th>\n",
       "      <th>index</th>\n",
       "      <th>X</th>\n",
       "      <th>Y</th>\n",
       "      <th>Z</th>\n",
       "      <th>layer</th>\n",
       "      <th>Well Name</th>\n",
       "      <th>feature1</th>\n",
       "      <th>feature2</th>\n",
       "      <th>feature3</th>\n",
       "      <th>feature4</th>\n",
       "    </tr>\n",
       "  </thead>\n",
       "  <tbody>\n",
       "    <tr>\n",
       "      <th>3</th>\n",
       "      <td>570</td>\n",
       "      <td>147.7</td>\n",
       "      <td>75.7</td>\n",
       "      <td>-0.52</td>\n",
       "      <td>3</td>\n",
       "      <td>BH4</td>\n",
       "      <td>-8.01</td>\n",
       "      <td>10.63</td>\n",
       "      <td>-2.79</td>\n",
       "      <td>4.74</td>\n",
       "    </tr>\n",
       "    <tr>\n",
       "      <th>7</th>\n",
       "      <td>1330</td>\n",
       "      <td>105.1</td>\n",
       "      <td>83.5</td>\n",
       "      <td>-0.52</td>\n",
       "      <td>3</td>\n",
       "      <td>BH8</td>\n",
       "      <td>-12.37</td>\n",
       "      <td>3.35</td>\n",
       "      <td>-13.69</td>\n",
       "      <td>4.35</td>\n",
       "    </tr>\n",
       "    <tr>\n",
       "      <th>6</th>\n",
       "      <td>1140</td>\n",
       "      <td>115.9</td>\n",
       "      <td>96.7</td>\n",
       "      <td>-0.52</td>\n",
       "      <td>3</td>\n",
       "      <td>BH7</td>\n",
       "      <td>-2.89</td>\n",
       "      <td>1.86</td>\n",
       "      <td>-6.03</td>\n",
       "      <td>10.37</td>\n",
       "    </tr>\n",
       "    <tr>\n",
       "      <th>5</th>\n",
       "      <td>950</td>\n",
       "      <td>145.3</td>\n",
       "      <td>99.7</td>\n",
       "      <td>-0.52</td>\n",
       "      <td>3</td>\n",
       "      <td>BH6</td>\n",
       "      <td>-3.07</td>\n",
       "      <td>5.46</td>\n",
       "      <td>-2.26</td>\n",
       "      <td>-1.02</td>\n",
       "    </tr>\n",
       "  </tbody>\n",
       "</table>\n",
       "</div>"
      ],
      "text/plain": [
       "   index      X     Y     Z  layer Well Name  feature1  feature2  feature3  \\\n",
       "3    570  147.7  75.7 -0.52      3       BH4     -8.01     10.63     -2.79   \n",
       "7   1330  105.1  83.5 -0.52      3       BH8    -12.37      3.35    -13.69   \n",
       "6   1140  115.9  96.7 -0.52      3       BH7     -2.89      1.86     -6.03   \n",
       "5    950  145.3  99.7 -0.52      3       BH6     -3.07      5.46     -2.26   \n",
       "\n",
       "   feature4  \n",
       "3      4.74  \n",
       "7      4.35  \n",
       "6     10.37  \n",
       "5     -1.02  "
      ]
     },
     "execution_count": 121,
     "metadata": {},
     "output_type": "execute_result"
    }
   ],
   "source": [
    "# nearest boreholes to borehole 0\n",
    "a.loc[nbh[4]]"
   ]
  },
  {
   "cell_type": "code",
   "execution_count": 122,
   "metadata": {},
   "outputs": [
    {
     "data": {
      "text/plain": [
       "array([760, 129.7, 48.1, -0.52, 3, 'BH5', -8.18, 12.1, -3.75, 14.01],\n",
       "      dtype=object)"
      ]
     },
     "execution_count": 122,
     "metadata": {},
     "output_type": "execute_result"
    }
   ],
   "source": [
    "a.loc[4].values"
   ]
  },
  {
   "cell_type": "code",
   "execution_count": 92,
   "metadata": {},
   "outputs": [],
   "source": [
    "midpoints = []\n",
    "for i in range(4):\n",
    "    midpoints.append(find_midpoint(a.X.loc[0], a.Y.loc[0], \n",
    "                                   a.X.loc[nbh[0][i]], a.Y.loc[nbh[0][i]]))"
   ]
  },
  {
   "cell_type": "code",
   "execution_count": 93,
   "metadata": {},
   "outputs": [
    {
     "data": {
      "text/plain": [
       "[<generator object <genexpr> at 0x000002B16A65F2B0>]"
      ]
     },
     "execution_count": 93,
     "metadata": {},
     "output_type": "execute_result"
    }
   ],
   "source": [
    "midpoints"
   ]
  },
  {
   "cell_type": "code",
   "execution_count": 82,
   "metadata": {},
   "outputs": [],
   "source": [
    "def find_midpoint(point1_x, point1_y, point2_x, point2_y):\n",
    "    X = (point1_x + point2_x)/2\n",
    "    Y = (point1_y + point2_y)/2\n",
    "    return [X,Y]"
   ]
  },
  {
   "cell_type": "code",
   "execution_count": 45,
   "metadata": {},
   "outputs": [
    {
     "data": {
      "text/plain": [
       "[75.17978451685,\n",
       " 0.0,\n",
       " 61.38794669965758,\n",
       " 82.02243595504828,\n",
       " 81.47637694448618,\n",
       " 74.55467792164353,\n",
       " 45.670997361564154,\n",
       " 40.13277961965753,\n",
       " 11.462983904725684,\n",
       " 89.88993269549154]"
      ]
     },
     "execution_count": 45,
     "metadata": {},
     "output_type": "execute_result"
    }
   ],
   "source": [
    "distances[1]"
   ]
  },
  {
   "cell_type": "code",
   "execution_count": 26,
   "metadata": {},
   "outputs": [],
   "source": [
    "def euclideanDistance(coordinate1, coordinate2):\n",
    "    return pow(pow(coordinate1[0] - coordinate2[0], 2) + pow(coordinate1[1] - coordinate2[1], 2), .5)"
   ]
  },
  {
   "cell_type": "code",
   "execution_count": 5,
   "metadata": {},
   "outputs": [],
   "source": [
    "def nearest_points(self, layer):\n",
    "    lst = self.geo_data.interfaces.loc[np.where(self.geo_data.interfaces.formation_number == layer)[0]]\n",
    "    lst = lst.reset_index(drop=True)\n",
    "\n",
    "    # store points pairwise with their x and y coordinate\n",
    "    points = []\n",
    "    for k in range(len(lst)):\n",
    "        points.append((lst.loc[k, 'X'], lst.loc[k, 'Y']))\n",
    "\n",
    "    # calculate distances and storage with correspondig position\n",
    "    distances = []\n",
    "    pos = []\n",
    "    for i in range(len(points) - 1):\n",
    "        for j in range(i + 1, len(points)):\n",
    "            distances += [euclideanDistance(points[i], points[j])]  # stores distances between two points\n",
    "            pos += [[i, j]]  # stores corresponding points\n",
    "\n",
    "    # gives points with smallest distance\n",
    "    final_points = pos[np.where(distances == min(distances))[0][0]]\n",
    "\n",
    "    X = (lst.X.loc[final_points[0]] + lst.X.loc[final_points[1]]) / 2\n",
    "    Y = (lst.Y.loc[final_points[0]] + lst.Y.loc[final_points[1]]) / 2\n",
    "\n",
    "    # append mean point between the two nearest points\n",
    "    points.append((X, Y))\n",
    "\n",
    "    # calculate distance between mean point and all other values\n",
    "    distances = []\n",
    "    pos = []\n",
    "    for i in range(len(points) - 1):\n",
    "        distances += [euclideanDistance(points[i], points[-1])]  # stores distances between two points\n",
    "        pos += [i]  # stores correspondig points\n",
    "\n",
    "    # points which is nearest to mean point\n",
    "    k = hq.nsmallest(3, distances)[2]\n",
    "    #m = hq.nsmallest(4, distances)[3]\n",
    "\n",
    "    # 3 nearest points in lst\n",
    "    final_points.append(np.where(distances == k)[0][0])\n",
    "    #final_points.append(np.where(distances == m)[0][0])\n",
    "\n",
    "    u = np.sum(lst.loc[final_points, ['X', 'Y', 'Z','formation_number']], axis=1).values\n",
    "    p = np.sum(self.geo_data.interfaces.loc[:, ['X', 'Y', 'Z','formation_number']], axis=1)\n",
    "    p = p.sort_index()\n",
    "\n",
    "    final_points2 = []\n",
    "    for i in range(len(u)):\n",
    "        final_points2.append(np.where(p == u[i])[0][0])\n",
    "\n",
    "\n",
    "\n",
    "    return final_points2"
   ]
  }
 ],
 "metadata": {
  "kernelspec": {
   "display_name": "Python 3",
   "language": "python",
   "name": "python3"
  },
  "language_info": {
   "codemirror_mode": {
    "name": "ipython",
    "version": 3
   },
   "file_extension": ".py",
   "mimetype": "text/x-python",
   "name": "python",
   "nbconvert_exporter": "python",
   "pygments_lexer": "ipython3",
   "version": "3.6.4"
  }
 },
 "nbformat": 4,
 "nbformat_minor": 2
}
