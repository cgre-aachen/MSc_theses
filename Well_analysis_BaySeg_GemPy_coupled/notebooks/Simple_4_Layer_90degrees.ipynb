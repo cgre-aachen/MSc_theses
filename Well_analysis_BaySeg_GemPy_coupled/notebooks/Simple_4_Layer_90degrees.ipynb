{
 "cells": [
  {
   "cell_type": "markdown",
   "metadata": {},
   "source": [
    "# Simple 4 layer model"
   ]
  },
  {
   "cell_type": "markdown",
   "metadata": {},
   "source": [
    "**For this notebook, a simple 4 layer model is used to create synthetic data. The data are Gamma Ray, Induction, Neutron-Density and Photoelectric effect. The orientation of the layers is horizontal.**"
   ]
  },
  {
   "cell_type": "code",
   "execution_count": 1,
   "metadata": {},
   "outputs": [
    {
     "name": "stderr",
     "output_type": "stream",
     "text": [
      "C:\\Users\\Public\\Anaconda3\\lib\\site-packages\\gempy\\posterior_analysis.py:24: UserWarning: pymc (v2) package is not installed. No support for stochastic simulation posterior analysis.\n",
      "  warnings.warn(\"pymc (v2) package is not installed. No support for stochastic simulation posterior analysis.\")\n"
     ]
    }
   ],
   "source": [
    "import numpy as np\n",
    "import pandas as pd\n",
    "import importlib\n",
    "import matplotlib.pyplot as plt\n",
    "%matplotlib inline\n",
    "import scipy.stats\n",
    "import seaborn as sns\n",
    "import gempy as gp\n",
    "\n",
    "import sys\n",
    "sys.path.append(\"../\")\n",
    "import bayseg"
   ]
  },
  {
   "cell_type": "code",
   "execution_count": 2,
   "metadata": {},
   "outputs": [
    {
     "data": {
      "text/html": [
       "<div>\n",
       "<style scoped>\n",
       "    .dataframe tbody tr th:only-of-type {\n",
       "        vertical-align: middle;\n",
       "    }\n",
       "\n",
       "    .dataframe tbody tr th {\n",
       "        vertical-align: top;\n",
       "    }\n",
       "\n",
       "    .dataframe thead th {\n",
       "        text-align: right;\n",
       "    }\n",
       "</style>\n",
       "<table border=\"1\" class=\"dataframe\">\n",
       "  <thead>\n",
       "    <tr style=\"text-align: right;\">\n",
       "      <th></th>\n",
       "      <th>X</th>\n",
       "      <th>Y</th>\n",
       "      <th>Z</th>\n",
       "      <th>Well Name</th>\n",
       "      <th>GR</th>\n",
       "      <th>NEUDEN</th>\n",
       "      <th>IND</th>\n",
       "      <th>PE</th>\n",
       "    </tr>\n",
       "  </thead>\n",
       "  <tbody>\n",
       "    <tr>\n",
       "      <th>0</th>\n",
       "      <td>50</td>\n",
       "      <td>50</td>\n",
       "      <td>10</td>\n",
       "      <td>BH1</td>\n",
       "      <td>50.01</td>\n",
       "      <td>3.91</td>\n",
       "      <td>10.34</td>\n",
       "      <td>0.80</td>\n",
       "    </tr>\n",
       "    <tr>\n",
       "      <th>1</th>\n",
       "      <td>50</td>\n",
       "      <td>50</td>\n",
       "      <td>20</td>\n",
       "      <td>BH1</td>\n",
       "      <td>51.72</td>\n",
       "      <td>3.78</td>\n",
       "      <td>11.91</td>\n",
       "      <td>0.35</td>\n",
       "    </tr>\n",
       "    <tr>\n",
       "      <th>2</th>\n",
       "      <td>50</td>\n",
       "      <td>50</td>\n",
       "      <td>30</td>\n",
       "      <td>BH1</td>\n",
       "      <td>53.27</td>\n",
       "      <td>3.36</td>\n",
       "      <td>10.39</td>\n",
       "      <td>0.53</td>\n",
       "    </tr>\n",
       "    <tr>\n",
       "      <th>3</th>\n",
       "      <td>50</td>\n",
       "      <td>50</td>\n",
       "      <td>40</td>\n",
       "      <td>BH1</td>\n",
       "      <td>50.66</td>\n",
       "      <td>3.45</td>\n",
       "      <td>11.22</td>\n",
       "      <td>0.28</td>\n",
       "    </tr>\n",
       "    <tr>\n",
       "      <th>4</th>\n",
       "      <td>50</td>\n",
       "      <td>50</td>\n",
       "      <td>50</td>\n",
       "      <td>BH1</td>\n",
       "      <td>52.84</td>\n",
       "      <td>3.72</td>\n",
       "      <td>11.57</td>\n",
       "      <td>0.09</td>\n",
       "    </tr>\n",
       "  </tbody>\n",
       "</table>\n",
       "</div>"
      ],
      "text/plain": [
       "    X   Y   Z Well Name     GR  NEUDEN    IND    PE\n",
       "0  50  50  10       BH1  50.01    3.91  10.34  0.80\n",
       "1  50  50  20       BH1  51.72    3.78  11.91  0.35\n",
       "2  50  50  30       BH1  53.27    3.36  10.39  0.53\n",
       "3  50  50  40       BH1  50.66    3.45  11.22  0.28\n",
       "4  50  50  50       BH1  52.84    3.72  11.57  0.09"
      ]
     },
     "execution_count": 2,
     "metadata": {},
     "output_type": "execute_result"
    }
   ],
   "source": [
    "# data import\n",
    "data = pd.read_csv(\"../data/synthetic_data.csv\")                         # load the data from excel sheet\n",
    "data.head()        "
   ]
  },
  {
   "cell_type": "code",
   "execution_count": null,
   "metadata": {},
   "outputs": [],
   "source": []
  },
  {
   "cell_type": "code",
   "execution_count": 3,
   "metadata": {},
   "outputs": [],
   "source": [
    "# data setting\n",
    "feature_names =  ['GR', 'NEUDEN', 'IND','PE']    # define data that are considered by headers from excel sheet(Gamma Ray,Induction, Neutron-density, delta Neutron-density, Photoelectric effect)\n",
    "feature_vectors = data[feature_names]                             # create matrix including the data + headers\n",
    "boreholes = ['BH1','BH2','BH3','BH4','BH5']\n",
    "coords = np.array(data[\"Z\"].values).T                       # creating vector with depth information (z in [m])"
   ]
  },
  {
   "cell_type": "code",
   "execution_count": 4,
   "metadata": {},
   "outputs": [],
   "source": [
    "# normalize data\n",
    "#def normalize_feature_vectors(feature_vectors):      # function to normalize data (x - mean / sigma)\n",
    "    #return (feature_vectors - np.mean(feature_vectors, axis=0).T) / np.std(feature_vectors, axis=0)\n",
    "    \n",
    "feature_vectors_norm = bayseg.normalize_feature_vectors(feature_vectors.values) # normalize data (.values just takes the values not the header and indicies)"
   ]
  },
  {
   "cell_type": "code",
   "execution_count": 5,
   "metadata": {
    "scrolled": true
   },
   "outputs": [
    {
     "name": "stdout",
     "output_type": "stream",
     "text": [
      "The optimal number of layers is:  4\n"
     ]
    }
   ],
   "source": [
    "# Bayesian information criteria (executing BIC several times and test 2 - 25 layers)\n",
    "nf, nft = bayseg.test_bic(feature_vectors_norm)\n"
   ]
  },
  {
   "cell_type": "code",
   "execution_count": 6,
   "metadata": {
    "scrolled": true
   },
   "outputs": [
    {
     "name": "stdout",
     "output_type": "stream",
     "text": [
      "Compiling theano function...\n",
      "Compilation Done!\n",
      "Level of Optimization:  fast_compile\n",
      "Device:  cpu\n",
      "Precision:  float64\n",
      "Number of faults:  0\n"
     ]
    },
    {
     "name": "stderr",
     "output_type": "stream",
     "text": [
      "\r",
      "  0%|                                                                                           | 0/10 [00:00<?, ?it/s]"
     ]
    },
    {
     "name": "stdout",
     "output_type": "stream",
     "text": [
      "mus: [[-0.41026363  0.55270792 -0.33588836 -0.45168286]\n",
      " [ 0.57031458  1.25733165  1.27179166  1.32939986]\n",
      " [-1.39593004 -1.37813377  0.46114036  0.4497371 ]\n",
      " [ 1.23587909 -0.43190579 -1.39704366 -1.3274541 ]]\n",
      "covs: [[[ 0.00885261 -0.00015128  0.00350251  0.00148579]\n",
      "  [-0.00015128  0.00566251 -0.00183831  0.00035402]\n",
      "  [ 0.00350251 -0.00183831  0.02602906 -0.00080213]\n",
      "  [ 0.00148579  0.00035402 -0.00080213  0.02131575]]\n",
      "\n",
      " [[ 0.00698519 -0.00209976  0.00326636  0.00231096]\n",
      "  [-0.00209976  0.00752743 -0.00348628 -0.0027883 ]\n",
      "  [ 0.00326636 -0.00348628  0.0197551   0.00188859]\n",
      "  [ 0.00231096 -0.0027883   0.00188859  0.01430383]]\n",
      "\n",
      " [[ 0.00698363  0.00088856 -0.00716896 -0.00132242]\n",
      "  [ 0.00088856  0.00489619 -0.00290896  0.00035317]\n",
      "  [-0.00716896 -0.00290896  0.02795192  0.00646743]\n",
      "  [-0.00132242  0.00035317  0.00646743  0.01668519]]\n",
      "\n",
      " [[ 0.00758982 -0.00127566 -0.00116982 -0.00290261]\n",
      "  [-0.00127566  0.00975365  0.0037793  -0.00305459]\n",
      "  [-0.00116982  0.0037793   0.03161149 -0.00249347]\n",
      "  [-0.00290261 -0.00305459 -0.00249347  0.01197997]]]\n"
     ]
    },
    {
     "name": "stderr",
     "output_type": "stream",
     "text": [
      "\n"
     ]
    },
    {
     "ename": "TypeError",
     "evalue": "object of type 'numpy.int64' has no len()",
     "output_type": "error",
     "traceback": [
      "\u001b[1;31m---------------------------------------------------------------------------\u001b[0m",
      "\u001b[1;31mTypeError\u001b[0m                                 Traceback (most recent call last)",
      "\u001b[1;32m<ipython-input-6-28cb1437eb5b>\u001b[0m in \u001b[0;36m<module>\u001b[1;34m()\u001b[0m\n\u001b[0;32m      6\u001b[0m         \u001b[0mmu_jump_length\u001b[0m\u001b[1;33m=\u001b[0m\u001b[1;36m0.0005\u001b[0m\u001b[1;33m,\u001b[0m\u001b[1;33m\u001b[0m\u001b[0m\n\u001b[0;32m      7\u001b[0m         \u001b[0mcov_volume_jump_length\u001b[0m\u001b[1;33m=\u001b[0m\u001b[1;36m0.00005\u001b[0m\u001b[1;33m,\u001b[0m\u001b[1;33m\u001b[0m\u001b[0m\n\u001b[1;32m----> 8\u001b[1;33m         theta_jump_length=0.0000005, verbose=False)\n\u001b[0m",
      "\u001b[1;32m~\\Desktop\\Applied Geophysics\\Master thesis\\Well_analysis\\bayseg\\bayseg.py\u001b[0m in \u001b[0;36mfit\u001b[1;34m(self, n, beta_jump_length, mu_jump_length, cov_volume_jump_length, theta_jump_length, t, verbose, fix_beta)\u001b[0m\n\u001b[0;32m    297\u001b[0m         \u001b[1;32mfor\u001b[0m \u001b[0mg\u001b[0m \u001b[1;32min\u001b[0m \u001b[0mtqdm\u001b[0m\u001b[1;33m.\u001b[0m\u001b[0mtrange\u001b[0m\u001b[1;33m(\u001b[0m\u001b[0mn\u001b[0m\u001b[1;33m)\u001b[0m\u001b[1;33m:\u001b[0m\u001b[1;33m\u001b[0m\u001b[0m\n\u001b[0;32m    298\u001b[0m             self.gibbs_sample(t, beta_jump_length, mu_jump_length, cov_volume_jump_length, theta_jump_length,\n\u001b[1;32m--> 299\u001b[1;33m                               verbose, fix_beta)\n\u001b[0m\u001b[0;32m    300\u001b[0m \u001b[1;33m\u001b[0m\u001b[0m\n\u001b[0;32m    301\u001b[0m     def gibbs_sample(self, t, beta_jump_length, mu_jump_length, cov_volume_jump_length, theta_jump_length, verbose,\n",
      "\u001b[1;32m~\\Desktop\\Applied Geophysics\\Master thesis\\Well_analysis\\bayseg\\bayseg.py\u001b[0m in \u001b[0;36mgibbs_sample\u001b[1;34m(self, t, beta_jump_length, mu_jump_length, cov_volume_jump_length, theta_jump_length, verbose, fix_beta)\u001b[0m\n\u001b[0;32m    328\u001b[0m             \u001b[0mprint\u001b[0m\u001b[1;33m(\u001b[0m\u001b[1;34m\"likelihood energy:\"\u001b[0m\u001b[1;33m,\u001b[0m \u001b[0menergy_like\u001b[0m\u001b[1;33m)\u001b[0m\u001b[1;33m\u001b[0m\u001b[0m\n\u001b[0;32m    329\u001b[0m         \u001b[1;31m# 2 - calculate gibbs/mrf energy\u001b[0m\u001b[1;33m\u001b[0m\u001b[1;33m\u001b[0m\u001b[0m\n\u001b[1;32m--> 330\u001b[1;33m         \u001b[0mgibbs_energy\u001b[0m \u001b[1;33m=\u001b[0m \u001b[0mself\u001b[0m\u001b[1;33m.\u001b[0m\u001b[0m_calc_gibbs_energy_vect\u001b[0m\u001b[1;33m(\u001b[0m\u001b[0mself\u001b[0m\u001b[1;33m.\u001b[0m\u001b[0mlabels\u001b[0m\u001b[1;33m[\u001b[0m\u001b[1;33m-\u001b[0m\u001b[1;36m1\u001b[0m\u001b[1;33m]\u001b[0m\u001b[1;33m,\u001b[0m \u001b[0mself\u001b[0m\u001b[1;33m.\u001b[0m\u001b[0mbetas\u001b[0m\u001b[1;33m[\u001b[0m\u001b[1;33m-\u001b[0m\u001b[1;36m1\u001b[0m\u001b[1;33m]\u001b[0m\u001b[1;33m,\u001b[0m \u001b[0mverbose\u001b[0m\u001b[1;33m=\u001b[0m\u001b[0mverbose\u001b[0m\u001b[1;33m)\u001b[0m\u001b[1;33m\u001b[0m\u001b[0m\n\u001b[0m\u001b[0;32m    331\u001b[0m         \u001b[1;31m#self.gempy_energy = self._calc_gibbs_energy_vect(self.lith_block[-1], self.betas[-1], verbose=verbose)  # 2D energy from Gempy model\u001b[0m\u001b[1;33m\u001b[0m\u001b[1;33m\u001b[0m\u001b[0m\n\u001b[0;32m    332\u001b[0m         \u001b[1;32mif\u001b[0m \u001b[0mverbose\u001b[0m \u001b[1;33m==\u001b[0m \u001b[1;34m\"energy\"\u001b[0m\u001b[1;33m:\u001b[0m\u001b[1;33m\u001b[0m\u001b[0m\n",
      "\u001b[1;32m~\\Desktop\\Applied Geophysics\\Master thesis\\Well_analysis\\bayseg\\bayseg.py\u001b[0m in \u001b[0;36m_calc_gibbs_energy_vect\u001b[1;34m(self, labels, beta, verbose)\u001b[0m\n\u001b[0;32m    624\u001b[0m \u001b[1;33m\u001b[0m\u001b[0m\n\u001b[0;32m    625\u001b[0m             \u001b[0mge\u001b[0m \u001b[1;33m=\u001b[0m \u001b[0mnp\u001b[0m\u001b[1;33m.\u001b[0m\u001b[0marange\u001b[0m\u001b[1;33m(\u001b[0m\u001b[0mself\u001b[0m\u001b[1;33m.\u001b[0m\u001b[0mn_labels\u001b[0m\u001b[1;33m)\u001b[0m  \u001b[1;31m# elements x labels\u001b[0m\u001b[1;33m\u001b[0m\u001b[0m\n\u001b[1;32m--> 626\u001b[1;33m             \u001b[0mge\u001b[0m \u001b[1;33m=\u001b[0m \u001b[0mnp\u001b[0m\u001b[1;33m.\u001b[0m\u001b[0mtile\u001b[0m\u001b[1;33m(\u001b[0m\u001b[0mge\u001b[0m\u001b[1;33m,\u001b[0m \u001b[1;33m(\u001b[0m\u001b[0mlen\u001b[0m\u001b[1;33m(\u001b[0m\u001b[0mlabels\u001b[0m\u001b[1;33m)\u001b[0m\u001b[1;33m,\u001b[0m \u001b[1;36m1\u001b[0m\u001b[1;33m)\u001b[0m\u001b[1;33m)\u001b[0m\u001b[1;33m.\u001b[0m\u001b[0mastype\u001b[0m\u001b[1;33m(\u001b[0m\u001b[0mfloat\u001b[0m\u001b[1;33m)\u001b[0m\u001b[1;33m\u001b[0m\u001b[0m\n\u001b[0m\u001b[0;32m    627\u001b[0m \u001b[1;33m\u001b[0m\u001b[0m\n\u001b[0;32m    628\u001b[0m             \u001b[1;31m# first row\u001b[0m\u001b[1;33m\u001b[0m\u001b[1;33m\u001b[0m\u001b[0m\n",
      "\u001b[1;31mTypeError\u001b[0m: object of type 'numpy.int64' has no len()"
     ]
    }
   ],
   "source": [
    "# perform BaySeg clustering\n",
    "clf = bayseg.BaySeg(feature_vectors_norm, nf, data, feature_names, boreholes, gp_resolution = 30)\n",
    "\n",
    "clf.fit(10, # number of iterations\n",
    "        beta_jump_length=2, \n",
    "        mu_jump_length=0.0005, \n",
    "        cov_volume_jump_length=0.00005, \n",
    "        theta_jump_length=0.0000005, verbose=False)"
   ]
  },
  {
   "cell_type": "code",
   "execution_count": 7,
   "metadata": {},
   "outputs": [
    {
     "name": "stdout",
     "output_type": "stream",
     "text": [
      "(100, 4)\n"
     ]
    }
   ],
   "source": [
    "lt = np.tile(clf.labels[-1],(clf.n_labels, 1)).T\n",
    "print(lt.shape)"
   ]
  },
  {
   "cell_type": "code",
   "execution_count": 8,
   "metadata": {},
   "outputs": [
    {
     "name": "stdout",
     "output_type": "stream",
     "text": [
      "[0 1 2 3]\n"
     ]
    }
   ],
   "source": [
    "ge = np.arange(clf.n_labels)\n",
    "print(ge)"
   ]
  },
  {
   "cell_type": "code",
   "execution_count": 9,
   "metadata": {},
   "outputs": [
    {
     "name": "stdout",
     "output_type": "stream",
     "text": [
      "(100, 4)\n"
     ]
    }
   ],
   "source": [
    "ge = np.tile(ge,(len(clf.labels[-1]),1)).astype(float)\n",
    "print(ge.shape)"
   ]
  },
  {
   "cell_type": "code",
   "execution_count": 10,
   "metadata": {},
   "outputs": [],
   "source": [
    "top = [np.not_equal(np.arange(clf.n_labels), lt[1, :])*clf.betas[-1]]"
   ]
  },
  {
   "cell_type": "code",
   "execution_count": 11,
   "metadata": {},
   "outputs": [
    {
     "data": {
      "text/plain": [
       "(98, 4)"
      ]
     },
     "execution_count": 11,
     "metadata": {},
     "output_type": "execute_result"
    }
   ],
   "source": [
    "mid = (np.not_equal(ge[1:-1, :], lt[:-2, :]).astype(float) + np.not_equal(ge[1:-1, :], lt[2:, :]).astype(float)) * clf.betas[-1]\n",
    "mid.shape"
   ]
  },
  {
   "cell_type": "code",
   "execution_count": 12,
   "metadata": {},
   "outputs": [
    {
     "data": {
      "text/plain": [
       "(1, 4)"
      ]
     },
     "execution_count": 12,
     "metadata": {},
     "output_type": "execute_result"
    }
   ],
   "source": [
    "bot = np.expand_dims(np.not_equal(np.arange(clf.n_labels), lt[-2, :]) * clf.betas[-1], axis=0)\n",
    "bot.shape"
   ]
  },
  {
   "cell_type": "code",
   "execution_count": 14,
   "metadata": {},
   "outputs": [
    {
     "data": {
      "text/plain": [
       "(100, 4)"
      ]
     },
     "execution_count": 14,
     "metadata": {},
     "output_type": "execute_result"
    }
   ],
   "source": [
    "bla = np.concatenate((top, mid, bot))\n",
    "bla.shape"
   ]
  },
  {
   "cell_type": "code",
   "execution_count": 16,
   "metadata": {},
   "outputs": [],
   "source": [
    "#clf.storage_gibbs_e"
   ]
  },
  {
   "cell_type": "code",
   "execution_count": 17,
   "metadata": {},
   "outputs": [],
   "source": [
    "#np.shape(clf.storage_gibbs_e)"
   ]
  },
  {
   "cell_type": "code",
   "execution_count": 18,
   "metadata": {},
   "outputs": [],
   "source": [
    "#clf.storage_like_e"
   ]
  },
  {
   "cell_type": "code",
   "execution_count": 19,
   "metadata": {},
   "outputs": [],
   "source": [
    "# data convertion to gempy\n",
    "bayseg.prepare_gempy_input(data,clf.labels[-1]+1)"
   ]
  },
  {
   "cell_type": "code",
   "execution_count": 20,
   "metadata": {},
   "outputs": [],
   "source": [
    "# data convertion to gempy\n",
    "formation = clf.labels[-1]+1            # vector with final labeling including all wells \n",
    "                                        # labels + 1 because gempy doesn't like the zero as formation name\n",
    "\n",
    "gempy = pd.DataFrame({'X': data.X ,'Y' : data.Y ,'Z' : data.Z ,'formation' : formation, 'borehole': data['Well Name']})\n",
    "\n",
    "for k in range(0,len(gempy)-1):\n",
    "    if gempy.loc[k,'formation'] == gempy.loc[k+1,'formation']:\n",
    "        gempy = gempy.drop(k)\n",
    "        \n",
    "gempy.index = range(len(gempy)) \n",
    "\n",
    "for k in range(0,1 + len(set(list(gempy['formation'])))):\n",
    "    gempy['formation'] = gempy['formation'].replace(to_replace = k, value = 'Layer%d' %(k))\n",
    "    \n",
    "for k in range(0,1 + len(set(list(gempy['formation'])))):\n",
    "    gempy['formation'] = gempy['formation'].replace(to_replace = k, value = 'Layer%d' %(k))\n",
    "\n",
    "gempy.to_csv('../data/Gempy_Simple_4_layer_90degrees.csv',index=False)"
   ]
  },
  {
   "cell_type": "markdown",
   "metadata": {},
   "source": [
    "# Gempy"
   ]
  },
  {
   "cell_type": "code",
   "execution_count": 12,
   "metadata": {},
   "outputs": [],
   "source": [
    "# Importing the data from CSV-files and setting extent and resolution\n",
    "geo_data = gp.create_data([0,200,0,200,0,200],[50,50,50], \n",
    "                          #path_o = \"../data/Gempy_Simple_4_layer_90degrees_orientation.csv\", # importing orientation (foliation) data\n",
    "                          path_i = \"../data/Gempy_Simple_4_layer_90degrees.csv\") # importing point-positional interface data"
   ]
  },
  {
   "cell_type": "code",
   "execution_count": 55,
   "metadata": {},
   "outputs": [
    {
     "ename": "NameError",
     "evalue": "name 'self' is not defined",
     "output_type": "error",
     "traceback": [
      "\u001b[1;31m---------------------------------------------------------------------------\u001b[0m",
      "\u001b[1;31mNameError\u001b[0m                                 Traceback (most recent call last)",
      "\u001b[1;32m<ipython-input-55-7aa780d72e97>\u001b[0m in \u001b[0;36m<module>\u001b[1;34m()\u001b[0m\n\u001b[1;32m----> 1\u001b[1;33m \u001b[0mself\u001b[0m\u001b[1;33m.\u001b[0m\u001b[0mseries\u001b[0m\u001b[1;33m\u001b[0m\u001b[0m\n\u001b[0m",
      "\u001b[1;31mNameError\u001b[0m: name 'self' is not defined"
     ]
    }
   ],
   "source": [
    "self.series"
   ]
  },
  {
   "cell_type": "code",
   "execution_count": 53,
   "metadata": {},
   "outputs": [
    {
     "name": "stdout",
     "output_type": "stream",
     "text": [
      "[0. 0. 1.]\n"
     ]
    }
   ],
   "source": [
    "gp.set_orientation_from_interfaces(geo_data,a)"
   ]
  },
  {
   "cell_type": "code",
   "execution_count": 54,
   "metadata": {},
   "outputs": [
    {
     "data": {
      "text/html": [
       "<div>\n",
       "<style scoped>\n",
       "    .dataframe tbody tr th:only-of-type {\n",
       "        vertical-align: middle;\n",
       "    }\n",
       "\n",
       "    .dataframe tbody tr th {\n",
       "        vertical-align: top;\n",
       "    }\n",
       "\n",
       "    .dataframe thead th {\n",
       "        text-align: right;\n",
       "    }\n",
       "</style>\n",
       "<table border=\"1\" class=\"dataframe\">\n",
       "  <thead>\n",
       "    <tr style=\"text-align: right;\">\n",
       "      <th></th>\n",
       "      <th>X</th>\n",
       "      <th>Y</th>\n",
       "      <th>Z</th>\n",
       "      <th>G_x</th>\n",
       "      <th>G_y</th>\n",
       "      <th>G_z</th>\n",
       "      <th>dip</th>\n",
       "      <th>azimuth</th>\n",
       "      <th>polarity</th>\n",
       "      <th>formation</th>\n",
       "      <th>series</th>\n",
       "      <th>X_std</th>\n",
       "      <th>Y_std</th>\n",
       "      <th>Z_std</th>\n",
       "      <th>dip_std</th>\n",
       "      <th>azimuth_std</th>\n",
       "      <th>order_series</th>\n",
       "      <th>isFault</th>\n",
       "      <th>formation number</th>\n",
       "      <th>annotations</th>\n",
       "    </tr>\n",
       "  </thead>\n",
       "  <tbody>\n",
       "    <tr>\n",
       "      <th>0</th>\n",
       "      <td>116.667</td>\n",
       "      <td>116.667</td>\n",
       "      <td>50.0</td>\n",
       "      <td>1.000000e-07</td>\n",
       "      <td>1.000000e-07</td>\n",
       "      <td>1.0</td>\n",
       "      <td>0.0</td>\n",
       "      <td>0.0</td>\n",
       "      <td>1.0</td>\n",
       "      <td>[Layer1]</td>\n",
       "      <td>Default serie</td>\n",
       "      <td>NaN</td>\n",
       "      <td>NaN</td>\n",
       "      <td>NaN</td>\n",
       "      <td>NaN</td>\n",
       "      <td>NaN</td>\n",
       "      <td>1</td>\n",
       "      <td>False</td>\n",
       "      <td>1</td>\n",
       "      <td>${\\bf{x}}_{\\beta \\,{\\bf{1}},0}$</td>\n",
       "    </tr>\n",
       "    <tr>\n",
       "      <th>1</th>\n",
       "      <td>83.3333</td>\n",
       "      <td>116.667</td>\n",
       "      <td>50.0</td>\n",
       "      <td>1.000000e-07</td>\n",
       "      <td>1.000000e-07</td>\n",
       "      <td>1.0</td>\n",
       "      <td>0.0</td>\n",
       "      <td>0.0</td>\n",
       "      <td>1.0</td>\n",
       "      <td>[Layer1]</td>\n",
       "      <td>Default serie</td>\n",
       "      <td>NaN</td>\n",
       "      <td>NaN</td>\n",
       "      <td>NaN</td>\n",
       "      <td>NaN</td>\n",
       "      <td>NaN</td>\n",
       "      <td>1</td>\n",
       "      <td>False</td>\n",
       "      <td>1</td>\n",
       "      <td>${\\bf{x}}_{\\beta \\,{\\bf{1}},1}$</td>\n",
       "    </tr>\n",
       "    <tr>\n",
       "      <th>2</th>\n",
       "      <td>112.5</td>\n",
       "      <td>87.5</td>\n",
       "      <td>50.0</td>\n",
       "      <td>1.000000e-07</td>\n",
       "      <td>1.000000e-07</td>\n",
       "      <td>1.0</td>\n",
       "      <td>0.0</td>\n",
       "      <td>0.0</td>\n",
       "      <td>1.0</td>\n",
       "      <td>[Layer1]</td>\n",
       "      <td>Default serie</td>\n",
       "      <td>NaN</td>\n",
       "      <td>NaN</td>\n",
       "      <td>NaN</td>\n",
       "      <td>NaN</td>\n",
       "      <td>NaN</td>\n",
       "      <td>1</td>\n",
       "      <td>False</td>\n",
       "      <td>1</td>\n",
       "      <td>${\\bf{x}}_{\\beta \\,{\\bf{1}},2}$</td>\n",
       "    </tr>\n",
       "    <tr>\n",
       "      <th>3</th>\n",
       "      <td>100</td>\n",
       "      <td>100</td>\n",
       "      <td>50.0</td>\n",
       "      <td>1.000000e-07</td>\n",
       "      <td>1.000000e-07</td>\n",
       "      <td>1.0</td>\n",
       "      <td>0.0</td>\n",
       "      <td>0.0</td>\n",
       "      <td>1.0</td>\n",
       "      <td>[Layer1]</td>\n",
       "      <td>Default serie</td>\n",
       "      <td>NaN</td>\n",
       "      <td>NaN</td>\n",
       "      <td>NaN</td>\n",
       "      <td>NaN</td>\n",
       "      <td>NaN</td>\n",
       "      <td>1</td>\n",
       "      <td>False</td>\n",
       "      <td>1</td>\n",
       "      <td>${\\bf{x}}_{\\beta \\,{\\bf{1}},3}$</td>\n",
       "    </tr>\n",
       "  </tbody>\n",
       "</table>\n",
       "</div>"
      ],
      "text/plain": [
       "         X        Y     Z           G_x           G_y  G_z  dip  azimuth  \\\n",
       "0  116.667  116.667  50.0  1.000000e-07  1.000000e-07  1.0  0.0      0.0   \n",
       "1  83.3333  116.667  50.0  1.000000e-07  1.000000e-07  1.0  0.0      0.0   \n",
       "2    112.5     87.5  50.0  1.000000e-07  1.000000e-07  1.0  0.0      0.0   \n",
       "3      100      100  50.0  1.000000e-07  1.000000e-07  1.0  0.0      0.0   \n",
       "\n",
       "   polarity formation         series X_std Y_std Z_std dip_std azimuth_std  \\\n",
       "0       1.0  [Layer1]  Default serie   NaN   NaN   NaN     NaN         NaN   \n",
       "1       1.0  [Layer1]  Default serie   NaN   NaN   NaN     NaN         NaN   \n",
       "2       1.0  [Layer1]  Default serie   NaN   NaN   NaN     NaN         NaN   \n",
       "3       1.0  [Layer1]  Default serie   NaN   NaN   NaN     NaN         NaN   \n",
       "\n",
       "   order_series  isFault  formation number                      annotations  \n",
       "0             1    False                 1  ${\\bf{x}}_{\\beta \\,{\\bf{1}},0}$  \n",
       "1             1    False                 1  ${\\bf{x}}_{\\beta \\,{\\bf{1}},1}$  \n",
       "2             1    False                 1  ${\\bf{x}}_{\\beta \\,{\\bf{1}},2}$  \n",
       "3             1    False                 1  ${\\bf{x}}_{\\beta \\,{\\bf{1}},3}$  "
      ]
     },
     "execution_count": 54,
     "metadata": {},
     "output_type": "execute_result"
    }
   ],
   "source": [
    "geo_data.orientations"
   ]
  },
  {
   "cell_type": "code",
   "execution_count": 22,
   "metadata": {},
   "outputs": [],
   "source": [
    "## force formations to be strings\n",
    "#geo_data.interfaces['formation'] = geo_data.interfaces['formation'].astype(str)\n",
    "#geo_data.orientations['formation'] = geo_data.orientations['formation'].astype(str)"
   ]
  },
  {
   "cell_type": "code",
   "execution_count": 23,
   "metadata": {},
   "outputs": [],
   "source": [
    "gp.plot_data_3D(geo_data)"
   ]
  },
  {
   "cell_type": "code",
   "execution_count": 24,
   "metadata": {},
   "outputs": [
    {
     "data": {
      "image/png": "[encoded data removed]",
      "text/plain": [
       "<matplotlib.figure.Figure at 0x18c98c2c9b0>"
      ]
     },
     "metadata": {},
     "output_type": "display_data"
    }
   ],
   "source": [
    "gp.plot_data(geo_data, direction='z')"
   ]
  },
  {
   "cell_type": "code",
   "execution_count": 25,
   "metadata": {},
   "outputs": [],
   "source": [
    "# Assigning series to formations as well as their order (timewise)\n",
    "gp.set_series(geo_data, {\"Unknown\": ('Layer4','Layer2', 'Layer3', 'Layer1')},\n",
    "                       order_series = [\"Strat_Series\"],\n",
    "                       order_formations=['Layer4','Layer2', 'Layer3', 'Layer1'], verbose=0) "
   ]
  },
  {
   "cell_type": "code",
   "execution_count": 26,
   "metadata": {},
   "outputs": [],
   "source": [
    "#gp.get_data(geo_data, verbosity=1)"
   ]
  },
  {
   "cell_type": "code",
   "execution_count": 27,
   "metadata": {},
   "outputs": [
    {
     "data": {
      "text/plain": [
       "<gempy.sequential_pile.StratigraphicPile at 0x18c98d074a8>"
      ]
     },
     "execution_count": 27,
     "metadata": {},
     "output_type": "execute_result"
    },
    {
     "data": {
      "image/png": "[encoded data removed]",
      "text/plain": [
       "<matplotlib.figure.Figure at 0x18c98d07cf8>"
      ]
     },
     "metadata": {},
     "output_type": "display_data"
    }
   ],
   "source": [
    "gp.get_sequential_pile(geo_data)"
   ]
  },
  {
   "cell_type": "code",
   "execution_count": 28,
   "metadata": {},
   "outputs": [
    {
     "name": "stdout",
     "output_type": "stream",
     "text": [
      "Compiling theano function...\n",
      "Compilation Done!\n",
      "Level of Optimization:  fast_compile\n",
      "Device:  cpu\n",
      "Precision:  float64\n",
      "Number of faults:  0\n"
     ]
    }
   ],
   "source": [
    "# u_grade depends on number of series (one series [1], two series [1,1]...) \n",
    "interp_data = gp.InterpolatorData(geo_data, u_grade=[1], output='geology', compile_theano=True,\n",
    "                                  dtype='float64', theano_optimizer='fast_compile')"
   ]
  },
  {
   "cell_type": "code",
   "execution_count": 17,
   "metadata": {},
   "outputs": [],
   "source": [
    "#interp_data.geo_data_res.get_formation_number()"
   ]
  },
  {
   "cell_type": "code",
   "execution_count": 18,
   "metadata": {},
   "outputs": [
    {
     "name": "stdout",
     "output_type": "stream",
     "text": [
      "range 1.1547005383792515 346.41016151377545\n",
      "Number of drift equations [3]\n",
      "Covariance at 0 0.031746031746031744\n",
      "orientations nugget effect 0.01\n",
      "scalar nugget effect 1e-06\n"
     ]
    }
   ],
   "source": [
    "gp.get_kriging_parameters(interp_data)"
   ]
  },
  {
   "cell_type": "code",
   "execution_count": 19,
   "metadata": {},
   "outputs": [],
   "source": [
    "#interp_data.update_interpolator(geo_data)"
   ]
  },
  {
   "cell_type": "code",
   "execution_count": 29,
   "metadata": {},
   "outputs": [],
   "source": [
    "lith_block, fault_block = gp.compute_model(interp_data)"
   ]
  },
  {
   "cell_type": "code",
   "execution_count": 30,
   "metadata": {},
   "outputs": [
    {
     "data": {
      "image/png": "[encoded data removed]",
      "text/plain": [
       "<matplotlib.figure.Figure at 0x18c9f9215f8>"
      ]
     },
     "metadata": {},
     "output_type": "display_data"
    }
   ],
   "source": [
    "gp.plot_section(geo_data, lith_block[0], cell_number=10,  direction='y', plot_data=True)"
   ]
  },
  {
   "cell_type": "code",
   "execution_count": 22,
   "metadata": {},
   "outputs": [],
   "source": [
    "#gp.plot_scalar_field(geo_data, lith_block[1], 15)\n",
    "#plt.colorbar()"
   ]
  },
  {
   "cell_type": "code",
   "execution_count": 23,
   "metadata": {},
   "outputs": [],
   "source": [
    "#interp_data.potential_at_interfaces"
   ]
  },
  {
   "cell_type": "code",
   "execution_count": 24,
   "metadata": {},
   "outputs": [
    {
     "name": "stdout",
     "output_type": "stream",
     "text": [
      "Potential field of the surface is outside the block. Probably is due to float errors\n"
     ]
    }
   ],
   "source": [
    "ver, sim = gp.get_surfaces(interp_data, lith_block[1], original_scale=True)"
   ]
  },
  {
   "cell_type": "code",
   "execution_count": 25,
   "metadata": {},
   "outputs": [
    {
     "data": {
      "text/plain": [
       "<gempy.visualization.vtkVisualization at 0x2053f695160>"
      ]
     },
     "execution_count": 25,
     "metadata": {},
     "output_type": "execute_result"
    }
   ],
   "source": [
    "gp.plot_surfaces_3D(geo_data, ver, sim, alpha=1)"
   ]
  },
  {
   "cell_type": "code",
   "execution_count": null,
   "metadata": {},
   "outputs": [],
   "source": []
  },
  {
   "cell_type": "code",
   "execution_count": null,
   "metadata": {},
   "outputs": [],
   "source": []
  }
 ],
 "metadata": {
  "kernelspec": {
   "display_name": "Python 3",
   "language": "python",
   "name": "python3"
  },
  "language_info": {
   "codemirror_mode": {
    "name": "ipython",
    "version": 3
   },
   "file_extension": ".py",
   "mimetype": "text/x-python",
   "name": "python",
   "nbconvert_exporter": "python",
   "pygments_lexer": "ipython3",
   "version": "3.6.4"
  }
 },
 "nbformat": 4,
 "nbformat_minor": 2
}
