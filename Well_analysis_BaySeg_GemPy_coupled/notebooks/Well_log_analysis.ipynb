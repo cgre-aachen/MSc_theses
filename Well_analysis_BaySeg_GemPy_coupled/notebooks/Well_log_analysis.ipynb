{
 "cells": [
  {
   "cell_type": "markdown",
   "metadata": {},
   "source": [
    "# Well log analysis using BaySeg"
   ]
  },
  {
   "cell_type": "code",
   "execution_count": 1,
   "metadata": {},
   "outputs": [
    {
     "name": "stderr",
     "output_type": "stream",
     "text": [
      "C:\\Users\\Public\\Anaconda3\\lib\\site-packages\\gempy\\posterior_analysis.py:24: UserWarning: pymc (v2) package is not installed. No support for stochastic simulation posterior analysis.\n",
      "  warnings.warn(\"pymc (v2) package is not installed. No support for stochastic simulation posterior analysis.\")\n"
     ]
    }
   ],
   "source": [
    "import numpy as np\n",
    "import pandas as pd\n",
    "import importlib\n",
    "import matplotlib.pyplot as plt\n",
    "%matplotlib inline\n",
    "import scipy.stats\n",
    "import seaborn as sns\n",
    "\n",
    "import sys\n",
    "sys.path.append(\"../\")\n",
    "import bayseg"
   ]
  },
  {
   "cell_type": "markdown",
   "metadata": {},
   "source": [
    "**Parameter setting**"
   ]
  },
  {
   "cell_type": "code",
   "execution_count": 2,
   "metadata": {},
   "outputs": [],
   "source": [
    "n = 100 # number of iterations"
   ]
  },
  {
   "cell_type": "markdown",
   "metadata": {},
   "source": [
    "**Data import**"
   ]
  },
  {
   "cell_type": "code",
   "execution_count": 3,
   "metadata": {},
   "outputs": [
    {
     "data": {
      "text/html": [
       "<div>\n",
       "<style scoped>\n",
       "    .dataframe tbody tr th:only-of-type {\n",
       "        vertical-align: middle;\n",
       "    }\n",
       "\n",
       "    .dataframe tbody tr th {\n",
       "        vertical-align: top;\n",
       "    }\n",
       "\n",
       "    .dataframe thead th {\n",
       "        text-align: right;\n",
       "    }\n",
       "</style>\n",
       "<table border=\"1\" class=\"dataframe\">\n",
       "  <thead>\n",
       "    <tr style=\"text-align: right;\">\n",
       "      <th></th>\n",
       "      <th>Facies</th>\n",
       "      <th>Formation</th>\n",
       "      <th>Well Name</th>\n",
       "      <th>Depth</th>\n",
       "      <th>GR</th>\n",
       "      <th>ILD_log10</th>\n",
       "      <th>DeltaPHI</th>\n",
       "      <th>PHIND</th>\n",
       "      <th>PE</th>\n",
       "      <th>NM_M</th>\n",
       "      <th>RELPOS</th>\n",
       "    </tr>\n",
       "  </thead>\n",
       "  <tbody>\n",
       "    <tr>\n",
       "      <th>0</th>\n",
       "      <td>3</td>\n",
       "      <td>A1 SH</td>\n",
       "      <td>SHRIMPLIN</td>\n",
       "      <td>2793.0</td>\n",
       "      <td>77.45</td>\n",
       "      <td>0.664</td>\n",
       "      <td>9.9</td>\n",
       "      <td>11.915</td>\n",
       "      <td>4.6</td>\n",
       "      <td>1</td>\n",
       "      <td>1.000</td>\n",
       "    </tr>\n",
       "    <tr>\n",
       "      <th>1</th>\n",
       "      <td>3</td>\n",
       "      <td>A1 SH</td>\n",
       "      <td>SHRIMPLIN</td>\n",
       "      <td>2793.5</td>\n",
       "      <td>78.26</td>\n",
       "      <td>0.661</td>\n",
       "      <td>14.2</td>\n",
       "      <td>12.565</td>\n",
       "      <td>4.1</td>\n",
       "      <td>1</td>\n",
       "      <td>0.979</td>\n",
       "    </tr>\n",
       "    <tr>\n",
       "      <th>2</th>\n",
       "      <td>3</td>\n",
       "      <td>A1 SH</td>\n",
       "      <td>SHRIMPLIN</td>\n",
       "      <td>2794.0</td>\n",
       "      <td>79.05</td>\n",
       "      <td>0.658</td>\n",
       "      <td>14.8</td>\n",
       "      <td>13.050</td>\n",
       "      <td>3.6</td>\n",
       "      <td>1</td>\n",
       "      <td>0.957</td>\n",
       "    </tr>\n",
       "    <tr>\n",
       "      <th>3</th>\n",
       "      <td>3</td>\n",
       "      <td>A1 SH</td>\n",
       "      <td>SHRIMPLIN</td>\n",
       "      <td>2794.5</td>\n",
       "      <td>86.10</td>\n",
       "      <td>0.655</td>\n",
       "      <td>13.9</td>\n",
       "      <td>13.115</td>\n",
       "      <td>3.5</td>\n",
       "      <td>1</td>\n",
       "      <td>0.936</td>\n",
       "    </tr>\n",
       "    <tr>\n",
       "      <th>4</th>\n",
       "      <td>3</td>\n",
       "      <td>A1 SH</td>\n",
       "      <td>SHRIMPLIN</td>\n",
       "      <td>2795.0</td>\n",
       "      <td>74.58</td>\n",
       "      <td>0.647</td>\n",
       "      <td>13.5</td>\n",
       "      <td>13.300</td>\n",
       "      <td>3.4</td>\n",
       "      <td>1</td>\n",
       "      <td>0.915</td>\n",
       "    </tr>\n",
       "  </tbody>\n",
       "</table>\n",
       "</div>"
      ],
      "text/plain": [
       "   Facies Formation  Well Name   Depth     GR  ILD_log10  DeltaPHI   PHIND  \\\n",
       "0       3     A1 SH  SHRIMPLIN  2793.0  77.45      0.664       9.9  11.915   \n",
       "1       3     A1 SH  SHRIMPLIN  2793.5  78.26      0.661      14.2  12.565   \n",
       "2       3     A1 SH  SHRIMPLIN  2794.0  79.05      0.658      14.8  13.050   \n",
       "3       3     A1 SH  SHRIMPLIN  2794.5  86.10      0.655      13.9  13.115   \n",
       "4       3     A1 SH  SHRIMPLIN  2795.0  74.58      0.647      13.5  13.300   \n",
       "\n",
       "    PE  NM_M  RELPOS  \n",
       "0  4.6     1   1.000  \n",
       "1  4.1     1   0.979  \n",
       "2  3.6     1   0.957  \n",
       "3  3.5     1   0.936  \n",
       "4  3.4     1   0.915  "
      ]
     },
     "execution_count": 3,
     "metadata": {},
     "output_type": "execute_result"
    }
   ],
   "source": [
    "data = pd.read_csv(\"../data/training_data.csv\")                         # load the data from excel sheet\n",
    "data.head()                                                             # display the last rows of data"
   ]
  },
  {
   "cell_type": "markdown",
   "metadata": {},
   "source": [
    "**Facies setting**\n",
    "\n",
    "Not needed in case of raw data, because no interpretation is done"
   ]
  },
  {
   "cell_type": "code",
   "execution_count": 4,
   "metadata": {},
   "outputs": [
    {
     "name": "stdout",
     "output_type": "stream",
     "text": [
      "The number of facies is 9 called [1 2 3 4 5 6 7 8 9]\n"
     ]
    }
   ],
   "source": [
    "facies_classes = np.unique(data[\"Facies\"])                                      # create facies indicies (1-9)\n",
    "n_facies_classes = len(facies_classes)                                          # number of facies classes\n",
    "print('The number of facies is' ,n_facies_classes,'called', facies_classes)"
   ]
  },
  {
   "cell_type": "markdown",
   "metadata": {},
   "source": [
    "**Data setting**"
   ]
  },
  {
   "cell_type": "code",
   "execution_count": 9,
   "metadata": {},
   "outputs": [],
   "source": [
    "feature_names =  ['GR', 'ILD_log10', 'DeltaPHI', 'PHIND','PE']    # define data that are considered by headers from excel sheet(Gamma Ray,Induction, Neutron-density, delta Neutron-density, Photoelectric effect)\n",
    "feature_vectors = data[feature_names]                             # create matrix including the data + headers\n",
    "boreholes = ['SHRIMPLIN']\n",
    "coords = np.array(data[\"Depth\"].values).T                       # creating vector with depth information (z in [m])"
   ]
  },
  {
   "cell_type": "markdown",
   "metadata": {},
   "source": [
    "**Normalize data**"
   ]
  },
  {
   "cell_type": "code",
   "execution_count": 6,
   "metadata": {},
   "outputs": [],
   "source": [
    "def normalize_feature_vectors(feature_vectors):      # function to normalize data (x - mean / sigma)\n",
    "    return (feature_vectors - np.mean(feature_vectors, axis=0).T) / np.std(feature_vectors, axis=0)\n",
    "\n",
    "feature_vectors_norm = normalize_feature_vectors(feature_vectors.values) # normalize data (.values just takes the values not the header and indicies)"
   ]
  },
  {
   "cell_type": "markdown",
   "metadata": {},
   "source": [
    "**Bayesian Information Criterion**"
   ]
  },
  {
   "cell_type": "code",
   "execution_count": 7,
   "metadata": {
    "scrolled": true
   },
   "outputs": [
    {
     "name": "stdout",
     "output_type": "stream",
     "text": [
      "The optimal number of layers is:  13\n"
     ]
    }
   ],
   "source": [
    "nf, nft = bayseg.test_bic(feature_vectors_norm)"
   ]
  },
  {
   "cell_type": "code",
   "execution_count": 10,
   "metadata": {},
   "outputs": [
    {
     "ename": "TypeError",
     "evalue": "bic() missing 1 required positional argument: 'plot'",
     "output_type": "error",
     "traceback": [
      "\u001b[1;31m---------------------------------------------------------------------------\u001b[0m",
      "\u001b[1;31mTypeError\u001b[0m                                 Traceback (most recent call last)",
      "\u001b[1;32m<ipython-input-10-81e62c48f4e2>\u001b[0m in \u001b[0;36m<module>\u001b[1;34m()\u001b[0m\n\u001b[1;32m----> 1\u001b[1;33m \u001b[0mbayseg\u001b[0m\u001b[1;33m.\u001b[0m\u001b[0mbic\u001b[0m\u001b[1;33m(\u001b[0m\u001b[0mfeature_vectors_norm\u001b[0m\u001b[1;33m,\u001b[0m \u001b[1;36m25\u001b[0m\u001b[1;33m)\u001b[0m      \u001b[1;31m# Investigate the number of labels (one label can include several cluster)\u001b[0m\u001b[1;33m\u001b[0m\u001b[0m\n\u001b[0m",
      "\u001b[1;31mTypeError\u001b[0m: bic() missing 1 required positional argument: 'plot'"
     ]
    }
   ],
   "source": [
    "bayseg.bic(feature_vectors_norm, 25)      # Investigate the number of labels (one label can include several cluster)"
   ]
  },
  {
   "cell_type": "markdown",
   "metadata": {},
   "source": [
    "**Perform BaySeg Segmentation**"
   ]
  },
  {
   "cell_type": "code",
   "execution_count": null,
   "metadata": {},
   "outputs": [],
   "source": [
    "clf = bayseg.BaySeg(feature_vectors_norm, 9, data, feature_names, boreholes, gp_resolution = 30 )"
   ]
  },
  {
   "cell_type": "code",
   "execution_count": 7,
   "metadata": {
    "scrolled": true
   },
   "outputs": [
    {
     "ename": "TypeError",
     "evalue": "__init__() missing 4 required positional arguments: 'raw_data', 'feature_names', 'boreholes', and 'gp_resolution'",
     "output_type": "error",
     "traceback": [
      "\u001b[1;31m---------------------------------------------------------------------------\u001b[0m",
      "\u001b[1;31mTypeError\u001b[0m                                 Traceback (most recent call last)",
      "\u001b[1;32m<ipython-input-7-89e3b28a814d>\u001b[0m in \u001b[0;36m<module>\u001b[1;34m()\u001b[0m\n\u001b[1;32m----> 1\u001b[1;33m \u001b[0mclf\u001b[0m \u001b[1;33m=\u001b[0m \u001b[0mbayseg\u001b[0m\u001b[1;33m.\u001b[0m\u001b[0mBaySeg\u001b[0m\u001b[1;33m(\u001b[0m\u001b[0mfeature_vectors_norm\u001b[0m\u001b[1;33m,\u001b[0m \u001b[1;36m9\u001b[0m\u001b[1;33m)\u001b[0m\u001b[1;33m\u001b[0m\u001b[0m\n\u001b[0m\u001b[0;32m      2\u001b[0m \u001b[1;33m\u001b[0m\u001b[0m\n\u001b[0;32m      3\u001b[0m clf.fit(10, \n\u001b[0;32m      4\u001b[0m         \u001b[0mbeta_jump_length\u001b[0m\u001b[1;33m=\u001b[0m\u001b[1;36m2\u001b[0m\u001b[1;33m,\u001b[0m\u001b[1;33m\u001b[0m\u001b[0m\n\u001b[0;32m      5\u001b[0m         \u001b[0mmu_jump_length\u001b[0m\u001b[1;33m=\u001b[0m\u001b[1;36m0.0005\u001b[0m\u001b[1;33m,\u001b[0m\u001b[1;33m\u001b[0m\u001b[0m\n",
      "\u001b[1;31mTypeError\u001b[0m: __init__() missing 4 required positional arguments: 'raw_data', 'feature_names', 'boreholes', and 'gp_resolution'"
     ]
    }
   ],
   "source": [
    "clf.fit(10, \n",
    "        beta_jump_length=2, \n",
    "        mu_jump_length=0.0005, \n",
    "        cov_volume_jump_length=0.00005, \n",
    "        theta_jump_length=0.0000005, verbose=False)"
   ]
  },
  {
   "cell_type": "code",
   "execution_count": 11,
   "metadata": {},
   "outputs": [
    {
     "data": {
      "text/plain": [
       "[array([[ 1.34547492, 46.16742399, 15.35952187, ..., 14.96750905,\n",
       "          2.79382428, 14.0755928 ],\n",
       "        [ 4.86832331, 19.47855262,  8.3936625 , ..., 19.51540743,\n",
       "          7.84420798, 23.79659815],\n",
       "        [ 6.85823626,  7.93947209,  4.19133092, ..., 22.5449685 ,\n",
       "          9.1483948 , 28.7105083 ],\n",
       "        ...,\n",
       "        [-2.39007212,  6.61594246,  8.56113037, ...,  2.27242623,\n",
       "          1.88202981,  4.34610985],\n",
       "        [-2.02346294,  5.85163411,  8.51087048, ...,  2.23985733,\n",
       "          1.92434812,  4.80953175],\n",
       "        [-2.25692638,  5.97223633,  9.0400732 , ...,  2.07420583,\n",
       "          1.04337286,  3.26493086]]),\n",
       " array([[ 1.3639754 , 46.46498662, 15.31412105, ..., 14.76696904,\n",
       "          2.79289863, 14.24299688],\n",
       "        [ 4.92754956, 19.57958281,  8.38299673, ..., 19.39028691,\n",
       "          7.93114674, 23.9927952 ],\n",
       "        [ 6.943074  ,  7.96260631,  4.19426523, ..., 22.44655913,\n",
       "          9.3218205 , 28.90370102],\n",
       "        ...,\n",
       "        [-2.40189046,  6.60485462,  8.58946509, ...,  2.24100317,\n",
       "          2.01626924,  4.28846726],\n",
       "        [-2.0334378 ,  5.83879363,  8.539932  , ...,  2.21075974,\n",
       "          2.04943188,  4.75205457],\n",
       "        [-2.26165165,  5.95344327,  9.06757938, ...,  2.05201523,\n",
       "          1.10129956,  3.19856786]]),\n",
       " array([[ 1.39000709, 46.48729503, 15.35998805, ..., 14.76696904,\n",
       "          2.8178541 , 14.456595  ],\n",
       "        [ 4.94803598, 19.65704158,  8.39035774, ..., 19.39028691,\n",
       "          7.9936604 , 24.28181006],\n",
       "        [ 6.93781891,  8.02278293,  4.17986212, ..., 22.44655913,\n",
       "          9.37450472, 29.20848979],\n",
       "        ...,\n",
       "        [-2.39562001,  6.67093143,  8.53867788, ...,  2.24100317,\n",
       "          1.99289333,  4.34530355],\n",
       "        [-2.03214547,  5.90643557,  8.489817  , ...,  2.21075974,\n",
       "          2.02347199,  4.81498419],\n",
       "        [-2.26830029,  6.02946881,  9.01666566, ...,  2.05201523,\n",
       "          1.08163435,  3.24807127]]),\n",
       " array([[ 1.3820562 , 46.83366522, 15.30210626, ..., 14.76696904,\n",
       "          2.89836976, 14.63362992],\n",
       "        [ 4.89333754, 19.82285311,  8.34538846, ..., 19.39028691,\n",
       "          8.1318237 , 24.51870893],\n",
       "        [ 6.85986153,  8.05711006,  4.14983453, ..., 22.44655913,\n",
       "          9.5086961 , 29.46511715],\n",
       "        ...,\n",
       "        [-2.38515918,  6.65519654,  8.45781023, ...,  2.24100317,\n",
       "          1.92907058,  4.3614326 ],\n",
       "        [-2.02085972,  5.88759101,  8.41053597, ...,  2.21075974,\n",
       "          1.96542077,  4.83068074],\n",
       "        [-2.2611478 ,  6.02612423,  8.93304163, ...,  2.05201523,\n",
       "          1.03977555,  3.24622799]]),\n",
       " array([[ 1.3820562 , 47.10026047, 15.3166827 , ..., 14.87431854,\n",
       "          2.89417014, 14.67639513],\n",
       "        [ 4.89333754, 19.94378224,  8.33403672, ..., 19.4970557 ,\n",
       "          8.12739315, 24.60588155],\n",
       "        [ 6.85986153,  8.10999623,  4.1321646 , ..., 22.50541507,\n",
       "          9.49060927, 29.57751355],\n",
       "        ...,\n",
       "        [-2.38515918,  6.66922192,  8.43358103, ...,  2.27624745,\n",
       "          1.92457577,  4.39833345],\n",
       "        [-2.02085972,  5.90629816,  8.3863172 , ...,  2.24737028,\n",
       "          1.96121692,  4.87105504],\n",
       "        [-2.2611478 ,  6.05807263,  8.90638338, ...,  2.08532788,\n",
       "          1.03617284,  3.28017525]]),\n",
       " array([[ 1.38507724, 47.47680932, 15.08652198, ..., 14.98904515,\n",
       "          2.94105847, 14.66643684],\n",
       "        [ 4.89448409, 20.26884934,  8.28032597, ..., 19.62106542,\n",
       "          8.23212206, 24.5736743 ],\n",
       "        [ 6.84807404,  8.37668815,  4.1727244 , ..., 22.6018413 ,\n",
       "          9.57405776, 29.53470341],\n",
       "        ...,\n",
       "        [-2.38494137,  7.04687366,  8.50664475, ...,  2.31029667,\n",
       "          1.90890447,  4.36413145],\n",
       "        [-2.02008375,  6.23190416,  8.45797992, ...,  2.28575743,\n",
       "          1.94033285,  4.83314374],\n",
       "        [-2.26071168,  6.34621001,  8.97231692, ...,  2.12030956,\n",
       "          1.01187346,  3.24538488]]),\n",
       " array([[ 1.37796592, 47.25118428, 15.00250824, ..., 14.94296481,\n",
       "          2.88928461, 14.54394811],\n",
       "        [ 4.88182201, 20.12133806,  8.18905277, ..., 19.50430224,\n",
       "          8.04112267, 24.41371255],\n",
       "        [ 6.8376523 ,  8.25525445,  4.09073418, ..., 22.46427579,\n",
       "          9.29940075, 29.36608937],\n",
       "        ...,\n",
       "        [-2.38697344,  7.02990113,  8.46115579, ...,  2.28670929,\n",
       "          1.79981124,  4.34819404],\n",
       "        [-2.0161495 ,  6.22812743,  8.41507275, ...,  2.26318846,\n",
       "          1.82686811,  4.81564505],\n",
       "        [-2.24991865,  6.335781  ,  8.92634226, ...,  2.09684517,\n",
       "          0.93891834,  3.2340026 ]]),\n",
       " array([[ 1.33589951, 47.42645442, 14.50958527, ..., 15.04594953,\n",
       "          2.84529597, 14.54394811],\n",
       "        [ 4.84734758, 20.15899416,  7.94630643, ..., 19.67563732,\n",
       "          7.93728266, 24.41371255],\n",
       "        [ 6.82646452,  8.24633772,  4.0497657 , ..., 22.63165502,\n",
       "          9.18496742, 29.36608937],\n",
       "        ...,\n",
       "        [-2.38124323,  7.02113354,  8.6401784 , ...,  2.3174321 ,\n",
       "          1.8160086 ,  4.34819404],\n",
       "        [-2.00801153,  6.21818064,  8.60985018, ...,  2.29118916,\n",
       "          1.84209879,  4.81564505],\n",
       "        [-2.24630565,  6.33306689,  9.09343762, ...,  2.12399367,\n",
       "          0.95127687,  3.2340026 ]]),\n",
       " array([[ 1.35411719, 46.87209575, 14.57836141, ..., 14.93613954,\n",
       "          2.82312576, 14.51397544],\n",
       "        [ 4.82493995, 19.93202165,  8.01379947, ..., 19.68277074,\n",
       "          7.88559411, 24.40848392],\n",
       "        [ 6.78644271,  8.21713368,  4.08055169, ..., 22.80337498,\n",
       "          9.13276162, 29.41684218],\n",
       "        ...,\n",
       "        [-2.37845919,  6.98471828,  8.58945701, ...,  2.30752977,\n",
       "          1.84734219,  4.57916726],\n",
       "        [-2.00678357,  6.20387789,  8.55604913, ...,  2.27349937,\n",
       "          1.86978896,  5.06274293],\n",
       "        [-2.24841283,  6.28858482,  9.04832368, ...,  2.12383376,\n",
       "          0.96126112,  3.49345335]]),\n",
       " array([[ 1.32846949, 46.58567098, 14.41783119, ..., 14.93063127,\n",
       "          2.87109623, 14.51397544],\n",
       "        [ 4.77994413, 19.91973067,  7.93680964, ..., 19.57603503,\n",
       "          8.10238534, 24.40848392],\n",
       "        [ 6.74769897,  8.33337648,  4.07291055, ..., 22.60813554,\n",
       "          9.42117985, 29.41684218],\n",
       "        ...,\n",
       "        [-2.38092488,  7.1436977 ,  8.63903694, ...,  2.30041973,\n",
       "          1.96098066,  4.57916726],\n",
       "        [-2.00843967,  6.34776561,  8.60819135, ...,  2.2658008 ,\n",
       "          2.00291695,  5.06274293],\n",
       "        [-2.25007977,  6.4277909 ,  9.10000566, ...,  2.11968954,\n",
       "          1.0918918 ,  3.49345335]])]"
      ]
     },
     "execution_count": 11,
     "metadata": {},
     "output_type": "execute_result"
    }
   ],
   "source": [
    "clf.storage_"
   ]
  },
  {
   "cell_type": "markdown",
   "metadata": {},
   "source": [
    "**Convert data for Gempy input**"
   ]
  },
  {
   "cell_type": "code",
   "execution_count": 10,
   "metadata": {},
   "outputs": [],
   "source": [
    "formation = clf.labels[-1]         # vector with final labeling, but including all wells\n",
    "well_names = data['Well Name']        # list with all well names + indicies\n",
    "well_names = list(set(data['Well Name']))    # list with all well names, but just once (8 boreholes)\n",
    "\n",
    "gempy = pd.DataFrame({'X': np.zeros(len(formation)) ,'Y' : np.zeros(len(formation)),'Z' : coords ,'formation' : formation, 'borehole': data['Well Name']})       # Fill-gempy data\n",
    "\n",
    "# create random X and Y information for each well\n",
    "for i in range(0,len(well_names)):    # range from 0-8 (8 boreholes) \n",
    "    a =(np.where(data == well_names[i])[0])       # indicies of each borehole in data.file\n",
    "    gempy.loc[a[0]:a[-1]+1,'X'] = i*250          # random X to each borehole\n",
    "    gempy.loc[a[0]:a[-1]+1,'Y'] = i*500          # random Y to each borehole"
   ]
  },
  {
   "cell_type": "code",
   "execution_count": 11,
   "metadata": {},
   "outputs": [],
   "source": [
    "#gempy.to_csv('Gempy_input_all_for_smoothing.csv')"
   ]
  },
  {
   "cell_type": "code",
   "execution_count": 12,
   "metadata": {},
   "outputs": [],
   "source": [
    "# smoothing \n",
    "for k in range(1,len(gempy)-1):\n",
    "    if gempy.loc[k,'formation'] != gempy.loc[k+1,'formation'] and gempy.loc[k,'formation'] != gempy.formation[k-1]:  # deletes 1x values\n",
    "          gempy.loc[k,'formation'] = gempy.formation[k-1]\n",
    "            \n",
    "    elif gempy.loc[k,'formation'] != gempy.loc[k-1,'formation'] and gempy.loc[k,'formation'] != gempy.loc[k+2,'formation']: # deletes 2x values\n",
    "          gempy.loc[k,'formation'] = gempy.loc[k-1,'formation']\n",
    "    \n",
    "    elif gempy.loc[k,'formation'] != gempy.loc[k-1,'formation'] and gempy.loc[k,'formation'] != gempy.loc[k+3,'formation']: # deletes 3x values\n",
    "          gempy.loc[k,'formation'] = gempy.loc[k-1,'formation']\n",
    "            \n",
    "    elif gempy.loc[k,'formation'] != gempy.loc[k-1,'formation'] and gempy.loc[k,'formation'] != gempy.loc[k+4,'formation']: # deletes 4x values\n",
    "          gempy.loc[k,'formation'] = gempy.loc[k-1,'formation']\n",
    "    \n",
    "    elif gempy.loc[k,'formation'] != gempy.loc[k-1,'formation'] and gempy.loc[k,'formation'] != gempy.loc[k+5,'formation']: # deletes 5x values\n",
    "          gempy.loc[k,'formation'] = gempy.loc[k-1,'formation']\n",
    "\n",
    "    elif gempy.loc[k,'formation'] != gempy.loc[k-1,'formation'] and gempy.loc[k,'formation'] != gempy.loc[k+6,'formation']: # deletes 6x values\n",
    "          gempy.loc[k,'formation'] = gempy.loc[k-1,'formation']\n",
    "            \n",
    "    elif gempy.loc[k,'formation'] != gempy.loc[k-1,'formation'] and gempy.loc[k,'formation'] != gempy.loc[k+7,'formation']: # deletes 7x values\n",
    "          gempy.loc[k,'formation'] = gempy.loc[k-1,'formation']\n",
    "    \n",
    "    else: continue\n",
    "        \n",
    "gempy.loc[0,'formation'] = gempy.loc[1,'formation']     # ensures first value to be equal second\n",
    "#gempy.formation[-1] = gempy.formation[len(gempy.formation)-2]    # ensures last value to be equal second last"
   ]
  },
  {
   "cell_type": "code",
   "execution_count": 13,
   "metadata": {},
   "outputs": [],
   "source": [
    "for k in range(0,len(gempy)-1):\n",
    "    if gempy.loc[k,'formation'] == gempy.loc[k+1,'formation']:\n",
    "        gempy = gempy.drop(k)\n",
    "gempy.index = range(len(gempy))        "
   ]
  },
  {
   "cell_type": "code",
   "execution_count": 14,
   "metadata": {},
   "outputs": [],
   "source": [
    "#gempy"
   ]
  },
  {
   "cell_type": "code",
   "execution_count": 15,
   "metadata": {},
   "outputs": [],
   "source": [
    "gempy.formation = (gempy.formation +1) # no zero in the formation otherwise problems with plotting and strata_series\n",
    "gempy.to_csv('Gempy_input.csv',index=False)"
   ]
  },
  {
   "cell_type": "code",
   "execution_count": 16,
   "metadata": {},
   "outputs": [
    {
     "data": {
      "text/html": [
       "<div>\n",
       "<style scoped>\n",
       "    .dataframe tbody tr th:only-of-type {\n",
       "        vertical-align: middle;\n",
       "    }\n",
       "\n",
       "    .dataframe tbody tr th {\n",
       "        vertical-align: top;\n",
       "    }\n",
       "\n",
       "    .dataframe thead th {\n",
       "        text-align: right;\n",
       "    }\n",
       "</style>\n",
       "<table border=\"1\" class=\"dataframe\">\n",
       "  <thead>\n",
       "    <tr style=\"text-align: right;\">\n",
       "      <th></th>\n",
       "      <th>X</th>\n",
       "      <th>Y</th>\n",
       "      <th>Z</th>\n",
       "      <th>borehole</th>\n",
       "      <th>formation</th>\n",
       "    </tr>\n",
       "  </thead>\n",
       "  <tbody>\n",
       "    <tr>\n",
       "      <th>114</th>\n",
       "      <td>0.0</td>\n",
       "      <td>0.0</td>\n",
       "      <td>3003.5</td>\n",
       "      <td>NEWBY</td>\n",
       "      <td>8</td>\n",
       "    </tr>\n",
       "    <tr>\n",
       "      <th>115</th>\n",
       "      <td>0.0</td>\n",
       "      <td>0.0</td>\n",
       "      <td>3017.0</td>\n",
       "      <td>NEWBY</td>\n",
       "      <td>2</td>\n",
       "    </tr>\n",
       "    <tr>\n",
       "      <th>116</th>\n",
       "      <td>0.0</td>\n",
       "      <td>0.0</td>\n",
       "      <td>3023.0</td>\n",
       "      <td>NEWBY</td>\n",
       "      <td>7</td>\n",
       "    </tr>\n",
       "    <tr>\n",
       "      <th>117</th>\n",
       "      <td>0.0</td>\n",
       "      <td>0.0</td>\n",
       "      <td>3057.0</td>\n",
       "      <td>NEWBY</td>\n",
       "      <td>5</td>\n",
       "    </tr>\n",
       "    <tr>\n",
       "      <th>118</th>\n",
       "      <td>1000.0</td>\n",
       "      <td>2000.0</td>\n",
       "      <td>2926.5</td>\n",
       "      <td>CHURCHMAN BIBLE</td>\n",
       "      <td>4</td>\n",
       "    </tr>\n",
       "    <tr>\n",
       "      <th>119</th>\n",
       "      <td>1000.0</td>\n",
       "      <td>2000.0</td>\n",
       "      <td>2938.5</td>\n",
       "      <td>CHURCHMAN BIBLE</td>\n",
       "      <td>5</td>\n",
       "    </tr>\n",
       "    <tr>\n",
       "      <th>120</th>\n",
       "      <td>1000.0</td>\n",
       "      <td>2000.0</td>\n",
       "      <td>2944.0</td>\n",
       "      <td>CHURCHMAN BIBLE</td>\n",
       "      <td>4</td>\n",
       "    </tr>\n",
       "    <tr>\n",
       "      <th>121</th>\n",
       "      <td>1000.0</td>\n",
       "      <td>2000.0</td>\n",
       "      <td>2973.5</td>\n",
       "      <td>CHURCHMAN BIBLE</td>\n",
       "      <td>5</td>\n",
       "    </tr>\n",
       "    <tr>\n",
       "      <th>122</th>\n",
       "      <td>1000.0</td>\n",
       "      <td>2000.0</td>\n",
       "      <td>2985.5</td>\n",
       "      <td>CHURCHMAN BIBLE</td>\n",
       "      <td>3</td>\n",
       "    </tr>\n",
       "    <tr>\n",
       "      <th>123</th>\n",
       "      <td>1000.0</td>\n",
       "      <td>2000.0</td>\n",
       "      <td>2991.0</td>\n",
       "      <td>CHURCHMAN BIBLE</td>\n",
       "      <td>1</td>\n",
       "    </tr>\n",
       "    <tr>\n",
       "      <th>124</th>\n",
       "      <td>1000.0</td>\n",
       "      <td>2000.0</td>\n",
       "      <td>2999.5</td>\n",
       "      <td>CHURCHMAN BIBLE</td>\n",
       "      <td>5</td>\n",
       "    </tr>\n",
       "    <tr>\n",
       "      <th>125</th>\n",
       "      <td>1000.0</td>\n",
       "      <td>2000.0</td>\n",
       "      <td>3007.0</td>\n",
       "      <td>CHURCHMAN BIBLE</td>\n",
       "      <td>3</td>\n",
       "    </tr>\n",
       "    <tr>\n",
       "      <th>126</th>\n",
       "      <td>1000.0</td>\n",
       "      <td>2000.0</td>\n",
       "      <td>3021.0</td>\n",
       "      <td>CHURCHMAN BIBLE</td>\n",
       "      <td>1</td>\n",
       "    </tr>\n",
       "    <tr>\n",
       "      <th>127</th>\n",
       "      <td>1000.0</td>\n",
       "      <td>2000.0</td>\n",
       "      <td>3028.5</td>\n",
       "      <td>CHURCHMAN BIBLE</td>\n",
       "      <td>4</td>\n",
       "    </tr>\n",
       "    <tr>\n",
       "      <th>128</th>\n",
       "      <td>1000.0</td>\n",
       "      <td>2000.0</td>\n",
       "      <td>3036.0</td>\n",
       "      <td>CHURCHMAN BIBLE</td>\n",
       "      <td>1</td>\n",
       "    </tr>\n",
       "    <tr>\n",
       "      <th>129</th>\n",
       "      <td>1000.0</td>\n",
       "      <td>2000.0</td>\n",
       "      <td>3058.5</td>\n",
       "      <td>CHURCHMAN BIBLE</td>\n",
       "      <td>4</td>\n",
       "    </tr>\n",
       "    <tr>\n",
       "      <th>130</th>\n",
       "      <td>1000.0</td>\n",
       "      <td>2000.0</td>\n",
       "      <td>3078.0</td>\n",
       "      <td>CHURCHMAN BIBLE</td>\n",
       "      <td>6</td>\n",
       "    </tr>\n",
       "    <tr>\n",
       "      <th>131</th>\n",
       "      <td>1000.0</td>\n",
       "      <td>2000.0</td>\n",
       "      <td>3086.0</td>\n",
       "      <td>CHURCHMAN BIBLE</td>\n",
       "      <td>8</td>\n",
       "    </tr>\n",
       "    <tr>\n",
       "      <th>132</th>\n",
       "      <td>1000.0</td>\n",
       "      <td>2000.0</td>\n",
       "      <td>3105.5</td>\n",
       "      <td>CHURCHMAN BIBLE</td>\n",
       "      <td>3</td>\n",
       "    </tr>\n",
       "    <tr>\n",
       "      <th>133</th>\n",
       "      <td>1000.0</td>\n",
       "      <td>2000.0</td>\n",
       "      <td>3122.5</td>\n",
       "      <td>CHURCHMAN BIBLE</td>\n",
       "      <td>5</td>\n",
       "    </tr>\n",
       "  </tbody>\n",
       "</table>\n",
       "</div>"
      ],
      "text/plain": [
       "          X       Y       Z         borehole  formation\n",
       "114     0.0     0.0  3003.5            NEWBY          8\n",
       "115     0.0     0.0  3017.0            NEWBY          2\n",
       "116     0.0     0.0  3023.0            NEWBY          7\n",
       "117     0.0     0.0  3057.0            NEWBY          5\n",
       "118  1000.0  2000.0  2926.5  CHURCHMAN BIBLE          4\n",
       "119  1000.0  2000.0  2938.5  CHURCHMAN BIBLE          5\n",
       "120  1000.0  2000.0  2944.0  CHURCHMAN BIBLE          4\n",
       "121  1000.0  2000.0  2973.5  CHURCHMAN BIBLE          5\n",
       "122  1000.0  2000.0  2985.5  CHURCHMAN BIBLE          3\n",
       "123  1000.0  2000.0  2991.0  CHURCHMAN BIBLE          1\n",
       "124  1000.0  2000.0  2999.5  CHURCHMAN BIBLE          5\n",
       "125  1000.0  2000.0  3007.0  CHURCHMAN BIBLE          3\n",
       "126  1000.0  2000.0  3021.0  CHURCHMAN BIBLE          1\n",
       "127  1000.0  2000.0  3028.5  CHURCHMAN BIBLE          4\n",
       "128  1000.0  2000.0  3036.0  CHURCHMAN BIBLE          1\n",
       "129  1000.0  2000.0  3058.5  CHURCHMAN BIBLE          4\n",
       "130  1000.0  2000.0  3078.0  CHURCHMAN BIBLE          6\n",
       "131  1000.0  2000.0  3086.0  CHURCHMAN BIBLE          8\n",
       "132  1000.0  2000.0  3105.5  CHURCHMAN BIBLE          3\n",
       "133  1000.0  2000.0  3122.5  CHURCHMAN BIBLE          5"
      ]
     },
     "execution_count": 16,
     "metadata": {},
     "output_type": "execute_result"
    }
   ],
   "source": [
    "test = pd.read_csv(\"Gempy_input.csv\")\n",
    "test.tail()"
   ]
  },
  {
   "cell_type": "markdown",
   "metadata": {},
   "source": [
    "**GemPy**"
   ]
  },
  {
   "cell_type": "code",
   "execution_count": 17,
   "metadata": {},
   "outputs": [
    {
     "name": "stderr",
     "output_type": "stream",
     "text": [
      "C:\\Users\\Public\\Anaconda3\\lib\\site-packages\\gempy\\posterior_analysis.py:24: UserWarning: pymc (v2) package is not installed. No support for stochastic simulation posterior analysis.\n",
      "  warnings.warn(\"pymc (v2) package is not installed. No support for stochastic simulation posterior analysis.\")\n"
     ]
    }
   ],
   "source": [
    "# Importing GemPy\n",
    "import gempy as gp\n",
    "\n",
    "# Embedding matplotlib figures in the notebooks\n",
    "%matplotlib inline\n",
    "\n",
    "# Importing auxiliary libraries\n",
    "import numpy as np\n",
    "import matplotlib.pyplot as plt"
   ]
  },
  {
   "cell_type": "code",
   "execution_count": 18,
   "metadata": {},
   "outputs": [],
   "source": [
    "# Importing the data from CSV-files and setting extent and resolution\n",
    "geo_data = gp.create_data([0,2000,0,2000,0,2000],[10,10,10], \n",
    "                          path_o = \"Gempy_input_f.csv\", # importing orientation (foliation) data\n",
    "                          path_i = \"Gempy_input.csv\") # importing point-positional interface data"
   ]
  },
  {
   "cell_type": "code",
   "execution_count": 19,
   "metadata": {},
   "outputs": [],
   "source": [
    "geo_data.interfaces['formation'] = geo_data.interfaces['formation'].astype(str)\n",
    "geo_data.orientations['formation'] = geo_data.orientations['formation'].astype(str)"
   ]
  },
  {
   "cell_type": "code",
   "execution_count": 20,
   "metadata": {
    "scrolled": false
   },
   "outputs": [],
   "source": [
    "#gp.get_data(geo_data, verbosity=1)"
   ]
  },
  {
   "cell_type": "code",
   "execution_count": 21,
   "metadata": {},
   "outputs": [],
   "source": [
    "# Assigning series to formations as well as their order (timewise)\n",
    "gp.set_series(geo_data, {\"Unknown\": ('1','2', '3', '4','5','6','7','8','9')},\n",
    "                       order_series = [\"Strat_Series\"],\n",
    "                       order_formations=['1','2', '3', '4','5','6','7','8','9'], verbose=0) "
   ]
  },
  {
   "cell_type": "code",
   "execution_count": 22,
   "metadata": {},
   "outputs": [
    {
     "data": {
      "text/plain": [
       "<gempy.sequential_pile.StratigraphicPile at 0x2626bf30e10>"
      ]
     },
     "execution_count": 22,
     "metadata": {},
     "output_type": "execute_result"
    },
    {
     "data": {
      "image/png": "[encoded data removed]",
      "text/plain": [
       "<matplotlib.figure.Figure at 0x26269bbe4e0>"
      ]
     },
     "metadata": {},
     "output_type": "display_data"
    }
   ],
   "source": [
    "%matplotlib inline\n",
    "gp.get_sequential_pile(geo_data)"
   ]
  },
  {
   "cell_type": "code",
   "execution_count": 23,
   "metadata": {},
   "outputs": [
    {
     "name": "stdout",
     "output_type": "stream",
     "text": [
      "[[ 100.  100.  100.]\n",
      " [ 100.  100.  300.]\n",
      " [ 100.  100.  500.]\n",
      " ...\n",
      " [1900. 1900. 1500.]\n",
      " [1900. 1900. 1700.]\n",
      " [1900. 1900. 1900.]]\n"
     ]
    }
   ],
   "source": [
    "print(gp.get_grid(geo_data))"
   ]
  },
  {
   "cell_type": "code",
   "execution_count": 24,
   "metadata": {},
   "outputs": [
    {
     "data": {
      "image/png": "[encoded data removed]",
      "text/plain": [
       "<matplotlib.figure.Figure at 0x2626dc4d240>"
      ]
     },
     "metadata": {},
     "output_type": "display_data"
    }
   ],
   "source": [
    "%matplotlib inline\n",
    "gp.plot_data(geo_data, direction='y')"
   ]
  },
  {
   "cell_type": "code",
   "execution_count": 25,
   "metadata": {},
   "outputs": [],
   "source": [
    "#gp.plot_data_3D(geo_data)"
   ]
  },
  {
   "cell_type": "code",
   "execution_count": 26,
   "metadata": {},
   "outputs": [
    {
     "name": "stdout",
     "output_type": "stream",
     "text": [
      "Compiling theano function...\n",
      "Compilation Done!\n",
      "Level of Optimization:  fast_compile\n",
      "Device:  cpu\n",
      "Precision:  float32\n",
      "Number of faults:  0\n"
     ]
    }
   ],
   "source": [
    "# u_grade depends on number of series (one series [1], two series [1,1]...) \n",
    "interp_data = gp.InterpolatorData(geo_data, u_grade=[1], output='geology', compile_theano=True, theano_optimizer='fast_compile')"
   ]
  },
  {
   "cell_type": "code",
   "execution_count": 27,
   "metadata": {},
   "outputs": [
    {
     "data": {
      "text/plain": [
       "{'1': 1,\n",
       " '2': 2,\n",
       " '3': 3,\n",
       " '4': 4,\n",
       " '5': 5,\n",
       " '6': 6,\n",
       " '7': 7,\n",
       " '8': 8,\n",
       " '9': 9,\n",
       " 'DefaultBasement': 0}"
      ]
     },
     "execution_count": 27,
     "metadata": {},
     "output_type": "execute_result"
    }
   ],
   "source": [
    "interp_data.geo_data_res.get_formation_number()"
   ]
  },
  {
   "cell_type": "code",
   "execution_count": 28,
   "metadata": {},
   "outputs": [
    {
     "name": "stdout",
     "output_type": "stream",
     "text": [
      "range 0.49487165 3464.1015231609344\n",
      "Number of drift equations [3]\n",
      "Covariance at 0 0.005830904\n",
      "orientations nugget effect 0.01\n",
      "scalar nugget effect 1e-06\n"
     ]
    }
   ],
   "source": [
    "gp.get_kriging_parameters(interp_data)"
   ]
  },
  {
   "cell_type": "code",
   "execution_count": 29,
   "metadata": {},
   "outputs": [
    {
     "name": "stderr",
     "output_type": "stream",
     "text": [
      "C:\\Users\\Public\\Anaconda3\\lib\\site-packages\\scipy\\linalg\\basic.py:40: RuntimeWarning: scipy.linalg.solve\n",
      "Ill-conditioned matrix detected. Result is not guaranteed to be accurate.\n",
      "Reciprocal condition number/precision: 2.371920215793466e-09 / 5.960464477539063e-08\n",
      "  RuntimeWarning)\n"
     ]
    }
   ],
   "source": [
    "lith_block, fault_block = gp.compute_model(interp_data)"
   ]
  },
  {
   "cell_type": "code",
   "execution_count": 30,
   "metadata": {},
   "outputs": [
    {
     "data": {
      "image/png": "[encoded data removed]",
      "text/plain": [
       "<matplotlib.figure.Figure at 0x2627ccdb588>"
      ]
     },
     "metadata": {},
     "output_type": "display_data"
    }
   ],
   "source": [
    "gp.plot_section(geo_data, lith_block[0], cell_number=9,  direction='x', plot_data=True)"
   ]
  },
  {
   "cell_type": "code",
   "execution_count": 31,
   "metadata": {
    "scrolled": true
   },
   "outputs": [
    {
     "data": {
      "image/png": "[encoded data removed]",
      "text/plain": [
       "<matplotlib.figure.Figure at 0x2627dafe9b0>"
      ]
     },
     "metadata": {},
     "output_type": "display_data"
    }
   ],
   "source": [
    "gp.plot_section(geo_data, lith_block[0], 9)"
   ]
  },
  {
   "cell_type": "code",
   "execution_count": null,
   "metadata": {},
   "outputs": [],
   "source": []
  },
  {
   "cell_type": "code",
   "execution_count": 32,
   "metadata": {},
   "outputs": [
    {
     "ename": "IndexError",
     "evalue": "index 1 is out of bounds for axis 0 with size 0",
     "output_type": "error",
     "traceback": [
      "\u001b[1;31m---------------------------------------------------------------------------\u001b[0m",
      "\u001b[1;31mIndexError\u001b[0m                                Traceback (most recent call last)",
      "\u001b[1;32m<ipython-input-32-b9d9bb8e7a7c>\u001b[0m in \u001b[0;36m<module>\u001b[1;34m()\u001b[0m\n\u001b[1;32m----> 1\u001b[1;33m \u001b[0mver\u001b[0m\u001b[1;33m,\u001b[0m \u001b[0msim\u001b[0m \u001b[1;33m=\u001b[0m \u001b[0mgp\u001b[0m\u001b[1;33m.\u001b[0m\u001b[0mget_surfaces\u001b[0m\u001b[1;33m(\u001b[0m\u001b[0minterp_data\u001b[0m\u001b[1;33m,\u001b[0m\u001b[0mlith_block\u001b[0m\u001b[1;33m[\u001b[0m\u001b[1;36m1\u001b[0m\u001b[1;33m]\u001b[0m\u001b[1;33m,\u001b[0m \u001b[0mfault_block\u001b[0m\u001b[1;33m[\u001b[0m\u001b[1;36m1\u001b[0m\u001b[1;33m]\u001b[0m\u001b[1;33m,\u001b[0m \u001b[0moriginal_scale\u001b[0m\u001b[1;33m=\u001b[0m\u001b[1;32mTrue\u001b[0m\u001b[1;33m)\u001b[0m\u001b[1;33m\u001b[0m\u001b[0m\n\u001b[0m",
      "\u001b[1;31mIndexError\u001b[0m: index 1 is out of bounds for axis 0 with size 0"
     ]
    }
   ],
   "source": [
    "ver, sim = gp.get_surfaces(interp_data,lith_block[1], fault_block[1], original_scale=True)"
   ]
  },
  {
   "cell_type": "code",
   "execution_count": null,
   "metadata": {},
   "outputs": [],
   "source": []
  }
 ],
 "metadata": {
  "kernelspec": {
   "display_name": "Python 3",
   "language": "python",
   "name": "python3"
  },
  "language_info": {
   "codemirror_mode": {
    "name": "ipython",
    "version": 3
   },
   "file_extension": ".py",
   "mimetype": "text/x-python",
   "name": "python",
   "nbconvert_exporter": "python",
   "pygments_lexer": "ipython3",
   "version": "3.6.4"
  }
 },
 "nbformat": 4,
 "nbformat_minor": 2
}
