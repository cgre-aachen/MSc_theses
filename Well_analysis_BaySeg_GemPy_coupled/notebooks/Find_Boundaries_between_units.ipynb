{
 "cells": [
  {
   "cell_type": "code",
   "execution_count": 2,
   "metadata": {},
   "outputs": [],
   "source": [
    "import numpy as np\n",
    "import pandas as pd\n",
    "import itertools as it\n",
    "\n",
    "import importlib\n",
    "import matplotlib.pyplot as plt\n",
    "%matplotlib inline\n",
    "\n",
    "import sys\n",
    "sys.path.append(\"../\")\n",
    "import bayseg"
   ]
  },
  {
   "cell_type": "code",
   "execution_count": 67,
   "metadata": {},
   "outputs": [],
   "source": [
    "# data import\n",
    "data = pd.read_csv(\"../data/synthetic_data_3.csv\")                         # load the data from excel sheet  \n",
    "feature_names =  ['GR','IND','PE','NEUDEN']    # define data that are considered by headers from excel sheet(Gamma Ray,Induction, Neutron-density, delta Neutron-density, Photoelectric effect)\n",
    "BH1 = data.loc[20:39,feature_names]             # extract all feature of one borehole\n",
    "coords = data.loc[20:39,'Z']"
   ]
  },
  {
   "cell_type": "code",
   "execution_count": 68,
   "metadata": {},
   "outputs": [
    {
     "data": {
      "text/plain": [
       "[<matplotlib.lines.Line2D at 0x1b032ba8ef0>]"
      ]
     },
     "execution_count": 68,
     "metadata": {},
     "output_type": "execute_result"
    },
    {
     "data": {
      "image/png": "[encoded data removed]",
      "text/plain": [
       "<matplotlib.figure.Figure at 0x1b031fc2f98>"
      ]
     },
     "metadata": {},
     "output_type": "display_data"
    }
   ],
   "source": [
    "plt.figure(figsize = (16,4))\n",
    "plt.plot(coords,BH1['GR'])"
   ]
  },
  {
   "cell_type": "code",
   "execution_count": 131,
   "metadata": {},
   "outputs": [],
   "source": [
    "BH1_norm = bayseg.normalize_feature_vectors(BH1) # normalize data (.values just takes the values not the header and indicies)"
   ]
  },
  {
   "cell_type": "code",
   "execution_count": 132,
   "metadata": {},
   "outputs": [],
   "source": [
    "# perform BaySeg clustering\n",
    "clf = bayseg.BaySeg(BH1_norm, 4)"
   ]
  },
  {
   "cell_type": "code",
   "execution_count": 133,
   "metadata": {},
   "outputs": [],
   "source": [
    "#BH1_norm = clf.labels[0]"
   ]
  },
  {
   "cell_type": "code",
   "execution_count": 159,
   "metadata": {},
   "outputs": [],
   "source": [
    "# find first boundary\n",
    "\n",
    "# var1 = []\n",
    "# var2 = []\n",
    "var_t = []\n",
    "var_bz = []\n",
    "\n",
    "for i in range(2,len(BH1_norm)-1):\n",
    "    # var1.append(np.sum(np.var(BH1_norm[0:i])))\n",
    "    # var2.append(np.sum(np.var(BH1_norm[i:-1])))\n",
    "    var_t.append(np.sum(np.var(BH1_norm[0:i]))+np.sum(np.var(BH1_norm[i:-1])))\n",
    "    var_bz.append(np.var([np.mean(BH1_norm[0:i]),np.mean(BH1_norm[i:-1])]))\n",
    "    \n",
    "if np.where(var_bz == max(var_bz))[0][0] == np.where(var_t == min(var_t))[0][0]:\n",
    "    a = np.where(var_t == min(var_t))[0][0] + 2\n",
    "else: print('Minimum variance within the zones != Maximum variance between the zones')"
   ]
  },
  {
   "cell_type": "code",
   "execution_count": 161,
   "metadata": {},
   "outputs": [],
   "source": [
    "# find second boundary\n",
    "\n",
    "var_t = []\n",
    "var_bz = []\n",
    "\n",
    "for i in [x for x in range(2,len(BH1_norm)-1) if x != a]:\n",
    "    if i < a:\n",
    "        var_t.append(np.sum(np.var(BH1_norm[0:i]))+np.sum(np.var(BH1_norm[i:a]))+np.sum(np.var(BH1_norm[a:-1])))\n",
    "        var_bz.append(np.var([np.mean(BH1_norm[0:i]),np.mean(BH1_norm[i:a]),np.mean(BH1_norm[a:-1])]))\n",
    "    else:\n",
    "        var_t.append(np.sum(np.var(BH1_norm[0:a]))+np.sum(np.var(BH1_norm[a:i]))+np.sum(np.var(BH1_norm[i:-1])))\n",
    "        var_bz.append(np.var([np.mean(BH1_norm[0:a]),np.mean(BH1_norm[a:i]),np.mean(BH1_norm[i:-1])]))\n",
    "        \n",
    "if np.where(var_bz == max(var_bz))[0][0] == np.where(var_t == min(var_t))[0][0]:\n",
    "    b = np.where(var_t == min(var_t))[0][0] +3\n",
    "else: print('Minimum variance within the zones != Maximum variance between the zones')"
   ]
  },
  {
   "cell_type": "code",
   "execution_count": 162,
   "metadata": {},
   "outputs": [
    {
     "name": "stdout",
     "output_type": "stream",
     "text": [
      "5 15\n"
     ]
    }
   ],
   "source": [
    "print(a,b)"
   ]
  },
  {
   "cell_type": "code",
   "execution_count": null,
   "metadata": {},
   "outputs": [],
   "source": [
    "# find third boundary\n",
    "\n",
    "var_t = []\n",
    "var_bz = []\n",
    "\n",
    "for i in [x for x in range(2,len(BH1_norm)-1) if x != a]:"
   ]
  }
 ],
 "metadata": {
  "kernelspec": {
   "display_name": "Python 3",
   "language": "python",
   "name": "python3"
  },
  "language_info": {
   "codemirror_mode": {
    "name": "ipython",
    "version": 3
   },
   "file_extension": ".py",
   "mimetype": "text/x-python",
   "name": "python",
   "nbconvert_exporter": "python",
   "pygments_lexer": "ipython3",
   "version": "3.6.4"
  }
 },
 "nbformat": 4,
 "nbformat_minor": 2
}
