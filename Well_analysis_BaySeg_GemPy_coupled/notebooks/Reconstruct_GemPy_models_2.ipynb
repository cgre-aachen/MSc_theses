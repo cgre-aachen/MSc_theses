{
 "cells": [
  {
   "cell_type": "code",
   "execution_count": 2,
   "metadata": {},
   "outputs": [],
   "source": [
    "import numpy as np\n",
    "import pandas as pd\n",
    "import itertools as it\n",
    "import heapq as hq\n",
    "import matplotlib.pyplot as plt\n",
    "%matplotlib inline\n",
    "\n",
    "import sys\n",
    "sys.path.append(\"C:/Users/Tobias Giesgen/PycharmProjects/gempy\")\n",
    "sys.path.append(\"../\")\n",
    "import bayseg\n",
    "import gempy as gp"
   ]
  },
  {
   "cell_type": "code",
   "execution_count": 3,
   "metadata": {},
   "outputs": [],
   "source": [
    "data_s3 = pd.read_csv(\"../data/GemPy_models/Synthetic_well_data/gempy_model_fold_tut3_s5_5.csv\")"
   ]
  },
  {
   "cell_type": "markdown",
   "metadata": {},
   "source": [
    "#### BaySeg Analysis"
   ]
  },
  {
   "cell_type": "code",
   "execution_count": 4,
   "metadata": {},
   "outputs": [],
   "source": [
    "# define measurement names \n",
    "feature_names = ['feature1','feature2','feature3','feature4']\n",
    "\n",
    "# define borehole names\n",
    "boreholes = []\n",
    "for i in range(10):\n",
    "    boreholes.append('BH%s'%str(i+1))"
   ]
  },
  {
   "cell_type": "code",
   "execution_count": 5,
   "metadata": {},
   "outputs": [],
   "source": [
    "feature_vectors_norm = bayseg.normalize_feature_vectors(data_s3.loc[:,feature_names])"
   ]
  },
  {
   "cell_type": "code",
   "execution_count": 6,
   "metadata": {},
   "outputs": [],
   "source": [
    "# n, nft = bayseg.test_bic(feature_vectors_norm, 15)"
   ]
  },
  {
   "cell_type": "code",
   "execution_count": 7,
   "metadata": {},
   "outputs": [],
   "source": [
    "clf = bayseg.BaySeg(feature_vectors_norm, 3, data_s3 , feature_names, boreholes, \n",
    "                    gp_resolution = 51, plot = '2dy', inc_gempy=True, beta_init=0.6, stencil = '8p')"
   ]
  },
  {
   "cell_type": "code",
   "execution_count": 8,
   "metadata": {
    "scrolled": true
   },
   "outputs": [
    {
     "name": "stderr",
     "output_type": "stream",
     "text": [
      "\r",
      "  0%|                                                                                          | 0/100 [00:00<?, ?it/s]"
     ]
    },
    {
     "name": "stdout",
     "output_type": "stream",
     "text": [
      "Gempy model under construction:\n",
      "Borehole zoning finished!\n",
      "Compiling theano function...\n",
      "Compilation Done!\n",
      "Level of Optimization:  fast_compile\n",
      "Device:  cpu\n",
      "Precision:  float64\n",
      "Number of faults:  0\n",
      "Gempy model finished!\n",
      "Gempy model under construction:\n",
      "Borehole zoning finished!\n",
      "Compiling theano function...\n",
      "Compilation Done!\n",
      "Level of Optimization:  fast_compile\n",
      "Device:  cpu\n",
      "Precision:  float64\n",
      "Number of faults:  0\n",
      "Gempy model finished!\n"
     ]
    },
    {
     "name": "stderr",
     "output_type": "stream",
     "text": [
      "\r",
      "  1%|▊                                                                              | 1/100 [01:52<3:05:19, 112.32s/it]"
     ]
    },
    {
     "name": "stdout",
     "output_type": "stream",
     "text": [
      "Gempy model under construction:\n",
      "Borehole zoning finished!\n",
      "Gempy model finished!\n"
     ]
    },
    {
     "name": "stderr",
     "output_type": "stream",
     "text": [
      "\r",
      "  2%|█▌                                                                              | 2/100 [02:09<1:45:34, 64.63s/it]"
     ]
    },
    {
     "name": "stdout",
     "output_type": "stream",
     "text": [
      "Gempy model under construction:\n",
      "Borehole zoning finished!\n",
      "Gempy model finished!\n"
     ]
    },
    {
     "name": "stderr",
     "output_type": "stream",
     "text": [
      "\r",
      "  3%|██▍                                                                             | 3/100 [02:25<1:18:40, 48.67s/it]"
     ]
    },
    {
     "name": "stdout",
     "output_type": "stream",
     "text": [
      "Gempy model under construction:\n",
      "Borehole zoning finished!\n",
      "Gempy model finished!\n"
     ]
    },
    {
     "name": "stderr",
     "output_type": "stream",
     "text": [
      "\r",
      "  4%|███▏                                                                            | 4/100 [02:42<1:05:06, 40.69s/it]"
     ]
    },
    {
     "name": "stdout",
     "output_type": "stream",
     "text": [
      "Gempy model under construction:\n",
      "Borehole zoning finished!\n",
      "Gempy model finished!\n"
     ]
    },
    {
     "name": "stderr",
     "output_type": "stream",
     "text": [
      "\r",
      "  5%|████                                                                              | 5/100 [02:59<56:52, 35.92s/it]"
     ]
    },
    {
     "name": "stdout",
     "output_type": "stream",
     "text": [
      "Gempy model under construction:\n",
      "Borehole zoning finished!\n",
      "Gempy model finished!\n"
     ]
    },
    {
     "name": "stderr",
     "output_type": "stream",
     "text": [
      "\r",
      "  6%|████▉                                                                             | 6/100 [03:16<51:18, 32.75s/it]"
     ]
    },
    {
     "name": "stdout",
     "output_type": "stream",
     "text": [
      "Gempy model under construction:\n",
      "Borehole zoning finished!\n",
      "Gempy model finished!\n"
     ]
    },
    {
     "name": "stderr",
     "output_type": "stream",
     "text": [
      "\r",
      "  7%|█████▋                                                                            | 7/100 [03:33<47:13, 30.47s/it]"
     ]
    },
    {
     "name": "stdout",
     "output_type": "stream",
     "text": [
      "Gempy model under construction:\n",
      "Borehole zoning finished!\n",
      "Gempy model finished!\n"
     ]
    },
    {
     "name": "stderr",
     "output_type": "stream",
     "text": [
      "\r",
      "  8%|██████▌                                                                           | 8/100 [03:50<44:06, 28.76s/it]"
     ]
    },
    {
     "name": "stdout",
     "output_type": "stream",
     "text": [
      "Gempy model under construction:\n",
      "Borehole zoning finished!\n",
      "Gempy model finished!\n"
     ]
    },
    {
     "name": "stderr",
     "output_type": "stream",
     "text": [
      "\r",
      "  9%|███████▍                                                                          | 9/100 [04:07<41:37, 27.45s/it]"
     ]
    },
    {
     "name": "stdout",
     "output_type": "stream",
     "text": [
      "Gempy model under construction:\n",
      "Borehole zoning finished!\n",
      "Gempy model finished!\n"
     ]
    },
    {
     "name": "stderr",
     "output_type": "stream",
     "text": [
      "\r",
      " 10%|████████                                                                         | 10/100 [04:23<39:34, 26.38s/it]"
     ]
    },
    {
     "name": "stdout",
     "output_type": "stream",
     "text": [
      "Gempy model under construction:\n",
      "Borehole zoning finished!\n",
      "Gempy model finished!\n"
     ]
    },
    {
     "name": "stderr",
     "output_type": "stream",
     "text": [
      "\r",
      " 11%|████████▉                                                                        | 11/100 [04:40<37:50, 25.51s/it]"
     ]
    },
    {
     "name": "stdout",
     "output_type": "stream",
     "text": [
      "Gempy model under construction:\n",
      "Borehole zoning finished!\n",
      "Gempy model finished!\n"
     ]
    },
    {
     "name": "stderr",
     "output_type": "stream",
     "text": [
      "\r",
      " 12%|█████████▋                                                                       | 12/100 [04:57<36:20, 24.78s/it]"
     ]
    },
    {
     "name": "stdout",
     "output_type": "stream",
     "text": [
      "Gempy model under construction:\n",
      "Borehole zoning finished!\n",
      "Gempy model finished!\n"
     ]
    },
    {
     "name": "stderr",
     "output_type": "stream",
     "text": [
      "\r",
      " 13%|██████████▌                                                                      | 13/100 [05:14<35:02, 24.17s/it]"
     ]
    },
    {
     "name": "stdout",
     "output_type": "stream",
     "text": [
      "Gempy model under construction:\n",
      "Borehole zoning finished!\n",
      "Gempy model finished!\n"
     ]
    },
    {
     "name": "stderr",
     "output_type": "stream",
     "text": [
      "\r",
      " 14%|███████████▎                                                                     | 14/100 [05:31<33:54, 23.65s/it]"
     ]
    },
    {
     "name": "stdout",
     "output_type": "stream",
     "text": [
      "Gempy model under construction:\n",
      "Borehole zoning finished!\n",
      "Gempy model finished!\n"
     ]
    },
    {
     "name": "stderr",
     "output_type": "stream",
     "text": [
      "\r",
      " 15%|████████████▏                                                                    | 15/100 [05:48<32:52, 23.21s/it]"
     ]
    },
    {
     "name": "stdout",
     "output_type": "stream",
     "text": [
      "Gempy model under construction:\n",
      "Borehole zoning finished!\n",
      "Gempy model finished!\n"
     ]
    },
    {
     "name": "stderr",
     "output_type": "stream",
     "text": [
      "\r",
      " 16%|████████████▉                                                                    | 16/100 [06:04<31:55, 22.81s/it]"
     ]
    },
    {
     "name": "stdout",
     "output_type": "stream",
     "text": [
      "Gempy model under construction:\n",
      "Borehole zoning finished!\n",
      "Gempy model finished!\n"
     ]
    },
    {
     "name": "stderr",
     "output_type": "stream",
     "text": [
      "\r",
      " 17%|█████████████▊                                                                   | 17/100 [06:21<31:03, 22.46s/it]"
     ]
    },
    {
     "name": "stdout",
     "output_type": "stream",
     "text": [
      "Gempy model under construction:\n",
      "Borehole zoning finished!\n",
      "Gempy model finished!\n"
     ]
    },
    {
     "name": "stderr",
     "output_type": "stream",
     "text": [
      "\r",
      " 18%|██████████████▌                                                                  | 18/100 [06:38<30:16, 22.15s/it]"
     ]
    },
    {
     "name": "stdout",
     "output_type": "stream",
     "text": [
      "Gempy model under construction:\n",
      "Borehole zoning finished!\n",
      "Gempy model finished!\n"
     ]
    },
    {
     "name": "stderr",
     "output_type": "stream",
     "text": [
      "\r",
      " 19%|███████████████▍                                                                 | 19/100 [06:55<29:31, 21.87s/it]"
     ]
    },
    {
     "name": "stdout",
     "output_type": "stream",
     "text": [
      "Gempy model under construction:\n",
      "Borehole zoning finished!\n",
      "Gempy model finished!\n"
     ]
    },
    {
     "name": "stderr",
     "output_type": "stream",
     "text": [
      "\r",
      " 20%|████████████████▏                                                                | 20/100 [07:12<28:49, 21.62s/it]"
     ]
    },
    {
     "name": "stdout",
     "output_type": "stream",
     "text": [
      "Gempy model under construction:\n",
      "Borehole zoning finished!\n",
      "Gempy model finished!\n"
     ]
    },
    {
     "name": "stderr",
     "output_type": "stream",
     "text": [
      "\r",
      " 21%|█████████████████                                                                | 21/100 [07:29<28:09, 21.39s/it]"
     ]
    },
    {
     "name": "stdout",
     "output_type": "stream",
     "text": [
      "Gempy model under construction:\n",
      "Borehole zoning finished!\n",
      "Gempy model finished!\n"
     ]
    },
    {
     "name": "stderr",
     "output_type": "stream",
     "text": [
      "\r",
      " 22%|█████████████████▊                                                               | 22/100 [07:46<27:32, 21.19s/it]"
     ]
    },
    {
     "name": "stdout",
     "output_type": "stream",
     "text": [
      "Gempy model under construction:\n",
      "Borehole zoning finished!\n",
      "Gempy model finished!\n"
     ]
    },
    {
     "name": "stderr",
     "output_type": "stream",
     "text": [
      "\r",
      " 23%|██████████████████▋                                                              | 23/100 [08:03<26:58, 21.01s/it]"
     ]
    },
    {
     "name": "stdout",
     "output_type": "stream",
     "text": [
      "Gempy model under construction:\n",
      "Borehole zoning finished!\n",
      "Gempy model finished!\n"
     ]
    },
    {
     "name": "stderr",
     "output_type": "stream",
     "text": [
      "\r",
      " 24%|███████████████████▍                                                             | 24/100 [08:20<26:23, 20.84s/it]"
     ]
    },
    {
     "name": "stdout",
     "output_type": "stream",
     "text": [
      "Gempy model under construction:\n",
      "Borehole zoning finished!\n",
      "Gempy model finished!\n"
     ]
    },
    {
     "name": "stderr",
     "output_type": "stream",
     "text": [
      "\r",
      " 25%|████████████████████▎                                                            | 25/100 [08:36<25:50, 20.68s/it]"
     ]
    },
    {
     "name": "stdout",
     "output_type": "stream",
     "text": [
      "Gempy model under construction:\n",
      "Borehole zoning finished!\n",
      "Gempy model finished!\n"
     ]
    },
    {
     "name": "stderr",
     "output_type": "stream",
     "text": [
      "\r",
      " 26%|█████████████████████                                                            | 26/100 [08:53<25:19, 20.53s/it]"
     ]
    },
    {
     "name": "stdout",
     "output_type": "stream",
     "text": [
      "Gempy model under construction:\n",
      "Borehole zoning finished!\n",
      "Gempy model finished!\n"
     ]
    },
    {
     "name": "stderr",
     "output_type": "stream",
     "text": [
      "\r",
      " 27%|█████████████████████▊                                                           | 27/100 [09:10<24:48, 20.39s/it]"
     ]
    },
    {
     "name": "stdout",
     "output_type": "stream",
     "text": [
      "Gempy model under construction:\n",
      "Borehole zoning finished!\n",
      "Gempy model finished!\n"
     ]
    },
    {
     "name": "stderr",
     "output_type": "stream",
     "text": [
      "\r",
      " 28%|██████████████████████▋                                                          | 28/100 [09:27<24:18, 20.26s/it]"
     ]
    },
    {
     "name": "stdout",
     "output_type": "stream",
     "text": [
      "Gempy model under construction:\n",
      "Borehole zoning finished!\n",
      "Gempy model finished!\n"
     ]
    },
    {
     "name": "stderr",
     "output_type": "stream",
     "text": [
      "\r",
      " 29%|███████████████████████▍                                                         | 29/100 [09:45<23:52, 20.18s/it]"
     ]
    },
    {
     "name": "stdout",
     "output_type": "stream",
     "text": [
      "Gempy model under construction:\n",
      "Borehole zoning finished!\n",
      "Gempy model finished!\n"
     ]
    },
    {
     "name": "stderr",
     "output_type": "stream",
     "text": [
      "\r",
      " 30%|████████████████████████▎                                                        | 30/100 [10:02<23:25, 20.07s/it]"
     ]
    },
    {
     "name": "stdout",
     "output_type": "stream",
     "text": [
      "Gempy model under construction:\n",
      "Borehole zoning finished!\n",
      "Gempy model finished!\n"
     ]
    },
    {
     "name": "stderr",
     "output_type": "stream",
     "text": [
      "\r",
      " 31%|█████████████████████████                                                        | 31/100 [10:18<22:57, 19.97s/it]"
     ]
    },
    {
     "name": "stdout",
     "output_type": "stream",
     "text": [
      "Gempy model under construction:\n",
      "Borehole zoning finished!\n",
      "Gempy model finished!\n"
     ]
    },
    {
     "name": "stderr",
     "output_type": "stream",
     "text": [
      "\r",
      " 32%|█████████████████████████▉                                                       | 32/100 [10:35<22:31, 19.87s/it]"
     ]
    },
    {
     "name": "stdout",
     "output_type": "stream",
     "text": [
      "Gempy model under construction:\n",
      "Borehole zoning finished!\n",
      "Gempy model finished!\n"
     ]
    },
    {
     "name": "stderr",
     "output_type": "stream",
     "text": [
      "\r",
      " 33%|██████████████████████████▋                                                      | 33/100 [10:52<22:04, 19.77s/it]"
     ]
    },
    {
     "name": "stdout",
     "output_type": "stream",
     "text": [
      "Gempy model under construction:\n",
      "Borehole zoning finished!\n",
      "Gempy model finished!\n"
     ]
    },
    {
     "name": "stderr",
     "output_type": "stream",
     "text": [
      "\r",
      " 34%|███████████████████████████▌                                                     | 34/100 [11:09<21:39, 19.69s/it]"
     ]
    },
    {
     "name": "stdout",
     "output_type": "stream",
     "text": [
      "Gempy model under construction:\n",
      "Borehole zoning finished!\n",
      "Gempy model finished!\n"
     ]
    },
    {
     "name": "stderr",
     "output_type": "stream",
     "text": [
      "\r",
      " 35%|████████████████████████████▎                                                    | 35/100 [11:26<21:14, 19.61s/it]"
     ]
    },
    {
     "name": "stdout",
     "output_type": "stream",
     "text": [
      "Gempy model under construction:\n",
      "Borehole zoning finished!\n",
      "Gempy model finished!\n"
     ]
    },
    {
     "name": "stderr",
     "output_type": "stream",
     "text": [
      "\r",
      " 36%|█████████████████████████████▏                                                   | 36/100 [11:43<20:50, 19.53s/it]"
     ]
    },
    {
     "name": "stdout",
     "output_type": "stream",
     "text": [
      "Gempy model under construction:\n",
      "Borehole zoning finished!\n",
      "Gempy model finished!\n"
     ]
    },
    {
     "name": "stderr",
     "output_type": "stream",
     "text": [
      "\r",
      " 37%|█████████████████████████████▉                                                   | 37/100 [12:00<20:26, 19.46s/it]"
     ]
    },
    {
     "name": "stdout",
     "output_type": "stream",
     "text": [
      "Gempy model under construction:\n",
      "Borehole zoning finished!\n",
      "Gempy model finished!\n"
     ]
    },
    {
     "name": "stderr",
     "output_type": "stream",
     "text": [
      "\r",
      " 38%|██████████████████████████████▊                                                  | 38/100 [12:16<20:02, 19.39s/it]"
     ]
    },
    {
     "name": "stdout",
     "output_type": "stream",
     "text": [
      "Gempy model under construction:\n",
      "Borehole zoning finished!\n",
      "Gempy model finished!\n"
     ]
    },
    {
     "name": "stderr",
     "output_type": "stream",
     "text": [
      "\r",
      " 39%|███████████████████████████████▌                                                 | 39/100 [12:33<19:38, 19.32s/it]"
     ]
    },
    {
     "name": "stdout",
     "output_type": "stream",
     "text": [
      "Gempy model under construction:\n",
      "Borehole zoning finished!\n",
      "Gempy model finished!\n"
     ]
    },
    {
     "name": "stderr",
     "output_type": "stream",
     "text": [
      "\r",
      " 40%|████████████████████████████████▍                                                | 40/100 [12:50<19:15, 19.26s/it]"
     ]
    },
    {
     "name": "stdout",
     "output_type": "stream",
     "text": [
      "Gempy model under construction:\n",
      "Borehole zoning finished!\n",
      "Gempy model finished!\n"
     ]
    },
    {
     "name": "stderr",
     "output_type": "stream",
     "text": [
      "\r",
      " 41%|█████████████████████████████████▏                                               | 41/100 [13:07<18:52, 19.20s/it]"
     ]
    },
    {
     "name": "stdout",
     "output_type": "stream",
     "text": [
      "Gempy model under construction:\n",
      "Borehole zoning finished!\n",
      "Gempy model finished!\n"
     ]
    },
    {
     "name": "stderr",
     "output_type": "stream",
     "text": [
      "\r",
      " 42%|██████████████████████████████████                                               | 42/100 [13:24<18:30, 19.14s/it]"
     ]
    },
    {
     "name": "stdout",
     "output_type": "stream",
     "text": [
      "Gempy model under construction:\n",
      "Borehole zoning finished!\n",
      "Gempy model finished!\n"
     ]
    },
    {
     "name": "stderr",
     "output_type": "stream",
     "text": [
      "\r",
      " 43%|██████████████████████████████████▊                                              | 43/100 [13:40<18:08, 19.09s/it]"
     ]
    },
    {
     "name": "stdout",
     "output_type": "stream",
     "text": [
      "Gempy model under construction:\n",
      "Borehole zoning finished!\n",
      "Gempy model finished!\n"
     ]
    },
    {
     "name": "stderr",
     "output_type": "stream",
     "text": [
      "\r",
      " 44%|███████████████████████████████████▋                                             | 44/100 [13:57<17:46, 19.04s/it]"
     ]
    },
    {
     "name": "stdout",
     "output_type": "stream",
     "text": [
      "Gempy model under construction:\n",
      "Borehole zoning finished!\n",
      "Gempy model finished!\n"
     ]
    },
    {
     "name": "stderr",
     "output_type": "stream",
     "text": [
      "\r",
      " 45%|████████████████████████████████████▍                                            | 45/100 [14:14<17:24, 18.99s/it]"
     ]
    },
    {
     "name": "stdout",
     "output_type": "stream",
     "text": [
      "Gempy model under construction:\n",
      "Borehole zoning finished!\n",
      "Gempy model finished!\n"
     ]
    },
    {
     "name": "stderr",
     "output_type": "stream",
     "text": [
      "\r",
      " 46%|█████████████████████████████████████▎                                           | 46/100 [14:31<17:02, 18.94s/it]"
     ]
    },
    {
     "name": "stdout",
     "output_type": "stream",
     "text": [
      "Gempy model under construction:\n",
      "Borehole zoning finished!\n",
      "Gempy model finished!\n"
     ]
    },
    {
     "name": "stderr",
     "output_type": "stream",
     "text": [
      "\r",
      " 47%|██████████████████████████████████████                                           | 47/100 [14:48<16:41, 18.89s/it]"
     ]
    },
    {
     "name": "stdout",
     "output_type": "stream",
     "text": [
      "Gempy model under construction:\n",
      "Borehole zoning finished!\n",
      "Gempy model finished!\n"
     ]
    },
    {
     "name": "stderr",
     "output_type": "stream",
     "text": [
      "\r",
      " 48%|██████████████████████████████████████▉                                          | 48/100 [15:04<16:20, 18.85s/it]"
     ]
    },
    {
     "name": "stdout",
     "output_type": "stream",
     "text": [
      "Gempy model under construction:\n",
      "Borehole zoning finished!\n",
      "Gempy model finished!\n"
     ]
    },
    {
     "name": "stderr",
     "output_type": "stream",
     "text": [
      "\r",
      " 49%|███████████████████████████████████████▋                                         | 49/100 [15:21<15:59, 18.81s/it]"
     ]
    },
    {
     "name": "stdout",
     "output_type": "stream",
     "text": [
      "Gempy model under construction:\n",
      "Borehole zoning finished!\n",
      "Gempy model finished!\n"
     ]
    },
    {
     "name": "stderr",
     "output_type": "stream",
     "text": [
      "\r",
      " 50%|████████████████████████████████████████▌                                        | 50/100 [15:38<15:38, 18.77s/it]"
     ]
    },
    {
     "name": "stdout",
     "output_type": "stream",
     "text": [
      "Gempy model under construction:\n",
      "Borehole zoning finished!\n",
      "Gempy model finished!\n"
     ]
    },
    {
     "name": "stderr",
     "output_type": "stream",
     "text": [
      "\r",
      " 51%|█████████████████████████████████████████▎                                       | 51/100 [15:55<15:17, 18.73s/it]"
     ]
    },
    {
     "name": "stdout",
     "output_type": "stream",
     "text": [
      "Gempy model under construction:\n",
      "Borehole zoning finished!\n",
      "Gempy model finished!\n"
     ]
    },
    {
     "name": "stderr",
     "output_type": "stream",
     "text": [
      "\r",
      " 52%|██████████████████████████████████████████                                       | 52/100 [16:12<14:57, 18.70s/it]"
     ]
    },
    {
     "name": "stdout",
     "output_type": "stream",
     "text": [
      "Gempy model under construction:\n",
      "Borehole zoning finished!\n",
      "Gempy model finished!\n"
     ]
    },
    {
     "name": "stderr",
     "output_type": "stream",
     "text": [
      "\r",
      " 53%|██████████████████████████████████████████▉                                      | 53/100 [16:28<14:37, 18.66s/it]"
     ]
    },
    {
     "name": "stdout",
     "output_type": "stream",
     "text": [
      "Gempy model under construction:\n",
      "Borehole zoning finished!\n",
      "Gempy model finished!\n"
     ]
    },
    {
     "name": "stderr",
     "output_type": "stream",
     "text": [
      "\r",
      " 54%|███████████████████████████████████████████▋                                     | 54/100 [16:45<14:16, 18.63s/it]"
     ]
    },
    {
     "name": "stdout",
     "output_type": "stream",
     "text": [
      "Gempy model under construction:\n",
      "Borehole zoning finished!\n",
      "Gempy model finished!\n"
     ]
    },
    {
     "name": "stderr",
     "output_type": "stream",
     "text": [
      "\r",
      " 55%|████████████████████████████████████████████▌                                    | 55/100 [17:02<13:56, 18.59s/it]"
     ]
    },
    {
     "name": "stdout",
     "output_type": "stream",
     "text": [
      "Gempy model under construction:\n",
      "Borehole zoning finished!\n",
      "Gempy model finished!\n"
     ]
    },
    {
     "name": "stderr",
     "output_type": "stream",
     "text": [
      "\r",
      " 56%|█████████████████████████████████████████████▎                                   | 56/100 [17:19<13:36, 18.56s/it]"
     ]
    },
    {
     "name": "stdout",
     "output_type": "stream",
     "text": [
      "Gempy model under construction:\n",
      "Borehole zoning finished!\n",
      "Gempy model finished!\n"
     ]
    },
    {
     "name": "stderr",
     "output_type": "stream",
     "text": [
      "\r",
      " 57%|██████████████████████████████████████████████▏                                  | 57/100 [17:36<13:16, 18.53s/it]"
     ]
    },
    {
     "name": "stdout",
     "output_type": "stream",
     "text": [
      "Gempy model under construction:\n",
      "Borehole zoning finished!\n",
      "Gempy model finished!\n"
     ]
    },
    {
     "name": "stderr",
     "output_type": "stream",
     "text": [
      "\r",
      " 58%|██████████████████████████████████████████████▉                                  | 58/100 [17:53<12:57, 18.50s/it]"
     ]
    },
    {
     "name": "stdout",
     "output_type": "stream",
     "text": [
      "Gempy model under construction:\n",
      "Borehole zoning finished!\n",
      "Gempy model finished!\n"
     ]
    },
    {
     "name": "stderr",
     "output_type": "stream",
     "text": [
      "\r",
      " 59%|███████████████████████████████████████████████▊                                 | 59/100 [18:09<12:37, 18.47s/it]"
     ]
    },
    {
     "name": "stdout",
     "output_type": "stream",
     "text": [
      "Gempy model under construction:\n",
      "Borehole zoning finished!\n",
      "Gempy model finished!\n"
     ]
    },
    {
     "name": "stderr",
     "output_type": "stream",
     "text": [
      "\r",
      " 60%|████████████████████████████████████████████████▌                                | 60/100 [18:26<12:17, 18.45s/it]"
     ]
    },
    {
     "name": "stdout",
     "output_type": "stream",
     "text": [
      "Gempy model under construction:\n",
      "Borehole zoning finished!\n",
      "Gempy model finished!\n"
     ]
    },
    {
     "name": "stderr",
     "output_type": "stream",
     "text": [
      "\r",
      " 61%|█████████████████████████████████████████████████▍                               | 61/100 [18:43<11:58, 18.42s/it]"
     ]
    },
    {
     "name": "stdout",
     "output_type": "stream",
     "text": [
      "Gempy model under construction:\n",
      "Borehole zoning finished!\n",
      "Gempy model finished!\n"
     ]
    },
    {
     "name": "stderr",
     "output_type": "stream",
     "text": [
      "\r",
      " 62%|██████████████████████████████████████████████████▏                              | 62/100 [19:00<11:38, 18.39s/it]"
     ]
    },
    {
     "name": "stdout",
     "output_type": "stream",
     "text": [
      "Gempy model under construction:\n",
      "Borehole zoning finished!\n",
      "Gempy model finished!\n"
     ]
    },
    {
     "name": "stderr",
     "output_type": "stream",
     "text": [
      "\r",
      " 63%|███████████████████████████████████████████████████                              | 63/100 [19:17<11:19, 18.37s/it]"
     ]
    },
    {
     "name": "stdout",
     "output_type": "stream",
     "text": [
      "Gempy model under construction:\n",
      "Borehole zoning finished!\n",
      "Gempy model finished!\n"
     ]
    },
    {
     "name": "stderr",
     "output_type": "stream",
     "text": [
      "\r",
      " 64%|███████████████████████████████████████████████████▊                             | 64/100 [19:33<11:00, 18.34s/it]"
     ]
    },
    {
     "name": "stdout",
     "output_type": "stream",
     "text": [
      "Gempy model under construction:\n",
      "Borehole zoning finished!\n",
      "Gempy model finished!\n"
     ]
    },
    {
     "name": "stderr",
     "output_type": "stream",
     "text": [
      "\r",
      " 65%|████████████████████████████████████████████████████▋                            | 65/100 [19:50<10:41, 18.32s/it]"
     ]
    },
    {
     "name": "stdout",
     "output_type": "stream",
     "text": [
      "Gempy model under construction:\n",
      "Borehole zoning finished!\n",
      "Gempy model finished!\n"
     ]
    },
    {
     "name": "stderr",
     "output_type": "stream",
     "text": [
      "\r",
      " 66%|█████████████████████████████████████████████████████▍                           | 66/100 [20:07<10:22, 18.29s/it]"
     ]
    },
    {
     "name": "stdout",
     "output_type": "stream",
     "text": [
      "Gempy model under construction:\n",
      "Borehole zoning finished!\n",
      "Gempy model finished!\n"
     ]
    },
    {
     "name": "stderr",
     "output_type": "stream",
     "text": [
      "\r",
      " 67%|██████████████████████████████████████████████████████▎                          | 67/100 [20:24<10:03, 18.27s/it]"
     ]
    },
    {
     "name": "stdout",
     "output_type": "stream",
     "text": [
      "Gempy model under construction:\n",
      "Borehole zoning finished!\n",
      "Gempy model finished!\n"
     ]
    },
    {
     "name": "stderr",
     "output_type": "stream",
     "text": [
      "\r",
      " 68%|███████████████████████████████████████████████████████                          | 68/100 [20:41<09:44, 18.25s/it]"
     ]
    },
    {
     "name": "stdout",
     "output_type": "stream",
     "text": [
      "Gempy model under construction:\n",
      "Borehole zoning finished!\n",
      "Gempy model finished!\n"
     ]
    },
    {
     "name": "stderr",
     "output_type": "stream",
     "text": [
      "\r",
      " 69%|███████████████████████████████████████████████████████▉                         | 69/100 [20:57<09:25, 18.23s/it]"
     ]
    },
    {
     "name": "stdout",
     "output_type": "stream",
     "text": [
      "Gempy model under construction:\n",
      "Borehole zoning finished!\n",
      "Gempy model finished!\n"
     ]
    },
    {
     "name": "stderr",
     "output_type": "stream",
     "text": [
      "\r",
      " 70%|████████████████████████████████████████████████████████▋                        | 70/100 [21:14<09:06, 18.21s/it]"
     ]
    },
    {
     "name": "stdout",
     "output_type": "stream",
     "text": [
      "Gempy model under construction:\n",
      "Borehole zoning finished!\n",
      "Gempy model finished!\n"
     ]
    },
    {
     "name": "stderr",
     "output_type": "stream",
     "text": [
      "\r",
      " 71%|█████████████████████████████████████████████████████████▌                       | 71/100 [21:31<08:47, 18.19s/it]"
     ]
    },
    {
     "name": "stdout",
     "output_type": "stream",
     "text": [
      "Gempy model under construction:\n",
      "Borehole zoning finished!\n",
      "Gempy model finished!\n"
     ]
    },
    {
     "name": "stderr",
     "output_type": "stream",
     "text": [
      "\r",
      " 72%|██████████████████████████████████████████████████████████▎                      | 72/100 [21:48<08:28, 18.17s/it]"
     ]
    },
    {
     "name": "stdout",
     "output_type": "stream",
     "text": [
      "Gempy model under construction:\n",
      "Borehole zoning finished!\n",
      "Gempy model finished!\n"
     ]
    },
    {
     "name": "stderr",
     "output_type": "stream",
     "text": [
      "\r",
      " 73%|███████████████████████████████████████████████████████████▏                     | 73/100 [22:05<08:10, 18.16s/it]"
     ]
    },
    {
     "name": "stdout",
     "output_type": "stream",
     "text": [
      "Gempy model under construction:\n",
      "Borehole zoning finished!\n",
      "Gempy model finished!\n"
     ]
    },
    {
     "name": "stderr",
     "output_type": "stream",
     "text": [
      "\r",
      " 74%|███████████████████████████████████████████████████████████▉                     | 74/100 [22:22<07:51, 18.14s/it]"
     ]
    },
    {
     "name": "stdout",
     "output_type": "stream",
     "text": [
      "Gempy model under construction:\n",
      "Borehole zoning finished!\n",
      "Gempy model finished!\n"
     ]
    },
    {
     "name": "stderr",
     "output_type": "stream",
     "text": [
      "\r",
      " 75%|████████████████████████████████████████████████████████████▊                    | 75/100 [22:38<07:32, 18.12s/it]"
     ]
    },
    {
     "name": "stdout",
     "output_type": "stream",
     "text": [
      "Gempy model under construction:\n",
      "Borehole zoning finished!\n",
      "Gempy model finished!\n"
     ]
    },
    {
     "name": "stderr",
     "output_type": "stream",
     "text": [
      "\r",
      " 76%|█████████████████████████████████████████████████████████████▌                   | 76/100 [22:55<07:14, 18.10s/it]"
     ]
    },
    {
     "name": "stdout",
     "output_type": "stream",
     "text": [
      "Gempy model under construction:\n",
      "Borehole zoning finished!\n",
      "Gempy model finished!\n"
     ]
    },
    {
     "name": "stderr",
     "output_type": "stream",
     "text": [
      "\r",
      " 77%|██████████████████████████████████████████████████████████████▎                  | 77/100 [23:12<06:55, 18.09s/it]"
     ]
    },
    {
     "name": "stdout",
     "output_type": "stream",
     "text": [
      "Gempy model under construction:\n",
      "Borehole zoning finished!\n",
      "Gempy model finished!\n"
     ]
    },
    {
     "name": "stderr",
     "output_type": "stream",
     "text": [
      "\r",
      " 78%|███████████████████████████████████████████████████████████████▏                 | 78/100 [23:29<06:37, 18.07s/it]"
     ]
    },
    {
     "name": "stdout",
     "output_type": "stream",
     "text": [
      "Gempy model under construction:\n",
      "Borehole zoning finished!\n",
      "Gempy model finished!\n"
     ]
    },
    {
     "name": "stderr",
     "output_type": "stream",
     "text": [
      "\r",
      " 79%|███████████████████████████████████████████████████████████████▉                 | 79/100 [23:46<06:19, 18.05s/it]"
     ]
    },
    {
     "name": "stdout",
     "output_type": "stream",
     "text": [
      "Gempy model under construction:\n",
      "Borehole zoning finished!\n",
      "Gempy model finished!\n"
     ]
    },
    {
     "name": "stderr",
     "output_type": "stream",
     "text": [
      "\r",
      " 80%|████████████████████████████████████████████████████████████████▊                | 80/100 [24:03<06:00, 18.04s/it]"
     ]
    },
    {
     "name": "stdout",
     "output_type": "stream",
     "text": [
      "Gempy model under construction:\n",
      "Borehole zoning finished!\n",
      "Gempy model finished!\n"
     ]
    },
    {
     "name": "stderr",
     "output_type": "stream",
     "text": [
      "\r",
      " 81%|█████████████████████████████████████████████████████████████████▌               | 81/100 [24:19<05:42, 18.02s/it]"
     ]
    },
    {
     "name": "stdout",
     "output_type": "stream",
     "text": [
      "Gempy model under construction:\n",
      "Borehole zoning finished!\n",
      "Gempy model finished!\n"
     ]
    },
    {
     "name": "stderr",
     "output_type": "stream",
     "text": [
      "\r",
      " 82%|██████████████████████████████████████████████████████████████████▍              | 82/100 [24:36<05:24, 18.01s/it]"
     ]
    },
    {
     "name": "stdout",
     "output_type": "stream",
     "text": [
      "Gempy model under construction:\n",
      "Borehole zoning finished!\n",
      "Gempy model finished!\n"
     ]
    },
    {
     "name": "stderr",
     "output_type": "stream",
     "text": [
      "\r",
      " 83%|███████████████████████████████████████████████████████████████████▏             | 83/100 [24:53<05:05, 17.99s/it]"
     ]
    },
    {
     "name": "stdout",
     "output_type": "stream",
     "text": [
      "Gempy model under construction:\n",
      "Borehole zoning finished!\n",
      "Gempy model finished!\n"
     ]
    },
    {
     "name": "stderr",
     "output_type": "stream",
     "text": [
      "\r",
      " 84%|████████████████████████████████████████████████████████████████████             | 84/100 [25:10<04:47, 17.98s/it]"
     ]
    },
    {
     "name": "stdout",
     "output_type": "stream",
     "text": [
      "Gempy model under construction:\n",
      "Borehole zoning finished!\n",
      "Gempy model finished!\n"
     ]
    },
    {
     "name": "stderr",
     "output_type": "stream",
     "text": [
      "\r",
      " 85%|████████████████████████████████████████████████████████████████████▊            | 85/100 [25:26<04:29, 17.96s/it]"
     ]
    },
    {
     "name": "stdout",
     "output_type": "stream",
     "text": [
      "Gempy model under construction:\n",
      "Borehole zoning finished!\n",
      "Gempy model finished!\n"
     ]
    },
    {
     "name": "stderr",
     "output_type": "stream",
     "text": [
      "\r",
      " 86%|█████████████████████████████████████████████████████████████████████▋           | 86/100 [25:43<04:11, 17.95s/it]"
     ]
    },
    {
     "name": "stdout",
     "output_type": "stream",
     "text": [
      "Gempy model under construction:\n",
      "Borehole zoning finished!\n",
      "Gempy model finished!\n"
     ]
    },
    {
     "name": "stderr",
     "output_type": "stream",
     "text": [
      "\r",
      " 87%|██████████████████████████████████████████████████████████████████████▍          | 87/100 [26:00<03:53, 17.94s/it]"
     ]
    },
    {
     "name": "stdout",
     "output_type": "stream",
     "text": [
      "Gempy model under construction:\n",
      "Borehole zoning finished!\n",
      "Gempy model finished!\n"
     ]
    },
    {
     "name": "stderr",
     "output_type": "stream",
     "text": [
      "\r",
      " 88%|███████████████████████████████████████████████████████████████████████▎         | 88/100 [26:17<03:35, 17.93s/it]"
     ]
    },
    {
     "name": "stdout",
     "output_type": "stream",
     "text": [
      "Gempy model under construction:\n",
      "Borehole zoning finished!\n",
      "Gempy model finished!\n"
     ]
    },
    {
     "name": "stderr",
     "output_type": "stream",
     "text": [
      "\r",
      " 89%|████████████████████████████████████████████████████████████████████████         | 89/100 [26:34<03:17, 17.91s/it]"
     ]
    },
    {
     "name": "stdout",
     "output_type": "stream",
     "text": [
      "Gempy model under construction:\n",
      "Borehole zoning finished!\n",
      "Gempy model finished!\n"
     ]
    },
    {
     "name": "stderr",
     "output_type": "stream",
     "text": [
      "\r",
      " 90%|████████████████████████████████████████████████████████████████████████▉        | 90/100 [26:51<02:59, 17.90s/it]"
     ]
    },
    {
     "name": "stdout",
     "output_type": "stream",
     "text": [
      "Gempy model under construction:\n",
      "Borehole zoning finished!\n",
      "Gempy model finished!\n"
     ]
    },
    {
     "name": "stderr",
     "output_type": "stream",
     "text": [
      "\r",
      " 91%|█████████████████████████████████████████████████████████████████████████▋       | 91/100 [27:07<02:40, 17.89s/it]"
     ]
    },
    {
     "name": "stdout",
     "output_type": "stream",
     "text": [
      "Gempy model under construction:\n",
      "Borehole zoning finished!\n",
      "Gempy model finished!\n"
     ]
    },
    {
     "name": "stderr",
     "output_type": "stream",
     "text": [
      "\r",
      " 92%|██████████████████████████████████████████████████████████████████████████▌      | 92/100 [27:24<02:23, 17.88s/it]"
     ]
    },
    {
     "name": "stdout",
     "output_type": "stream",
     "text": [
      "Gempy model under construction:\n",
      "Borehole zoning finished!\n",
      "Gempy model finished!\n"
     ]
    },
    {
     "name": "stderr",
     "output_type": "stream",
     "text": [
      "\r",
      " 93%|███████████████████████████████████████████████████████████████████████████▎     | 93/100 [27:41<02:05, 17.87s/it]"
     ]
    },
    {
     "name": "stdout",
     "output_type": "stream",
     "text": [
      "Gempy model under construction:\n",
      "Borehole zoning finished!\n",
      "Gempy model finished!\n"
     ]
    },
    {
     "name": "stderr",
     "output_type": "stream",
     "text": [
      "\r",
      " 94%|████████████████████████████████████████████████████████████████████████████▏    | 94/100 [27:58<01:47, 17.86s/it]"
     ]
    },
    {
     "name": "stdout",
     "output_type": "stream",
     "text": [
      "Gempy model under construction:\n",
      "Borehole zoning finished!\n",
      "Gempy model finished!\n"
     ]
    },
    {
     "name": "stderr",
     "output_type": "stream",
     "text": [
      "\r",
      " 95%|████████████████████████████████████████████████████████████████████████████▉    | 95/100 [28:15<01:29, 17.85s/it]"
     ]
    },
    {
     "name": "stdout",
     "output_type": "stream",
     "text": [
      "Gempy model under construction:\n",
      "Borehole zoning finished!\n",
      "Gempy model finished!\n"
     ]
    },
    {
     "name": "stderr",
     "output_type": "stream",
     "text": [
      "\r",
      " 96%|█████████████████████████████████████████████████████████████████████████████▊   | 96/100 [28:32<01:11, 17.84s/it]"
     ]
    },
    {
     "name": "stdout",
     "output_type": "stream",
     "text": [
      "Gempy model under construction:\n",
      "Borehole zoning finished!\n",
      "Gempy model finished!\n"
     ]
    },
    {
     "name": "stderr",
     "output_type": "stream",
     "text": [
      "\r",
      " 97%|██████████████████████████████████████████████████████████████████████████████▌  | 97/100 [28:48<00:53, 17.82s/it]"
     ]
    },
    {
     "name": "stdout",
     "output_type": "stream",
     "text": [
      "Gempy model under construction:\n",
      "Borehole zoning finished!\n",
      "Gempy model finished!\n"
     ]
    },
    {
     "name": "stderr",
     "output_type": "stream",
     "text": [
      "\r",
      " 98%|███████████████████████████████████████████████████████████████████████████████▍ | 98/100 [29:05<00:35, 17.81s/it]"
     ]
    },
    {
     "name": "stdout",
     "output_type": "stream",
     "text": [
      "Gempy model under construction:\n",
      "Borehole zoning finished!\n",
      "Gempy model finished!\n"
     ]
    },
    {
     "name": "stderr",
     "output_type": "stream",
     "text": [
      "\r",
      " 99%|████████████████████████████████████████████████████████████████████████████████▏| 99/100 [29:22<00:17, 17.80s/it]"
     ]
    },
    {
     "name": "stdout",
     "output_type": "stream",
     "text": [
      "Gempy model under construction:\n",
      "Borehole zoning finished!\n"
     ]
    },
    {
     "data": {
      "application/javascript": [
       "/* Put everything inside the global mpl namespace */\n",
       "window.mpl = {};\n",
       "\n",
       "\n",
       "mpl.get_websocket_type = function() {\n",
       "    if (typeof(WebSocket) !== 'undefined') {\n",
       "        return WebSocket;\n",
       "    } else if (typeof(MozWebSocket) !== 'undefined') {\n",
       "        return MozWebSocket;\n",
       "    } else {\n",
       "        alert('Your browser does not have WebSocket support.' +\n",
       "              'Please try Chrome, Safari or Firefox ≥ 6. ' +\n",
       "              'Firefox 4 and 5 are also supported but you ' +\n",
       "              'have to enable WebSockets in about:config.');\n",
       "    };\n",
       "}\n",
       "\n",
       "mpl.figure = function(figure_id, websocket, ondownload, parent_element) {\n",
       "    this.id = figure_id;\n",
       "\n",
       "    this.ws = websocket;\n",
       "\n",
       "    this.supports_binary = (this.ws.binaryType != undefined);\n",
       "\n",
       "    if (!this.supports_binary) {\n",
       "        var warnings = document.getElementById(\"mpl-warnings\");\n",
       "        if (warnings) {\n",
       "            warnings.style.display = 'block';\n",
       "            warnings.textContent = (\n",
       "                \"This browser does not support binary websocket messages. \" +\n",
       "                    \"Performance may be slow.\");\n",
       "        }\n",
       "    }\n",
       "\n",
       "    this.imageObj = new Image();\n",
       "\n",
       "    this.context = undefined;\n",
       "    this.message = undefined;\n",
       "    this.canvas = undefined;\n",
       "    this.rubberband_canvas = undefined;\n",
       "    this.rubberband_context = undefined;\n",
       "    this.format_dropdown = undefined;\n",
       "\n",
       "    this.image_mode = 'full';\n",
       "\n",
       "    this.root = $('<div/>');\n",
       "    this._root_extra_style(this.root)\n",
       "    this.root.attr('style', 'display: inline-block');\n",
       "\n",
       "    $(parent_element).append(this.root);\n",
       "\n",
       "    this._init_header(this);\n",
       "    this._init_canvas(this);\n",
       "    this._init_toolbar(this);\n",
       "\n",
       "    var fig = this;\n",
       "\n",
       "    this.waiting = false;\n",
       "\n",
       "    this.ws.onopen =  function () {\n",
       "            fig.send_message(\"supports_binary\", {value: fig.supports_binary});\n",
       "            fig.send_message(\"send_image_mode\", {});\n",
       "            if (mpl.ratio != 1) {\n",
       "                fig.send_message(\"set_dpi_ratio\", {'dpi_ratio': mpl.ratio});\n",
       "            }\n",
       "            fig.send_message(\"refresh\", {});\n",
       "        }\n",
       "\n",
       "    this.imageObj.onload = function() {\n",
       "            if (fig.image_mode == 'full') {\n",
       "                // Full images could contain transparency (where diff images\n",
       "                // almost always do), so we need to clear the canvas so that\n",
       "                // there is no ghosting.\n",
       "                fig.context.clearRect(0, 0, fig.canvas.width, fig.canvas.height);\n",
       "            }\n",
       "            fig.context.drawImage(fig.imageObj, 0, 0);\n",
       "        };\n",
       "\n",
       "    this.imageObj.onunload = function() {\n",
       "        fig.ws.close();\n",
       "    }\n",
       "\n",
       "    this.ws.onmessage = this._make_on_message_function(this);\n",
       "\n",
       "    this.ondownload = ondownload;\n",
       "}\n",
       "\n",
       "mpl.figure.prototype._init_header = function() {\n",
       "    var titlebar = $(\n",
       "        '<div class=\"ui-dialog-titlebar ui-widget-header ui-corner-all ' +\n",
       "        'ui-helper-clearfix\"/>');\n",
       "    var titletext = $(\n",
       "        '<div class=\"ui-dialog-title\" style=\"width: 100%; ' +\n",
       "        'text-align: center; padding: 3px;\"/>');\n",
       "    titlebar.append(titletext)\n",
       "    this.root.append(titlebar);\n",
       "    this.header = titletext[0];\n",
       "}\n",
       "\n",
       "\n",
       "\n",
       "mpl.figure.prototype._canvas_extra_style = function(canvas_div) {\n",
       "\n",
       "}\n",
       "\n",
       "\n",
       "mpl.figure.prototype._root_extra_style = function(canvas_div) {\n",
       "\n",
       "}\n",
       "\n",
       "mpl.figure.prototype._init_canvas = function() {\n",
       "    var fig = this;\n",
       "\n",
       "    var canvas_div = $('<div/>');\n",
       "\n",
       "    canvas_div.attr('style', 'position: relative; clear: both; outline: 0');\n",
       "\n",
       "    function canvas_keyboard_event(event) {\n",
       "        return fig.key_event(event, event['data']);\n",
       "    }\n",
       "\n",
       "    canvas_div.keydown('key_press', canvas_keyboard_event);\n",
       "    canvas_div.keyup('key_release', canvas_keyboard_event);\n",
       "    this.canvas_div = canvas_div\n",
       "    this._canvas_extra_style(canvas_div)\n",
       "    this.root.append(canvas_div);\n",
       "\n",
       "    var canvas = $('<canvas/>');\n",
       "    canvas.addClass('mpl-canvas');\n",
       "    canvas.attr('style', \"left: 0; top: 0; z-index: 0; outline: 0\")\n",
       "\n",
       "    this.canvas = canvas[0];\n",
       "    this.context = canvas[0].getContext(\"2d\");\n",
       "\n",
       "    var backingStore = this.context.backingStorePixelRatio ||\n",
       "\tthis.context.webkitBackingStorePixelRatio ||\n",
       "\tthis.context.mozBackingStorePixelRatio ||\n",
       "\tthis.context.msBackingStorePixelRatio ||\n",
       "\tthis.context.oBackingStorePixelRatio ||\n",
       "\tthis.context.backingStorePixelRatio || 1;\n",
       "\n",
       "    mpl.ratio = (window.devicePixelRatio || 1) / backingStore;\n",
       "\n",
       "    var rubberband = $('<canvas/>');\n",
       "    rubberband.attr('style', \"position: absolute; left: 0; top: 0; z-index: 1;\")\n",
       "\n",
       "    var pass_mouse_events = true;\n",
       "\n",
       "    canvas_div.resizable({\n",
       "        start: function(event, ui) {\n",
       "            pass_mouse_events = false;\n",
       "        },\n",
       "        resize: function(event, ui) {\n",
       "            fig.request_resize(ui.size.width, ui.size.height);\n",
       "        },\n",
       "        stop: function(event, ui) {\n",
       "            pass_mouse_events = true;\n",
       "            fig.request_resize(ui.size.width, ui.size.height);\n",
       "        },\n",
       "    });\n",
       "\n",
       "    function mouse_event_fn(event) {\n",
       "        if (pass_mouse_events)\n",
       "            return fig.mouse_event(event, event['data']);\n",
       "    }\n",
       "\n",
       "    rubberband.mousedown('button_press', mouse_event_fn);\n",
       "    rubberband.mouseup('button_release', mouse_event_fn);\n",
       "    // Throttle sequential mouse events to 1 every 20ms.\n",
       "    rubberband.mousemove('motion_notify', mouse_event_fn);\n",
       "\n",
       "    rubberband.mouseenter('figure_enter', mouse_event_fn);\n",
       "    rubberband.mouseleave('figure_leave', mouse_event_fn);\n",
       "\n",
       "    canvas_div.on(\"wheel\", function (event) {\n",
       "        event = event.originalEvent;\n",
       "        event['data'] = 'scroll'\n",
       "        if (event.deltaY < 0) {\n",
       "            event.step = 1;\n",
       "        } else {\n",
       "            event.step = -1;\n",
       "        }\n",
       "        mouse_event_fn(event);\n",
       "    });\n",
       "\n",
       "    canvas_div.append(canvas);\n",
       "    canvas_div.append(rubberband);\n",
       "\n",
       "    this.rubberband = rubberband;\n",
       "    this.rubberband_canvas = rubberband[0];\n",
       "    this.rubberband_context = rubberband[0].getContext(\"2d\");\n",
       "    this.rubberband_context.strokeStyle = \"#000000\";\n",
       "\n",
       "    this._resize_canvas = function(width, height) {\n",
       "        // Keep the size of the canvas, canvas container, and rubber band\n",
       "        // canvas in synch.\n",
       "        canvas_div.css('width', width)\n",
       "        canvas_div.css('height', height)\n",
       "\n",
       "        canvas.attr('width', width * mpl.ratio);\n",
       "        canvas.attr('height', height * mpl.ratio);\n",
       "        canvas.attr('style', 'width: ' + width + 'px; height: ' + height + 'px;');\n",
       "\n",
       "        rubberband.attr('width', width);\n",
       "        rubberband.attr('height', height);\n",
       "    }\n",
       "\n",
       "    // Set the figure to an initial 600x600px, this will subsequently be updated\n",
       "    // upon first draw.\n",
       "    this._resize_canvas(600, 600);\n",
       "\n",
       "    // Disable right mouse context menu.\n",
       "    $(this.rubberband_canvas).bind(\"contextmenu\",function(e){\n",
       "        return false;\n",
       "    });\n",
       "\n",
       "    function set_focus () {\n",
       "        canvas.focus();\n",
       "        canvas_div.focus();\n",
       "    }\n",
       "\n",
       "    window.setTimeout(set_focus, 100);\n",
       "}\n",
       "\n",
       "mpl.figure.prototype._init_toolbar = function() {\n",
       "    var fig = this;\n",
       "\n",
       "    var nav_element = $('<div/>')\n",
       "    nav_element.attr('style', 'width: 100%');\n",
       "    this.root.append(nav_element);\n",
       "\n",
       "    // Define a callback function for later on.\n",
       "    function toolbar_event(event) {\n",
       "        return fig.toolbar_button_onclick(event['data']);\n",
       "    }\n",
       "    function toolbar_mouse_event(event) {\n",
       "        return fig.toolbar_button_onmouseover(event['data']);\n",
       "    }\n",
       "\n",
       "    for(var toolbar_ind in mpl.toolbar_items) {\n",
       "        var name = mpl.toolbar_items[toolbar_ind][0];\n",
       "        var tooltip = mpl.toolbar_items[toolbar_ind][1];\n",
       "        var image = mpl.toolbar_items[toolbar_ind][2];\n",
       "        var method_name = mpl.toolbar_items[toolbar_ind][3];\n",
       "\n",
       "        if (!name) {\n",
       "            // put a spacer in here.\n",
       "            continue;\n",
       "        }\n",
       "        var button = $('<button/>');\n",
       "        button.addClass('ui-button ui-widget ui-state-default ui-corner-all ' +\n",
       "                        'ui-button-icon-only');\n",
       "        button.attr('role', 'button');\n",
       "        button.attr('aria-disabled', 'false');\n",
       "        button.click(method_name, toolbar_event);\n",
       "        button.mouseover(tooltip, toolbar_mouse_event);\n",
       "\n",
       "        var icon_img = $('<span/>');\n",
       "        icon_img.addClass('ui-button-icon-primary ui-icon');\n",
       "        icon_img.addClass(image);\n",
       "        icon_img.addClass('ui-corner-all');\n",
       "\n",
       "        var tooltip_span = $('<span/>');\n",
       "        tooltip_span.addClass('ui-button-text');\n",
       "        tooltip_span.html(tooltip);\n",
       "\n",
       "        button.append(icon_img);\n",
       "        button.append(tooltip_span);\n",
       "\n",
       "        nav_element.append(button);\n",
       "    }\n",
       "\n",
       "    var fmt_picker_span = $('<span/>');\n",
       "\n",
       "    var fmt_picker = $('<select/>');\n",
       "    fmt_picker.addClass('mpl-toolbar-option ui-widget ui-widget-content');\n",
       "    fmt_picker_span.append(fmt_picker);\n",
       "    nav_element.append(fmt_picker_span);\n",
       "    this.format_dropdown = fmt_picker[0];\n",
       "\n",
       "    for (var ind in mpl.extensions) {\n",
       "        var fmt = mpl.extensions[ind];\n",
       "        var option = $(\n",
       "            '<option/>', {selected: fmt === mpl.default_extension}).html(fmt);\n",
       "        fmt_picker.append(option)\n",
       "    }\n",
       "\n",
       "    // Add hover states to the ui-buttons\n",
       "    $( \".ui-button\" ).hover(\n",
       "        function() { $(this).addClass(\"ui-state-hover\");},\n",
       "        function() { $(this).removeClass(\"ui-state-hover\");}\n",
       "    );\n",
       "\n",
       "    var status_bar = $('<span class=\"mpl-message\"/>');\n",
       "    nav_element.append(status_bar);\n",
       "    this.message = status_bar[0];\n",
       "}\n",
       "\n",
       "mpl.figure.prototype.request_resize = function(x_pixels, y_pixels) {\n",
       "    // Request matplotlib to resize the figure. Matplotlib will then trigger a resize in the client,\n",
       "    // which will in turn request a refresh of the image.\n",
       "    this.send_message('resize', {'width': x_pixels, 'height': y_pixels});\n",
       "}\n",
       "\n",
       "mpl.figure.prototype.send_message = function(type, properties) {\n",
       "    properties['type'] = type;\n",
       "    properties['figure_id'] = this.id;\n",
       "    this.ws.send(JSON.stringify(properties));\n",
       "}\n",
       "\n",
       "mpl.figure.prototype.send_draw_message = function() {\n",
       "    if (!this.waiting) {\n",
       "        this.waiting = true;\n",
       "        this.ws.send(JSON.stringify({type: \"draw\", figure_id: this.id}));\n",
       "    }\n",
       "}\n",
       "\n",
       "\n",
       "mpl.figure.prototype.handle_save = function(fig, msg) {\n",
       "    var format_dropdown = fig.format_dropdown;\n",
       "    var format = format_dropdown.options[format_dropdown.selectedIndex].value;\n",
       "    fig.ondownload(fig, format);\n",
       "}\n",
       "\n",
       "\n",
       "mpl.figure.prototype.handle_resize = function(fig, msg) {\n",
       "    var size = msg['size'];\n",
       "    if (size[0] != fig.canvas.width || size[1] != fig.canvas.height) {\n",
       "        fig._resize_canvas(size[0], size[1]);\n",
       "        fig.send_message(\"refresh\", {});\n",
       "    };\n",
       "}\n",
       "\n",
       "mpl.figure.prototype.handle_rubberband = function(fig, msg) {\n",
       "    var x0 = msg['x0'] / mpl.ratio;\n",
       "    var y0 = (fig.canvas.height - msg['y0']) / mpl.ratio;\n",
       "    var x1 = msg['x1'] / mpl.ratio;\n",
       "    var y1 = (fig.canvas.height - msg['y1']) / mpl.ratio;\n",
       "    x0 = Math.floor(x0) + 0.5;\n",
       "    y0 = Math.floor(y0) + 0.5;\n",
       "    x1 = Math.floor(x1) + 0.5;\n",
       "    y1 = Math.floor(y1) + 0.5;\n",
       "    var min_x = Math.min(x0, x1);\n",
       "    var min_y = Math.min(y0, y1);\n",
       "    var width = Math.abs(x1 - x0);\n",
       "    var height = Math.abs(y1 - y0);\n",
       "\n",
       "    fig.rubberband_context.clearRect(\n",
       "        0, 0, fig.canvas.width, fig.canvas.height);\n",
       "\n",
       "    fig.rubberband_context.strokeRect(min_x, min_y, width, height);\n",
       "}\n",
       "\n",
       "mpl.figure.prototype.handle_figure_label = function(fig, msg) {\n",
       "    // Updates the figure title.\n",
       "    fig.header.textContent = msg['label'];\n",
       "}\n",
       "\n",
       "mpl.figure.prototype.handle_cursor = function(fig, msg) {\n",
       "    var cursor = msg['cursor'];\n",
       "    switch(cursor)\n",
       "    {\n",
       "    case 0:\n",
       "        cursor = 'pointer';\n",
       "        break;\n",
       "    case 1:\n",
       "        cursor = 'default';\n",
       "        break;\n",
       "    case 2:\n",
       "        cursor = 'crosshair';\n",
       "        break;\n",
       "    case 3:\n",
       "        cursor = 'move';\n",
       "        break;\n",
       "    }\n",
       "    fig.rubberband_canvas.style.cursor = cursor;\n",
       "}\n",
       "\n",
       "mpl.figure.prototype.handle_message = function(fig, msg) {\n",
       "    fig.message.textContent = msg['message'];\n",
       "}\n",
       "\n",
       "mpl.figure.prototype.handle_draw = function(fig, msg) {\n",
       "    // Request the server to send over a new figure.\n",
       "    fig.send_draw_message();\n",
       "}\n",
       "\n",
       "mpl.figure.prototype.handle_image_mode = function(fig, msg) {\n",
       "    fig.image_mode = msg['mode'];\n",
       "}\n",
       "\n",
       "mpl.figure.prototype.updated_canvas_event = function() {\n",
       "    // Called whenever the canvas gets updated.\n",
       "    this.send_message(\"ack\", {});\n",
       "}\n",
       "\n",
       "// A function to construct a web socket function for onmessage handling.\n",
       "// Called in the figure constructor.\n",
       "mpl.figure.prototype._make_on_message_function = function(fig) {\n",
       "    return function socket_on_message(evt) {\n",
       "        if (evt.data instanceof Blob) {\n",
       "            /* FIXME: We get \"Resource interpreted as Image but\n",
       "             * transferred with MIME type text/plain:\" errors on\n",
       "             * Chrome.  But how to set the MIME type?  It doesn't seem\n",
       "             * to be part of the websocket stream */\n",
       "            evt.data.type = \"image/png\";\n",
       "\n",
       "            /* Free the memory for the previous frames */\n",
       "            if (fig.imageObj.src) {\n",
       "                (window.URL || window.webkitURL).revokeObjectURL(\n",
       "                    fig.imageObj.src);\n",
       "            }\n",
       "\n",
       "            fig.imageObj.src = (window.URL || window.webkitURL).createObjectURL(\n",
       "                evt.data);\n",
       "            fig.updated_canvas_event();\n",
       "            fig.waiting = false;\n",
       "            return;\n",
       "        }\n",
       "        else if (typeof evt.data === 'string' && evt.data.slice(0, 21) == \"data:image/png;base64\") {\n",
       "            fig.imageObj.src = evt.data;\n",
       "            fig.updated_canvas_event();\n",
       "            fig.waiting = false;\n",
       "            return;\n",
       "        }\n",
       "\n",
       "        var msg = JSON.parse(evt.data);\n",
       "        var msg_type = msg['type'];\n",
       "\n",
       "        // Call the  \"handle_{type}\" callback, which takes\n",
       "        // the figure and JSON message as its only arguments.\n",
       "        try {\n",
       "            var callback = fig[\"handle_\" + msg_type];\n",
       "        } catch (e) {\n",
       "            console.log(\"No handler for the '\" + msg_type + \"' message type: \", msg);\n",
       "            return;\n",
       "        }\n",
       "\n",
       "        if (callback) {\n",
       "            try {\n",
       "                // console.log(\"Handling '\" + msg_type + \"' message: \", msg);\n",
       "                callback(fig, msg);\n",
       "            } catch (e) {\n",
       "                console.log(\"Exception inside the 'handler_\" + msg_type + \"' callback:\", e, e.stack, msg);\n",
       "            }\n",
       "        }\n",
       "    };\n",
       "}\n",
       "\n",
       "// from http://stackoverflow.com/questions/1114465/getting-mouse-location-in-canvas\n",
       "mpl.findpos = function(e) {\n",
       "    //this section is from http://www.quirksmode.org/js/events_properties.html\n",
       "    var targ;\n",
       "    if (!e)\n",
       "        e = window.event;\n",
       "    if (e.target)\n",
       "        targ = e.target;\n",
       "    else if (e.srcElement)\n",
       "        targ = e.srcElement;\n",
       "    if (targ.nodeType == 3) // defeat Safari bug\n",
       "        targ = targ.parentNode;\n",
       "\n",
       "    // jQuery normalizes the pageX and pageY\n",
       "    // pageX,Y are the mouse positions relative to the document\n",
       "    // offset() returns the position of the element relative to the document\n",
       "    var x = e.pageX - $(targ).offset().left;\n",
       "    var y = e.pageY - $(targ).offset().top;\n",
       "\n",
       "    return {\"x\": x, \"y\": y};\n",
       "};\n",
       "\n",
       "/*\n",
       " * return a copy of an object with only non-object keys\n",
       " * we need this to avoid circular references\n",
       " * http://stackoverflow.com/a/24161582/3208463\n",
       " */\n",
       "function simpleKeys (original) {\n",
       "  return Object.keys(original).reduce(function (obj, key) {\n",
       "    if (typeof original[key] !== 'object')\n",
       "        obj[key] = original[key]\n",
       "    return obj;\n",
       "  }, {});\n",
       "}\n",
       "\n",
       "mpl.figure.prototype.mouse_event = function(event, name) {\n",
       "    var canvas_pos = mpl.findpos(event)\n",
       "\n",
       "    if (name === 'button_press')\n",
       "    {\n",
       "        this.canvas.focus();\n",
       "        this.canvas_div.focus();\n",
       "    }\n",
       "\n",
       "    var x = canvas_pos.x * mpl.ratio;\n",
       "    var y = canvas_pos.y * mpl.ratio;\n",
       "\n",
       "    this.send_message(name, {x: x, y: y, button: event.button,\n",
       "                             step: event.step,\n",
       "                             guiEvent: simpleKeys(event)});\n",
       "\n",
       "    /* This prevents the web browser from automatically changing to\n",
       "     * the text insertion cursor when the button is pressed.  We want\n",
       "     * to control all of the cursor setting manually through the\n",
       "     * 'cursor' event from matplotlib */\n",
       "    event.preventDefault();\n",
       "    return false;\n",
       "}\n",
       "\n",
       "mpl.figure.prototype._key_event_extra = function(event, name) {\n",
       "    // Handle any extra behaviour associated with a key event\n",
       "}\n",
       "\n",
       "mpl.figure.prototype.key_event = function(event, name) {\n",
       "\n",
       "    // Prevent repeat events\n",
       "    if (name == 'key_press')\n",
       "    {\n",
       "        if (event.which === this._key)\n",
       "            return;\n",
       "        else\n",
       "            this._key = event.which;\n",
       "    }\n",
       "    if (name == 'key_release')\n",
       "        this._key = null;\n",
       "\n",
       "    var value = '';\n",
       "    if (event.ctrlKey && event.which != 17)\n",
       "        value += \"ctrl+\";\n",
       "    if (event.altKey && event.which != 18)\n",
       "        value += \"alt+\";\n",
       "    if (event.shiftKey && event.which != 16)\n",
       "        value += \"shift+\";\n",
       "\n",
       "    value += 'k';\n",
       "    value += event.which.toString();\n",
       "\n",
       "    this._key_event_extra(event, name);\n",
       "\n",
       "    this.send_message(name, {key: value,\n",
       "                             guiEvent: simpleKeys(event)});\n",
       "    return false;\n",
       "}\n",
       "\n",
       "mpl.figure.prototype.toolbar_button_onclick = function(name) {\n",
       "    if (name == 'download') {\n",
       "        this.handle_save(this, null);\n",
       "    } else {\n",
       "        this.send_message(\"toolbar_button\", {name: name});\n",
       "    }\n",
       "};\n",
       "\n",
       "mpl.figure.prototype.toolbar_button_onmouseover = function(tooltip) {\n",
       "    this.message.textContent = tooltip;\n",
       "};\n",
       "mpl.toolbar_items = [[\"Home\", \"Reset original view\", \"fa fa-home icon-home\", \"home\"], [\"Back\", \"Back to  previous view\", \"fa fa-arrow-left icon-arrow-left\", \"back\"], [\"Forward\", \"Forward to next view\", \"fa fa-arrow-right icon-arrow-right\", \"forward\"], [\"\", \"\", \"\", \"\"], [\"Pan\", \"Pan axes with left mouse, zoom with right\", \"fa fa-arrows icon-move\", \"pan\"], [\"Zoom\", \"Zoom to rectangle\", \"fa fa-square-o icon-check-empty\", \"zoom\"], [\"\", \"\", \"\", \"\"], [\"Download\", \"Download plot\", \"fa fa-floppy-o icon-save\", \"download\"]];\n",
       "\n",
       "mpl.extensions = [\"eps\", \"jpeg\", \"pdf\", \"png\", \"ps\", \"raw\", \"svg\", \"tif\"];\n",
       "\n",
       "mpl.default_extension = \"png\";var comm_websocket_adapter = function(comm) {\n",
       "    // Create a \"websocket\"-like object which calls the given IPython comm\n",
       "    // object with the appropriate methods. Currently this is a non binary\n",
       "    // socket, so there is still some room for performance tuning.\n",
       "    var ws = {};\n",
       "\n",
       "    ws.close = function() {\n",
       "        comm.close()\n",
       "    };\n",
       "    ws.send = function(m) {\n",
       "        //console.log('sending', m);\n",
       "        comm.send(m);\n",
       "    };\n",
       "    // Register the callback with on_msg.\n",
       "    comm.on_msg(function(msg) {\n",
       "        //console.log('receiving', msg['content']['data'], msg);\n",
       "        // Pass the mpl event to the overriden (by mpl) onmessage function.\n",
       "        ws.onmessage(msg['content']['data'])\n",
       "    });\n",
       "    return ws;\n",
       "}\n",
       "\n",
       "mpl.mpl_figure_comm = function(comm, msg) {\n",
       "    // This is the function which gets called when the mpl process\n",
       "    // starts-up an IPython Comm through the \"matplotlib\" channel.\n",
       "\n",
       "    var id = msg.content.data.id;\n",
       "    // Get hold of the div created by the display call when the Comm\n",
       "    // socket was opened in Python.\n",
       "    var element = $(\"#\" + id);\n",
       "    var ws_proxy = comm_websocket_adapter(comm)\n",
       "\n",
       "    function ondownload(figure, format) {\n",
       "        window.open(figure.imageObj.src);\n",
       "    }\n",
       "\n",
       "    var fig = new mpl.figure(id, ws_proxy,\n",
       "                           ondownload,\n",
       "                           element.get(0));\n",
       "\n",
       "    // Call onopen now - mpl needs it, as it is assuming we've passed it a real\n",
       "    // web socket which is closed, not our websocket->open comm proxy.\n",
       "    ws_proxy.onopen();\n",
       "\n",
       "    fig.parent_element = element.get(0);\n",
       "    fig.cell_info = mpl.find_output_cell(\"<div id='\" + id + \"'></div>\");\n",
       "    if (!fig.cell_info) {\n",
       "        console.error(\"Failed to find cell for figure\", id, fig);\n",
       "        return;\n",
       "    }\n",
       "\n",
       "    var output_index = fig.cell_info[2]\n",
       "    var cell = fig.cell_info[0];\n",
       "\n",
       "};\n",
       "\n",
       "mpl.figure.prototype.handle_close = function(fig, msg) {\n",
       "    var width = fig.canvas.width/mpl.ratio\n",
       "    fig.root.unbind('remove')\n",
       "\n",
       "    // Update the output cell to use the data from the current canvas.\n",
       "    fig.push_to_output();\n",
       "    var dataURL = fig.canvas.toDataURL();\n",
       "    // Re-enable the keyboard manager in IPython - without this line, in FF,\n",
       "    // the notebook keyboard shortcuts fail.\n",
       "    IPython.keyboard_manager.enable()\n",
       "    $(fig.parent_element).html('<img src=\"' + dataURL + '\" width=\"' + width + '\">');\n",
       "    fig.close_ws(fig, msg);\n",
       "}\n",
       "\n",
       "mpl.figure.prototype.close_ws = function(fig, msg){\n",
       "    fig.send_message('closing', msg);\n",
       "    // fig.ws.close()\n",
       "}\n",
       "\n",
       "mpl.figure.prototype.push_to_output = function(remove_interactive) {\n",
       "    // Turn the data on the canvas into data in the output cell.\n",
       "    var width = this.canvas.width/mpl.ratio\n",
       "    var dataURL = this.canvas.toDataURL();\n",
       "    this.cell_info[1]['text/html'] = '<img src=\"' + dataURL + '\" width=\"' + width + '\">';\n",
       "}\n",
       "\n",
       "mpl.figure.prototype.updated_canvas_event = function() {\n",
       "    // Tell IPython that the notebook contents must change.\n",
       "    IPython.notebook.set_dirty(true);\n",
       "    this.send_message(\"ack\", {});\n",
       "    var fig = this;\n",
       "    // Wait a second, then push the new image to the DOM so\n",
       "    // that it is saved nicely (might be nice to debounce this).\n",
       "    setTimeout(function () { fig.push_to_output() }, 1000);\n",
       "}\n",
       "\n",
       "mpl.figure.prototype._init_toolbar = function() {\n",
       "    var fig = this;\n",
       "\n",
       "    var nav_element = $('<div/>')\n",
       "    nav_element.attr('style', 'width: 100%');\n",
       "    this.root.append(nav_element);\n",
       "\n",
       "    // Define a callback function for later on.\n",
       "    function toolbar_event(event) {\n",
       "        return fig.toolbar_button_onclick(event['data']);\n",
       "    }\n",
       "    function toolbar_mouse_event(event) {\n",
       "        return fig.toolbar_button_onmouseover(event['data']);\n",
       "    }\n",
       "\n",
       "    for(var toolbar_ind in mpl.toolbar_items){\n",
       "        var name = mpl.toolbar_items[toolbar_ind][0];\n",
       "        var tooltip = mpl.toolbar_items[toolbar_ind][1];\n",
       "        var image = mpl.toolbar_items[toolbar_ind][2];\n",
       "        var method_name = mpl.toolbar_items[toolbar_ind][3];\n",
       "\n",
       "        if (!name) { continue; };\n",
       "\n",
       "        var button = $('<button class=\"btn btn-default\" href=\"#\" title=\"' + name + '\"><i class=\"fa ' + image + ' fa-lg\"></i></button>');\n",
       "        button.click(method_name, toolbar_event);\n",
       "        button.mouseover(tooltip, toolbar_mouse_event);\n",
       "        nav_element.append(button);\n",
       "    }\n",
       "\n",
       "    // Add the status bar.\n",
       "    var status_bar = $('<span class=\"mpl-message\" style=\"text-align:right; float: right;\"/>');\n",
       "    nav_element.append(status_bar);\n",
       "    this.message = status_bar[0];\n",
       "\n",
       "    // Add the close button to the window.\n",
       "    var buttongrp = $('<div class=\"btn-group inline pull-right\"></div>');\n",
       "    var button = $('<button class=\"btn btn-mini btn-primary\" href=\"#\" title=\"Stop Interaction\"><i class=\"fa fa-power-off icon-remove icon-large\"></i></button>');\n",
       "    button.click(function (evt) { fig.handle_close(fig, {}); } );\n",
       "    button.mouseover('Stop Interaction', toolbar_mouse_event);\n",
       "    buttongrp.append(button);\n",
       "    var titlebar = this.root.find($('.ui-dialog-titlebar'));\n",
       "    titlebar.prepend(buttongrp);\n",
       "}\n",
       "\n",
       "mpl.figure.prototype._root_extra_style = function(el){\n",
       "    var fig = this\n",
       "    el.on(\"remove\", function(){\n",
       "\tfig.close_ws(fig, {});\n",
       "    });\n",
       "}\n",
       "\n",
       "mpl.figure.prototype._canvas_extra_style = function(el){\n",
       "    // this is important to make the div 'focusable\n",
       "    el.attr('tabindex', 0)\n",
       "    // reach out to IPython and tell the keyboard manager to turn it's self\n",
       "    // off when our div gets focus\n",
       "\n",
       "    // location in version 3\n",
       "    if (IPython.notebook.keyboard_manager) {\n",
       "        IPython.notebook.keyboard_manager.register_events(el);\n",
       "    }\n",
       "    else {\n",
       "        // location in version 2\n",
       "        IPython.keyboard_manager.register_events(el);\n",
       "    }\n",
       "\n",
       "}\n",
       "\n",
       "mpl.figure.prototype._key_event_extra = function(event, name) {\n",
       "    var manager = IPython.notebook.keyboard_manager;\n",
       "    if (!manager)\n",
       "        manager = IPython.keyboard_manager;\n",
       "\n",
       "    // Check for shift+enter\n",
       "    if (event.shiftKey && event.which == 13) {\n",
       "        this.canvas_div.blur();\n",
       "        event.shiftKey = false;\n",
       "        // Send a \"J\" for go to next cell\n",
       "        event.which = 74;\n",
       "        event.keyCode = 74;\n",
       "        manager.command_mode();\n",
       "        manager.handle_keydown(event);\n",
       "    }\n",
       "}\n",
       "\n",
       "mpl.figure.prototype.handle_save = function(fig, msg) {\n",
       "    fig.ondownload(fig, null);\n",
       "}\n",
       "\n",
       "\n",
       "mpl.find_output_cell = function(html_output) {\n",
       "    // Return the cell and output element which can be found *uniquely* in the notebook.\n",
       "    // Note - this is a bit hacky, but it is done because the \"notebook_saving.Notebook\"\n",
       "    // IPython event is triggered only after the cells have been serialised, which for\n",
       "    // our purposes (turning an active figure into a static one), is too late.\n",
       "    var cells = IPython.notebook.get_cells();\n",
       "    var ncells = cells.length;\n",
       "    for (var i=0; i<ncells; i++) {\n",
       "        var cell = cells[i];\n",
       "        if (cell.cell_type === 'code'){\n",
       "            for (var j=0; j<cell.output_area.outputs.length; j++) {\n",
       "                var data = cell.output_area.outputs[j];\n",
       "                if (data.data) {\n",
       "                    // IPython >= 3 moved mimebundle to data attribute of output\n",
       "                    data = data.data;\n",
       "                }\n",
       "                if (data['text/html'] == html_output) {\n",
       "                    return [cell, data, j];\n",
       "                }\n",
       "            }\n",
       "        }\n",
       "    }\n",
       "}\n",
       "\n",
       "// Register the function which deals with the matplotlib target/channel.\n",
       "// The kernel may be null if the page has been refreshed.\n",
       "if (IPython.notebook.kernel != null) {\n",
       "    IPython.notebook.kernel.comm_manager.register_target('matplotlib', mpl.mpl_figure_comm);\n",
       "}\n"
      ],
      "text/plain": [
       "<IPython.core.display.Javascript object>"
      ]
     },
     "metadata": {},
     "output_type": "display_data"
    },
    {
     "data": {
      "text/html": [
       "<img src=\"data:image/png;base64,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\" width=\"526.6666666666666\">"
      ],
      "text/plain": [
       "<IPython.core.display.HTML object>"
      ]
     },
     "metadata": {},
     "output_type": "display_data"
    },
    {
     "name": "stdout",
     "output_type": "stream",
     "text": [
      "Gempy model finished!\n"
     ]
    },
    {
     "name": "stderr",
     "output_type": "stream",
     "text": [
      "100%|████████████████████████████████████████████████████████████████████████████████| 100/100 [29:39<00:00, 17.80s/it]\n"
     ]
    }
   ],
   "source": [
    "%matplotlib notebook\n",
    "\n",
    "clf.fit(100, # number of iterations\n",
    "        beta_jump_length=0.02, \n",
    "        mu_jump_length=0.0005, \n",
    "        cov_volume_jump_length=0.00005, \n",
    "        theta_jump_length=0.0000005, verbose=False, plot= \"2dy\", fix_beta=False)"
   ]
  },
  {
   "cell_type": "code",
   "execution_count": null,
   "metadata": {},
   "outputs": [],
   "source": [
    "true_layers"
   ]
  },
  {
   "cell_type": "code",
   "execution_count": 10,
   "metadata": {
    "scrolled": true
   },
   "outputs": [
    {
     "name": "stdout",
     "output_type": "stream",
     "text": [
      "Gibbs energy GemPy   |    Gibbs energy bayseg      |     Likelihood\n",
      "______________________________________________________________________\n",
      "[2.2 2.2 0.  2.2]    |    [0.97 0.97 0.   0.97]    |    [ 5.58  4.23 -0.26  6.93]\n",
      "[2.2 2.2 0.  2.2]    |    [1.95 1.95 0.   1.95]    |    [ 4.69  5.65  0.04 10.53]\n",
      "[2.2 2.2 0.  2.2]    |    [1.95 1.95 0.   1.95]    |    [ 3.62  4.91 -0.04  5.01]\n",
      "[2.2 2.2 0.  2.2]    |    [0.97 1.95 0.97 1.95]    |    [ 7.49  3.7  -0.26  7.91]\n",
      "[2.2 2.2 0.  2.2]    |    [1.95 1.95 0.   1.95]    |    [-0.23  2.65  2.04  3.47]\n",
      "[2.2 2.2 0.  2.2]    |    [0.97 1.95 0.97 1.95]    |    [9.15 4.96 1.5  5.11]\n",
      "[2.2 2.2 0.  2.2]    |    [1.95 1.95 0.   1.95]    |    [11.12  6.72  2.32  6.59]\n",
      "[2.2 2.2 0.  2.2]    |    [1.95 1.95 0.   1.95]    |    [ 3.5   2.67 -0.48  4.49]\n",
      "[2.2 2.2 0.  2.2]    |    [1.95 1.95 0.   1.95]    |    [ 2.97  2.09 -0.68  4.52]\n",
      "[2.2 2.2 0.  2.2]    |    [1.95 1.95 0.   1.95]    |    [4.43 4.9  0.77 7.52]\n",
      "[2.2 2.2 0.  2.2]    |    [1.95 1.95 0.   1.95]    |    [17.21  9.17  2.3  14.17]\n",
      "[2.2 2.2 0.  2.2]    |    [1.95 1.95 0.   1.95]    |    [ 6.35  3.93  0.51 10.36]\n",
      "[2.2 2.2 0.  2.2]    |    [1.95 1.95 0.   1.95]    |    [2.65 5.77 2.14 5.49]\n",
      "[2.2 2.2 0.  2.2]    |    [1.95 1.95 0.   1.95]    |    [4.33 3.65 1.31 5.19]\n",
      "[2.2 2.2 0.  2.2]    |    [1.95 1.95 0.   1.95]    |    [3.81 4.69 0.29 8.38]\n",
      "[2.2 2.2 0.  2.2]    |    [1.95 1.95 0.   1.95]    |    [10.7  17.69  5.69 11.95]\n",
      "[2.2 2.2 0.  2.2]    |    [1.95 1.95 0.   1.95]    |    [ 7.11  6.38 -0.31  9.59]\n",
      "[2.2 2.2 0.  2.2]    |    [1.95 1.95 0.   1.95]    |    [ 5.25  2.14 -0.05  6.91]\n",
      "[2.2 2.2 0.  2.2]    |    [1.95 1.95 0.   1.95]    |    [ 3.31  3.42 -0.16  8.79]\n",
      "[2.2 2.2 0.  2.2]    |    [1.95 1.95 0.   1.95]    |    [ 4.72  4.34 -0.11  8.03]\n",
      "[2.2 2.2 0.  2.2]    |    [1.95 1.95 0.   1.95]    |    [ 9.33  9.2   3.86 19.9 ]\n",
      "[2.2 2.2 0.  2.2]    |    [1.95 1.95 0.   1.95]    |    [14.24 10.25  1.09 15.04]\n",
      "[2.2 2.2 0.  2.2]    |    [1.95 1.95 0.   1.95]    |    [ 4.26  4.67 -0.51  8.89]\n",
      "[2.2 2.2 0.  2.2]    |    [1.95 1.95 0.   1.95]    |    [2.1  4.45 0.74 6.18]\n",
      "[2.2 2.2 0.  2.2]    |    [1.95 1.95 0.   1.95]    |    [12.57  7.7   0.78 12.04]\n",
      "[2.2 2.2 0.  2.2]    |    [1.95 1.95 0.   1.95]    |    [0.93 1.55 0.18 1.61]\n",
      "[2.2 2.2 0.  2.2]    |    [1.95 1.95 0.   1.95]    |    [10.07  7.77  0.04 10.37]\n",
      "[2.2 2.2 0.  2.2]    |    [1.95 1.95 0.   1.95]    |    [2.62 5.76 1.27 7.2 ]\n",
      "[2.2 2.2 0.  2.2]    |    [1.95 1.95 0.   1.95]    |    [3.17 7.65 1.5  5.15]\n",
      "[2.2 2.2 0.  2.2]    |    [1.95 1.95 0.   1.95]    |    [4.05 6.06 1.51 2.52]\n",
      "[2.2 2.2 0.  2.2]    |    [1.95 1.95 0.   1.95]    |    [5.28 8.2  0.63 8.43]\n",
      "[2.2 2.2 0.  2.2]    |    [1.95 1.95 0.   1.95]    |    [1.29 1.28 1.53 7.29]\n",
      "[2.2 2.2 0.  2.2]    |    [1.95 1.95 0.   1.95]    |    [ 5.74  8.41  2.17 12.1 ]\n",
      "[2.2 2.2 0.  2.2]    |    [1.95 1.95 0.   1.95]    |    [ 7.11  6.33  1.83 11.64]\n",
      "[2.2 2.2 0.  2.2]    |    [1.95 1.95 0.   1.95]    |    [12.79  8.25  1.19 16.97]\n",
      "[2.2 2.2 0.  2.2]    |    [1.95 1.95 0.   1.95]    |    [6.8  4.37 0.28 5.08]\n",
      "[2.2 2.2 0.  2.2]    |    [1.95 1.95 0.   1.95]    |    [8.67 8.66 1.24 7.19]\n",
      "[2.2 2.2 0.  2.2]    |    [1.95 1.95 0.   1.95]    |    [4.96 2.59 3.25 6.35]\n",
      "[2.2 2.2 0.  2.2]    |    [1.95 1.95 0.   1.95]    |    [ 7.53  6.64 -0.38  9.56]\n",
      "[2.2 2.2 0.  2.2]    |    [1.95 1.95 0.   1.95]    |    [4.88 3.57 4.12 4.46]\n",
      "[2.2 2.2 0.  2.2]    |    [1.95 1.95 0.   1.95]    |    [13.99  9.89  3.25 14.29]\n",
      "[2.2 2.2 0.  2.2]    |    [1.95 1.95 0.   1.95]    |    [9.28 6.01 0.83 9.44]\n",
      "[2.2 2.2 0.  2.2]    |    [1.95 1.95 0.   1.95]    |    [8.78 8.85 0.38 9.86]\n",
      "[2.2 2.2 0.  2.2]    |    [1.95 1.95 0.   1.95]    |    [5.27 6.54 0.97 3.99]\n",
      "[2.2 2.2 0.  2.2]    |    [1.95 1.95 0.   1.95]    |    [6.36 6.63 2.46 5.51]\n",
      "[2.2 2.2 0.  2.2]    |    [1.95 1.95 0.   1.95]    |    [13.09 10.1   1.19 12.37]\n",
      "[2.2 2.2 0.  2.2]    |    [1.95 1.95 0.   1.95]    |    [ 3.56  2.57 -0.25  2.96]\n",
      "[2.2 2.2 0.  2.2]    |    [1.95 0.97 0.97 1.95]    |    [21.28 14.17  3.62 18.73]\n",
      "[2.2 2.2 0.  2.2]    |    [0.97 1.95 0.97 1.95]    |    [ 0.03  1.94  4.33 -0.63]\n",
      "[2.2 0.  2.2 2.2]    |    [1.95 0.   1.95 1.95]    |    [-0.53  1.66  5.99  1.35]\n",
      "[2.2 0.  2.2 2.2]    |    [0.   1.95 1.95 1.95]    |    [ 1.77 -0.15  7.61  1.46]\n",
      "[2.2 0.  2.2 2.2]    |    [1.95 0.97 1.95 0.97]    |    [-0.44  2.21  6.69  1.12]\n",
      "[2.2 0.  2.2 2.2]    |    [0.97 1.95 0.97 1.95]    |    [ 2.23 -0.08  8.27  1.  ]\n",
      "[2.2 0.  2.2 2.2]    |    [1.95 1.95 1.95 0.  ]    |    [8.21 4.26 4.02 5.74]\n",
      "[2.2 0.  2.2 2.2]    |    [1.95 0.97 0.97 1.95]    |    [ 0.85 -0.52  4.79  0.33]\n",
      "[2.2 0.  2.2 2.2]    |    [0.97 1.95 1.95 0.97]    |    [1.43 0.39 8.3  0.11]\n",
      "[2.2 0.  2.2 2.2]    |    [0.97 0.97 1.95 1.95]    |    [3.2  3.92 7.62 0.15]\n",
      "[2.2 0.  2.2 2.2]    |    [0.97 1.95 1.95 0.97]    |    [0.07 3.63 5.49 1.4 ]\n",
      "[2.2 0.  2.2 2.2]    |    [0.97 1.95 1.95 0.97]    |    [ 5.52  7.82 17.06  3.64]\n",
      "[2.2 0.  2.2 2.2]    |    [0.97 1.95 1.95 0.97]    |    [0.86 4.66 8.34 3.71]\n",
      "[2.2 0.  2.2 2.2]    |    [0.97 1.95 1.95 0.97]    |    [1.16 1.5  2.89 8.25]\n",
      "[2.2 0.  2.2 2.2]    |    [0.97 0.97 1.95 1.95]    |    [ 0.53 -0.37  4.44 -0.38]\n",
      "[2.2 0.  2.2 2.2]    |    [0.97 1.95 1.95 0.97]    |    [ 1.94 -0.19  3.48  2.75]\n",
      "[2.2 0.  2.2 2.2]    |    [0.97 0.97 1.95 1.95]    |    [3.35 3.56 8.28 0.34]\n",
      "[2.2 0.  2.2 2.2]    |    [1.95 0.97 1.95 0.97]    |    [ 0.56  0.68  5.65 -0.73]\n",
      "[2.2 0.  2.2 2.2]    |    [0.97 0.97 1.95 1.95]    |    [3.51 1.7  6.88 0.85]\n",
      "[2.2 0.  2.2 2.2]    |    [1.95 0.97 1.95 0.97]    |    [ 0.6  -0.16  0.91  2.84]\n",
      "[2.2 0.  2.2 2.2]    |    [1.95 0.97 1.95 0.97]    |    [ 2.87  3.16 11.97  0.88]\n",
      "[2.2 0.  2.2 2.2]    |    [1.95 1.95 1.95 0.  ]    |    [0.46 2.44 8.48 0.58]\n",
      "[2.2 0.  2.2 2.2]    |    [1.95 1.95 1.95 0.  ]    |    [0.65 1.4  1.1  1.37]\n",
      "[2.2 0.  2.2 2.2]    |    [1.95 0.97 1.95 0.97]    |    [ 6.27  2.4  12.95  3.16]\n",
      "[2.2 0.  2.2 2.2]    |    [0.97 1.95 1.95 0.97]    |    [2.25 0.54 3.83 1.06]\n",
      "[2.2 0.  2.2 2.2]    |    [1.95 0.   1.95 1.95]    |    [-0.65 -0.3   5.02  0.33]\n",
      "[2.2 0.  2.2 2.2]    |    [0.97 1.95 1.95 0.97]    |    [3.54 0.86 4.17 2.16]\n",
      "[2.2 0.  2.2 2.2]    |    [1.95 0.   1.95 1.95]    |    [ 0.39  2.01  6.22 -0.13]\n",
      "[2.2 0.  2.2 2.2]    |    [1.95 0.97 1.95 0.97]    |    [0.87 2.53 4.79 6.35]\n",
      "[2.2 0.  2.2 2.2]    |    [1.95 0.97 1.95 0.97]    |    [ 2.07  0.44 10.84  1.72]\n",
      "[2.2 0.  2.2 2.2]    |    [1.95 0.97 1.95 0.97]    |    [ 2.46  1.29  7.37 -0.08]\n",
      "[2.2 0.  2.2 2.2]    |    [1.95 1.95 1.95 0.  ]    |    [2.68 4.28 8.83 4.42]\n",
      "[2.2 0.  2.2 2.2]    |    [1.95 0.97 1.95 0.97]    |    [ 1.55  1.94  5.34 -0.69]\n",
      "[2.2 0.  2.2 2.2]    |    [1.95 0.97 1.95 0.97]    |    [ 0.25 -0.91  4.3   1.12]\n",
      "[2.2 0.  2.2 2.2]    |    [1.95 0.   1.95 1.95]    |    [ 1.52  0.82  6.45 -0.53]\n",
      "[2.2 0.  2.2 2.2]    |    [1.95 0.   1.95 1.95]    |    [1.91 0.01 3.22 0.89]\n",
      "[2.2 0.  2.2 2.2]    |    [1.95 0.   1.95 1.95]    |    [10.45  3.96 13.83  6.36]\n",
      "[2.2 0.  2.2 2.2]    |    [1.95 0.97 1.95 0.97]    |    [1.65 1.95 9.83 0.07]\n",
      "[2.2 0.  2.2 2.2]    |    [1.95 0.97 1.95 0.97]    |    [9.8  3.98 8.2  4.5 ]\n",
      "[2.2 0.  2.2 2.2]    |    [1.95 0.97 1.95 0.97]    |    [ 1.08  1.96  5.96 -0.79]\n",
      "[2.2 0.  2.2 2.2]    |    [1.95 0.97 1.95 0.97]    |    [ 2.22 -0.56  2.97  2.8 ]\n",
      "[2.2 0.  2.2 2.2]    |    [1.95 0.   1.95 1.95]    |    [ 6.02  1.68 12.09  2.98]\n",
      "[2.2 0.  2.2 2.2]    |    [1.95 0.   1.95 1.95]    |    [3.93 0.14 3.3  2.56]\n",
      "[2.2 0.  2.2 2.2]    |    [0.97 0.97 1.95 1.95]    |    [ 0.42  0.93  5.96 -0.85]\n",
      "[2.2 0.  2.2 2.2]    |    [1.95 0.   1.95 1.95]    |    [2.15 8.09 8.72 5.03]\n",
      "[2.2 0.  2.2 2.2]    |    [0.97 0.97 1.95 1.95]    |    [0.57 0.49 5.19 6.15]\n",
      "[2.2 0.  2.2 2.2]    |    [1.95 0.   1.95 1.95]    |    [ 3.62  1.23 12.72  2.11]\n",
      "[2.2 0.  2.2 2.2]    |    [0.97 0.97 1.95 1.95]    |    [2.95 0.4  6.75 3.06]\n",
      "[2.2 0.  2.2 2.2]    |    [0.97 0.97 1.95 1.95]    |    [0.84 4.14 2.93 4.61]\n",
      "[2.2 0.  2.2 2.2]    |    [0.97 1.95 1.95 0.97]    |    [2.35 0.96 4.26 8.77]\n",
      "[2.2 0.  2.2 2.2]    |    [0.97 0.97 1.95 1.95]    |    [-0.71  0.8   6.05  0.57]\n",
      "[2.2 0.  2.2 2.2]    |    [0.97 1.95 1.95 0.97]    |    [-0.13 -0.73  3.76  1.85]\n",
      "[2.2 0.  2.2 2.2]    |    [0.97 0.97 1.95 1.95]    |    [-0.92  1.41  3.73  2.36]\n",
      "[2.2 0.  2.2 2.2]    |    [0.97 1.95 0.97 1.95]    |    [0.01 1.87 7.95 3.72]\n",
      "[2.2 0.  2.2 2.2]    |    [0.97 0.97 1.95 1.95]    |    [ 4.4   4.01 -0.27  3.94]\n",
      "[2.2 0.  2.2 2.2]    |    [1.95 0.97 0.97 1.95]    |    [ 1.4  -0.19  5.07  5.4 ]\n",
      "[2.2 0.  2.2 2.2]    |    [1.95 0.   1.95 1.95]    |    [2.63 0.64 3.49 0.55]\n",
      "[2.2 0.  2.2 2.2]    |    [1.95 0.   1.95 1.95]    |    [ 0.82 -0.6   6.26  3.54]\n",
      "[2.2 0.  2.2 2.2]    |    [1.95 0.   1.95 1.95]    |    [ 1.5  -0.18  7.65  3.36]\n",
      "[2.2 0.  2.2 2.2]    |    [1.95 0.   1.95 1.95]    |    [ 3.36  1.29 11.7   1.32]\n",
      "[2.2 0.  2.2 2.2]    |    [1.95 0.   1.95 1.95]    |    [ 4.62  1.3  11.44  7.18]\n",
      "[2.2 0.  2.2 2.2]    |    [1.95 0.   1.95 1.95]    |    [ 0.07 -0.12  5.64  4.08]\n",
      "[2.2 0.  2.2 2.2]    |    [1.95 0.97 0.97 1.95]    |    [3.97 0.99 7.77 4.84]\n",
      "[2.2 0.  2.2 2.2]    |    [1.95 0.97 1.95 0.97]    |    [0.49 2.72 0.74 3.44]\n",
      "[2.2 0.  2.2 2.2]    |    [1.95 0.97 0.97 1.95]    |    [0.91 1.39 3.84 0.77]\n",
      "[2.2 0.  2.2 2.2]    |    [0.97 1.95 1.95 0.97]    |    [0.5  2.9  5.62 4.07]\n",
      "[2.2 0.  2.2 2.2]    |    [0.97 0.97 1.95 1.95]    |    [-0.92  0.72  4.35  0.18]\n",
      "[2.2 0.  2.2 2.2]    |    [0.97 0.97 1.95 1.95]    |    [ 1.37 -0.32  4.44  3.52]\n",
      "[2.2 0.  2.2 2.2]    |    [0.97 0.97 1.95 1.95]    |    [ 4.1   2.24 13.67  2.18]\n",
      "[2.2 0.  2.2 2.2]    |    [0.97 0.97 1.95 1.95]    |    [0.96 1.7  6.97 7.99]\n",
      "[2.2 0.  2.2 2.2]    |    [0.97 0.97 1.95 1.95]    |    [-0.11  2.24  3.48  3.7 ]\n",
      "[2.2 0.  2.2 2.2]    |    [0.   1.95 1.95 1.95]    |    [0.86 0.76 4.44 6.93]\n",
      "[2.2 0.  2.2 2.2]    |    [0.   1.95 1.95 1.95]    |    [-0.38  0.94  5.68  2.99]\n",
      "[2.2 0.  2.2 2.2]    |    [0.97 0.97 1.95 1.95]    |    [ 4.45  8.14 13.99 13.4 ]\n",
      "[2.2 0.  2.2 2.2]    |    [0.   1.95 1.95 1.95]    |    [4.79 1.56 5.47 8.78]\n",
      "[2.2 0.  2.2 2.2]    |    [1.95 0.97 1.95 0.97]    |    [ 0.49  0.32  6.04 -0.4 ]\n",
      "[2.2 0.  2.2 2.2]    |    [0.   1.95 1.95 1.95]    |    [-0.78  0.83  5.85  0.69]\n",
      "[2.2 0.  2.2 2.2]    |    [1.95 0.97 1.95 0.97]    |    [0.69 3.26 5.74 7.97]\n",
      "[2.2 0.  2.2 2.2]    |    [0.97 0.97 1.95 1.95]    |    [0.57 0.5  1.02 2.75]\n",
      "[2.2 0.  2.2 2.2]    |    [1.95 0.97 0.97 1.95]    |    [ 0.49 -0.28  4.1   2.87]\n",
      "[2.2 0.  2.2 2.2]    |    [1.95 0.   1.95 1.95]    |    [ 5.28  3.29 -0.2   7.42]\n",
      "[2.2 0.  2.2 2.2]    |    [1.95 0.97 0.97 1.95]    |    [0.33 0.02 3.83 3.47]\n",
      "[2.2 0.  2.2 2.2]    |    [1.95 0.   1.95 1.95]    |    [ 7.83  3.03  8.87 10.48]\n",
      "[2.2 0.  2.2 2.2]    |    [1.95 0.   1.95 1.95]    |    [0.69 1.69 2.32 7.14]\n",
      "[2.2 0.  2.2 2.2]    |    [1.95 0.   1.95 1.95]    |    [0.19 1.75 2.51 1.44]\n",
      "[2.2 0.  2.2 2.2]    |    [0.97 0.97 1.95 1.95]    |    [ 0.62 -0.86  4.51  2.78]\n",
      "[2.2 0.  2.2 2.2]    |    [0.97 0.97 1.95 1.95]    |    [1.93 5.33 9.55 1.07]\n",
      "[2.2 0.  2.2 2.2]    |    [0.   1.95 1.95 1.95]    |    [-0.29  3.08  4.51  4.01]\n",
      "[2.2 0.  2.2 2.2]    |    [0.97 0.97 1.95 1.95]    |    [-0.71  2.22  4.05  2.3 ]\n",
      "[2.2 0.  2.2 2.2]    |    [0.97 0.97 1.95 1.95]    |    [2.05 2.13 6.57 7.61]\n",
      "[2.2 0.  2.2 2.2]    |    [1.95 0.   1.95 1.95]    |    [2.57 0.05 5.83 4.08]\n",
      "[2.2 2.2 2.2 0. ]    |    [1.95 0.   1.95 1.95]    |    [ 1.97  0.58 10.55  1.45]\n",
      "[2.2 2.2 2.2 0. ]    |    [1.95 0.97 0.97 1.95]    |    [ 1.52 -0.36  7.53  4.16]\n",
      "[2.2 2.2 2.2 0. ]    |    [1.95 0.   1.95 1.95]    |    [4.4  4.75 0.33 9.35]\n",
      "[2.2 2.2 2.2 0. ]    |    [0.97 1.95 0.97 1.95]    |    [2.44 1.63 9.2  6.12]\n",
      "[0.  2.2 2.2 2.2]    |    [1.95 0.97 1.95 0.97]    |    [-0.11 -0.32  3.4   3.67]\n",
      "[0.  2.2 2.2 2.2]    |    [0.97 1.95 1.95 0.97]    |    [ 1.55  3.    2.31 -0.03]\n",
      "[0.  2.2 2.2 2.2]    |    [1.95 1.95 1.95 0.  ]    |    [1.67 4.61 4.83 0.49]\n",
      "[0.  2.2 2.2 2.2]    |    [1.95 1.95 1.95 0.  ]    |    [ 8.07 13.75 13.51  4.32]\n",
      "[0.  2.2 2.2 2.2]    |    [1.95 1.95 1.95 0.  ]    |    [3.58 4.65 6.76 0.99]\n",
      "[0.  2.2 2.2 2.2]    |    [1.95 1.95 1.95 0.  ]    |    [3.23 2.3  4.1  0.08]\n",
      "[0.  2.2 2.2 2.2]    |    [1.95 1.95 1.95 0.  ]    |    [1.51 5.38 6.54 0.99]\n",
      "[0.  2.2 2.2 2.2]    |    [1.95 1.95 1.95 0.  ]    |    [ 8.94  5.92 14.64  4.09]\n",
      "[0.  2.2 2.2 2.2]    |    [1.95 1.95 1.95 0.  ]    |    [3.01 7.75 9.66 0.91]\n",
      "[0.7 2.2 2.2 2.2]    |    [1.95 1.95 1.95 0.  ]    |    [2.32 7.97 4.42 1.81]\n",
      "[0.7 2.2 2.2 2.2]    |    [0.97 1.95 1.95 0.97]    |    [2.83 6.46 3.87 1.88]\n",
      "[0.7 2.2 2.2 2.2]    |    [1.95 1.95 1.95 0.  ]    |    [ 1.19  1.67  6.18 -0.78]\n",
      "[0.7 2.2 2.2 2.2]    |    [0.97 1.95 1.95 0.97]    |    [-0.41  0.68  2.24  0.38]\n",
      "[0.7 2.2 2.2 2.2]    |    [0.97 1.95 1.95 0.97]    |    [2.08 6.28 3.64 0.84]\n",
      "[0.7 2.2 2.2 2.2]    |    [1.95 1.95 1.95 0.  ]    |    [ 0.43  3.04  4.19 -0.68]\n",
      "[0.7 2.2 2.2 2.2]    |    [0.97 1.95 1.95 0.97]    |    [ 1.62  2.91  3.91 -0.5 ]\n",
      "[0.7 2.2 2.2 2.2]    |    [1.95 0.97 1.95 0.97]    |    [ 1.79  1.5  10.83  0.8 ]\n",
      "[0.  2.2 2.2 2.2]    |    [1.95 1.95 1.95 0.  ]    |    [3.34 0.94 6.41 4.33]\n",
      "[0.  2.2 2.2 2.2]    |    [1.95 0.   1.95 1.95]    |    [4.55 6.14 3.98 1.57]\n",
      "[0.  2.2 2.2 2.2]    |    [0.97 1.95 1.95 0.97]    |    [8.89 6.5  3.62 4.27]\n",
      "[0.  2.2 2.2 2.2]    |    [1.95 0.97 1.95 0.97]    |    [0.27 4.24 6.17 4.19]\n",
      "[0.  2.2 2.2 2.2]    |    [0.97 1.95 1.95 0.97]    |    [3.88 6.26 7.17 0.74]\n",
      "[0.  2.2 2.2 2.2]    |    [0.97 1.95 1.95 0.97]    |    [3.95 7.72 5.15 2.14]\n",
      "[0.  2.2 2.2 2.2]    |    [0.97 1.95 1.95 0.97]    |    [0.74 3.26 9.42 1.93]\n",
      "[0.  2.2 2.2 2.2]    |    [0.   1.95 1.95 1.95]    |    [0.3  1.42 2.68 0.02]\n",
      "[0.7  2.2  2.2  1.49]    |    [0.   1.95 1.95 1.95]    |    [ 6.   13.59 12.84  3.7 ]\n",
      "[0.7  2.2  2.2  1.49]    |    [0.97 1.95 1.95 0.97]    |    [2.09 4.07 1.1  1.62]\n",
      "[0.7  2.2  2.2  1.49]    |    [0.97 1.95 1.95 0.97]    |    [-0.74  0.22  5.61  0.4 ]\n",
      "[0.7  2.2  2.2  1.49]    |    [1.95 1.95 1.95 0.  ]    |    [ 1.2   1.29  3.8  -0.75]\n",
      "[1.49 2.2  2.2  0.7 ]    |    [1.95 1.95 1.95 0.  ]    |    [ 2.87  3.96 11.12  1.5 ]\n",
      "[1.49 2.2  2.2  0.7 ]    |    [0.97 1.95 1.95 0.97]    |    [0.91 3.58 3.57 0.02]\n",
      "[1.49 2.2  2.2  0.7 ]    |    [0.97 1.95 1.95 0.97]    |    [2.86 0.28 5.06 2.1 ]\n",
      "[1.49 2.2  2.2  0.7 ]    |    [0.97 0.97 1.95 1.95]    |    [2.63 2.16 6.4  0.99]\n",
      "[2.2 2.2 2.2 0. ]    |    [0.97 1.95 1.95 0.97]    |    [1.17 1.63 1.7  4.5 ]\n",
      "[2.2 2.2 2.2 0. ]    |    [1.95 0.97 1.95 0.97]    |    [ 1.41  2.11  3.54 -0.38]\n",
      "[2.2 2.2 2.2 0. ]    |    [1.95 1.95 1.95 0.  ]    |    [3.78 4.54 8.76 0.67]\n",
      "[2.2 2.2 2.2 0. ]    |    [1.95 1.95 1.95 0.  ]    |    [ 1.22  4.34  6.07 -0.36]\n",
      "[2.2 2.2 2.2 0. ]    |    [1.95 1.95 1.95 0.  ]    |    [6.47 8.81 8.94 2.52]\n",
      "[2.2 2.2 2.2 0. ]    |    [1.95 1.95 1.95 0.  ]    |    [ 6.32  6.04 14.55  3.07]\n",
      "[2.2 2.2 2.2 0. ]    |    [1.95 1.95 1.95 0.  ]    |    [7.09 6.97 5.77 3.47]\n",
      "[2.2 2.2 2.2 0. ]    |    [1.95 1.95 1.95 0.  ]    |    [ 5.84  9.13 15.59  4.51]\n",
      "[1.1 2.2 2.2 1.1]    |    [0.97 1.95 1.95 0.97]    |    [ 6.39 10.11 12.88  3.27]\n",
      "[1.1 2.2 2.2 1.1]    |    [0.97 1.95 1.95 0.97]    |    [1.45 3.18 5.91 3.7 ]\n",
      "[1.1 2.2 2.2 1.1]    |    [0.97 1.95 0.97 1.95]    |    [-0.24  1.93  1.14  1.22]\n",
      "[1.1 2.2 2.2 1.1]    |    [0.97 1.95 1.95 0.97]    |    [ 1.06  1.46 -0.11  4.  ]\n",
      "[0.  2.2 2.2 2.2]    |    [1.95 1.95 0.97 0.97]    |    [2.23 2.4  3.66 0.18]\n",
      "[0.  2.2 2.2 2.2]    |    [1.95 0.97 1.95 0.97]    |    [ 2.    2.06 12.04  1.29]\n",
      "[0.  2.2 2.2 2.2]    |    [1.95 1.95 0.97 0.97]    |    [3.13 1.25 3.88 2.25]\n"
     ]
    }
   ],
   "source": [
    "# compare Gibbs energies calcluated from Gempy model 2D (X,Y) and BaySeg well data 1D (Z)\n",
    "print('Gibbs energy GemPy   |    Gibbs energy bayseg      |     Likelihood')\n",
    "print('______________________________________________________________________')\n",
    "for i in np.arange(0,190):# len(clf.gempy_energy)):\n",
    "    print(np.around(clf.storage_gempy_e[-1][i],2),'   |   ',\n",
    "          np.around(clf.storage_gibbs_e[-1][i],2),'   |   ',\n",
    "          np.around(clf.storage_like_e[-1][i],2))"
   ]
  },
  {
   "cell_type": "code",
   "execution_count": 16,
   "metadata": {},
   "outputs": [],
   "source": [
    "name_temp = []\n",
    "name_temp.append(clf.labels[-1][0:clf.boundary[0]])\n",
    "for i in range(clf.n_labels-1):\n",
    "    name_temp.append(clf.labels[-1][clf.boundary[i]:clf.boundary[i+1]])\n",
    "\n",
    "for k in range(clf.n_labels):\n",
    "    lab = np.where(np.bincount(name_temp[k], minlength=clf.n_labels) == \n",
    "             max(np.bincount(name_temp[k], minlength=clf.n_labels)))[0][0]\n",
    "    lith[np.where(lith == k+1)[0]] = lab +10\n",
    "lith = lith-10"
   ]
  },
  {
   "cell_type": "code",
   "execution_count": 17,
   "metadata": {
    "scrolled": true
   },
   "outputs": [
    {
     "data": {
      "text/plain": [
       "array([-5., -5., -5., -5., -5.,  2.,  2.,  2.,  2.,  2.,  2.,  2.,  2.,\n",
       "        2.,  2.,  2.,  0.,  0.,  0.,  0.,  0.,  0.,  0.,  0.,  0.,  0.,\n",
       "        0.,  0.,  1.,  1.,  1.,  1.,  1.,  1.,  1.,  1.,  1.,  1.,  1.,\n",
       "        3.,  3.,  3.,  3.,  3.,  3.,  3.,  3.,  3.,  3.,  3.,  3.])"
      ]
     },
     "execution_count": 17,
     "metadata": {},
     "output_type": "execute_result"
    }
   ],
   "source": [
    "lith[:51]"
   ]
  },
  {
   "cell_type": "code",
   "execution_count": 13,
   "metadata": {},
   "outputs": [
    {
     "data": {
      "text/plain": [
       "array([3, 3, 3, 3, 3, 3, 3, 3, 3, 3, 3, 3, 3, 3, 3, 3, 3, 0, 0, 3, 3, 3,\n",
       "       1, 3, 3, 3, 3, 3, 3, 3, 3, 3, 3, 3, 3, 3, 3, 3, 3, 0, 3, 3, 3, 3,\n",
       "       3, 3, 3, 3, 1, 1, 1, 1, 1, 1, 1, 2, 1, 2, 1, 1, 1, 1, 1, 1, 1, 2,\n",
       "       1, 2, 1, 1, 1, 1, 1, 1, 1, 1, 1, 1, 1, 1, 1, 1, 3, 1, 1, 2, 1, 1,\n",
       "       1, 1, 1, 1, 1, 1, 1, 0, 0, 0, 0, 0, 3, 0, 0, 0, 0, 0, 0, 0, 3, 0,\n",
       "       0, 3, 0, 0, 0, 0, 0, 0, 3, 0, 0, 0, 0, 0, 0, 0, 0, 0, 0, 0, 0, 3,\n",
       "       2, 0, 0, 0, 0, 0, 0, 0, 0, 0, 0, 1, 2, 2, 2, 2, 2, 2, 2, 2, 2, 2,\n",
       "       2, 2, 2, 2, 2, 2, 2, 2, 2, 2, 2, 2, 2, 2, 2, 2, 2, 2, 2, 2, 2, 0,\n",
       "       2, 2, 2, 0, 2, 2, 2, 1, 1, 1, 1, 2, 2, 2], dtype=int64)"
      ]
     },
     "execution_count": 13,
     "metadata": {},
     "output_type": "execute_result"
    }
   ],
   "source": [
    "clf.labels[-1][:190]"
   ]
  },
  {
   "cell_type": "code",
   "execution_count": 61,
   "metadata": {},
   "outputs": [],
   "source": [
    "for k in range(clf.n_labels):    \n",
    "    lith[np.where(lith == k+1)[0]] = name[k]"
   ]
  },
  {
   "cell_type": "code",
   "execution_count": 62,
   "metadata": {},
   "outputs": [
    {
     "data": {
      "text/plain": [
       "array([5., 5., 5., 5., 5., 3., 3., 3., 3., 3., 3., 3., 3., 3., 3., 3., 0.,\n",
       "       0., 0., 0., 0., 0., 0., 0., 0., 0., 0., 0., 2., 2., 2., 2., 2., 2.,\n",
       "       2., 2., 2., 2., 2., 1., 1., 1., 1., 1., 1., 1., 1., 1., 1., 1., 1.])"
      ]
     },
     "execution_count": 62,
     "metadata": {},
     "output_type": "execute_result"
    }
   ],
   "source": [
    "lith[0:51]"
   ]
  },
  {
   "cell_type": "code",
   "execution_count": 40,
   "metadata": {},
   "outputs": [],
   "source": [
    "d = np.array([3,3,3,3,3,3,3])"
   ]
  },
  {
   "cell_type": "code",
   "execution_count": 44,
   "metadata": {
    "scrolled": false
   },
   "outputs": [
    {
     "data": {
      "text/plain": [
       "3"
      ]
     },
     "execution_count": 44,
     "metadata": {},
     "output_type": "execute_result"
    }
   ],
   "source": [
    "np.where(np.bincount(d,minlength=clf.n_labels) == max(np.bincount(d,minlength=clf.n_labels)))[0][0]"
   ]
  },
  {
   "cell_type": "code",
   "execution_count": 9,
   "metadata": {},
   "outputs": [
    {
     "name": "stdout",
     "output_type": "stream",
     "text": [
      "Gempy coordinates        |      Well data coordinates\n",
      "_____________________________________________________\n",
      "[144.79411  115.26471  -14.960784]      |      [145.3  115.3  -16.27]\n",
      "[144.79411  115.26471  -23.509804]      |      [145.3  115.3  -22.58]\n",
      "[144.79411  115.26471  -27.784313]      |      [145.3  115.3  -28.88]\n",
      "[144.79411  115.26471  -36.333332]      |      [145.3  115.3  -35.17]\n",
      "[144.79411 115.26471 -40.60784]      |      [145.3  115.3  -41.48]\n",
      "[144.79411  115.26471  -49.156864]      |      [145.3  115.3  -47.78]\n",
      "[144.79411  115.26471  -53.431374]      |      [145.3  115.3  -54.08]\n",
      "[144.79411  115.26471  -61.980392]      |      [145.3  115.3  -60.38]\n",
      "[144.79411  115.26471  -66.254906]      |      [145.3  115.3  -66.68]\n",
      "[144.79411  115.26471  -74.803925]      |      [145.3  115.3  -72.97]\n",
      "[144.79411 115.26471 -79.07843]      |      [145.3  115.3  -79.28]\n",
      "[144.79411 115.26471 -87.62745]      |      [145.3  115.3  -85.58]\n",
      "[144.79411 115.26471 -91.90196]      |      [145.3  115.3  -91.88]\n",
      "[144.79411 115.26471 -96.17647]      |      [145.3  115.3  -98.18]\n",
      "[ 144.79411  115.26471 -104.72549]      |      [ 145.3   115.3  -104.48]\n",
      "[ 144.79411  115.26471 -109.     ]      |      [ 145.3   115.3  -110.78]\n",
      "[ 144.79411  115.26471 -117.54902]      |      [ 145.3   115.3  -117.08]\n",
      "[ 144.79411  115.26471 -121.82353]      |      [ 145.3   115.3  -123.38]\n",
      "[ 144.79411  115.26471 -130.37254]      |      [ 145.3   115.3  -129.68]\n",
      "[ 144.79411  115.26471 -134.64706]      |      [ 145.3   115.3  -135.98]\n",
      "[ 144.79411  115.26471 -143.19608]      |      [ 145.3   115.3  -142.28]\n",
      "[ 144.79411  115.26471 -147.47058]      |      [ 145.3   115.3  -148.57]\n",
      "[ 144.79411  115.26471 -156.0196 ]      |      [ 145.3   115.3  -154.88]\n",
      "[ 144.79411  115.26471 -160.29411]      |      [ 145.3   115.3  -161.18]\n",
      "[ 144.79411  115.26471 -168.84314]      |      [ 145.3   115.3  -167.48]\n",
      "[ 144.79411  115.26471 -173.11765]      |      [ 145.3   115.3  -173.78]\n",
      "[ 144.79411  115.26471 -181.66667]      |      [ 145.3   115.3  -180.08]\n",
      "[ 144.79411  115.26471 -185.94118]      |      [ 145.3   115.3  -186.38]\n",
      "[ 144.79411  115.26471 -194.49019]      |      [ 145.3   115.3  -192.68]\n",
      "[ 144.79411  115.26471 -198.76471]      |      [ 145.3   115.3  -198.98]\n",
      "[ 70.06863   104.382355   -6.4117646]      |      [ 70.9  104.5   -5.78]\n",
      "[ 70.06863  104.382355 -10.686275]      |      [ 70.9  104.5  -12.08]\n",
      "[ 70.06863  104.382355 -19.235294]      |      [ 70.9  104.5  -18.38]\n",
      "[ 70.06863  104.382355 -23.509804]      |      [ 70.9  104.5  -24.68]\n",
      "[ 70.06863  104.382355 -32.058823]      |      [ 70.9  104.5  -30.98]\n",
      "[ 70.06863  104.382355 -36.333332]      |      [ 70.9  104.5  -37.28]\n",
      "[ 70.06863  104.382355 -44.882355]      |      [ 70.9  104.5  -43.58]\n",
      "[ 70.06863  104.382355 -49.156864]      |      [ 70.9  104.5  -49.88]\n",
      "[ 70.06863  104.382355 -57.705883]      |      [ 70.9  104.5  -56.18]\n",
      "[ 70.06863  104.382355 -61.980392]      |      [ 70.9  104.5  -62.48]\n",
      "[ 70.06863  104.382355 -70.52941 ]      |      [ 70.9  104.5  -68.78]\n",
      "[ 70.06863  104.382355 -74.803925]      |      [ 70.9  104.5  -75.08]\n",
      "[ 70.06863  104.382355 -83.35294 ]      |      [ 70.9  104.5  -81.38]\n",
      "[ 70.06863  104.382355 -87.62745 ]      |      [ 70.9  104.5  -87.68]\n",
      "[ 70.06863  104.382355 -91.90196 ]      |      [ 70.9  104.5  -93.98]\n",
      "[  70.06863   104.382355 -100.45098 ]      |      [  70.9   104.5  -100.28]\n",
      "[  70.06863   104.382355 -104.72549 ]      |      [  70.9   104.5  -106.58]\n",
      "[  70.06863   104.382355 -113.27451 ]      |      [  70.9   104.5  -112.88]\n",
      "[  70.06863   104.382355 -117.54902 ]      |      [  70.9   104.5  -119.18]\n",
      "[  70.06863   104.382355 -126.09804 ]      |      [  70.9   104.5  -125.48]\n",
      "[  70.06863   104.382355 -130.37254 ]      |      [  70.9   104.5  -131.78]\n",
      "[  70.06863   104.382355 -138.92157 ]      |      [  70.9   104.5  -138.07]\n",
      "[  70.06863   104.382355 -143.19608 ]      |      [  70.9   104.5  -144.38]\n",
      "[  70.06863   104.382355 -151.7451  ]      |      [  70.9   104.5  -150.68]\n",
      "[  70.06863   104.382355 -156.0196  ]      |      [  70.9   104.5  -156.98]\n",
      "[  70.06863   104.382355 -164.56863 ]      |      [  70.9   104.5  -163.28]\n",
      "[  70.06863   104.382355 -168.84314 ]      |      [  70.9   104.5  -169.58]\n",
      "[  70.06863   104.382355 -177.39215 ]      |      [  70.9   104.5  -175.88]\n",
      "[  70.06863   104.382355 -181.66667 ]      |      [  70.9   104.5  -182.18]\n",
      "[  70.06863   104.382355 -190.21568 ]      |      [  70.9   104.5  -188.48]\n",
      "[  70.06863   104.382355 -194.49019 ]      |      [  70.9   104.5  -194.78]\n",
      "[76.12745  43.441177 -2.137255]      |      [75.7  43.3  -1.58]\n",
      "[76.12745   43.441177  -6.4117646]      |      [75.7  43.3  -7.88]\n",
      "[ 76.12745   43.441177 -14.960784]      |      [ 75.7   43.3  -14.18]\n",
      "[ 76.12745   43.441177 -19.235294]      |      [ 75.7   43.3  -20.48]\n",
      "[ 76.12745   43.441177 -27.784313]      |      [ 75.7   43.3  -26.78]\n",
      "[ 76.12745   43.441177 -32.058823]      |      [ 75.7   43.3  -33.08]\n",
      "[ 76.12745   43.441177 -40.60784 ]      |      [ 75.7   43.3  -39.38]\n",
      "[ 76.12745   43.441177 -44.882355]      |      [ 75.7   43.3  -45.68]\n",
      "[ 76.12745   43.441177 -53.431374]      |      [ 75.7   43.3  -51.98]\n",
      "[ 76.12745   43.441177 -57.705883]      |      [ 75.7   43.3  -58.28]\n",
      "[ 76.12745   43.441177 -66.254906]      |      [ 75.7   43.3  -64.58]\n",
      "[ 76.12745   43.441177 -70.52941 ]      |      [ 75.7   43.3  -70.88]\n",
      "[ 76.12745   43.441177 -79.07843 ]      |      [ 75.7   43.3  -77.18]\n",
      "[ 76.12745   43.441177 -83.35294 ]      |      [ 75.7   43.3  -83.48]\n",
      "[ 76.12745   43.441177 -91.90196 ]      |      [ 75.7   43.3  -89.78]\n",
      "[ 76.12745   43.441177 -96.17647 ]      |      [ 75.7   43.3  -96.08]\n",
      "[  76.12745    43.441177 -100.45098 ]      |      [  75.7    43.3  -102.38]\n",
      "[  76.12745    43.441177 -109.      ]      |      [  75.7    43.3  -108.68]\n",
      "[  76.12745    43.441177 -113.27451 ]      |      [  75.7    43.3  -114.98]\n",
      "[  76.12745    43.441177 -121.82353 ]      |      [  75.7    43.3  -121.28]\n",
      "[  76.12745    43.441177 -126.09804 ]      |      [  75.7    43.3  -127.58]\n",
      "[  76.12745    43.441177 -134.64706 ]      |      [  75.7    43.3  -133.88]\n",
      "[  76.12745    43.441177 -138.92157 ]      |      [  75.7    43.3  -140.18]\n",
      "[  76.12745    43.441177 -147.47058 ]      |      [  75.7    43.3  -146.48]\n",
      "[  76.12745    43.441177 -151.7451  ]      |      [  75.7    43.3  -152.78]\n",
      "[  76.12745    43.441177 -160.29411 ]      |      [  75.7    43.3  -159.07]\n",
      "[  76.12745    43.441177 -164.56863 ]      |      [  75.7    43.3  -165.38]\n",
      "[  76.12745    43.441177 -173.11765 ]      |      [  75.7    43.3  -171.68]\n",
      "[  76.12745    43.441177 -177.39215 ]      |      [  75.7    43.3  -177.98]\n",
      "[  76.12745    43.441177 -185.94118 ]      |      [  75.7    43.3  -184.28]\n",
      "[  76.12745    43.441177 -190.21568 ]      |      [  75.7    43.3  -190.58]\n",
      "[  76.12745    43.441177 -198.76471 ]      |      [  75.7    43.3  -196.88]\n",
      "[146.81372   76.088234  -2.137255]      |      [147.7   75.7   -3.68]\n",
      "[146.81372   76.088234 -10.686275]      |      [147.7   75.7   -9.98]\n",
      "[146.81372   76.088234 -14.960784]      |      [147.7   75.7  -16.27]\n",
      "[146.81372   76.088234 -23.509804]      |      [147.7   75.7  -22.58]\n",
      "[146.81372   76.088234 -27.784313]      |      [147.7   75.7  -28.88]\n",
      "[146.81372   76.088234 -36.333332]      |      [147.7   75.7  -35.17]\n",
      "[146.81372   76.088234 -40.60784 ]      |      [147.7   75.7  -41.48]\n",
      "[146.81372   76.088234 -49.156864]      |      [147.7   75.7  -47.78]\n",
      "[146.81372   76.088234 -53.431374]      |      [147.7   75.7  -54.08]\n",
      "[146.81372   76.088234 -61.980392]      |      [147.7   75.7  -60.38]\n",
      "[146.81372   76.088234 -66.254906]      |      [147.7   75.7  -66.68]\n",
      "[146.81372   76.088234 -74.803925]      |      [147.7   75.7  -72.97]\n",
      "[146.81372   76.088234 -79.07843 ]      |      [147.7   75.7  -79.28]\n",
      "[146.81372   76.088234 -87.62745 ]      |      [147.7   75.7  -85.58]\n",
      "[146.81372   76.088234 -91.90196 ]      |      [147.7   75.7  -91.88]\n",
      "[146.81372   76.088234 -96.17647 ]      |      [147.7   75.7  -98.18]\n",
      "[ 146.81372    76.088234 -104.72549 ]      |      [ 147.7    75.7  -104.48]\n",
      "[ 146.81372    76.088234 -109.      ]      |      [ 147.7    75.7  -110.78]\n",
      "[ 146.81372    76.088234 -117.54902 ]      |      [ 147.7    75.7  -117.08]\n",
      "[ 146.81372    76.088234 -121.82353 ]      |      [ 147.7    75.7  -123.38]\n",
      "[ 146.81372    76.088234 -130.37254 ]      |      [ 147.7    75.7  -129.68]\n",
      "[ 146.81372    76.088234 -134.64706 ]      |      [ 147.7    75.7  -135.98]\n",
      "[ 146.81372    76.088234 -143.19608 ]      |      [ 147.7    75.7  -142.28]\n",
      "[ 146.81372    76.088234 -147.47058 ]      |      [ 147.7    75.7  -148.57]\n",
      "[ 146.81372    76.088234 -156.0196  ]      |      [ 147.7    75.7  -154.88]\n",
      "[ 146.81372    76.088234 -160.29411 ]      |      [ 147.7    75.7  -161.18]\n",
      "[ 146.81372    76.088234 -168.84314 ]      |      [ 147.7    75.7  -167.48]\n",
      "[ 146.81372    76.088234 -173.11765 ]      |      [ 147.7    75.7  -173.78]\n",
      "[ 146.81372    76.088234 -181.66667 ]      |      [ 147.7    75.7  -180.08]\n",
      "[ 146.81372    76.088234 -185.94118 ]      |      [ 147.7    75.7  -186.38]\n",
      "[ 146.81372    76.088234 -194.49019 ]      |      [ 147.7    75.7  -192.68]\n",
      "[ 146.81372    76.088234 -198.76471 ]      |      [ 147.7    75.7  -198.98]\n",
      "[130.65686    47.794117   -6.4117646]      |      [129.7   48.1   -5.78]\n",
      "[130.65686   47.794117 -10.686275]      |      [129.7   48.1  -12.08]\n",
      "[130.65686   47.794117 -19.235294]      |      [129.7   48.1  -18.38]\n",
      "[130.65686   47.794117 -23.509804]      |      [129.7   48.1  -24.68]\n",
      "[130.65686   47.794117 -32.058823]      |      [129.7   48.1  -30.98]\n",
      "[130.65686   47.794117 -36.333332]      |      [129.7   48.1  -37.28]\n",
      "[130.65686   47.794117 -44.882355]      |      [129.7   48.1  -43.58]\n",
      "[130.65686   47.794117 -49.156864]      |      [129.7   48.1  -49.88]\n",
      "[130.65686   47.794117 -57.705883]      |      [129.7   48.1  -56.18]\n",
      "[130.65686   47.794117 -61.980392]      |      [129.7   48.1  -62.48]\n",
      "[130.65686   47.794117 -70.52941 ]      |      [129.7   48.1  -68.78]\n",
      "[130.65686   47.794117 -74.803925]      |      [129.7   48.1  -75.08]\n",
      "[130.65686   47.794117 -83.35294 ]      |      [129.7   48.1  -81.38]\n",
      "[130.65686   47.794117 -87.62745 ]      |      [129.7   48.1  -87.68]\n",
      "[130.65686   47.794117 -91.90196 ]      |      [129.7   48.1  -93.98]\n",
      "[ 130.65686    47.794117 -100.45098 ]      |      [ 129.7    48.1  -100.28]\n",
      "[ 130.65686    47.794117 -104.72549 ]      |      [ 129.7    48.1  -106.58]\n",
      "[ 130.65686    47.794117 -113.27451 ]      |      [ 129.7    48.1  -112.88]\n",
      "[ 130.65686    47.794117 -117.54902 ]      |      [ 129.7    48.1  -119.18]\n",
      "[ 130.65686    47.794117 -126.09804 ]      |      [ 129.7    48.1  -125.48]\n",
      "[ 130.65686    47.794117 -130.37254 ]      |      [ 129.7    48.1  -131.78]\n",
      "[ 130.65686    47.794117 -138.92157 ]      |      [ 129.7    48.1  -138.07]\n",
      "[ 130.65686    47.794117 -143.19608 ]      |      [ 129.7    48.1  -144.38]\n",
      "[ 130.65686    47.794117 -151.7451  ]      |      [ 129.7    48.1  -150.68]\n",
      "[ 130.65686    47.794117 -156.0196  ]      |      [ 129.7    48.1  -156.98]\n"
     ]
    }
   ],
   "source": [
    "# compare coordinates from GemPy grid and coordinates from raw well data (BaySeg)\n",
    "print('Gempy coordinates        |      Well data coordinates')\n",
    "print('_____________________________________________________')\n",
    "for i in range(150):    \n",
    "    print(clf.index_temp[clf.index_gempy[15+i*6]],'     |     ',clf.coords[15+i*6])"
   ]
  },
  {
   "cell_type": "code",
   "execution_count": 12,
   "metadata": {},
   "outputs": [],
   "source": [
    "true_label = data_s3.layer.values.copy()"
   ]
  },
  {
   "cell_type": "code",
   "execution_count": 13,
   "metadata": {
    "scrolled": true
   },
   "outputs": [
    {
     "data": {
      "text/plain": [
       "array([1, 1, 1, 1, 1, 1, 1, 1, 1, 1, 1, 1, 1, 1, 1, 1, 1, 1, 1, 1, 1, 1,\n",
       "       1, 1, 1, 1, 1, 1, 1, 1, 1, 1, 1, 1, 1, 1, 1, 1, 1, 1, 1, 1, 1, 1,\n",
       "       1, 1, 1, 1, 1, 1, 1, 1, 1, 1, 1, 1, 1, 1, 1, 1, 1, 1, 1, 1, 1, 1,\n",
       "       1, 1, 1, 1, 1, 1, 1, 1, 1, 1, 1, 1, 1, 1, 1, 1, 1, 1, 1, 1, 1, 1,\n",
       "       1, 1, 1, 1, 1, 1, 1, 1, 1, 1, 1, 1, 1, 1, 1, 1, 1, 1, 1, 1, 1, 1,\n",
       "       1, 2, 2, 2, 2, 2, 2, 2, 2, 2, 2, 2, 2, 2, 2, 2, 2, 2, 2, 2, 2, 3,\n",
       "       3, 3, 3, 3, 3, 3, 3, 3, 3, 3, 3, 3, 3, 3, 3, 3, 3, 3, 4, 4, 4, 4,\n",
       "       4, 4, 4, 4, 4, 4, 4, 4, 4, 4, 4, 4, 4, 4, 4, 0, 0, 0, 0, 0, 0, 0,\n",
       "       0, 0, 0, 0, 0, 0, 0, 0, 0, 0, 0, 0, 0, 0], dtype=int64)"
      ]
     },
     "execution_count": 13,
     "metadata": {},
     "output_type": "execute_result"
    }
   ],
   "source": [
    "true_label[0:190]"
   ]
  },
  {
   "cell_type": "code",
   "execution_count": 12,
   "metadata": {},
   "outputs": [],
   "source": [
    "true_label[np.where(true_label == 3)] = 10\n",
    "true_label[np.where(true_label == 0)] = 11\n",
    "true_label[np.where(true_label == 2)] = 13\n",
    "true_label[np.where(true_label == 1)] = 12\n",
    "true_label = true_label -10"
   ]
  },
  {
   "cell_type": "code",
   "execution_count": 29,
   "metadata": {},
   "outputs": [],
   "source": [
    "gempy3 = clf.labels"
   ]
  },
  {
   "cell_type": "code",
   "execution_count": 13,
   "metadata": {
    "scrolled": true
   },
   "outputs": [
    {
     "data": {
      "text/plain": [
       "array([0, 0, 0, 0, 0, 0, 0, 0, 0, 0, 0, 0, 0, 0, 0, 0, 0, 0, 0, 0, 0, 0,\n",
       "       0, 0, 0, 0, 0, 0, 0, 0, 0, 0, 0, 0, 0, 0, 0, 0, 0, 0, 0, 0, 0, 0,\n",
       "       0, 0, 0, 0, 1, 1, 1, 1, 1, 1, 1, 1, 1, 1, 1, 1, 1, 1, 1, 1, 1, 3,\n",
       "       1, 1, 1, 1, 1, 1, 1, 1, 1, 1, 1, 1, 3, 1, 1, 1, 0, 3, 1, 3, 1, 1,\n",
       "       1, 3, 1, 1, 1, 1, 1, 2, 2, 2, 2, 2, 0, 2, 2, 2, 2, 2, 2, 2, 2, 2,\n",
       "       2, 2, 2, 2, 2, 2, 2, 2, 2, 2, 2, 2, 2, 2, 2, 2, 2, 2, 2, 2, 2, 0,\n",
       "       2, 2, 2, 2, 2, 2, 2, 2, 2, 2, 2, 3, 3, 3, 3, 3, 3, 3, 3, 3, 3, 3,\n",
       "       3, 3, 3, 3, 3, 3, 3, 2, 3, 3, 1, 3, 3, 3, 3, 3, 3, 3, 3, 3, 3, 3,\n",
       "       3, 3, 3, 2, 3, 3, 3, 3, 3, 3, 3, 3, 3, 3], dtype=int64)"
      ]
     },
     "execution_count": 13,
     "metadata": {},
     "output_type": "execute_result"
    }
   ],
   "source": [
    "gempy3[-1][:190]"
   ]
  },
  {
   "cell_type": "code",
   "execution_count": 15,
   "metadata": {},
   "outputs": [],
   "source": [
    "# calculate number of incorrect voxels for each iteration i\n",
    "diff_gempy3 = []\n",
    "for i in range(len(gempy3)):\n",
    "    diff_gempy3.append(len(np.where(gempy3[i] - true_label != 0)[0]))"
   ]
  },
  {
   "cell_type": "code",
   "execution_count": 22,
   "metadata": {},
   "outputs": [],
   "source": [
    "gempy2 = clf.labels"
   ]
  },
  {
   "cell_type": "code",
   "execution_count": 23,
   "metadata": {
    "scrolled": true
   },
   "outputs": [
    {
     "data": {
      "text/plain": [
       "array([1, 1, 1, 1, 1, 1, 1, 1, 1, 1, 1, 1, 1, 1, 1, 1, 1, 1, 1, 1, 1, 1,\n",
       "       1, 1, 1, 1, 1, 1, 1, 1, 1, 1, 1, 1, 1, 1, 1, 1, 1, 1, 1, 1, 1, 1,\n",
       "       1, 1, 1, 1, 3, 3, 3, 3, 3, 3, 3, 3, 3, 3, 3, 3, 3, 3, 3, 3, 3, 3,\n",
       "       3, 3, 3, 3, 3, 3, 3, 3, 3, 3, 3, 3, 3, 3, 3, 3, 3, 3, 3, 3, 3, 3,\n",
       "       3, 3, 3, 3, 3, 3, 3, 2, 2, 2, 2, 2, 2, 2, 2, 2, 2, 2, 2, 2, 2, 2,\n",
       "       2, 2, 2, 2, 2, 2, 2, 2, 2, 2, 2, 2, 2, 2, 2, 2, 2, 2, 2, 2, 2, 2,\n",
       "       2, 2, 2, 2, 2, 2, 2, 2, 2, 2, 2, 0, 0, 0, 0, 0, 0, 0, 0, 0, 0, 0,\n",
       "       0, 0, 0, 0, 0, 0, 0, 0, 0, 0, 0, 0, 0, 0, 0, 0, 0, 0, 0, 0, 0, 0,\n",
       "       0, 0, 0, 0, 0, 0, 0, 0, 0, 0, 0, 0, 0, 0], dtype=int64)"
      ]
     },
     "execution_count": 23,
     "metadata": {},
     "output_type": "execute_result"
    }
   ],
   "source": [
    "gempy2[-1][:190]"
   ]
  },
  {
   "cell_type": "code",
   "execution_count": 30,
   "metadata": {},
   "outputs": [],
   "source": [
    "# calculate number of incorrect voxels for each iteration i\n",
    "diff_gempy2 = []\n",
    "for i in range(len(gempy2)):\n",
    "    diff_gempy2.append(len(np.where(gempy2[i] - true_label != 0)[0]))"
   ]
  },
  {
   "cell_type": "code",
   "execution_count": 8,
   "metadata": {},
   "outputs": [],
   "source": [
    "gempy = clf.labels"
   ]
  },
  {
   "cell_type": "code",
   "execution_count": 9,
   "metadata": {},
   "outputs": [
    {
     "data": {
      "text/plain": [
       "array([0, 0, 0, 0, 0, 0, 0, 0, 0, 0, 0, 0, 0, 0, 0, 0, 0, 0, 0, 0, 0, 0,\n",
       "       0, 0, 0, 0, 0, 0, 0, 0, 0, 0, 0, 0, 0, 0, 0, 0, 0, 3, 0, 0, 0, 0,\n",
       "       0, 0, 0, 0, 1, 1, 1, 1, 1, 1, 1, 1, 1, 1, 1, 1, 1, 1, 1, 1, 1, 1,\n",
       "       1, 1, 1, 1, 1, 1, 1, 1, 1, 1, 1, 1, 1, 1, 1, 1, 2, 1, 1, 1, 1, 1,\n",
       "       1, 1, 1, 1, 1, 1, 1, 3, 3, 3, 3, 0, 0, 3, 3, 3, 3, 3, 3, 3, 3, 3,\n",
       "       3, 3, 3, 3, 3, 3, 3, 3, 3, 3, 3, 3, 3, 3, 3, 3, 2, 3, 3, 3, 3, 2,\n",
       "       3, 3, 3, 3, 3, 3, 3, 3, 3, 3, 3, 2, 2, 2, 3, 2, 1, 1, 2, 2, 2, 2,\n",
       "       2, 2, 2, 2, 2, 2, 2, 2, 2, 2, 1, 2, 2, 1, 1, 1, 2, 2, 2, 2, 2, 1,\n",
       "       2, 2, 2, 2, 2, 2, 2, 1, 2, 1, 1, 2, 2, 1], dtype=int64)"
      ]
     },
     "execution_count": 9,
     "metadata": {},
     "output_type": "execute_result"
    }
   ],
   "source": [
    "gempy[-1][:190]"
   ]
  },
  {
   "cell_type": "code",
   "execution_count": 13,
   "metadata": {},
   "outputs": [],
   "source": [
    "# calculate number of incorrect voxels for each iteration i\n",
    "diff_gempy = []\n",
    "for i in range(len(gempy)):\n",
    "    diff_gempy.append(len(np.where(gempy[i] - true_label != 0)[0]))"
   ]
  },
  {
   "cell_type": "code",
   "execution_count": 155,
   "metadata": {},
   "outputs": [],
   "source": [
    "labels = clf.labels"
   ]
  },
  {
   "cell_type": "code",
   "execution_count": 156,
   "metadata": {},
   "outputs": [
    {
     "data": {
      "text/plain": [
       "array([2, 2, 2, 2, 2, 2, 2, 2, 2, 2, 2, 2, 2, 2, 2, 2, 2, 2, 2, 2, 2, 2,\n",
       "       2, 2, 2, 2, 2, 2, 2, 2, 2, 2, 2, 2, 2, 2, 2, 2, 2, 2, 2, 2, 2, 2,\n",
       "       2, 2, 2, 2, 0, 0, 0, 0, 0, 0, 0, 0, 0, 0, 0, 0, 0, 0, 0, 0, 0, 0,\n",
       "       0, 0, 0, 0, 0, 0, 0, 0, 0, 0, 0, 0, 0, 0, 0, 0, 0, 0, 0, 0, 0, 0,\n",
       "       0, 0, 0, 0, 0, 0, 0, 1, 1, 1, 1, 1, 1, 1, 1, 1, 1, 1, 1, 1, 1, 1,\n",
       "       1, 1, 1, 1, 1, 1, 1, 1, 1, 1, 1, 1, 1, 1, 1, 1, 1, 1, 1, 1, 1, 1,\n",
       "       1, 1, 1, 1, 1, 1, 1, 1, 1, 1, 1, 3, 3, 3, 3, 3, 3, 3, 3, 3, 3, 3,\n",
       "       3, 3, 3, 3, 3, 3, 3, 3, 3, 3, 3, 3, 3, 3, 3, 3, 3, 3, 3, 3, 3, 3,\n",
       "       3, 3, 3, 1, 3, 3, 3, 3, 3, 3, 3, 3, 3, 3], dtype=int64)"
      ]
     },
     "execution_count": 156,
     "metadata": {},
     "output_type": "execute_result"
    }
   ],
   "source": [
    "labels[-1][:190]"
   ]
  },
  {
   "cell_type": "code",
   "execution_count": 160,
   "metadata": {},
   "outputs": [],
   "source": [
    "# calculate number of incorrect voxels for each iteration i\n",
    "diff = []\n",
    "for i in range(len(labels)):\n",
    "    diff.append(len(np.where(labels[i] - true_label != 0)[0]))"
   ]
  },
  {
   "cell_type": "markdown",
   "metadata": {},
   "source": [
    "### Convergence with GemPy"
   ]
  },
  {
   "cell_type": "code",
   "execution_count": 14,
   "metadata": {},
   "outputs": [
    {
     "data": {
      "text/plain": [
       "[<matplotlib.lines.Line2D at 0x28c00659eb8>]"
      ]
     },
     "execution_count": 14,
     "metadata": {},
     "output_type": "execute_result"
    },
    {
     "data": {
      "image/png": "[encoded data removed]",
      "text/plain": [
       "<matplotlib.figure.Figure at 0x28c060ee240>"
      ]
     },
     "metadata": {},
     "output_type": "display_data"
    }
   ],
   "source": [
    "% matplotlib inline\n",
    "plt.figure(figsize=(12,4))\n",
    "\n",
    "plt.plot(range(0,len(gempy)), \n",
    "         np.asarray(diff_gempy)/len(gempy[-1]), \n",
    "         'g', linewidth=0.4)\n",
    "plt.plot(range(0,len(gempy)), \n",
    "         np.ones(len(gempy))*np.mean(diff_gempy)/len(gempy[-1]),\n",
    "         'r--',label='mean difference GemPy')"
   ]
  },
  {
   "cell_type": "markdown",
   "metadata": {},
   "source": [
    "### Convergence without GemPy"
   ]
  },
  {
   "cell_type": "code",
   "execution_count": 31,
   "metadata": {},
   "outputs": [
    {
     "data": {
      "text/plain": [
       "[<matplotlib.lines.Line2D at 0x18c005f5128>]"
      ]
     },
     "execution_count": 31,
     "metadata": {},
     "output_type": "execute_result"
    },
    {
     "data": {
      "image/png": "[encoded data removed]",
      "text/plain": [
       "<matplotlib.figure.Figure at 0x18c169ad080>"
      ]
     },
     "metadata": {},
     "output_type": "display_data"
    }
   ],
   "source": [
    "% matplotlib inline\n",
    "plt.figure(figsize=(12,4))\n",
    "\n",
    "plt.plot(range(0,len(gempy2)), \n",
    "         np.asarray(diff_gempy2)/len(gempy2[-1]), \n",
    "         'g', linewidth=0.4)\n",
    "plt.plot(range(0,len(gempy2)), \n",
    "         np.ones(len(gempy2))*np.mean(diff_gempy2)/len(gempy2[-1]),\n",
    "         'r--',label='mean difference GemPy')"
   ]
  },
  {
   "cell_type": "markdown",
   "metadata": {},
   "source": [
    "### Convergence with GemPy"
   ]
  },
  {
   "cell_type": "code",
   "execution_count": 18,
   "metadata": {},
   "outputs": [
    {
     "data": {
      "text/plain": [
       "[<matplotlib.lines.Line2D at 0x18c1c84dbe0>]"
      ]
     },
     "execution_count": 18,
     "metadata": {},
     "output_type": "execute_result"
    },
    {
     "data": {
      "image/png": "[encoded data removed]",
      "text/plain": [
       "<matplotlib.figure.Figure at 0x18c1c85fbe0>"
      ]
     },
     "metadata": {},
     "output_type": "display_data"
    }
   ],
   "source": [
    "% matplotlib inline\n",
    "plt.figure(figsize=(12,4))\n",
    "\n",
    "plt.plot(range(0,len(gempy3)), \n",
    "         np.asarray(diff_gempy3)/len(gempy3[-1]), \n",
    "         'g', linewidth=0.4)\n",
    "plt.plot(range(0,len(gempy3)), \n",
    "         np.ones(len(gempy3))*np.mean(diff_gempy3)/len(gempy3[-1]),\n",
    "         'r--',label='mean difference GemPy')\n"
   ]
  },
  {
   "cell_type": "code",
   "execution_count": null,
   "metadata": {},
   "outputs": [],
   "source": []
  },
  {
   "cell_type": "code",
   "execution_count": null,
   "metadata": {},
   "outputs": [],
   "source": []
  },
  {
   "cell_type": "code",
   "execution_count": 35,
   "metadata": {},
   "outputs": [],
   "source": [
    "labels_without_gempy = clf.labels"
   ]
  },
  {
   "cell_type": "code",
   "execution_count": 115,
   "metadata": {
    "scrolled": true
   },
   "outputs": [
    {
     "data": {
      "text/plain": [
       "array([1, 1, 1, 1, 0, 1, 1, 1, 1, 1, 1, 1, 1, 1, 1, 1, 1, 1, 1, 1, 1, 1,\n",
       "       1, 1, 1, 1, 1, 1, 1, 1, 1, 0, 1, 1, 1, 1, 1, 0, 1, 2, 1, 1, 1, 1,\n",
       "       1, 1, 1, 1, 3, 0, 2, 0, 2, 1, 2, 2, 3, 3, 3, 0, 0, 2, 0, 3, 3, 3,\n",
       "       0, 3, 3, 3, 2, 2, 0, 2, 3, 0, 2, 3, 2, 3, 2, 2, 2, 2, 3, 2, 3, 2,\n",
       "       2, 2, 3, 0, 0, 2, 2, 0, 0, 0, 0, 0, 0, 1, 0, 2, 0, 0, 2, 0, 0, 2,\n",
       "       1, 3, 0, 0, 2, 2, 0, 0, 0, 0, 0, 0, 2, 0, 0, 0, 0, 1, 0, 0, 0, 0,\n",
       "       0, 3, 0, 0, 0, 0, 2, 0, 1, 0, 0, 3, 3, 3, 3, 3, 3, 2, 3, 3, 3, 3,\n",
       "       3, 3, 3, 3, 2, 2, 3, 1, 0, 3, 3, 0, 3, 3, 1, 0, 3, 3, 3, 0, 3, 0,\n",
       "       3, 3, 3, 3, 3, 3, 3, 3, 0, 0, 1, 3, 2, 0], dtype=int64)"
      ]
     },
     "execution_count": 115,
     "metadata": {},
     "output_type": "execute_result"
    }
   ],
   "source": [
    "labels_without_gempy[0][:190]"
   ]
  },
  {
   "cell_type": "code",
   "execution_count": 130,
   "metadata": {},
   "outputs": [],
   "source": [
    "labels_without_gempy2 = clf.labels"
   ]
  },
  {
   "cell_type": "code",
   "execution_count": 131,
   "metadata": {},
   "outputs": [
    {
     "data": {
      "text/plain": [
       "array([0, 0, 0, 0, 3, 0, 0, 0, 0, 0, 0, 0, 0, 0, 0, 0, 0, 0, 0, 0, 0, 0,\n",
       "       0, 0, 0, 0, 0, 0, 0, 0, 0, 3, 0, 0, 0, 0, 0, 3, 0, 2, 0, 0, 0, 0,\n",
       "       0, 0, 0, 0, 1, 3, 2, 3, 2, 0, 2, 2, 1, 1, 1, 3, 3, 2, 3, 1, 1, 2,\n",
       "       3, 2, 1, 1, 2, 2, 3, 2, 1, 3, 2, 2, 3, 1, 2, 2, 2, 2, 2, 2, 1, 2,\n",
       "       2, 2, 1, 3, 3, 2, 2, 3, 3, 3, 3, 3, 3, 0, 3, 2, 3, 3, 2, 3, 3, 2,\n",
       "       0, 1, 3, 3, 3, 2, 3, 3, 3, 3, 3, 3, 2, 3, 3, 3, 3, 0, 3, 3, 3, 3,\n",
       "       3, 1, 3, 3, 3, 3, 2, 3, 0, 3, 3, 1, 1, 1, 1, 1, 1, 2, 1, 1, 1, 1,\n",
       "       3, 1, 1, 1, 2, 2, 1, 0, 3, 1, 1, 1, 1, 1, 0, 3, 1, 1, 1, 3, 1, 3,\n",
       "       1, 1, 1, 1, 1, 1, 1, 1, 3, 3, 0, 1, 2, 3], dtype=int64)"
      ]
     },
     "execution_count": 131,
     "metadata": {},
     "output_type": "execute_result"
    }
   ],
   "source": [
    "labels_without_gempy2[0][:190]"
   ]
  },
  {
   "cell_type": "code",
   "execution_count": 42,
   "metadata": {},
   "outputs": [],
   "source": [
    "labels_with_gempy = clf.labels"
   ]
  },
  {
   "cell_type": "code",
   "execution_count": 116,
   "metadata": {},
   "outputs": [
    {
     "data": {
      "text/plain": [
       "array([1, 1, 1, 1, 3, 1, 1, 1, 1, 1, 1, 1, 1, 1, 1, 1, 1, 1, 1, 1, 1, 1,\n",
       "       1, 1, 1, 1, 1, 1, 1, 1, 1, 3, 1, 1, 1, 1, 1, 3, 1, 2, 1, 1, 1, 1,\n",
       "       1, 1, 1, 1, 0, 3, 2, 3, 2, 1, 2, 2, 0, 0, 0, 3, 3, 2, 3, 0, 0, 0,\n",
       "       3, 0, 0, 0, 2, 2, 3, 2, 0, 3, 2, 0, 2, 0, 2, 0, 2, 2, 0, 2, 0, 2,\n",
       "       2, 2, 0, 3, 3, 2, 2, 3, 3, 3, 3, 3, 3, 1, 3, 2, 3, 3, 2, 3, 3, 2,\n",
       "       1, 0, 3, 3, 2, 2, 3, 3, 3, 3, 3, 3, 2, 3, 3, 3, 3, 1, 3, 3, 3, 3,\n",
       "       3, 0, 3, 3, 3, 3, 2, 3, 1, 3, 3, 0, 0, 0, 0, 0, 0, 2, 0, 0, 0, 0,\n",
       "       0, 0, 0, 0, 2, 2, 0, 1, 3, 0, 0, 0, 0, 0, 1, 3, 0, 0, 0, 3, 0, 3,\n",
       "       0, 0, 0, 0, 0, 0, 0, 0, 3, 3, 1, 0, 2, 3], dtype=int64)"
      ]
     },
     "execution_count": 116,
     "metadata": {},
     "output_type": "execute_result"
    }
   ],
   "source": [
    "labels_with_gempy[0][:190]"
   ]
  },
  {
   "cell_type": "code",
   "execution_count": 113,
   "metadata": {},
   "outputs": [],
   "source": [
    "labels_with_gempy2 = clf.labels"
   ]
  },
  {
   "cell_type": "code",
   "execution_count": 117,
   "metadata": {},
   "outputs": [
    {
     "data": {
      "text/plain": [
       "array([2, 2, 2, 2, 3, 2, 2, 2, 2, 2, 2, 2, 2, 2, 2, 2, 2, 2, 2, 2, 2, 2,\n",
       "       2, 2, 2, 2, 2, 2, 2, 2, 2, 3, 2, 2, 2, 2, 2, 1, 2, 1, 2, 2, 2, 2,\n",
       "       2, 2, 2, 2, 0, 3, 1, 3, 1, 2, 1, 1, 0, 3, 0, 3, 3, 1, 1, 0, 0, 0,\n",
       "       1, 0, 0, 0, 1, 1, 3, 1, 0, 3, 1, 0, 3, 0, 1, 0, 1, 1, 0, 1, 0, 1,\n",
       "       1, 1, 0, 3, 3, 1, 1, 3, 3, 3, 3, 3, 3, 2, 3, 1, 3, 3, 1, 3, 3, 1,\n",
       "       2, 0, 3, 3, 1, 1, 3, 3, 3, 3, 3, 3, 0, 3, 3, 1, 3, 2, 1, 3, 3, 3,\n",
       "       1, 0, 3, 3, 3, 3, 1, 3, 2, 1, 3, 0, 0, 0, 0, 0, 0, 0, 0, 0, 0, 0,\n",
       "       0, 0, 0, 0, 0, 1, 0, 2, 3, 0, 0, 3, 0, 0, 2, 3, 0, 0, 0, 1, 0, 3,\n",
       "       0, 0, 0, 0, 0, 0, 0, 0, 3, 3, 2, 0, 0, 1], dtype=int64)"
      ]
     },
     "execution_count": 117,
     "metadata": {},
     "output_type": "execute_result"
    }
   ],
   "source": [
    "labels_with_gempy2[0][:190]"
   ]
  },
  {
   "cell_type": "code",
   "execution_count": 106,
   "metadata": {},
   "outputs": [],
   "source": [
    "np.savetxt('labels_with_gempy2.csv', labels_with_gempy, delimiter=',')"
   ]
  },
  {
   "cell_type": "code",
   "execution_count": 109,
   "metadata": {},
   "outputs": [],
   "source": [
    "a = np.loadtxt('labels_with_gempy2.csv', dtype = 'str')"
   ]
  },
  {
   "cell_type": "code",
   "execution_count": 93,
   "metadata": {},
   "outputs": [],
   "source": [
    "# calculate number of incorrect voxels for each iteration i\n",
    "diff_without_gempy = []\n",
    "for i in range(len(labels_without_gempy)):\n",
    "    diff_without_gempy.append(len(np.where(labels_without_gempy[i] - true_label != 0)[0]))"
   ]
  },
  {
   "cell_type": "code",
   "execution_count": 135,
   "metadata": {},
   "outputs": [],
   "source": [
    "# calculate number of incorrect voxels for each iteration i\n",
    "diff_without_gempy2 = []\n",
    "for i in range(len(labels_without_gempy2)):\n",
    "    diff_without_gempy2.append(len(np.where(labels_without_gempy2[i] - true_label != 0)[0]))"
   ]
  },
  {
   "cell_type": "code",
   "execution_count": 125,
   "metadata": {},
   "outputs": [],
   "source": [
    "# calculate number of incorrect voxels for each iteration i\n",
    "diff_with_gempy = []\n",
    "for i in range(len(labels_with_gempy)):\n",
    "    diff_with_gempy.append(len(np.where(labels_with_gempy[i] - true_label != 0)[0]))"
   ]
  },
  {
   "cell_type": "code",
   "execution_count": 121,
   "metadata": {},
   "outputs": [],
   "source": [
    "# calculate number of incorrect voxels for each iteration i\n",
    "diff_with_gempy2 = []\n",
    "for i in range(len(labels_with_gempy2)):\n",
    "    diff_with_gempy2.append(len(np.where(labels_with_gempy2[i] - true_label != 0)[0]))"
   ]
  },
  {
   "cell_type": "code",
   "execution_count": 61,
   "metadata": {},
   "outputs": [
    {
     "data": {
      "text/plain": [
       "501"
      ]
     },
     "execution_count": 61,
     "metadata": {},
     "output_type": "execute_result"
    }
   ],
   "source": []
  },
  {
   "cell_type": "code",
   "execution_count": 136,
   "metadata": {
    "scrolled": false
   },
   "outputs": [
    {
     "data": {
      "text/plain": [
       "<matplotlib.legend.Legend at 0x1e100568b70>"
      ]
     },
     "execution_count": 136,
     "metadata": {},
     "output_type": "execute_result"
    },
    {
     "data": {
      "image/png": "[encoded data removed]",
      "text/plain": [
       "<matplotlib.figure.Figure at 0x1e105a31160>"
      ]
     },
     "metadata": {},
     "output_type": "display_data"
    }
   ],
   "source": [
    "% matplotlib inline\n",
    "plt.figure(figsize=(12,4))\n",
    "plt.plot(range(0,len(labels_with_gempy)), \n",
    "         np.asarray(diff_with_gempy)/len(labels_with_gempy[-1]), \n",
    "         'k', linewidth=0.4)\n",
    "plt.plot(range(0,len(labels_with_gempy)), \n",
    "         np.ones(len(labels_with_gempy))*np.mean(diff_with_gempy)/len(labels_with_gempy[-1]),\n",
    "         'r--',label='mean difference GemPy')\n",
    "plt.plot(range(0,len(labels_without_gempy)), \n",
    "         np.asarray(diff_without_gempy)/len(labels_without_gempy[-1]), \n",
    "         'b', linewidth=0.4)\n",
    "plt.plot(range(0,len(labels_without_gempy)), \n",
    "         np.ones(len(labels_without_gempy))*np.mean(diff_without_gempy)/len(labels_without_gempy[-1]),\n",
    "         'r.',label='mean difference',markersize = 2)\n",
    "plt.plot(range(0,len(labels_with_gempy2)), \n",
    "         np.asarray(diff_with_gempy2)/len(labels_with_gempy2[-1]), \n",
    "         'k', linewidth=0.4)\n",
    "plt.plot(range(0,len(labels_with_gempy2)), \n",
    "         np.ones(len(labels_with_gempy2))*np.mean(diff_with_gempy2)/len(labels_with_gempy2[-1]),\n",
    "         'r--',label='mean difference GemPy')\n",
    "plt.plot(range(0,len(labels_without_gempy2)), \n",
    "         np.asarray(diff_without_gempy2)/len(labels_without_gempy2[-1]), \n",
    "         'b', linewidth=0.4)\n",
    "plt.plot(range(0,len(labels_without_gempy2)), \n",
    "         np.ones(len(labels_without_gempy2))*np.mean(diff_without_gempy2)/len(labels_without_gempy2[-1]),\n",
    "         'r.',label='mean difference',markersize = 2)\n",
    "\n",
    "plt.legend()"
   ]
  },
  {
   "cell_type": "code",
   "execution_count": 47,
   "metadata": {},
   "outputs": [
    {
     "data": {
      "text/plain": [
       "[<matplotlib.lines.Line2D at 0x207a672e048>]"
      ]
     },
     "execution_count": 47,
     "metadata": {},
     "output_type": "execute_result"
    },
    {
     "data": {
      "image/png": "[encoded data removed]",
      "text/plain": [
       "<matplotlib.figure.Figure at 0x2079e6b1ba8>"
      ]
     },
     "metadata": {},
     "output_type": "display_data"
    }
   ],
   "source": [
    "plt.figure(figsize=(15,3))\n",
    "plt.plot(np.arange(1001), clf.betas[300:], linewidth = 0.5)"
   ]
  },
  {
   "cell_type": "code",
   "execution_count": 414,
   "metadata": {},
   "outputs": [
    {
     "name": "stdout",
     "output_type": "stream",
     "text": [
      "Mean: 0.115\n",
      "Diff: 0.065\n"
     ]
    }
   ],
   "source": [
    "# 25 boreholes (100 iter)\n",
    "print('Mean:', np.round(np.mean(diff)/len(clf.labels[-1]),3))\n",
    "print('Diff:', np.round(diff[-1]/len(clf.labels[-1]),3))"
   ]
  },
  {
   "cell_type": "code",
   "execution_count": 328,
   "metadata": {},
   "outputs": [
    {
     "name": "stdout",
     "output_type": "stream",
     "text": [
      "Mean: 0.027\n",
      "Diff: 0.012\n"
     ]
    }
   ],
   "source": [
    "# 10 boreholes (100 iter)\n",
    "print('Mean:', np.round(np.mean(diff)/len(clf.labels[-1]),3))\n",
    "print('Diff:', np.round(diff[-1]/len(clf.labels[-1]),3))"
   ]
  },
  {
   "cell_type": "code",
   "execution_count": 376,
   "metadata": {},
   "outputs": [
    {
     "name": "stdout",
     "output_type": "stream",
     "text": [
      "Mean: 0.055\n",
      "Diff: 0.028\n"
     ]
    }
   ],
   "source": [
    "# 4 boreholes (100 iter)\n",
    "print('Mean:', np.round(np.mean(diff)/len(clf.labels[-1]),3))\n",
    "print('Diff:', np.round(diff[-1]/len(clf.labels[-1]),3))"
   ]
  },
  {
   "cell_type": "code",
   "execution_count": 442,
   "metadata": {},
   "outputs": [
    {
     "name": "stdout",
     "output_type": "stream",
     "text": [
      "Mean: 0.235\n",
      "Diff: 0.237\n"
     ]
    }
   ],
   "source": [
    "# 1 borehole (100 iter)\n",
    "print('Mean:', np.round(np.mean(diff)/len(clf.labels[-1]),3))\n",
    "print('Diff:', np.round(diff[-1]/len(clf.labels[-1]),3))"
   ]
  },
  {
   "cell_type": "code",
   "execution_count": 2,
   "metadata": {},
   "outputs": [],
   "source": [
    "mean_4 = [0.128, 0.060, 0.018, 0.037]\n",
    "diff_4 = [0.116, 0.042, 0.013, 0.014]\n",
    "mean_5_5 = [0.235, 0.055, 0.027, 0.075]\n",
    "diff_5_5 = [0.237, 0.028, 0.012, 0.035]\n",
    "n_boreholes = [1, 2, 3, 4]"
   ]
  },
  {
   "cell_type": "code",
   "execution_count": 3,
   "metadata": {},
   "outputs": [],
   "source": [
    "import pylab as plt"
   ]
  },
  {
   "cell_type": "code",
   "execution_count": 9,
   "metadata": {},
   "outputs": [
    {
     "data": {
      "text/plain": [
       "<matplotlib.legend.Legend at 0x1c6980a2f60>"
      ]
     },
     "execution_count": 9,
     "metadata": {},
     "output_type": "execute_result"
    },
    {
     "data": {
      "image/png": "[encoded data removed]",
      "text/plain": [
       "<matplotlib.figure.Figure at 0x1c698059c88>"
      ]
     },
     "metadata": {},
     "output_type": "display_data"
    }
   ],
   "source": [
    "plt.figure(figsize=(8,3))\n",
    "plt.plot(n_boreholes, diff_4 ,'r', linewidth=1,label='δ_last with σ = 4')\n",
    "plt.plot(n_boreholes, mean_4 ,'r--', linewidth=1,label='δ_mean with σ = 4')\n",
    "plt.plot(n_boreholes, diff_5_5 ,'k', linewidth=1,label='δ_last with σ = 5.5')\n",
    "plt.plot(n_boreholes, mean_5_5 ,'k--', linewidth=1,label='δ_mean with σ = 5.5')\n",
    "plt.title('Performance of the segmenation algorithm \\n for different number of boreholes #')\n",
    "plt.xlabel('number of boreholes # | number of data points [/]')\n",
    "plt.ylabel('δ [/]')\n",
    "labels = ['1 | 190', '4 | 760', '10 | 1900', '25 | 4750']\n",
    "plt.xticks(n_boreholes,labels)\n",
    "plt.legend()\n"
   ]
  },
  {
   "cell_type": "code",
   "execution_count": null,
   "metadata": {},
   "outputs": [],
   "source": []
  }
 ],
 "metadata": {
  "kernelspec": {
   "display_name": "Python 3",
   "language": "python",
   "name": "python3"
  },
  "language_info": {
   "codemirror_mode": {
    "name": "ipython",
    "version": 3
   },
   "file_extension": ".py",
   "mimetype": "text/x-python",
   "name": "python",
   "nbconvert_exporter": "python",
   "pygments_lexer": "ipython3",
   "version": "3.6.4"
  }
 },
 "nbformat": 4,
 "nbformat_minor": 2
}
