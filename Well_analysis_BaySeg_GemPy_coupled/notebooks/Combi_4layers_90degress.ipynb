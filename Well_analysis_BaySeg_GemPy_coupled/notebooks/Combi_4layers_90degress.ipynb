{
 "cells": [
  {
   "cell_type": "markdown",
   "metadata": {},
   "source": [
    "# Combination BaySeg - GemPy"
   ]
  },
  {
   "cell_type": "markdown",
   "metadata": {},
   "source": [
    "## 4 perfectly horizontal layers"
   ]
  },
  {
   "cell_type": "code",
   "execution_count": 1,
   "metadata": {},
   "outputs": [],
   "source": [
    "import numpy as np\n",
    "import pandas as pd\n",
    "import itertools as it\n",
    "\n",
    "import sys\n",
    "sys.path.append(\"C:/Users/Tobias Giesgen/PycharmProjects/gempy\")\n",
    "sys.path.append(\"../\")\n",
    "import bayseg\n",
    "import gempy as gp"
   ]
  },
  {
   "cell_type": "markdown",
   "metadata": {},
   "source": [
    "## Data import"
   ]
  },
  {
   "cell_type": "code",
   "execution_count": 2,
   "metadata": {},
   "outputs": [],
   "source": [
    "# load the data from excel sheet  \n",
    "data = pd.read_csv(\"../data/synthetic_well_data_3_layers_tilted.csv\")\n",
    "\n",
    "# define measurement names \n",
    "feature_names = ['GR','NEUDEN','PE','IND'] #  ['feature1','feature2','feature3','feature4'] #,'feature5','feature6','feature7','feature8'] #  \n",
    "\n",
    "# define borehole names\n",
    "boreholes = ['BH1','BH2','BH3','BH4','BH5']# ,'BH6','BH7','BH8']"
   ]
  },
  {
   "cell_type": "markdown",
   "metadata": {},
   "source": [
    "## Data normalization \n",
    "##### [-3, 3] --> important for varying well data"
   ]
  },
  {
   "cell_type": "code",
   "execution_count": 3,
   "metadata": {
    "scrolled": false
   },
   "outputs": [],
   "source": [
    "feature_vectors_norm = bayseg.normalize_feature_vectors(data.loc[:,feature_names])"
   ]
  },
  {
   "cell_type": "markdown",
   "metadata": {},
   "source": [
    "## Investigate number of labels\n",
    "##### Bayesian information criteria "
   ]
  },
  {
   "cell_type": "code",
   "execution_count": 4,
   "metadata": {
    "scrolled": true
   },
   "outputs": [
    {
     "data": {
      "image/png": "[encoded data removed]",
      "text/plain": [
       "<matplotlib.figure.Figure at 0x2ae2f8a2828>"
      ]
     },
     "metadata": {},
     "output_type": "display_data"
    },
    {
     "name": "stdout",
     "output_type": "stream",
     "text": [
      "global minimum:  3\n"
     ]
    },
    {
     "data": {
      "text/plain": [
       "3"
      ]
     },
     "execution_count": 4,
     "metadata": {},
     "output_type": "execute_result"
    }
   ],
   "source": [
    "bayseg.bic(feature_vectors_norm, 15, plot = True)"
   ]
  },
  {
   "cell_type": "code",
   "execution_count": 5,
   "metadata": {},
   "outputs": [
    {
     "name": "stdout",
     "output_type": "stream",
     "text": [
      "The optimal number of layers is:  3\n"
     ]
    }
   ],
   "source": [
    "n, nft = bayseg.test_bic(feature_vectors_norm, 15)"
   ]
  },
  {
   "cell_type": "markdown",
   "metadata": {},
   "source": [
    "## Initial iteration of BaySeg-Segmentation"
   ]
  },
  {
   "cell_type": "code",
   "execution_count": 4,
   "metadata": {
    "scrolled": false
   },
   "outputs": [],
   "source": [
    "import importlib\n",
    "import matplotlib.pyplot as plt\n",
    "%matplotlib notebook\n",
    "\n",
    "clf = bayseg.BaySeg(feature_vectors_norm, 3, data , feature_names, boreholes, \n",
    "                    gp_resolution = 200, plot = '2dy', inc_gempy=True)"
   ]
  },
  {
   "cell_type": "code",
   "execution_count": 7,
   "metadata": {},
   "outputs": [],
   "source": [
    "# ver_s, sim_s = gp.get_surfaces(clf.interp_data, clf.lith_block[1], original_scale=True)\n",
    "# gp.plotting.plot_surfaces_3D_real_time(clf.geo_data,clf.interp_data, ver_s, sim_s)"
   ]
  },
  {
   "cell_type": "code",
   "execution_count": 8,
   "metadata": {},
   "outputs": [],
   "source": [
    "# %matplotlib notebook\n",
    "# gp.plotting.plot_section(clf.geo_data, clf.lith_block[0], cell_number = 5, direction = 'x', plot_data = True)"
   ]
  },
  {
   "cell_type": "code",
   "execution_count": 29,
   "metadata": {},
   "outputs": [],
   "source": [
    "# extract gempy_model with coordinates\n",
    "gempy_model = {'layer': np.flipud(clf.lith_block[0]).astype(int), 'X': np.flipud(clf.geo_data.grid.values[:,0]), \n",
    "               'Y': np.flipud(clf.geo_data.grid.values[:,1]),'Z': np.flipud(clf.geo_data.grid.values[:,2]),\n",
    "                  'gp_res': clf.gp_resolution}\n",
    "lith_block = pd.DataFrame(gempy_model)\n",
    "\n",
    "lith_block.to_csv('../data/gempy_model_4layers_90deg.csv', index= False)"
   ]
  },
  {
   "cell_type": "code",
   "execution_count": 6,
   "metadata": {},
   "outputs": [],
   "source": [
    "# gp.plotting.plot_data(clf.geo_data, direction = 'y')"
   ]
  },
  {
   "cell_type": "markdown",
   "metadata": {},
   "source": [
    "## Iterate the BaySeg-Segmentation "
   ]
  },
  {
   "cell_type": "code",
   "execution_count": 5,
   "metadata": {
    "scrolled": false
   },
   "outputs": [
    {
     "name": "stderr",
     "output_type": "stream",
     "text": [
      "\r",
      "  0%|                                                                                            | 0/5 [00:00<?, ?it/s]"
     ]
    },
    {
     "name": "stdout",
     "output_type": "stream",
     "text": [
      "Gempy model under construction:\n",
      "Borehole zoning finished!\n",
      "Compiling theano function...\n",
      "Compilation Done!\n",
      "Level of Optimization:  fast_compile\n",
      "Device:  cpu\n",
      "Precision:  float64\n",
      "Number of faults:  0\n",
      "Gempy model finished!\n",
      "Gempy model under construction:\n",
      "Borehole zoning finished!\n",
      "Compiling theano function...\n",
      "Compilation Done!\n",
      "Level of Optimization:  fast_compile\n",
      "Device:  cpu\n",
      "Precision:  float64\n",
      "Number of faults:  0\n",
      "Gempy model finished!\n"
     ]
    },
    {
     "name": "stderr",
     "output_type": "stream",
     "text": [
      "\r",
      " 20%|████████████████▌                                                                  | 1/5 [07:58<31:53, 478.30s/it]"
     ]
    },
    {
     "name": "stdout",
     "output_type": "stream",
     "text": [
      "Gempy model under construction:\n",
      "Borehole zoning finished!\n",
      "Gempy model finished!\n"
     ]
    },
    {
     "name": "stderr",
     "output_type": "stream",
     "text": [
      "\r",
      " 40%|█████████████████████████████████▏                                                 | 2/5 [11:28<17:13, 344.44s/it]"
     ]
    },
    {
     "name": "stdout",
     "output_type": "stream",
     "text": [
      "Gempy model under construction:\n",
      "Borehole zoning finished!\n",
      "Gempy model finished!\n"
     ]
    },
    {
     "name": "stderr",
     "output_type": "stream",
     "text": [
      "\r",
      " 60%|█████████████████████████████████████████████████▊                                 | 3/5 [15:02<10:01, 300.96s/it]"
     ]
    },
    {
     "name": "stdout",
     "output_type": "stream",
     "text": [
      "Gempy model under construction:\n",
      "Borehole zoning finished!\n",
      "Gempy model finished!\n"
     ]
    },
    {
     "name": "stderr",
     "output_type": "stream",
     "text": [
      "\r",
      " 80%|██████████████████████████████████████████████████████████████████▍                | 4/5 [18:30<04:37, 277.69s/it]"
     ]
    },
    {
     "name": "stdout",
     "output_type": "stream",
     "text": [
      "Gempy model under construction:\n",
      "Borehole zoning finished!\n"
     ]
    },
    {
     "data": {
      "application/javascript": [
       "/* Put everything inside the global mpl namespace */\n",
       "window.mpl = {};\n",
       "\n",
       "\n",
       "mpl.get_websocket_type = function() {\n",
       "    if (typeof(WebSocket) !== 'undefined') {\n",
       "        return WebSocket;\n",
       "    } else if (typeof(MozWebSocket) !== 'undefined') {\n",
       "        return MozWebSocket;\n",
       "    } else {\n",
       "        alert('Your browser does not have WebSocket support.' +\n",
       "              'Please try Chrome, Safari or Firefox ≥ 6. ' +\n",
       "              'Firefox 4 and 5 are also supported but you ' +\n",
       "              'have to enable WebSockets in about:config.');\n",
       "    };\n",
       "}\n",
       "\n",
       "mpl.figure = function(figure_id, websocket, ondownload, parent_element) {\n",
       "    this.id = figure_id;\n",
       "\n",
       "    this.ws = websocket;\n",
       "\n",
       "    this.supports_binary = (this.ws.binaryType != undefined);\n",
       "\n",
       "    if (!this.supports_binary) {\n",
       "        var warnings = document.getElementById(\"mpl-warnings\");\n",
       "        if (warnings) {\n",
       "            warnings.style.display = 'block';\n",
       "            warnings.textContent = (\n",
       "                \"This browser does not support binary websocket messages. \" +\n",
       "                    \"Performance may be slow.\");\n",
       "        }\n",
       "    }\n",
       "\n",
       "    this.imageObj = new Image();\n",
       "\n",
       "    this.context = undefined;\n",
       "    this.message = undefined;\n",
       "    this.canvas = undefined;\n",
       "    this.rubberband_canvas = undefined;\n",
       "    this.rubberband_context = undefined;\n",
       "    this.format_dropdown = undefined;\n",
       "\n",
       "    this.image_mode = 'full';\n",
       "\n",
       "    this.root = $('<div/>');\n",
       "    this._root_extra_style(this.root)\n",
       "    this.root.attr('style', 'display: inline-block');\n",
       "\n",
       "    $(parent_element).append(this.root);\n",
       "\n",
       "    this._init_header(this);\n",
       "    this._init_canvas(this);\n",
       "    this._init_toolbar(this);\n",
       "\n",
       "    var fig = this;\n",
       "\n",
       "    this.waiting = false;\n",
       "\n",
       "    this.ws.onopen =  function () {\n",
       "            fig.send_message(\"supports_binary\", {value: fig.supports_binary});\n",
       "            fig.send_message(\"send_image_mode\", {});\n",
       "            if (mpl.ratio != 1) {\n",
       "                fig.send_message(\"set_dpi_ratio\", {'dpi_ratio': mpl.ratio});\n",
       "            }\n",
       "            fig.send_message(\"refresh\", {});\n",
       "        }\n",
       "\n",
       "    this.imageObj.onload = function() {\n",
       "            if (fig.image_mode == 'full') {\n",
       "                // Full images could contain transparency (where diff images\n",
       "                // almost always do), so we need to clear the canvas so that\n",
       "                // there is no ghosting.\n",
       "                fig.context.clearRect(0, 0, fig.canvas.width, fig.canvas.height);\n",
       "            }\n",
       "            fig.context.drawImage(fig.imageObj, 0, 0);\n",
       "        };\n",
       "\n",
       "    this.imageObj.onunload = function() {\n",
       "        fig.ws.close();\n",
       "    }\n",
       "\n",
       "    this.ws.onmessage = this._make_on_message_function(this);\n",
       "\n",
       "    this.ondownload = ondownload;\n",
       "}\n",
       "\n",
       "mpl.figure.prototype._init_header = function() {\n",
       "    var titlebar = $(\n",
       "        '<div class=\"ui-dialog-titlebar ui-widget-header ui-corner-all ' +\n",
       "        'ui-helper-clearfix\"/>');\n",
       "    var titletext = $(\n",
       "        '<div class=\"ui-dialog-title\" style=\"width: 100%; ' +\n",
       "        'text-align: center; padding: 3px;\"/>');\n",
       "    titlebar.append(titletext)\n",
       "    this.root.append(titlebar);\n",
       "    this.header = titletext[0];\n",
       "}\n",
       "\n",
       "\n",
       "\n",
       "mpl.figure.prototype._canvas_extra_style = function(canvas_div) {\n",
       "\n",
       "}\n",
       "\n",
       "\n",
       "mpl.figure.prototype._root_extra_style = function(canvas_div) {\n",
       "\n",
       "}\n",
       "\n",
       "mpl.figure.prototype._init_canvas = function() {\n",
       "    var fig = this;\n",
       "\n",
       "    var canvas_div = $('<div/>');\n",
       "\n",
       "    canvas_div.attr('style', 'position: relative; clear: both; outline: 0');\n",
       "\n",
       "    function canvas_keyboard_event(event) {\n",
       "        return fig.key_event(event, event['data']);\n",
       "    }\n",
       "\n",
       "    canvas_div.keydown('key_press', canvas_keyboard_event);\n",
       "    canvas_div.keyup('key_release', canvas_keyboard_event);\n",
       "    this.canvas_div = canvas_div\n",
       "    this._canvas_extra_style(canvas_div)\n",
       "    this.root.append(canvas_div);\n",
       "\n",
       "    var canvas = $('<canvas/>');\n",
       "    canvas.addClass('mpl-canvas');\n",
       "    canvas.attr('style', \"left: 0; top: 0; z-index: 0; outline: 0\")\n",
       "\n",
       "    this.canvas = canvas[0];\n",
       "    this.context = canvas[0].getContext(\"2d\");\n",
       "\n",
       "    var backingStore = this.context.backingStorePixelRatio ||\n",
       "\tthis.context.webkitBackingStorePixelRatio ||\n",
       "\tthis.context.mozBackingStorePixelRatio ||\n",
       "\tthis.context.msBackingStorePixelRatio ||\n",
       "\tthis.context.oBackingStorePixelRatio ||\n",
       "\tthis.context.backingStorePixelRatio || 1;\n",
       "\n",
       "    mpl.ratio = (window.devicePixelRatio || 1) / backingStore;\n",
       "\n",
       "    var rubberband = $('<canvas/>');\n",
       "    rubberband.attr('style', \"position: absolute; left: 0; top: 0; z-index: 1;\")\n",
       "\n",
       "    var pass_mouse_events = true;\n",
       "\n",
       "    canvas_div.resizable({\n",
       "        start: function(event, ui) {\n",
       "            pass_mouse_events = false;\n",
       "        },\n",
       "        resize: function(event, ui) {\n",
       "            fig.request_resize(ui.size.width, ui.size.height);\n",
       "        },\n",
       "        stop: function(event, ui) {\n",
       "            pass_mouse_events = true;\n",
       "            fig.request_resize(ui.size.width, ui.size.height);\n",
       "        },\n",
       "    });\n",
       "\n",
       "    function mouse_event_fn(event) {\n",
       "        if (pass_mouse_events)\n",
       "            return fig.mouse_event(event, event['data']);\n",
       "    }\n",
       "\n",
       "    rubberband.mousedown('button_press', mouse_event_fn);\n",
       "    rubberband.mouseup('button_release', mouse_event_fn);\n",
       "    // Throttle sequential mouse events to 1 every 20ms.\n",
       "    rubberband.mousemove('motion_notify', mouse_event_fn);\n",
       "\n",
       "    rubberband.mouseenter('figure_enter', mouse_event_fn);\n",
       "    rubberband.mouseleave('figure_leave', mouse_event_fn);\n",
       "\n",
       "    canvas_div.on(\"wheel\", function (event) {\n",
       "        event = event.originalEvent;\n",
       "        event['data'] = 'scroll'\n",
       "        if (event.deltaY < 0) {\n",
       "            event.step = 1;\n",
       "        } else {\n",
       "            event.step = -1;\n",
       "        }\n",
       "        mouse_event_fn(event);\n",
       "    });\n",
       "\n",
       "    canvas_div.append(canvas);\n",
       "    canvas_div.append(rubberband);\n",
       "\n",
       "    this.rubberband = rubberband;\n",
       "    this.rubberband_canvas = rubberband[0];\n",
       "    this.rubberband_context = rubberband[0].getContext(\"2d\");\n",
       "    this.rubberband_context.strokeStyle = \"#000000\";\n",
       "\n",
       "    this._resize_canvas = function(width, height) {\n",
       "        // Keep the size of the canvas, canvas container, and rubber band\n",
       "        // canvas in synch.\n",
       "        canvas_div.css('width', width)\n",
       "        canvas_div.css('height', height)\n",
       "\n",
       "        canvas.attr('width', width * mpl.ratio);\n",
       "        canvas.attr('height', height * mpl.ratio);\n",
       "        canvas.attr('style', 'width: ' + width + 'px; height: ' + height + 'px;');\n",
       "\n",
       "        rubberband.attr('width', width);\n",
       "        rubberband.attr('height', height);\n",
       "    }\n",
       "\n",
       "    // Set the figure to an initial 600x600px, this will subsequently be updated\n",
       "    // upon first draw.\n",
       "    this._resize_canvas(600, 600);\n",
       "\n",
       "    // Disable right mouse context menu.\n",
       "    $(this.rubberband_canvas).bind(\"contextmenu\",function(e){\n",
       "        return false;\n",
       "    });\n",
       "\n",
       "    function set_focus () {\n",
       "        canvas.focus();\n",
       "        canvas_div.focus();\n",
       "    }\n",
       "\n",
       "    window.setTimeout(set_focus, 100);\n",
       "}\n",
       "\n",
       "mpl.figure.prototype._init_toolbar = function() {\n",
       "    var fig = this;\n",
       "\n",
       "    var nav_element = $('<div/>')\n",
       "    nav_element.attr('style', 'width: 100%');\n",
       "    this.root.append(nav_element);\n",
       "\n",
       "    // Define a callback function for later on.\n",
       "    function toolbar_event(event) {\n",
       "        return fig.toolbar_button_onclick(event['data']);\n",
       "    }\n",
       "    function toolbar_mouse_event(event) {\n",
       "        return fig.toolbar_button_onmouseover(event['data']);\n",
       "    }\n",
       "\n",
       "    for(var toolbar_ind in mpl.toolbar_items) {\n",
       "        var name = mpl.toolbar_items[toolbar_ind][0];\n",
       "        var tooltip = mpl.toolbar_items[toolbar_ind][1];\n",
       "        var image = mpl.toolbar_items[toolbar_ind][2];\n",
       "        var method_name = mpl.toolbar_items[toolbar_ind][3];\n",
       "\n",
       "        if (!name) {\n",
       "            // put a spacer in here.\n",
       "            continue;\n",
       "        }\n",
       "        var button = $('<button/>');\n",
       "        button.addClass('ui-button ui-widget ui-state-default ui-corner-all ' +\n",
       "                        'ui-button-icon-only');\n",
       "        button.attr('role', 'button');\n",
       "        button.attr('aria-disabled', 'false');\n",
       "        button.click(method_name, toolbar_event);\n",
       "        button.mouseover(tooltip, toolbar_mouse_event);\n",
       "\n",
       "        var icon_img = $('<span/>');\n",
       "        icon_img.addClass('ui-button-icon-primary ui-icon');\n",
       "        icon_img.addClass(image);\n",
       "        icon_img.addClass('ui-corner-all');\n",
       "\n",
       "        var tooltip_span = $('<span/>');\n",
       "        tooltip_span.addClass('ui-button-text');\n",
       "        tooltip_span.html(tooltip);\n",
       "\n",
       "        button.append(icon_img);\n",
       "        button.append(tooltip_span);\n",
       "\n",
       "        nav_element.append(button);\n",
       "    }\n",
       "\n",
       "    var fmt_picker_span = $('<span/>');\n",
       "\n",
       "    var fmt_picker = $('<select/>');\n",
       "    fmt_picker.addClass('mpl-toolbar-option ui-widget ui-widget-content');\n",
       "    fmt_picker_span.append(fmt_picker);\n",
       "    nav_element.append(fmt_picker_span);\n",
       "    this.format_dropdown = fmt_picker[0];\n",
       "\n",
       "    for (var ind in mpl.extensions) {\n",
       "        var fmt = mpl.extensions[ind];\n",
       "        var option = $(\n",
       "            '<option/>', {selected: fmt === mpl.default_extension}).html(fmt);\n",
       "        fmt_picker.append(option)\n",
       "    }\n",
       "\n",
       "    // Add hover states to the ui-buttons\n",
       "    $( \".ui-button\" ).hover(\n",
       "        function() { $(this).addClass(\"ui-state-hover\");},\n",
       "        function() { $(this).removeClass(\"ui-state-hover\");}\n",
       "    );\n",
       "\n",
       "    var status_bar = $('<span class=\"mpl-message\"/>');\n",
       "    nav_element.append(status_bar);\n",
       "    this.message = status_bar[0];\n",
       "}\n",
       "\n",
       "mpl.figure.prototype.request_resize = function(x_pixels, y_pixels) {\n",
       "    // Request matplotlib to resize the figure. Matplotlib will then trigger a resize in the client,\n",
       "    // which will in turn request a refresh of the image.\n",
       "    this.send_message('resize', {'width': x_pixels, 'height': y_pixels});\n",
       "}\n",
       "\n",
       "mpl.figure.prototype.send_message = function(type, properties) {\n",
       "    properties['type'] = type;\n",
       "    properties['figure_id'] = this.id;\n",
       "    this.ws.send(JSON.stringify(properties));\n",
       "}\n",
       "\n",
       "mpl.figure.prototype.send_draw_message = function() {\n",
       "    if (!this.waiting) {\n",
       "        this.waiting = true;\n",
       "        this.ws.send(JSON.stringify({type: \"draw\", figure_id: this.id}));\n",
       "    }\n",
       "}\n",
       "\n",
       "\n",
       "mpl.figure.prototype.handle_save = function(fig, msg) {\n",
       "    var format_dropdown = fig.format_dropdown;\n",
       "    var format = format_dropdown.options[format_dropdown.selectedIndex].value;\n",
       "    fig.ondownload(fig, format);\n",
       "}\n",
       "\n",
       "\n",
       "mpl.figure.prototype.handle_resize = function(fig, msg) {\n",
       "    var size = msg['size'];\n",
       "    if (size[0] != fig.canvas.width || size[1] != fig.canvas.height) {\n",
       "        fig._resize_canvas(size[0], size[1]);\n",
       "        fig.send_message(\"refresh\", {});\n",
       "    };\n",
       "}\n",
       "\n",
       "mpl.figure.prototype.handle_rubberband = function(fig, msg) {\n",
       "    var x0 = msg['x0'] / mpl.ratio;\n",
       "    var y0 = (fig.canvas.height - msg['y0']) / mpl.ratio;\n",
       "    var x1 = msg['x1'] / mpl.ratio;\n",
       "    var y1 = (fig.canvas.height - msg['y1']) / mpl.ratio;\n",
       "    x0 = Math.floor(x0) + 0.5;\n",
       "    y0 = Math.floor(y0) + 0.5;\n",
       "    x1 = Math.floor(x1) + 0.5;\n",
       "    y1 = Math.floor(y1) + 0.5;\n",
       "    var min_x = Math.min(x0, x1);\n",
       "    var min_y = Math.min(y0, y1);\n",
       "    var width = Math.abs(x1 - x0);\n",
       "    var height = Math.abs(y1 - y0);\n",
       "\n",
       "    fig.rubberband_context.clearRect(\n",
       "        0, 0, fig.canvas.width, fig.canvas.height);\n",
       "\n",
       "    fig.rubberband_context.strokeRect(min_x, min_y, width, height);\n",
       "}\n",
       "\n",
       "mpl.figure.prototype.handle_figure_label = function(fig, msg) {\n",
       "    // Updates the figure title.\n",
       "    fig.header.textContent = msg['label'];\n",
       "}\n",
       "\n",
       "mpl.figure.prototype.handle_cursor = function(fig, msg) {\n",
       "    var cursor = msg['cursor'];\n",
       "    switch(cursor)\n",
       "    {\n",
       "    case 0:\n",
       "        cursor = 'pointer';\n",
       "        break;\n",
       "    case 1:\n",
       "        cursor = 'default';\n",
       "        break;\n",
       "    case 2:\n",
       "        cursor = 'crosshair';\n",
       "        break;\n",
       "    case 3:\n",
       "        cursor = 'move';\n",
       "        break;\n",
       "    }\n",
       "    fig.rubberband_canvas.style.cursor = cursor;\n",
       "}\n",
       "\n",
       "mpl.figure.prototype.handle_message = function(fig, msg) {\n",
       "    fig.message.textContent = msg['message'];\n",
       "}\n",
       "\n",
       "mpl.figure.prototype.handle_draw = function(fig, msg) {\n",
       "    // Request the server to send over a new figure.\n",
       "    fig.send_draw_message();\n",
       "}\n",
       "\n",
       "mpl.figure.prototype.handle_image_mode = function(fig, msg) {\n",
       "    fig.image_mode = msg['mode'];\n",
       "}\n",
       "\n",
       "mpl.figure.prototype.updated_canvas_event = function() {\n",
       "    // Called whenever the canvas gets updated.\n",
       "    this.send_message(\"ack\", {});\n",
       "}\n",
       "\n",
       "// A function to construct a web socket function for onmessage handling.\n",
       "// Called in the figure constructor.\n",
       "mpl.figure.prototype._make_on_message_function = function(fig) {\n",
       "    return function socket_on_message(evt) {\n",
       "        if (evt.data instanceof Blob) {\n",
       "            /* FIXME: We get \"Resource interpreted as Image but\n",
       "             * transferred with MIME type text/plain:\" errors on\n",
       "             * Chrome.  But how to set the MIME type?  It doesn't seem\n",
       "             * to be part of the websocket stream */\n",
       "            evt.data.type = \"image/png\";\n",
       "\n",
       "            /* Free the memory for the previous frames */\n",
       "            if (fig.imageObj.src) {\n",
       "                (window.URL || window.webkitURL).revokeObjectURL(\n",
       "                    fig.imageObj.src);\n",
       "            }\n",
       "\n",
       "            fig.imageObj.src = (window.URL || window.webkitURL).createObjectURL(\n",
       "                evt.data);\n",
       "            fig.updated_canvas_event();\n",
       "            fig.waiting = false;\n",
       "            return;\n",
       "        }\n",
       "        else if (typeof evt.data === 'string' && evt.data.slice(0, 21) == \"data:image/png;base64\") {\n",
       "            fig.imageObj.src = evt.data;\n",
       "            fig.updated_canvas_event();\n",
       "            fig.waiting = false;\n",
       "            return;\n",
       "        }\n",
       "\n",
       "        var msg = JSON.parse(evt.data);\n",
       "        var msg_type = msg['type'];\n",
       "\n",
       "        // Call the  \"handle_{type}\" callback, which takes\n",
       "        // the figure and JSON message as its only arguments.\n",
       "        try {\n",
       "            var callback = fig[\"handle_\" + msg_type];\n",
       "        } catch (e) {\n",
       "            console.log(\"No handler for the '\" + msg_type + \"' message type: \", msg);\n",
       "            return;\n",
       "        }\n",
       "\n",
       "        if (callback) {\n",
       "            try {\n",
       "                // console.log(\"Handling '\" + msg_type + \"' message: \", msg);\n",
       "                callback(fig, msg);\n",
       "            } catch (e) {\n",
       "                console.log(\"Exception inside the 'handler_\" + msg_type + \"' callback:\", e, e.stack, msg);\n",
       "            }\n",
       "        }\n",
       "    };\n",
       "}\n",
       "\n",
       "// from http://stackoverflow.com/questions/1114465/getting-mouse-location-in-canvas\n",
       "mpl.findpos = function(e) {\n",
       "    //this section is from http://www.quirksmode.org/js/events_properties.html\n",
       "    var targ;\n",
       "    if (!e)\n",
       "        e = window.event;\n",
       "    if (e.target)\n",
       "        targ = e.target;\n",
       "    else if (e.srcElement)\n",
       "        targ = e.srcElement;\n",
       "    if (targ.nodeType == 3) // defeat Safari bug\n",
       "        targ = targ.parentNode;\n",
       "\n",
       "    // jQuery normalizes the pageX and pageY\n",
       "    // pageX,Y are the mouse positions relative to the document\n",
       "    // offset() returns the position of the element relative to the document\n",
       "    var x = e.pageX - $(targ).offset().left;\n",
       "    var y = e.pageY - $(targ).offset().top;\n",
       "\n",
       "    return {\"x\": x, \"y\": y};\n",
       "};\n",
       "\n",
       "/*\n",
       " * return a copy of an object with only non-object keys\n",
       " * we need this to avoid circular references\n",
       " * http://stackoverflow.com/a/24161582/3208463\n",
       " */\n",
       "function simpleKeys (original) {\n",
       "  return Object.keys(original).reduce(function (obj, key) {\n",
       "    if (typeof original[key] !== 'object')\n",
       "        obj[key] = original[key]\n",
       "    return obj;\n",
       "  }, {});\n",
       "}\n",
       "\n",
       "mpl.figure.prototype.mouse_event = function(event, name) {\n",
       "    var canvas_pos = mpl.findpos(event)\n",
       "\n",
       "    if (name === 'button_press')\n",
       "    {\n",
       "        this.canvas.focus();\n",
       "        this.canvas_div.focus();\n",
       "    }\n",
       "\n",
       "    var x = canvas_pos.x * mpl.ratio;\n",
       "    var y = canvas_pos.y * mpl.ratio;\n",
       "\n",
       "    this.send_message(name, {x: x, y: y, button: event.button,\n",
       "                             step: event.step,\n",
       "                             guiEvent: simpleKeys(event)});\n",
       "\n",
       "    /* This prevents the web browser from automatically changing to\n",
       "     * the text insertion cursor when the button is pressed.  We want\n",
       "     * to control all of the cursor setting manually through the\n",
       "     * 'cursor' event from matplotlib */\n",
       "    event.preventDefault();\n",
       "    return false;\n",
       "}\n",
       "\n",
       "mpl.figure.prototype._key_event_extra = function(event, name) {\n",
       "    // Handle any extra behaviour associated with a key event\n",
       "}\n",
       "\n",
       "mpl.figure.prototype.key_event = function(event, name) {\n",
       "\n",
       "    // Prevent repeat events\n",
       "    if (name == 'key_press')\n",
       "    {\n",
       "        if (event.which === this._key)\n",
       "            return;\n",
       "        else\n",
       "            this._key = event.which;\n",
       "    }\n",
       "    if (name == 'key_release')\n",
       "        this._key = null;\n",
       "\n",
       "    var value = '';\n",
       "    if (event.ctrlKey && event.which != 17)\n",
       "        value += \"ctrl+\";\n",
       "    if (event.altKey && event.which != 18)\n",
       "        value += \"alt+\";\n",
       "    if (event.shiftKey && event.which != 16)\n",
       "        value += \"shift+\";\n",
       "\n",
       "    value += 'k';\n",
       "    value += event.which.toString();\n",
       "\n",
       "    this._key_event_extra(event, name);\n",
       "\n",
       "    this.send_message(name, {key: value,\n",
       "                             guiEvent: simpleKeys(event)});\n",
       "    return false;\n",
       "}\n",
       "\n",
       "mpl.figure.prototype.toolbar_button_onclick = function(name) {\n",
       "    if (name == 'download') {\n",
       "        this.handle_save(this, null);\n",
       "    } else {\n",
       "        this.send_message(\"toolbar_button\", {name: name});\n",
       "    }\n",
       "};\n",
       "\n",
       "mpl.figure.prototype.toolbar_button_onmouseover = function(tooltip) {\n",
       "    this.message.textContent = tooltip;\n",
       "};\n",
       "mpl.toolbar_items = [[\"Home\", \"Reset original view\", \"fa fa-home icon-home\", \"home\"], [\"Back\", \"Back to  previous view\", \"fa fa-arrow-left icon-arrow-left\", \"back\"], [\"Forward\", \"Forward to next view\", \"fa fa-arrow-right icon-arrow-right\", \"forward\"], [\"\", \"\", \"\", \"\"], [\"Pan\", \"Pan axes with left mouse, zoom with right\", \"fa fa-arrows icon-move\", \"pan\"], [\"Zoom\", \"Zoom to rectangle\", \"fa fa-square-o icon-check-empty\", \"zoom\"], [\"\", \"\", \"\", \"\"], [\"Download\", \"Download plot\", \"fa fa-floppy-o icon-save\", \"download\"]];\n",
       "\n",
       "mpl.extensions = [\"eps\", \"jpeg\", \"pdf\", \"png\", \"ps\", \"raw\", \"svg\", \"tif\"];\n",
       "\n",
       "mpl.default_extension = \"png\";var comm_websocket_adapter = function(comm) {\n",
       "    // Create a \"websocket\"-like object which calls the given IPython comm\n",
       "    // object with the appropriate methods. Currently this is a non binary\n",
       "    // socket, so there is still some room for performance tuning.\n",
       "    var ws = {};\n",
       "\n",
       "    ws.close = function() {\n",
       "        comm.close()\n",
       "    };\n",
       "    ws.send = function(m) {\n",
       "        //console.log('sending', m);\n",
       "        comm.send(m);\n",
       "    };\n",
       "    // Register the callback with on_msg.\n",
       "    comm.on_msg(function(msg) {\n",
       "        //console.log('receiving', msg['content']['data'], msg);\n",
       "        // Pass the mpl event to the overriden (by mpl) onmessage function.\n",
       "        ws.onmessage(msg['content']['data'])\n",
       "    });\n",
       "    return ws;\n",
       "}\n",
       "\n",
       "mpl.mpl_figure_comm = function(comm, msg) {\n",
       "    // This is the function which gets called when the mpl process\n",
       "    // starts-up an IPython Comm through the \"matplotlib\" channel.\n",
       "\n",
       "    var id = msg.content.data.id;\n",
       "    // Get hold of the div created by the display call when the Comm\n",
       "    // socket was opened in Python.\n",
       "    var element = $(\"#\" + id);\n",
       "    var ws_proxy = comm_websocket_adapter(comm)\n",
       "\n",
       "    function ondownload(figure, format) {\n",
       "        window.open(figure.imageObj.src);\n",
       "    }\n",
       "\n",
       "    var fig = new mpl.figure(id, ws_proxy,\n",
       "                           ondownload,\n",
       "                           element.get(0));\n",
       "\n",
       "    // Call onopen now - mpl needs it, as it is assuming we've passed it a real\n",
       "    // web socket which is closed, not our websocket->open comm proxy.\n",
       "    ws_proxy.onopen();\n",
       "\n",
       "    fig.parent_element = element.get(0);\n",
       "    fig.cell_info = mpl.find_output_cell(\"<div id='\" + id + \"'></div>\");\n",
       "    if (!fig.cell_info) {\n",
       "        console.error(\"Failed to find cell for figure\", id, fig);\n",
       "        return;\n",
       "    }\n",
       "\n",
       "    var output_index = fig.cell_info[2]\n",
       "    var cell = fig.cell_info[0];\n",
       "\n",
       "};\n",
       "\n",
       "mpl.figure.prototype.handle_close = function(fig, msg) {\n",
       "    var width = fig.canvas.width/mpl.ratio\n",
       "    fig.root.unbind('remove')\n",
       "\n",
       "    // Update the output cell to use the data from the current canvas.\n",
       "    fig.push_to_output();\n",
       "    var dataURL = fig.canvas.toDataURL();\n",
       "    // Re-enable the keyboard manager in IPython - without this line, in FF,\n",
       "    // the notebook keyboard shortcuts fail.\n",
       "    IPython.keyboard_manager.enable()\n",
       "    $(fig.parent_element).html('<img src=\"' + dataURL + '\" width=\"' + width + '\">');\n",
       "    fig.close_ws(fig, msg);\n",
       "}\n",
       "\n",
       "mpl.figure.prototype.close_ws = function(fig, msg){\n",
       "    fig.send_message('closing', msg);\n",
       "    // fig.ws.close()\n",
       "}\n",
       "\n",
       "mpl.figure.prototype.push_to_output = function(remove_interactive) {\n",
       "    // Turn the data on the canvas into data in the output cell.\n",
       "    var width = this.canvas.width/mpl.ratio\n",
       "    var dataURL = this.canvas.toDataURL();\n",
       "    this.cell_info[1]['text/html'] = '<img src=\"' + dataURL + '\" width=\"' + width + '\">';\n",
       "}\n",
       "\n",
       "mpl.figure.prototype.updated_canvas_event = function() {\n",
       "    // Tell IPython that the notebook contents must change.\n",
       "    IPython.notebook.set_dirty(true);\n",
       "    this.send_message(\"ack\", {});\n",
       "    var fig = this;\n",
       "    // Wait a second, then push the new image to the DOM so\n",
       "    // that it is saved nicely (might be nice to debounce this).\n",
       "    setTimeout(function () { fig.push_to_output() }, 1000);\n",
       "}\n",
       "\n",
       "mpl.figure.prototype._init_toolbar = function() {\n",
       "    var fig = this;\n",
       "\n",
       "    var nav_element = $('<div/>')\n",
       "    nav_element.attr('style', 'width: 100%');\n",
       "    this.root.append(nav_element);\n",
       "\n",
       "    // Define a callback function for later on.\n",
       "    function toolbar_event(event) {\n",
       "        return fig.toolbar_button_onclick(event['data']);\n",
       "    }\n",
       "    function toolbar_mouse_event(event) {\n",
       "        return fig.toolbar_button_onmouseover(event['data']);\n",
       "    }\n",
       "\n",
       "    for(var toolbar_ind in mpl.toolbar_items){\n",
       "        var name = mpl.toolbar_items[toolbar_ind][0];\n",
       "        var tooltip = mpl.toolbar_items[toolbar_ind][1];\n",
       "        var image = mpl.toolbar_items[toolbar_ind][2];\n",
       "        var method_name = mpl.toolbar_items[toolbar_ind][3];\n",
       "\n",
       "        if (!name) { continue; };\n",
       "\n",
       "        var button = $('<button class=\"btn btn-default\" href=\"#\" title=\"' + name + '\"><i class=\"fa ' + image + ' fa-lg\"></i></button>');\n",
       "        button.click(method_name, toolbar_event);\n",
       "        button.mouseover(tooltip, toolbar_mouse_event);\n",
       "        nav_element.append(button);\n",
       "    }\n",
       "\n",
       "    // Add the status bar.\n",
       "    var status_bar = $('<span class=\"mpl-message\" style=\"text-align:right; float: right;\"/>');\n",
       "    nav_element.append(status_bar);\n",
       "    this.message = status_bar[0];\n",
       "\n",
       "    // Add the close button to the window.\n",
       "    var buttongrp = $('<div class=\"btn-group inline pull-right\"></div>');\n",
       "    var button = $('<button class=\"btn btn-mini btn-primary\" href=\"#\" title=\"Stop Interaction\"><i class=\"fa fa-power-off icon-remove icon-large\"></i></button>');\n",
       "    button.click(function (evt) { fig.handle_close(fig, {}); } );\n",
       "    button.mouseover('Stop Interaction', toolbar_mouse_event);\n",
       "    buttongrp.append(button);\n",
       "    var titlebar = this.root.find($('.ui-dialog-titlebar'));\n",
       "    titlebar.prepend(buttongrp);\n",
       "}\n",
       "\n",
       "mpl.figure.prototype._root_extra_style = function(el){\n",
       "    var fig = this\n",
       "    el.on(\"remove\", function(){\n",
       "\tfig.close_ws(fig, {});\n",
       "    });\n",
       "}\n",
       "\n",
       "mpl.figure.prototype._canvas_extra_style = function(el){\n",
       "    // this is important to make the div 'focusable\n",
       "    el.attr('tabindex', 0)\n",
       "    // reach out to IPython and tell the keyboard manager to turn it's self\n",
       "    // off when our div gets focus\n",
       "\n",
       "    // location in version 3\n",
       "    if (IPython.notebook.keyboard_manager) {\n",
       "        IPython.notebook.keyboard_manager.register_events(el);\n",
       "    }\n",
       "    else {\n",
       "        // location in version 2\n",
       "        IPython.keyboard_manager.register_events(el);\n",
       "    }\n",
       "\n",
       "}\n",
       "\n",
       "mpl.figure.prototype._key_event_extra = function(event, name) {\n",
       "    var manager = IPython.notebook.keyboard_manager;\n",
       "    if (!manager)\n",
       "        manager = IPython.keyboard_manager;\n",
       "\n",
       "    // Check for shift+enter\n",
       "    if (event.shiftKey && event.which == 13) {\n",
       "        this.canvas_div.blur();\n",
       "        event.shiftKey = false;\n",
       "        // Send a \"J\" for go to next cell\n",
       "        event.which = 74;\n",
       "        event.keyCode = 74;\n",
       "        manager.command_mode();\n",
       "        manager.handle_keydown(event);\n",
       "    }\n",
       "}\n",
       "\n",
       "mpl.figure.prototype.handle_save = function(fig, msg) {\n",
       "    fig.ondownload(fig, null);\n",
       "}\n",
       "\n",
       "\n",
       "mpl.find_output_cell = function(html_output) {\n",
       "    // Return the cell and output element which can be found *uniquely* in the notebook.\n",
       "    // Note - this is a bit hacky, but it is done because the \"notebook_saving.Notebook\"\n",
       "    // IPython event is triggered only after the cells have been serialised, which for\n",
       "    // our purposes (turning an active figure into a static one), is too late.\n",
       "    var cells = IPython.notebook.get_cells();\n",
       "    var ncells = cells.length;\n",
       "    for (var i=0; i<ncells; i++) {\n",
       "        var cell = cells[i];\n",
       "        if (cell.cell_type === 'code'){\n",
       "            for (var j=0; j<cell.output_area.outputs.length; j++) {\n",
       "                var data = cell.output_area.outputs[j];\n",
       "                if (data.data) {\n",
       "                    // IPython >= 3 moved mimebundle to data attribute of output\n",
       "                    data = data.data;\n",
       "                }\n",
       "                if (data['text/html'] == html_output) {\n",
       "                    return [cell, data, j];\n",
       "                }\n",
       "            }\n",
       "        }\n",
       "    }\n",
       "}\n",
       "\n",
       "// Register the function which deals with the matplotlib target/channel.\n",
       "// The kernel may be null if the page has been refreshed.\n",
       "if (IPython.notebook.kernel != null) {\n",
       "    IPython.notebook.kernel.comm_manager.register_target('matplotlib', mpl.mpl_figure_comm);\n",
       "}\n"
      ],
      "text/plain": [
       "<IPython.core.display.Javascript object>"
      ]
     },
     "metadata": {},
     "output_type": "display_data"
    },
    {
     "data": {
      "text/html": [
       "<img src=\"data:image/png;base64,iVBORw0KGgoAAAANSUhEUgAAAYUAAAKpCAYAAABTpTCYAAAgAElEQVR4nO3deZhcZZ33/wN0dXdS1dVrpdPVS6rq3N87naQTmoQQQghLFrM0knQSSIgICUOiATLigjKKCj6jI87KjDOOiiLMPPMwgww6OsgyohH9zc/HBXUYUYKCIDiyBMSFTfg+f+RUKDpV3ae7K+eu6nq/rutzXXRVndro7/1JnTpV7XkAAAAAAAAAAAAAAAAAAAAAAAAAAAAAAAAAAAAAAAAAAAAAAAAAAAAAAAAAAAAAAAAAAAAAAAAAAAAAAAAAAAAAAAAAAAAAAAAAAAAAAAAAAAAAAAAAAAAAAAAAAAAAAAAAAAAAAAAAAAAAAAAAAAAAAAAAAAAAAAAAAAAAAAAAAAAAAAAAAAAAAAAAAAAAAAAAAAAAAAAAAAAAAAAAAAAAAAAAAAAAAAAAAAAAAAAAAAAAAAAAAAAAAAAAAAAAAAAAAAAAAAAAAAAAAAAAAAAAAAAAAAAAAAAAAAAAAAAAAAAAAAAAAAAAAAAAgCMilUoljDEfEpH91toXRORxEfm8MWap6/sGAIhQKpVKiMh3rLUqIs8H//1Y8PPvRWSH6/sIAIiIiPxjUAD/mc1mO4OTjzbGvM1aq9baF3K5nDi9kwCAI8/3fSMiL1trX8xkMpmR54vIZ4LC+LSDuwcAiJK19qpg0b+t2PnGmKXB+c94nlcf8d0DAERJRG4PFv0rSlykzlr7orVWc7nc8ZHeOQBAtKy1Pw1K4ZxRLvNg8N7CtijvGwAgYtba3wQL/qpSl8kfmWStvWSyt9fT0zPNWnustfbYnp6eaZO9PgBAGQVvMqvv+8tKXcZa+/Xg1cRlk729oBA0yLGTvT4AQBkVvF9w8iiX+UawiL+9DLd3qBQ2nfcPeu7FXyWEHIFMdlZRo0Tk6bC7j4wxF0329igFQqLJZGcVNSr4Wgv1fX9rqctYax8KSuGsyd4epUBINJnsrKJGicgXggX/XSUuErPWvhS8pzA42dujFAiJJpOdVdQoEXlvsEh/rtj5vu+fFJz/rOd5dZO9PUqBkGgy2VlFjRKROQXfb9Q38nxjzPXBK4lPlOP2KAVCokk55hU1SkQ+G+we+o7v+73ByUfkC/EoBUKiSTnmFTUqm812Wmt/FCzWLwZHGz0aFMUrIrK9XLdFKRASTco1s6hRxphk8Ed27g/+yM4zInKb7/srynk7lAIh0aSccwscMZQCIdHE9awDoVAKhEQT17MOhEIpEBJNXM86EAqlQEg0cT3rQCiUAiHRxPWsA6FQCoREE9ezDoRCKRASTVzPOhAKpUBINHE960AolAIh0cT1rAOhUAqERBPXsw6EQikQEk1czzoQCqVASDRxPetAKJQCIdHE9awDoVAKhEQT17MOhEIpEBJNXM86EAqlQEg0cT3rQCiUAiHRxPWsA6FQCoREE9ezDoRCKRASTVzPOhAKpUBINHE960AolAIh0cT1rAOhUAqERBPXsw6EQikQEk1czzoQCqVASDRxPetAKJQCIdHE9awDoVAKhEQT17MOhEIpEBJNXM86EAqlQEg0cT3rQCiUAiHRxPWsA6FQCoREE9ezDoRCKRASTVzPOhAKpUBINHE960AolAIh0cT1rAOhUAqERBPXsw6EQikQEk1czzoQCqVASDRxPetAKJQCIdHE9awDoVAKhEQT17MOhEIpEBJNXM86EAqlQEg0cT3rQCiUAiHRxPWsA6FQCoREE9ezDoRCKRASTVzPOhAKpUBINHE960AolAIh0cT1rAOhUAqERBPXsw6EQikQEk1czzoQCqVASDRxPetAKJQCIdHE9awDoVAKhEQT17MOhEIpEBJNXM86EAqlQEg0cT3rQCiUAiHRxPWsA6FMthS2XPA5nTO4VZMtfTptepvWNyZ12vQ2Tbb06dzBbbrlgs85H0ZCKiGuZx0IZaKlsO7sazXdt0Rj9QltnNaqiWRaky19mmydpcmWPk0k09o4rVVj9XFN9y3RdWdf63woCXEZ17MOhDKRUlj+uvdrfUOTTountLktq7Pnb9I1mz6qWy+8VbfvuUu3Xnirrtn0UZ09f5M2t2V1Wjyl9Q1NunzNlc4HkxBXcT3rQCjjLYXla67UWH1cE8m0zlu4XTfvvGXUy2/eeYvOW7hdE8m0xurjFAOp2biedSCUwlL45vq1+vTmjfr05o1Ff6nXnX2t1jc0aSKZ1kUnX6zb99wVahi277lLFy27WBPJtNY3NLEridRkXM86EEqpUiiWVZ2dOi2e0nkLt4cuhHy277lL5y3crtPiKU33neh8QAmJOq5nHQglbCk8MLROm2IxbW7LjrnLqFQ277xFm9uyGqtPcFQSqbm4nnUglLClsNcajU9L6pz5w7pzz52HMt7BmD1/WBuntercwW3Oh5SQKON61oFQwpaCJBLalEzr0PA1kyqFNZs+eujwVddDSkiUcT3rQChhS6GzsUGTLb167oWff00plEqpwdh64a2abOnVadPbnQ8pIVHG9awDoYQthbb6em1unaU73nzHpEph+567NNk6S+sbk86HlJAo43rWgVCO1CuFUiXBKwVSq3E960Aok31PYbylwHsKpFbjetaBUCZ79NF40z9/WKc3Jjn6iNRcXM86EMp4P6fQ0pbRc3bcNKFCOGfHTdrSltGmWIzPKZCai+tZB0IZ7yea4/F2HVi4LfQbzvnsePMdOrBwm8bj7bq6s/M11+t6WAmJIq5nHQhlPKWwb8Vp2lxfr03JtC5etid0Mex48x26eNkebUqmtbm+XvetOI1SIDUX17MOhDKeUnh680a9bslijdcdLIaBhdvG3JV0zo6bdGDhNm1KpjVeV6/XLVk85m1QFGQqxvWsA6GMtxTyxdBcX6/xeLu2tGW0f/6wDg1fo+de+Hnd8eY79NwLP69Dw9do//xhbWnLaDzers314QuBUiBTMa5nHRVCRP4xv+iWiu/7AyO3S6VSCWPMh0Rkv7X2BRF5XEQ+b4xZWs77N5FSyO9KWt3ZqU2xmE5vTGpTMq3Jll5tbu3TZEuvNiXTB0+PxXR1Z+dhu4zGG9cDTchkU865RRWz1v7AWqsi8h1r7deLZdasWdnCbVKpVCK4vIrI88F/Pxb8/HsR2VHG+zehUig8KmmvNSqJhM5sbNC2+nqd2digkkjoXmv0gaF1kyoDSoFMlZRrZlHdYtbaF621msvlmsNulH91ISL/mc1mO4OTjzbGvC1YwF/I5XJSjjs42VJwEdfDTchEUo55RZXLZrMLgsX94bDb+L5vRORla+2LmUwmM/J8EflMcJ2fLsd9pBQIiSblmFdUOWPMucGCe2vYbay1VwWL/m0lrnNpcP4znufVT/Y+VmMpUBSkGjPZWcUUICIfCRbwq8exze3BNleUuEhdwS6p4yd7H6dKKVAQpNIz2VnFFJBf4I0xf2CtPV9E/slae5e19l+stbszmUzjyG2stT8NSuGcUtdrrX0wWMi3TfY+UgqERJPJziqmAGvtL4IF99fFDkUVkf2ZTKZ/xDa/Cc5fVep680cmWWsvKcN9nHKlQEGQSsxkZxUVJP/mbth4nuel0+mOgsX/J8aYLblcrjk43HRIRH4YnPezTCbTUnBbLwefXVhW6v4Eh7KqiFw22cdGKRASTSY7q6ggEymFTCYzU0SuttbeYIxJjbzO7u7udmvto8E2V+VPL3i/4ORS98da+41gu7dP9rFN9VKgKEilZLKzispytOd5deNIKNbadwf/4v9e/jQReTrs7iNjzEUTejSvvQ+UAiERZLKzihrg+/66oBSezp8WfK2F+r6/tdR21tqHglI4a7L3oRZLgYIgLjLZWcUUUewIozxr7fqgFB7PnyYiXwgW/HeV2CxmrX0p2G5wsvePUnC/WJDayGRnFVUu+BDaiyLy3VEuk9999NX8aSLy3mCR/lyxbXzfPyk4/1lvHLuqRrkPNV0KFASJKpOdVVQ5a+1wwdFHh/2LPpVKJQp2Ax16b0BE5thXv9+ob+R2xpjrg20+Uab7SSlQCiSClGNeUd1iIvLfQSncb609Nn+GMaYn+BCbish/G2MaCjcUkc8G533H9/3e4GS+EI+CIFWccswrqlw2m50tIo8EC/zLIrJfRL4nIr/Pf34hm83OKrJdp7X2R8Fi/WJwtNGjwTaviMj2ct1HSoFSINGkXDOLKtfT09MmIn8sIveKyHPW2t8ExXBFZ2dnvNR2xphk8Ed27rcH/8jOMyJym+/7K8p5/ygFSoJEk3LOLXDEUAqUAokmrmcdCIVSoCBINHE960AolAKlQKKJ61kHQqEUKAgSTVzPOhAKpUApkGjietaBUCgFCoJEE9ezDoRCKVAQJJq4nnUgFEqBUiDRxPWsA6FQClO/ILZc8Dnn94FQCqgSlMLULoXVw9fonMGznS+IhFJAlaAUpm5BnLruf+nRx8R02eornC+IhFJAlaAUpmYpLDn9HXrUUUer53m6acfNzhdEQimgSlAKU6sg3nDRV3RwyYXqeZ56nqfJll7niyGhFFBFKIWpUwpvuOgunb1g86FC8DxPZd6ZzhdDQimgilAK7lOuRWfzzn/Vk1a9W+OJzkOlsPx173e+GBJKAVWEUnCfci48K8/8M/U8T9N9J2hdXaNu2XmL88WQUAqoIpRC5WWii845b75Tky29GquP6+YdN+tpQ3/ifCEklAKqDKVQeSm1qGzbfZuesvYqNXPP0N7sydrVu1h7syermXuGnrL2A3rsCReo53l6/MmXOF8ACaWAKkUpVHbOvfirumnHzXrc0jfpjK4F2payRdPcllXvqKO0cXqbbjzvX5wvgIRSQJWiFCo7Q1uv1c7u47QtZbWjc44OLDpX15/9Sd22+zZ9w0Vf0W27b9P1Z39Sk6196nmeNjX36MzuhTq09VPOF0FCKaAKUQqVm7tXna6L2tq1t71PT128Tc/6g38rutjk31yeZU7XwSUXHiyQmfMohgqL61kHQqEUKjP3rV+ry1Mp7W3v0/WnvEkv33Vj0YVm5JvLb7joK7rk9HdoW8rqzO6FfJq5guJ61oFQKIXKzJUD89Rv69JTF2/Ty3fdqH+0+58PpXChOW7p7sPeXM5/qrktZfW4pW92vhgSSgFVhFKovDy64Qw9saNDe1K+Xnrep15TCIWlMHzev+gxdY3a0p7T7Xv+4zUL0Fl/8G/a0TlHZ6SP1W27b3O+IBJKAVWCUqi83HDiCTq7rVNPOm74sEIoTH92iXqep68b/uuii9DAonO1LWX1lLUfcL4gEkoBVYJSqLycn5mlve29unPTh0sWwrb171HP83RAlpfctbT+7E9qW8qqmXuG8wWRUAqoEpRC5WUo3aXpjoy+44IbihbC5btu1JkdWW2ITdO95368ZCls232btqWs9uaWO18QCaWAKkEpVF5WzJihXR3Zw95gLsxF2/9Wz1p7ecnzz7344BvObSmrXb2LnS+IhFJAlaAUKi9jvVIIk3Mv5pVCpcX1rAOhUAqVlzDvKYTJzk0f1t72Xt5TqJC4nnUgFEqh8hL26KOxctLgsM5um8HRRxUS17MOhEIpVF7G+pxCmFx63qe0J+Xr0o4OfXTDGa+5fteLY63G9awDoVAKlZnRPtE8Vi7fdaOeunib+m1detXAvMOu2/XiWKtxPetAKJRCZabwu4/WnbI7dDFcvutGXXfKbu1t79XlqZTeN8r/U9eLZK3F9awDoVAKlZuR35I61q6kS8/7lJ66eJv2tvfqorZ2vXvV6aNev+tFstbietaBUCiFys7dq07X5amU+m1d2pPy9aTBYd256cP6jgtu0Mt33ajvuOAG3bnpw3rS4LD2pHz127p0eSo1ZiFQEJQCUBSlUPm5b/1avWpgni7t6NDZbTO0t71X0x0Z7erIarojo73tvTq7bYYu7ejQqwbmjbrLiFKgFIBRUQrVk0c3nKE3nHiCnp+ZpWeku3TFjBl6RrpLz8/M0htOPOGwo4wmEtcL51SO61kHQqEUCKVAKQCHUAqkVFwvolMtrmcdCIVSIKXiehGdanE960AolAIJG9eLarXH9awDoVAKJGxcL6rVHtezDoRCKZDxxvXiWq1xPetAKJQCmUxcL7TVFNezDoRCKZDJxPVCW01xPetAKJQCKVdcL7qVHtezDoRCKZByxfWiW+lxPetAKJQCORJxvQBXYlzPOhAKpUCORFwvwJUY17MOhEIpkCMd14txpcT1rAOhUArkSMf1YlwpcT3rQCiUAokyrhdmSgEYw2RL4YGhdXqJ+CqJhHY2Nmhbfb12NjaoJBK61xp9YGid84WIVE5cL8yUAjCGiZbCvhWn6arOTk3G6jTV0KDZeFwlkdDZTQmVREKz8bimGho0GavTVZ2dum/Fac4XJFI5cb1AUwpACRMphU+fsFhbYjFNNzbqnGST7vZzevupy/XhM4f0qeEz9eEzh/T2U5frbj+nc5JNmm5s1NZYTK9bstj5YkQqI64XaEoBKKGwFO775pmqB7apHthWcpivW7JYk3V1mo3H9VIrev/Q6EVy/9BavdSKZuNxTdbVUQzksLherCkFoMB4SmHfitO0NRbTbDyuH1owoE8Nnxlq6J8aPlM/uGBAs/G4tsZi7Eoir4nrxZpSAAqUKoWReXrzRl3V2anpxka91EroQsjnqeEz9VIrmm5s1NWdnc4XIlK5cb14UwqoaWFL4YGhdZqM1emcZNOYu4xK5f6htTon2aTNsTqOSiIl43rxphRQ08KWwmV7+zU1vUHfJDl9+pyJD/xuP6ephgbda43zxYdUdlwv4pQCalLYUuiXJs0m4nr7yuWTKoXbT11+6PBV14sOqey4XsQpBdSksKXQ1dmo0pTQR7YMHSyFwoxj0B8+c0glkdCZjQ3OFx1SPXG9oFMKqBlhS6G9tV5nNyX0wLYNh5fCOAriqeEz1TYltK2+3vlCQ6ozrhd3SgFTWlleKYyjFHilQCYb14s7pYApbcLvKYTNiIHmPQVS7rhe7CkFTCkTPvpogqXA0Uek3HG92FMKmFLClsIT+zdqc1Ps4OcUNq4dXzEE4XMK5EjH9cJPKaDqhS0FPbBN163q0nS8US/tl7HfcB6RA9s28IlmcsTjeuGnFFD1xlMK9+xbo23N9ZpNxPWDgwOhi+HAtg36wcEBzSbi2tZcr/fsW+N88SBTP65LgFJAVRpPKeiBbXrTdcs0Ga/TbCKul/bLmLuS7t+4Vi/tF80m4pqM1+lN1y0b9VtYCSlXXJcApYCqNN5SyBdDW3O9puPB31MwOb195XJ9ZMuQHti2QR/ZMqS3r1yuu03w9xTijdrWXH+oEIp92R4hRzLjWby3XPA5nTO4VZMtfTptepvWNyZ12vQ2Tbb06dzBbbrlgs9RCjhcLpebb619UUT+foyLxkTknSJyr4g8b609ICJ3WmvXj7aRMcY3xlxvrf2FtfYFEXlYRP7eGNNTxocxoVLI70pav7pLW5pimpreoNlEXKUp+MtrTQnNJuKamt6gLU0xXb+6S+/Zt2bUb2Al5EgmzKK97uxrNd23RGP1CW2c1qqJZFqTLX2abJ2lyZY+TSTT2jitVWP1cU33LdF1Z19LKeCg7u7udhG511qrY5RCnbX21uByvxeRe6y1D+YXYRF5b7GNjDHzROTp4HJPWWu/ba19Nvj5QDabXVCuxzLRUig8Kumyvf3aL03aNbNR21vrtWtmo/ZLk162t1+f2L9x3NfpegEhUz8jF+zlr3u/1jc06bR4Spvbsjp7/iZds+mjuvXCW3X7nrt064W36ppNH9XZ8zdpc1tWp8VTWt/QpMvXXEkp1DpjTI+IfLdgYS9ZCiLyx8Fl7jfG+AWnn2OtfdFaq8aY00ZsFrPW/jTY7mOe59V7nuelUqmEtfbG/PV5nldXjscz2VI4EnG9YJCpn9cUwporNVYf10QyrfMWbtfNO28ZdXHfvPMWnbdwuyaSaY3Vx0MXQznmFRXGWjssIo/nF9HRSiGXyzWLyK+ster7/rIi13VlcB13FZ4uIjuD03/ked4xIzaLicj+4PzzyvSYKq4UKAcSVfatOE3rG5o0kUzropMv1u177gq1wG/fc5cuWnaxJpJprW9oCrUrqRzzigpirf1SQRH8q4h8drRSGLG4H2bWrFldwfYvZzKZmQXb7QteQVxe4n78UXC9t5bpcVEKpGazqrNTp8VTOm/h9tCFUFgM8xZu12nxlKb7TqQUao2IPGOtfcwY88bg58+MUQofDxbba0tdZ/79BWPMluCko0Xkd9ZazeVyJxfbxhhzanC9v/Y876jJPq5KLgUKghzJPDC0TptiMW1py+g5O27SnXvuHPcRRZt33qLNbVmN1SfGPCppsrOKCmOM+YN0Oj09//NYpWCtvStYbP+o1HWKyFcKXxXkcrm+/AI9a9asrmLbZLPZWfnLFL7CmChKgdRq9lqj8WlJnTN/WHfuuXNCpXDuxV/V2fOHtXFaq84d3EYp1LIQrxTuDRb8C0e5jpuDy/yZ53leLpc7Pr9AeyXeSO7o6GjKX8b3/YHJPo5qKQUKgpQ7kkhoUzKtQ8PXHCqFwoQthTWbPnro8FVKocrkF/KwCXNdo5TCT4IF/w2jXMc/Brf1t57nedba5fnDV0e56br8/cvlcotDPfBRUAqkVtPZ2KDJll4998LPT6oUtl54qyZbenXa9HZKodpEXAr7g1I4d5Tr+N/BZf7G8zzP9/1lIUohVvBKYVGoBz6KaiwFCoKUI2319drcOkt3vPmOoqUQtiS277lLk62ztL4xSSlUoaO9g7tlwqakEKVwT9jdRyLyEc977QJd6vYLdx8ZY+aO9YDHUu2lQEGQiWasVwphS4JXCvA8L1Qp3Bks3O8a5Tq+GlzHZZ7nedba7vwCnc1mO4ttk8lkMgWlkJrs46AUSK1mrPcUwpYC7ylMkDHmfSLyXmtt90SvI/iX9ZfLeb8maqxSMMb8jX31U8lFWWsfCnYDbSw47dlguyUlrve04PxnJv8oplYpUA5kPCl29NFE0s/RRxMjIq+IyMsi8j/GmFMnch3W2l+IyMvlvm8TEaIU3hic/71i5/f29qaLHVpqrf1y8Crg0mLbWWvfHWz3pXI8DkqB1GqKfU5hvDlnx03a0pbhcwoTUVAKr1hrXzTGvHW811FNpZDJZFqstS8EC/yJI8+31l4VbH9H4enGmD3B6fd6o3zNhYhsL8fjmIqlQEGQsFnV2anxeLsOLNwW+g3nfHa8+Q4dWLhN4/H2on9NkFIYQ1AGv7HWPlVQEP/U09MzLex1VFMpeJ7nGWP+LFhwHzTGzMufbq3dZg9+7fYrI78QL51OTxeRnwVlcn3++ens7IzbV78Qb783hb8Qj1IgUWXfitO0ub5em5JpXbxsT+hi2PHmO3Txsj3alExrc3297ltx2mHXTSmMISiFx0RkjrX2oXwxWGu/X/gNoqOptlIIFvKvB5d7WUS+Z4NvQLWjfL9RcGjqb/LvHVhrv5X/cj0RebocRx3lTfVSoBzIWLluyWKN1x0shoGF28bclXTOjpt0YOE2bUqmNV5Xr9ctWRzqdso1s1NGvhQ8z/OMMSkR2VfwiuFpERka6zqqrRQ8z/OMMQ3GmHeJyH+JyHPW2t+IyNdEZPNo2/m+b4I/svOYtfYle/CP7dwQtkDDohQIOVgMzfX1Go+3a0tbRvvnD+vQ8DV67oWf1x1vvkPPvfDzOjR8jfbPH9aWtozG4+3aXB++EJ7eTCkcprAUAsdYa/88KIZXROT31torR7uOSiqFqaJWSoGSIGNl34rTdHVnpzbFYjq9MalNybQmW3q1ubVPky292pRMHzw9FtPVnZ1FdxmNFtezXnGKlILneZ5njNkiIr8qeNXwxVwu11zsOiiF8qMUCHltHhhap3utUUkkdGZjg7bV1+vMxgaVREL3WqMPDK2b0PW6nvWKU6oUPM/zMplMv4j8sKAY9udyufkjL0cplF+tlgLlQKKO61mvOKOVgucdelP2nwvegP6NiJxTeBlKofwoBfeLBamNuJ71ijNWKeQZY96aP1wzeNXwl15wvD6lUH61XgoUBIkqrme94oQtBc/zvFwud7K19tGCYvhqd3d3O6VQfpQCpUCiietZrzjjKQXP87xsNtsZHLqZL4YHrLXPUgrlRSlQDiSauJ71ijPeUggcY639i8KvyKAUyotSoBRINHE96xXHWnu+MebsiWxrjDkreJVAKZQZpTD1y+HApg3O7wOhFMouk8n0G2Peb4x5v+v7MpVQClO7FB7dcIb+2eCxzu8HoRRQJSiFqVsSP339ej2hvU2vGpjn/L4QSgFVglKYmuVw77o12p9sUs/z9Cvj/DoGcmTietaBUCiFqVcK31y9UnumT1PP87Q5FtMneU+hIuJ61oFQKIWpVRD/cfqp2lZfr57nqed5uq5rpvP7RA7G9awDoVAKU6cU7lu/Vld2ztCmurpDpfChBQPO7xc5GNezDoRCKUytcvjx0FpNxuq0ORZTz/P0aytPd36fyMG4nnUgFEphapXC9ll96nmefnbZUj1nVq8+xfsJFRPXsw6EQilMnXL40qnL1fM8fX26S5/evFEfHz7T+UJIKAVUGUqhekrh0Q1n6PUnLtbzM7N0KN2lK2bM0KF0l56fmaXXLVmsc5NJnXbMMfqDda9zvgASSgFVilKo/JK4b/1avXJgni7taNfBlpai6Z528BDUFTNm6H3r1zpfAAmlgCpFKVR2KXxt5em6PNWhgy0tenxbq7693+q+lafpoxvO0AObNuijG87QW04+SRuOPlobjj5aFzQ36ympDr17FW8wV1pczzoQCqVQueVw96rTdXFbmw62tOgV8+boT1+/vujlzpnVq57n6WeWLNYr5s3RwZYWXdzWRjFUWFzPOhAKpVCZpXDf+rV6SvAK4a8XDpb8ptORby4f2LRBr1k4qIMtLXpKqoNdSRUU17MOhEIpVGZBXDkw79ArhFKF8MTwmTrQfPibywc2bTj0ioEvw9269fIAACAASURBVKucuJ51IBRKofJK4dENZ+jSjnY9vq215C6jpzdv1KuPna+e5+kV8+Ycdt5PX79ej29r1ZM62vXRDWc4XxAJpYAqQSlUXjnccOIJOtjSom/vtyUv8+OhtdpUV6d+Iq7/s/H1RS/zttlWB1ta9IYTT3C+IBJKAVWCUqi8Ujg/M0sHW1p038rSX3mdf3P5s8uWlrzMvpWn6WBLi56fmeV8QSSUAqoEpVA5yS8eQ+kuHWxpKbnb58CmDfr+gbm6ta931EXo0Q1n6GBLi54RvAlNKAVgTJRC5SS/eKyYMUMHW1om/beVD2zaoIMtLbpixgznCyKhFFAlKIXKy1ivFMKGVwqVFdezDoRCKVRedp2X0+N6WvTucyf34TPeU6isuJ51IBRKofJy8/XLdKFt1XcsmT2pRYijjyorrmcdCIVSqLz89udbdPmJKT0+3aoP7RnSZ982PO4FiM8pVF5czzoQCqVQmbn6ymN1Ya5V37dsrv7qreNbfPhEc2XG9awDoVAKlZnHfrhBVyyfocf1tOjfrD5Of/XWjfrs24bHfNXAdx9VblzPOhAKpVC5+f7da3XponY9rqdF37ds7pi7kn76+vV8S2oFx/WsA6FQCpWd79+9Vlcsn6ELc616fLpV33GC1bvPPV3/Z+/r9VdvPXjY6b6Vp+nbZls9vq310CsECqHy4nrWgVAohcrPYz/coB+58lg9ZWlKF9pWPa6nRY/ratHjZr72r6+d1NGuVw3MY5dRhcb1rAOhUArVk9/+fIvefP0y3XVeTofP6NHXnT5Th8/o0V3n5fTm65dxlFGFx/WsA6FQClMnrhc9QilgCqAUpl5cL36EUkAVoxSmXlwvfoRSQBWjFKZ2XC+EhFJAlaEUpnZcL4SEUkCVoRRqK64XxlqO61kHQqEUaiuuF8ZajutZB0KhFGo3rhfJWovrWQdCoRRqN64XyVqL61kHQqEUiOvFslbietaBUCgFQkFQCsAhlAKhFCgF4BBKgZSK60V0qsX1rAOhUAqkVFwvolMtrmcdCIVSIGHjelGt9riedSAUSoGEjetFtdrjetaBUCgFMpG4XmCrMa5nHQiFUiATiesFthrjetaBUCgFMtm4XmyrJa5nHQiFUiCTjevFtlrietaBUCgFUs64XngrOa5nHQiFUiDljOuFt5LjetaBUCgFcqTjejGulLiedSAUSoEc6bhejCslrmcdCIVSIFHG9cJMKQBjoBRIlHG9MFMKwBgoBeIyrhdqSgEYgVIgLuN6oaYUgBEoBVJJcb1wUwqoeZQCqeS4XsgpBdQcSoFUclwv5JQCag6lQKoprhd2SgFTHqVAqimuF3ZKAVMepUCmQsq5eD8wtE4vEV8lkdDOxgZtq6/XzsYGlURC91qjDwytoxRwuFwuN99a+6KI/P1olxORn+cX3RJ5sth2xhjfGHO9tfYX1toXRORhEfl7Y0xPOR8HpUCmQspRBvtWnKarOjs1GavTVEODZuNxlURCZzclVBIJzcbjmmpo0GSsTld1duq+FadRCjiou7u7XUTutdbqaKXQ19fXGiy4L1prv14sIvLFkdsZY+aJyNPBtk9Za79trX02+PlANptdUK7HQimQqZjxFsKnT1isLbGYphsbdU6ySXf7Ob391OX68JlD+tTwmfrwmUN6+6nLdbef0znJJk03NmprLKbXLVlMKdQ6Y0yPiHw3v5COVgrGmNOCy9wzjpuIWWt/Gmz3Mc/z6j3P81KpVMJae2Nw+v2e59VN8qF4nkcpkKmZ8RTCdUsWa7KuTrPxuF5qRe8fWjvq5e8fWquXWtFsPK7JurrQxVCOeUWFsdYOi8jjhbt/RisFEfnD4HI3hL0NEdkZbPMjz/OOGXF2TET2B+efN9HHUYhSILWUYruMWmMxzcbj+qEFA/rU8JmhFvinhs/UDy4Y0Gw8rq2xWKhdSeWYV1QQa+2XCorgX0Xks2OVgrX22uAy7wx7OyKyz1qrxpjLS1znHwX349aJPI4i10cpkJrJyIV6VWenphsb9VIroQuhsBgutaLpxkZd3dlJKdQaEXnGWvuYMeaNwc+fCVEK/9daq77vrwt5M0eLyO+stZrL5U4udgFjzKnBIv5rz/OOGv8jOew+UgqkJvPE/o3a3BTTOcmmMXcZjbYraU6ySZtjdWMelTTZWUWFMcb8QTqdnp7/OUQpHC0ivw3+1b9QRC6z1n7OWvtlEfm0iJwxcoNcLteXX6BnzZrVVexKs9nsrPxlMpnMzMk+LkqB1Gou29uvqekNutvPTagQ8tnt5zTV0KB7raEUatlYpZDNZmcXvPfw6xKHo97a0dHRlN8ml8sdnz/PK/FGckdHR1P+Mr7vD0z2cVAKpFbTL02aTcT19pXL9elzNh6ekKVw+6nLDx2+SilUmfxCHjZhrqtUKRhjziq4rv/wfX9ZT0/PNGNMylq7W0R+FWz/b/ltrLXLg9N+P8pN1+WvN5fLLZ7gU3EIpUBqNV2djSpNCX1ky9CkSuHhM4dUEgmd2dhAKVSbKEtBRJaIyF9ba//C87yjR57v+/5JIvJK8C/+04PTloUohVjBK4VF43n8xVAKpFbT3lqvs5sSemDbhuKlMFpGvOFsmxLaVl9PKVSho72Du2XCpqQwbzSPRUTuCK7jrzzvtQt0qdsv3H1kjJk70dvOoxRIrWbMVwohS4FXCvA8r2ylcHWwIN/ieZ5nre3OL9DZbLaz2DaZTCZTUAqpid52HqVAajVjvqcQMrevXK7ZRFz7penQdVMKNShkKRzjBZ9ILnEdHwkW5H/Jn2aDr7MQkSXFtin4lPQzE7/3r6IUSK0mf/TRmyQ3qVLYbXKamt6gl+3tP3TdlEINGqsUrLV3icjLwXsKpa7jjmBBvrJguy8HrwIuLXG97w62+dKkH4RHKZDazWs+p7Bx7YQK4f6NBz+n0NIU0yf2bxz19soxr6hgId5oviY4/+FUKpUocv5gUBpqjJmXP90YsyfY7l5vlK+5EJHt5XgclAKp5axb1aXpeKNe2i863jecD2zboJf2i6bjjbp+ddeYt1WOeUUFC/FKIScizwWX+YLv+zPy5xljlorIw8F5nyrcLp1OTxeRnwVlcX1PT880z/O8zs7OuH31C/H2e3whHiGTzj371mhbc71mE3H94OCAhi2GA9s26AcHBzSbiGtbc73es2/NmLdVjnlFBQvznoKIbCoohuettd8v+EI7FZEvGmMaRm4XHJr6m/x7B9babxV8ruHpchx1lEcpkFrPTdct02S8TrOJuF7aL2PuSrp/41q9tF80m4hrMl6nN123LNTtlGtmUaHCHn2UyWT67cEvxnvIHvyjPE+LyFfswW85LfndRb7vm+CP7DxmrX3JHvxjOzcYY/xyPg5KgZCDxdDWXK/pePD3FExOb1+5XB/ZMqQHtm3QR7YM6e0rl+tuE/w9hXijtjXXhy4EPUApoEpQCoQczD371uj61V3a0hTT1PQGzSbiKk3BX15rSmg2EdfU9AZtaYrp+tVdoXYZFcb1rAOhUAqEvDZP7N+ol+3t135p0q6ZjdreWq9dMxu1X5r0sr39Yx5lVCquZx0IhVIgJJq4nnUgFEqBkGjietaBUCgFQqKJ61kHQqEUCIkmrmcdCIVSICSauJ51IBRKgZBo4nrWgVAoBUKiietZB0KhFAiJJq5nHQiFUiAkmriedSAUSoGQaOJ61oFQKAVCoonrWQdCoRQIiSauZx0IhVIgJJq4nnUgFEqBkGjietaBUCgFQqKJ61kHQqEUCIkmrmcdCIVSICSauJ51IBRKgZBo4nrWgVAoBUKiietZB0KhFAiJJq5nHQiFUiAkmriedSAUSoGQaOJ61oFQKAVCoonrWQdCoRQIiSauZx0IhVIgJJq4nnUgFEqBkGjietaBUCgFQqKJ61kHQqEUCIkmrmcdCIVSICSauJ51IBRKgZBo4nrWgVAoBUKiietZB0KhFAiJJq5nHQiFUiAkmriedSAUSoGQaOJ61oFQKAVCoonrWQdCoRQIiSauZx0IhVIgJJq4nnUgFEqBkGjietaBUCgFQqKJ61kHQqEUCIkmrmcdCIVSICSauJ51IBRKgZBo4nrWgVAoBUKiietZB0KhFAiJJq5nHQiFUiAkmriedSAUSoGQaOJ61oFQKAVCoonrWQdCoRQIiSauZx0IhVIgJJq4nnUgFEqBkGjietaBUCgFQqKJ61kHQqEUCIkmrmcdCIVSICSauJ51IBRKgZBo4nrWgVAoBUKiietZB0KhFAiJJq5nHQiFUiAkmriedSAUSqE689RPhp3fBzK+uJ51IBRKoTrzljdZff4XZzm/HyR8XM86EAqlUH15+cmtOiPVoLd/9lTn94WEj+tZB0KhFKov//8dq9XzPN27W5zfFxI+rmcdCIVSqL685+1z1fM8zfTF9ZWntjq/PyRcXM86EAqlUH1ZMK9FPc9Tz/P0v76+1vn9IeHietaBUCiF6spD33/9oULwPE8/9N4Fzu8TCRfHow6EQylUVz76kUUaix2tnudpXd1RunRxu/P7RMLF9awDoVAK1ZUv3niKfvPOg280v++yeXrjtSfpC//DoanVENezDoRCKVRffvLdM9TzPL3q8gHn94WEj+tZB0KhFKovlEJ1xvWsA6FQCtUXSqE643rWgVAmWwpP7N+o77h4tvZLk3Z1Nmp7a712dTZqvzTpZXv79Yn9G50P41TJb3++RT/7mWW6dbhXPc9TP5PQjUPduuu8nN58/TL97c+3OL+PUyFH6nfa9ayj/OpF5C0i8p8i8itr7QvW2oestdfmcjlbaqNUKpUwxnxIRPZba18QkcdF5PPGmKWj3Zgx5jgRudla+4SIPC8iD4jIn/b19bWW80FNtBTu2bdG163q0uZkTGekGtTPJrRfmnSOTWq/NKmfTeiMVIM2J2O6blWX3rNvjfNhr9Y89sMNevWVx+rypSldNNiqA3OS6nmeds1s1EWDrYeyfGlKr77yWH3shxuc3+dqzJH+nS7n3MIxY0xSRL6ZXzxF5OfW2h+IyPPBz7/1fX/dyO1SqVRCRL4TXOb54L8fC37+vYjsKHZ7vu+fHpSOWmt/ISLfEZHngp8fstZ2l+uxTaQU/vnTS7W1Jabd6Wk6MKdZ/3C36DduW6nP/myzvvzk2frszzbrN25bqX+4W3RgTrN2p6dpW2u93nTdMueDX2353tfW6OnLZ+iiwVZdsqhd3/P2ufpv/7RcPc/TKy8f0N/+fIt+96tr9D1vn6tLFrXrosFWXXHKDP3+3XyobTyJ4ne6XDOLCmCtvSG/IBf+Cz+TybSIyP8Ozns2k8nMLNxORP4xKID/zGazncHJRxtj3hZs80Iul5PCbbq7u9tF5Jlguys8zzva8zzPGJMSka8Ep3+ljI9tXKVw03XLtDlZp342oZe/ZY7+8sej/6v0lz/eoJe/ZY762YQ2J+sohnHk+3ev1aWLDy70H7xi/qGvyy71nsJTPxnWD14xXxcNturSxe0UQ8hE9TtdrpmFY9lstlNEXrbWqjHmtCIXiYnIfwXnvy9/ou/7JtjuxUwmkxm5kYh8JljgP114urX2quD0O0du09fX1yoiTwfnn1KGhzeuUrhn3xpta61XP5vQv/zQoL785NmhhuHlJ8/Wv/jjQfWzCW1rrWdXUog89sMNuuKUg68Qrr1m8Wu+42i0N5pfeWqrfvKvFh96xcCupNET5e90OeYVFcAYc1awCP+y1GVE5E+Dy/xb/rSCxf22Ete7NDj/Gc/z6gu2eyhYpLeVuK2PB9v93SQe1iGFpbD9ujfq7jsvKvlLvW5Vl3anp+nlb5kTengKh+jyt8zR7vQ0Xb+6y/liUOm5+spjD71CGPmld2MdffTKU1sPvWL4yJXHOn8slZwof6fLMa+oANbabmPMFt/3t45ymb8IFuov5k8TkdsLdgEVU2etfdFaq7lc7njP87xZs2Z15RdoY0xPids6P7jeeyf1wF69vlCl8MT+jdqcjOnAnOYxX16Xyi9/vEEH5jRrS3OMo5JGyW9/vkWXL03pkkXtRf/CWphDUp/6ybAuWdSup5yU4qikEon6d7oc84rqcIyI/CRYqK/On2it/Wlw2jmlNrTWPlj4qkBETsm/Ke153lHFtjHGnFpwmUkrVgrFsuCsQW3vaNRLdok+/8S2wxJ2iPbuEp2RatDL9vY7XxQqNTdfv0wXDbbqe94+t+j5YT+n8O63zdVFg6168/W8j1Msl+3t1xmpBv3DSf5dirC/0+WYV1QBY8zlwSL9SjabXZA/3Vr7m2CxXVVq2/yRSdbaS4Lr2pI/uqnUNrlcbn5+EU+lUonJ3v+wpdDc26K5bEL33bpyUqXwjdtWHjrUz/WiUKnZdV5OFw226ne/Wnw/ddhS+O5X1+iiwVbddV7O+WOqxOQPM/3GbSsndT1hf6cnO6s4AvJv7obNWNdnjDlTRH4fXP6TI27rZWut+r6/rNT21tqvByVwWXB9bwx+3l9qG9/3TcEuptR4Hn+J+xCqFKa3TdfZ0qRPPri5aCmEzZMPbtbZ0qTT26aXvK1aT2ZZVufOb9P77t+qDz3yhsPyta+fqZ7n6VvfvqDo+fncd/9WnTu/TTPLss4fUyVmor/TIxf7Z3928He6a2YjpVBtylkKxpgNBZ9T+E5PT8+0wvML3i84udR1WGu/EdzW24PrfENwfQ+U2iaXy0n+/nV3d7eP9zkoch9ClUJDslHn2KQ+9/jWSZXCc49v1Tk2qQ3JRueLQqWmZ1GvDsxv0wcf3l50sf/R/m168+dep//fNzeOWgoPPrxdB+a3ac+iXuePqRIz0d/pkYv9y0+erXNsUttb6ymFKnS053l140hR1tpd+VcIInJvsX+x5w8dDbP7yBhzkecdLJrx7D5Kp9PTQz3qUfBKofIy1iuFsOGVwuiJ+nd6srOKCmWt/ZOCVxPfSqfTHcUuF3ythY5x1NJDQSmc5Xme5/v+sqAUfldqG2PMacFlfjv5R1O+9xTCZt+tKzWXTWhzb4vzRaFS079+rs4eaNcvfmndpErhi19ap7MH2rV//Vznj6kSE/XvdDnmFZWlzhhzfX4BFZHbR3ujV0S+ECz47ypxkZi19qXgugY9z/N6enra8tdf8Anokde7I9jme2V4TGU7+ihsLt4l2t7RqAvOGnS+KFRqVr9vjfb2d+gle+dNqhQuvmSe9vZ36Or3rXH+mCoxUf9Ol2NeUTmOstb+Q8ErhBs8z4uNtoGIvDe47OeKne/7/knB+c96Bbuq8oe3+r6/sdh2xphPBKXwsck8oLywpXDeTTu1IVGv8+Y06yP3bZzQ8Dxy30adN6dZGxL1et5NO50vCpWaC76wS7vmd+mCwQ793g+2TKgQvveDLbpgsEO7FnTpBV/Y5fwxVWKi/p0ux7yiQojIFQWvEP7KK/EZghHbzLGvfr9R38jz8686jDGfGLHd1bbEJ6ELv+bC9/2TJvWgAmFLYfedF2nv4j7t6pqm73zLnHG/Offc41v1nW+Zo11d07T3hD7nC0Kl54QLl2p2brte9s5jS77hPNobzJe981jNzm3XJbuWOn8slZwof6fLMa+oAMHRPi8FC+ct49lWRD6bPzrJ9/3e4ORRvxAv+FTzs0FhfMgLXkWk0+mOI/2FeGOVwqaPnaWNTQ2ayyb0T//4uNBD9NzjW/VP//g4zWUT2tjUoJs+dpbzxaDSc+6N52v3cd06e6BdP/yRJaGL4cGHt+uHP7JEZw+0a/dx3Xrujec7fyyVnCh/p8s1s3DMWvu3BbuNvh98tqBojDF/U7htNpvttNb+KNj2xeBoo0eDhf0VEdle7DZFZHPB+w2PW2u/LSK/C67noZHfxjrJxxe6FHbfeZGueu/rtDEe01w2oe98y5wxX3Y/ct9Gfedb5hwcnnhMV733dc4XgmrJ5o+frTPndursgYOvGMbalfS9H2zRy955rM4eaNeZczt188fPdv4YqiFR/U6Xa2bhWP4bUMNERL46cntjTDL4Izv324N/ZOcZEbnN9/0Vo92uMWahiNwclMJLIvIza+3f+r4/o5yPr7AUskuy2r9+rq5+35pR90Oveu/rtLGpQbu6pum8Oc168S7Rfbeu1Ccf3KzPPb5Vn3xws+67daVevEt03pxm7eqapo1NDRTCBLL542dr93Hdmp3brgsGO/TiS+bpF7+0Tu+7f6s++PB2ve/+rfrFL63Tiy+ZpwsGOzQ79+ArBAphfInid7qccwscMYWl0CkztUNS2iEpnTm/S0+4cGnJ3Q+bPnaW9p7Qpw2Jem3vaNRcNqGzg79SNVuaNJdNaHtHozYk6rX3hD52GU0i5954vi7ZtVS7FnRpb3+Hzh5o17nz23RgfpvOnd+mswfatbf/4JvKS3aV/n9GRs+R/p12PetAKIWlcPbHz9FNHztLj9u+SGf0d2qHpDQ9OPq/Os+7aacuOGtQm3tbdHrbdG1INur0tuna3NuiC84a5CijMuaCL+zS1e9bo/3r52pmWVZ7FvVqZlm4V3ckfI7U77TrWQdCKfWewnk3X6CLdy7RDklpJ/unCZl0XM86EMpobzTvumOPnvLW0w69YmC3BCETj+tZB0IZ6+ijXXfsOfSKgWPeCZl4XM86EEqYQ1LPu/kCndHfqV3z0+y3JmSCcT3rQChhP6cweM5C7ZAU36NDyATjetaBUKy1J+RLYeOHN+n2695YNOs+cIZ2ykydvXJOycsQQkrHWnvsyL+7AlQcY8xZYT+cRwiZdI51PfPAqCgFQiINpYDK1tfX12qMOSsohxPswfcYCCFHIOw+AgAAAAAAAAAAAAAAAAAAAAAAAAAAAAAAAAAAAAAAAAAAAAAAAI4AY0yDtfYlO/pflPp2iW2PE5GbrbVPiMjzIvKAiPxpX19fa9SPo5JZaz9srVVjzImlLmOM8Y0x11trf2GtfUFEHhaRvzfG9Ix23SKyWUS+Zq39tbX2NyLyXRHZ63neMWV/IBVurOfZWrtqjN9zNcb8WbFteZ5RM4wxC4OB+LW19uslcu3I7XzfP91a+0Kw7S9E5Dsi8lzw80PW2m4Xj6fSiMhQvnRLLVbGmHki8nTw3D1lrf22tfbZ4OcD2Wx2QYnrfk9+MROR+621PxCRV4Kfb/M8r+6IPrgKEvJ5flvw3Py81O+6MebiItfN84zaISI7gl/4W8Ju093d3S4izwRDcYXneUd7nucZY1Ii8pXg9K8csTtdJURkU0FRllqsYtbanwbP2cc8z6v3PM9LpVIJa+2N+YXIG7HwiMjq4LzfGWPWFJw+GCx6aox5/xF9gBUi5PPsichngufsLeO4bp5n1BZr7V8Ev/QfGMc2VwXb3DnyvL6+vtb8v3pF5JTy3tvq0NHR0SQif1lk18Rhi5WI7AzO/5F3+K6ImIjsD84/b8R2+4Ln+D0jr9MYc1qwzbOpVCpR3kdXOcbzPHue54nId6216vv+irC3wfOMmmOt/Y9gkM4exzYPBcOwrdj5IvLxYJD+rnz3tDpYa48Vkf8JHv9zxpgLxiiFfcF5l5e4vj8Ktr81f1omk8nkr3PWrFldJbb78Xj/v1aT8T7PnufVicjzQSnMCHMbPM+oSSLyeDBYc8JcftasWV0Fw1f0TVBr7fnBdd5b3ntb+Xzf35h/FZXNZmd7nueNslgdLSK/s9ZqLpc7udj1GWNOzb/n43neUZ7neSJyTnAbD5S6HyJyXbDdR8v12CrJOJ9nzxgzL7j8L8PeBs8zak7BAv9CcPTL+0XkiyJyp4h8rNjuHxE5JRiU571gkRopv5AFl6kpvu8P+L5/euFppRarXC7XN9a/RLPZ7Kz8ZTKZzEzP8zxjzPuC5/f2UvfDGPP+gjdCp5zxPM+e9+oCb639sogsEZFrROROa+2txpgPGWP8kdvwPKPmGGPW5EvBvnok0WsiItd5nhcr2GZL/giOUteby+Xm57dnX+uopXB8/jyvxBEsHR0dTfnL+L4/EFzfR4P/B/9Y6jZFZK8d5XDiqWi0UrDW/kn+FVex33Nr7YvGmD0jtuF5Rm0RkcsKhuKfjTHHBZ9b6DbGvCtfFCLy1/ltjDFvDE7bX+p6fd83BQOaiubRVK5Si5W1dnnwXP5+lM3r8tvncrnFnud5IvKp4LRPltrIGHNhcN3/XaaHUfHGeKXw7/nFX0T+VyaTyXieV2+MmVuwC0hFZFPBNjzPqC2+768Vkb8rdmSF571mn+rLvu8bz/M8Y8wbxtrPmsvlJD9k3d3d7Ufq/leLUouV7/vLQpRCrOCVwqLg+j4ZnHbY50cKbnNXcN3/VaaHUfHGeE/hIhH5tLV2uNi2+YMjrLUPecFuUZ5noIjgwzpqjLnU8zzPGLNhPLuP0un09OjubWUa5ZXCsePZfWSMmet5npc/DDPkbo3/W9YHU8FGK4UQ23YXvFoY9DyeZ6Aoa+0/B4Pxl573mn/d/q7UNvnjt0Xkt9Hd08o1SikcWoiy2WxnsW0LD4vM74or+ITtl0a5zSuD/wf/Xt5HU7kmUwqe53ki8stg+w3BzzzPqEl13igf07fW/kvwS/8Rz/O8np6etrEWsvynpEXke0foPleVMd4AfTZ4rpYU27agYJ/JnyYim4PrvK/UbRZ8evevyvMoKt9YpZDJZBpH2z5/eLa1dn3wM88zaouI/EREXhGRPyx1GRt8OEdEdhRuF+zj3lhsG2PMJ4JtPnYE7nbVGaMUvly4e67I+e8e+a9V3/d7g+f3lZ6enrZi2+V3+/m+v7V8j6SylXqeM5lMvw2OOir1PVK9vb3p/PbBm9A8z6g9IvL5YBC+5RX5tkdjzOvzu4rS6XRHwXZXB6cfdmx24ddc+L5/0hF+CFVhjDdA9wTP5b3eKF9zISLbC88QkW8G13nYJ6GDLytUa+2BWjokeJTnOWatfbJwN2iRbf+82HsDPM+oKb7vL5NXv+3xU4W/2CJyhrz6HUbvLdwu+NDbN0odyQAABFpJREFUs8GwfMgLdj+l0+kO4QvxDjNaKaTT6eki8rPg/Ot7enqmeZ7ndXZ2xu2rX4i33zv8C/GGgvOeH3EYZc1+UdsYr8jeHTxfLxtjLvJe/eBlzBhzefCK+WVjzKmF2/E8o+aIyF4ReTn/xrAc/J74hwsG7BNekU8uB/tbXwq2e9xa+20JvrLBWvtQ/tO3GHtfd/Dm/W/y7x1Ya78lIr8Kfn46f9TRSFLwZXDBLr3Cr3T+d6/Gvut/jOf5GBH5P/nLWGufsNZ+y1p7IPj5JRHZWex6eZ5Rc6y1JwT/Kn0sWOiftAc//v/60bYzxiwUkZuDUngp+Bfv34b9wrFaEeaoGN/3TfBHdvL/D35hrb2h2NcvFDLGnCUHv1TvWXvwj/PcKyLv9IKv4K4lYZ5nY8zZ1tr/CF4Fvygijxhjrs/lcvNHu26eZwAAAAAAAAAAAAAAAAAAAAAAAAAAAAAAAAAAAABThrX2Hwq+sfOSsS5vjGmw1n47+GbOh7u7u9ujuJ8AgAh0dHQ0FfwBnedCfEvnJ4ICedEYszSq+wkAiEgulzveWvtiUAz/nf8DOyPl/+Z18LXQb436fgIAIiIilxX8AZfD/qZ18Be+ngvO/1cX9xEAEJ2jROT2gvcXhvNnZDKZluAvfamI/CSXyzW7vKMAgAhks9lOEfllUApP5v+UqYh8Nv/3gY0xC13fTwBARHzfX5v/u7/W2ltEZGfBbqU3u75/AICIWWv/vGA30gtBIfyT6/sFAHCjPv9ZhCA/SqVSCdd3CgDgiIh8oaAUHspkMi2u7xMAwAEReUdBIeTfT7jJ9f0CAETM9/2TrLUvBWXwDyLyfwqK4U2u7x8AICLd3d3tIvJIUAA/7+npaevu7m631j4anPY7Y8w81/cTAHDkHWWtvTVY/F82xpyaP8P3/RUi8nJw3n+V+hoMAMAUYa19d8F7CFeOPF9Erh7tazAAAFOEiJwiIr8PFvx9nucdU+RiMWvttwqKYVPU9xMAcIT5vj/DWvtY/qstjDE9pS6by+XEWvvr4LIHcrlcX5T3FQBwZB0tIncWfB32mWNtUPi1F9bau73iryoAANXGGPP+gt1B14Tdzlp7Y8F2HziS9xEAAAAAAAAAAAAAAAAAAAAAAAAAAAAAAAAAAAAAAAAAAAAAAAAAAAAAAAAAAAAAAAAAAAAAAAAAAAAAAAAAAAAAAAAAAAAAAAAAAAAAAAAAAAAAAAAAAAAAAAAAAAAAAAAAAAAAAAAAAAAAAAAAAAAAAAAAAAAAAAAAAAAAAAAAAAAAAAAAAAAAAAAAAAAAAAAAAAAAAAAAAAAAAAAAAAAAAAAAAAAAAAAAAAAAAAAAAAAAAAAAAAAAAAAAAAAAAAAAAAAAAAAAAAAAAAAAAAAAAAAAAAAAAAAAAAAAAAAAAAAAAAAAAAAAAAAAAAAAAAAAAAAAAAAAAAAAAAAAAAAAAAAAAAAAAAAAAAAAAAAAAAAAAAC16v8BtVLkwHsEKAwAAAAASUVORK5CYII=\" width=\"285.2666666666667\">"
      ],
      "text/plain": [
       "<IPython.core.display.HTML object>"
      ]
     },
     "metadata": {},
     "output_type": "display_data"
    },
    {
     "name": "stdout",
     "output_type": "stream",
     "text": [
      "Gempy model finished!\n"
     ]
    },
    {
     "name": "stderr",
     "output_type": "stream",
     "text": [
      "100%|███████████████████████████████████████████████████████████████████████████████████| 5/5 [22:06<00:00, 265.24s/it]\n"
     ]
    }
   ],
   "source": [
    "# %%capture\n",
    "clf.fit(5, # number of iterations\n",
    "        beta_jump_length=2, \n",
    "        mu_jump_length=0.0005, \n",
    "        cov_volume_jump_length=0.00005, \n",
    "        theta_jump_length=0.0000005, verbose=False, plot= \"2dy\")"
   ]
  },
  {
   "cell_type": "code",
   "execution_count": 7,
   "metadata": {},
   "outputs": [],
   "source": [
    "# extract gempy_model with coordinates and safe as file.csv\n",
    "gempy_model = {'layer': np.flipud(clf.lith_block[0]).astype(int), 'X': np.flipud(clf.geo_data.grid.values[:,0]), \n",
    "               'Y': np.flipud(clf.geo_data.grid.values[:,1]),'Z': np.flipud(clf.geo_data.grid.values[:,2])}\n",
    "lith_block = pd.DataFrame(gempy_model)\n",
    "\n",
    "lith_block.to_csv('../data/gempy_model_3layers_tilted_res200.csv', index= False)"
   ]
  },
  {
   "cell_type": "code",
   "execution_count": 8,
   "metadata": {
    "scrolled": true
   },
   "outputs": [
    {
     "data": {
      "text/plain": [
       "array([3, 3, 3, 3, 3, 3, 3, 3, 3, 3, 3, 3, 0, 0, 0, 0, 0, 0, 0, 0, 0, 0,\n",
       "       0, 0, 2, 2, 2, 2, 2, 2, 2, 2, 2, 2, 2, 2, 1, 1, 1, 1, 1, 1, 1, 1,\n",
       "       1, 1, 1, 3, 3, 3, 3, 3, 3, 3, 3, 3, 3, 3, 3, 0, 0, 0, 0, 0, 0, 0,\n",
       "       0, 0, 0, 0, 0, 2, 2, 2, 2, 2, 2, 2, 2, 2, 2, 2, 2, 1, 1, 1, 1, 1,\n",
       "       1, 1, 1, 1, 1, 1, 3, 3, 3, 3, 3, 3, 3, 3, 3, 3, 3, 3, 0, 0, 0, 0,\n",
       "       0, 0, 0, 0, 0, 0, 0, 0, 2, 2, 2, 2, 2, 2, 2, 2, 2, 2, 2, 2, 1, 1,\n",
       "       1, 1, 1, 1, 1, 1, 1, 1, 1, 3, 3, 3, 3, 3, 3, 3, 3, 3, 3, 3, 3, 0,\n",
       "       0, 0, 0, 0, 0, 0, 0, 0, 0, 0, 0, 2, 2, 2, 2, 2, 2, 2, 2, 2, 2, 2,\n",
       "       2, 1, 1, 1, 1, 1, 1, 1, 1, 1, 1, 1, 3, 3, 3, 3, 3, 3, 3, 3, 3, 3,\n",
       "       3, 3, 0, 0, 0, 0, 0, 0, 0, 0, 0, 0, 0, 0, 2, 2, 2, 2, 2, 2, 2, 2,\n",
       "       2, 2, 2, 2, 1, 1, 1, 1, 1, 1, 1, 1, 1, 1, 1], dtype=int64)"
      ]
     },
     "execution_count": 8,
     "metadata": {},
     "output_type": "execute_result"
    }
   ],
   "source": [
    "label_true"
   ]
  },
  {
   "cell_type": "code",
   "execution_count": 9,
   "metadata": {},
   "outputs": [],
   "source": [
    "label_true[np.where(label_true == 0)] = 12\n",
    "label_true[np.where(label_true == 1)] = 10\n",
    "label_true[np.where(label_true == 2)] = 13\n",
    "label_true[np.where(label_true == 3)] = 11\n",
    "label_true = label_true -10"
   ]
  },
  {
   "cell_type": "code",
   "execution_count": 17,
   "metadata": {},
   "outputs": [],
   "source": [
    "x = len(clf.labels)"
   ]
  },
  {
   "cell_type": "code",
   "execution_count": 12,
   "metadata": {},
   "outputs": [
    {
     "data": {
      "text/plain": [
       "[<matplotlib.lines.Line2D at 0x2d988b7bd68>]"
      ]
     },
     "execution_count": 12,
     "metadata": {},
     "output_type": "execute_result"
    },
    {
     "data": {
      "image/png": "[encoded data removed]",
      "text/plain": [
       "<matplotlib.figure.Figure at 0x2d9881453c8>"
      ]
     },
     "metadata": {},
     "output_type": "display_data"
    }
   ],
   "source": [
    "diff = []\n",
    "for i in range(len(clf.labels)-1):\n",
    "    diff.append(len(np.where(clf.labels[i] - label_true != 0)[0]))\n",
    "%matplotlib inline\n",
    "plt.plot(range(len(diff)),diff)"
   ]
  },
  {
   "cell_type": "code",
   "execution_count": 14,
   "metadata": {},
   "outputs": [
    {
     "data": {
      "text/plain": [
       "[]"
      ]
     },
     "execution_count": 14,
     "metadata": {},
     "output_type": "execute_result"
    }
   ],
   "source": [
    "diff"
   ]
  },
  {
   "cell_type": "code",
   "execution_count": 13,
   "metadata": {},
   "outputs": [
    {
     "data": {
      "text/plain": [
       "array([[0.00000000e+000, 5.39111150e-136, 2.02905800e-258,\n",
       "        1.00000000e+000],\n",
       "       [0.00000000e+000, 6.66071253e-141, 4.07151405e-301,\n",
       "        1.00000000e+000],\n",
       "       [0.00000000e+000, 3.52624941e-176, 4.99451701e-290,\n",
       "        1.00000000e+000],\n",
       "       [0.00000000e+000, 5.11703288e-150, 2.35277541e-273,\n",
       "        1.00000000e+000],\n",
       "       [0.00000000e+000, 5.07600605e-155, 5.41594108e-315,\n",
       "        1.00000000e+000],\n",
       "       [1.21751838e-140, 1.00000000e+000, 5.19434252e-222,\n",
       "        1.56059591e-108],\n",
       "       [5.88343401e-155, 1.00000000e+000, 7.84216190e-188,\n",
       "        4.49374071e-092],\n",
       "       [5.41434397e-125, 1.00000000e+000, 4.05552072e-219,\n",
       "        1.19600068e-115],\n",
       "       [7.56466491e-153, 1.00000000e+000, 1.72462908e-207,\n",
       "        4.35038897e-110],\n",
       "       [2.17511489e-159, 1.00000000e+000, 1.65595490e-185,\n",
       "        1.68231158e-104],\n",
       "       [0.00000000e+000, 6.32220786e-168, 1.00000000e+000,\n",
       "        8.96907962e-253],\n",
       "       [0.00000000e+000, 4.61798322e-189, 1.00000000e+000,\n",
       "        6.13362835e-283],\n",
       "       [0.00000000e+000, 1.72001403e-216, 1.00000000e+000,\n",
       "        9.25878989e-295],\n",
       "       [0.00000000e+000, 2.29862055e-174, 1.00000000e+000,\n",
       "        6.33146971e-250],\n",
       "       [0.00000000e+000, 8.35839403e-216, 1.00000000e+000,\n",
       "        8.90903408e-306],\n",
       "       [1.00000000e+000, 1.61562008e-102, 0.00000000e+000,\n",
       "        0.00000000e+000],\n",
       "       [1.00000000e+000, 1.06773575e-085, 0.00000000e+000,\n",
       "        1.25650285e-313],\n",
       "       [1.00000000e+000, 2.25525952e-095, 0.00000000e+000,\n",
       "        0.00000000e+000],\n",
       "       [1.00000000e+000, 3.66536018e-092, 0.00000000e+000,\n",
       "        1.14363255e-305],\n",
       "       [1.00000000e+000, 2.85835229e-108, 0.00000000e+000,\n",
       "        0.00000000e+000],\n",
       "       [0.00000000e+000, 1.07435424e-143, 1.75004356e-277,\n",
       "        1.00000000e+000],\n",
       "       [0.00000000e+000, 4.22030677e-130, 4.27529460e-281,\n",
       "        1.00000000e+000],\n",
       "       [0.00000000e+000, 2.78314447e-151, 3.38612451e-285,\n",
       "        1.00000000e+000],\n",
       "       [0.00000000e+000, 2.35881354e-156, 0.00000000e+000,\n",
       "        1.00000000e+000],\n",
       "       [0.00000000e+000, 1.45733314e-133, 8.24254000e-285,\n",
       "        1.00000000e+000],\n",
       "       [1.08333798e-156, 1.00000000e+000, 2.39403770e-204,\n",
       "        1.45276207e-109],\n",
       "       [1.59375889e-156, 1.00000000e+000, 7.61378095e-208,\n",
       "        9.29851024e-109],\n",
       "       [1.63111666e-152, 1.00000000e+000, 1.46779532e-194,\n",
       "        1.93697885e-111],\n",
       "       [2.63167237e-136, 1.00000000e+000, 1.59933616e-198,\n",
       "        1.61295231e-106],\n",
       "       [2.39146436e-163, 1.00000000e+000, 7.68640839e-203,\n",
       "        4.29346068e-103],\n",
       "       [0.00000000e+000, 5.80892570e-202, 1.00000000e+000,\n",
       "        3.97611532e-284],\n",
       "       [0.00000000e+000, 6.92964289e-182, 1.00000000e+000,\n",
       "        4.49145529e-267],\n",
       "       [0.00000000e+000, 5.52566493e-180, 1.00000000e+000,\n",
       "        2.41645731e-273],\n",
       "       [0.00000000e+000, 1.70658156e-185, 1.00000000e+000,\n",
       "        8.24388750e-290],\n",
       "       [0.00000000e+000, 6.36384753e-204, 1.00000000e+000,\n",
       "        6.56031958e-290],\n",
       "       [1.00000000e+000, 2.61214402e-101, 0.00000000e+000,\n",
       "        0.00000000e+000],\n",
       "       [1.00000000e+000, 1.40781766e-102, 0.00000000e+000,\n",
       "        0.00000000e+000],\n",
       "       [1.00000000e+000, 5.41965595e-089, 0.00000000e+000,\n",
       "        4.74288692e-318],\n",
       "       [1.00000000e+000, 1.44240023e-093, 0.00000000e+000,\n",
       "        0.00000000e+000],\n",
       "       [1.00000000e+000, 6.87013603e-101, 0.00000000e+000,\n",
       "        0.00000000e+000],\n",
       "       [0.00000000e+000, 1.13111851e-182, 8.22480375e-300,\n",
       "        1.00000000e+000],\n",
       "       [0.00000000e+000, 8.69614594e-149, 1.01227206e-265,\n",
       "        1.00000000e+000],\n",
       "       [0.00000000e+000, 1.48827207e-137, 4.76247111e-293,\n",
       "        1.00000000e+000],\n",
       "       [0.00000000e+000, 1.08086693e-152, 2.30307700e-296,\n",
       "        1.00000000e+000],\n",
       "       [0.00000000e+000, 8.49501314e-176, 4.18918261e-320,\n",
       "        1.00000000e+000],\n",
       "       [5.77043960e-130, 1.00000000e+000, 6.01247624e-225,\n",
       "        2.04245108e-098],\n",
       "       [4.94120641e-150, 1.00000000e+000, 2.99150817e-210,\n",
       "        7.03611959e-083],\n",
       "       [1.49147141e-132, 1.00000000e+000, 5.73456173e-225,\n",
       "        1.39632309e-102],\n",
       "       [9.44836530e-160, 1.00000000e+000, 2.99930787e-210,\n",
       "        2.32164415e-101],\n",
       "       [8.40084394e-113, 1.00000000e+000, 8.91831892e-254,\n",
       "        1.43512541e-097],\n",
       "       [0.00000000e+000, 5.86880184e-205, 1.00000000e+000,\n",
       "        1.10795095e-292],\n",
       "       [0.00000000e+000, 5.76077400e-189, 1.00000000e+000,\n",
       "        1.47387180e-262],\n",
       "       [0.00000000e+000, 9.22098250e-206, 1.00000000e+000,\n",
       "        1.99508226e-304],\n",
       "       [0.00000000e+000, 1.66151492e-193, 1.00000000e+000,\n",
       "        5.72160053e-275],\n",
       "       [0.00000000e+000, 1.30127007e-196, 1.00000000e+000,\n",
       "        9.81136489e-255],\n",
       "       [1.00000000e+000, 1.76495530e-081, 0.00000000e+000,\n",
       "        1.82231174e-292],\n",
       "       [1.00000000e+000, 1.63390166e-091, 0.00000000e+000,\n",
       "        0.00000000e+000],\n",
       "       [1.00000000e+000, 3.79471698e-088, 0.00000000e+000,\n",
       "        6.12976758e-316],\n",
       "       [1.00000000e+000, 2.41941248e-085, 0.00000000e+000,\n",
       "        8.51908358e-300],\n",
       "       [1.00000000e+000, 1.13773335e-084, 0.00000000e+000,\n",
       "        1.37457562e-289],\n",
       "       [0.00000000e+000, 2.23628219e-143, 1.50432324e-292,\n",
       "        1.00000000e+000],\n",
       "       [0.00000000e+000, 1.05689534e-161, 6.06858382e-269,\n",
       "        1.00000000e+000],\n",
       "       [0.00000000e+000, 4.74951102e-163, 4.44076596e-254,\n",
       "        1.00000000e+000],\n",
       "       [0.00000000e+000, 3.47526497e-185, 2.09010413e-285,\n",
       "        1.00000000e+000],\n",
       "       [0.00000000e+000, 3.08939867e-163, 1.30796311e-313,\n",
       "        1.00000000e+000],\n",
       "       [4.37169384e-140, 1.00000000e+000, 7.19579629e-202,\n",
       "        6.04380654e-100],\n",
       "       [2.85513148e-157, 1.00000000e+000, 1.55542658e-216,\n",
       "        7.41103317e-085],\n",
       "       [8.28178433e-142, 1.00000000e+000, 4.16346207e-241,\n",
       "        4.10779940e-099],\n",
       "       [4.16834314e-124, 1.00000000e+000, 6.00495726e-206,\n",
       "        1.14286061e-099],\n",
       "       [2.18531569e-159, 1.00000000e+000, 4.73612446e-205,\n",
       "        8.46907239e-103],\n",
       "       [0.00000000e+000, 2.47008593e-186, 1.00000000e+000,\n",
       "        2.26592180e-272],\n",
       "       [0.00000000e+000, 2.50605154e-172, 1.00000000e+000,\n",
       "        4.25392716e-247],\n",
       "       [0.00000000e+000, 2.22876132e-199, 1.00000000e+000,\n",
       "        1.01550586e-299],\n",
       "       [0.00000000e+000, 1.52339480e-177, 1.00000000e+000,\n",
       "        5.25188679e-266],\n",
       "       [0.00000000e+000, 3.07234686e-201, 1.00000000e+000,\n",
       "        4.28741899e-282],\n",
       "       [1.00000000e+000, 7.08036769e-084, 0.00000000e+000,\n",
       "        1.68866844e-299],\n",
       "       [1.00000000e+000, 2.93423805e-099, 0.00000000e+000,\n",
       "        4.94065646e-324],\n",
       "       [1.00000000e+000, 6.94539450e-095, 0.00000000e+000,\n",
       "        1.22220632e-309],\n",
       "       [1.00000000e+000, 1.67854576e-095, 0.00000000e+000,\n",
       "        1.19235511e-313],\n",
       "       [1.00000000e+000, 1.85296505e-091, 0.00000000e+000,\n",
       "        2.02077790e-319],\n",
       "       [0.00000000e+000, 2.23628219e-143, 1.50432324e-292,\n",
       "        1.00000000e+000],\n",
       "       [0.00000000e+000, 1.05689534e-161, 6.06858382e-269,\n",
       "        1.00000000e+000],\n",
       "       [0.00000000e+000, 4.74951102e-163, 4.44076596e-254,\n",
       "        1.00000000e+000],\n",
       "       [0.00000000e+000, 3.47526497e-185, 2.09010413e-285,\n",
       "        1.00000000e+000],\n",
       "       [0.00000000e+000, 3.08939867e-163, 1.30796311e-313,\n",
       "        1.00000000e+000],\n",
       "       [4.37169384e-140, 1.00000000e+000, 7.19579629e-202,\n",
       "        6.04380654e-100],\n",
       "       [2.85513148e-157, 1.00000000e+000, 1.55542658e-216,\n",
       "        7.41103317e-085],\n",
       "       [8.28178433e-142, 1.00000000e+000, 4.16346207e-241,\n",
       "        4.10779940e-099],\n",
       "       [4.16834314e-124, 1.00000000e+000, 6.00495726e-206,\n",
       "        1.14286061e-099],\n",
       "       [2.18531569e-159, 1.00000000e+000, 4.73612446e-205,\n",
       "        8.46907239e-103],\n",
       "       [0.00000000e+000, 2.47008593e-186, 1.00000000e+000,\n",
       "        2.26592180e-272],\n",
       "       [0.00000000e+000, 2.50605154e-172, 1.00000000e+000,\n",
       "        4.25392716e-247],\n",
       "       [0.00000000e+000, 2.22876132e-199, 1.00000000e+000,\n",
       "        1.01550586e-299],\n",
       "       [0.00000000e+000, 1.52339480e-177, 1.00000000e+000,\n",
       "        5.25188679e-266],\n",
       "       [0.00000000e+000, 3.07234686e-201, 1.00000000e+000,\n",
       "        4.28741899e-282],\n",
       "       [1.00000000e+000, 7.08036769e-084, 0.00000000e+000,\n",
       "        1.68866844e-299],\n",
       "       [1.00000000e+000, 2.93423805e-099, 0.00000000e+000,\n",
       "        4.94065646e-324],\n",
       "       [1.00000000e+000, 6.94539450e-095, 0.00000000e+000,\n",
       "        1.22220632e-309],\n",
       "       [1.00000000e+000, 1.67854576e-095, 0.00000000e+000,\n",
       "        1.19235511e-313],\n",
       "       [1.00000000e+000, 1.85296505e-091, 0.00000000e+000,\n",
       "        7.43420577e-320]])"
      ]
     },
     "execution_count": 13,
     "metadata": {},
     "output_type": "execute_result"
    }
   ],
   "source": [
    "clf.labels_probability[0]"
   ]
  },
  {
   "cell_type": "code",
   "execution_count": 8,
   "metadata": {
    "scrolled": true
   },
   "outputs": [
    {
     "ename": "IndexError",
     "evalue": "list index out of range",
     "output_type": "error",
     "traceback": [
      "\u001b[1;31m---------------------------------------------------------------------------\u001b[0m",
      "\u001b[1;31mIndexError\u001b[0m                                Traceback (most recent call last)",
      "\u001b[1;32m<ipython-input-8-01f04812ff0b>\u001b[0m in \u001b[0;36m<module>\u001b[1;34m()\u001b[0m\n\u001b[1;32m----> 1\u001b[1;33m \u001b[0mlen\u001b[0m\u001b[1;33m(\u001b[0m\u001b[0mnp\u001b[0m\u001b[1;33m.\u001b[0m\u001b[0mwhere\u001b[0m\u001b[1;33m(\u001b[0m\u001b[0mnp\u001b[0m\u001b[1;33m.\u001b[0m\u001b[0mmax\u001b[0m\u001b[1;33m(\u001b[0m\u001b[0mnp\u001b[0m\u001b[1;33m.\u001b[0m\u001b[0mround\u001b[0m\u001b[1;33m(\u001b[0m\u001b[0mclf\u001b[0m\u001b[1;33m.\u001b[0m\u001b[0mlabels_probability\u001b[0m\u001b[1;33m[\u001b[0m\u001b[1;36m0\u001b[0m\u001b[1;33m]\u001b[0m\u001b[1;33m,\u001b[0m\u001b[1;36m2\u001b[0m\u001b[1;33m)\u001b[0m\u001b[1;33m,\u001b[0m\u001b[0maxis\u001b[0m\u001b[1;33m=\u001b[0m\u001b[1;36m1\u001b[0m\u001b[1;33m)\u001b[0m \u001b[1;33m!=\u001b[0m \u001b[1;36m1\u001b[0m\u001b[1;33m)\u001b[0m\u001b[1;33m[\u001b[0m\u001b[1;36m0\u001b[0m\u001b[1;33m]\u001b[0m\u001b[1;33m)\u001b[0m\u001b[1;33m\u001b[0m\u001b[0m\n\u001b[0m",
      "\u001b[1;31mIndexError\u001b[0m: list index out of range"
     ]
    }
   ],
   "source": [
    "len(np.where(np.max(np.round(clf.labels_probability[0],2),axis=1) != 1)[0])"
   ]
  },
  {
   "cell_type": "code",
   "execution_count": 14,
   "metadata": {},
   "outputs": [
    {
     "data": {
      "text/plain": [
       "array([[0., 0., 0., 1.],\n",
       "       [0., 0., 0., 1.],\n",
       "       [0., 0., 0., 1.],\n",
       "       [0., 0., 0., 1.],\n",
       "       [0., 0., 0., 1.],\n",
       "       [0., 1., 0., 0.],\n",
       "       [0., 1., 0., 0.],\n",
       "       [0., 1., 0., 0.],\n",
       "       [0., 1., 0., 0.],\n",
       "       [0., 1., 0., 0.],\n",
       "       [0., 0., 1., 0.],\n",
       "       [0., 0., 1., 0.],\n",
       "       [0., 0., 1., 0.],\n",
       "       [0., 0., 1., 0.],\n",
       "       [0., 0., 1., 0.],\n",
       "       [1., 0., 0., 0.],\n",
       "       [1., 0., 0., 0.],\n",
       "       [1., 0., 0., 0.],\n",
       "       [1., 0., 0., 0.],\n",
       "       [1., 0., 0., 0.],\n",
       "       [0., 0., 0., 1.],\n",
       "       [0., 0., 0., 1.],\n",
       "       [0., 0., 0., 1.],\n",
       "       [0., 0., 0., 1.],\n",
       "       [0., 0., 0., 1.],\n",
       "       [0., 1., 0., 0.],\n",
       "       [0., 1., 0., 0.],\n",
       "       [0., 1., 0., 0.],\n",
       "       [0., 1., 0., 0.],\n",
       "       [0., 1., 0., 0.],\n",
       "       [0., 0., 1., 0.],\n",
       "       [0., 0., 1., 0.],\n",
       "       [0., 0., 1., 0.],\n",
       "       [0., 0., 1., 0.],\n",
       "       [0., 0., 1., 0.],\n",
       "       [1., 0., 0., 0.],\n",
       "       [1., 0., 0., 0.],\n",
       "       [1., 0., 0., 0.],\n",
       "       [1., 0., 0., 0.],\n",
       "       [1., 0., 0., 0.],\n",
       "       [0., 0., 0., 1.],\n",
       "       [0., 0., 0., 1.],\n",
       "       [0., 0., 0., 1.],\n",
       "       [0., 0., 0., 1.],\n",
       "       [0., 0., 0., 1.],\n",
       "       [0., 1., 0., 0.],\n",
       "       [0., 1., 0., 0.],\n",
       "       [0., 1., 0., 0.],\n",
       "       [0., 1., 0., 0.],\n",
       "       [0., 1., 0., 0.],\n",
       "       [0., 0., 1., 0.],\n",
       "       [0., 0., 1., 0.],\n",
       "       [0., 0., 1., 0.],\n",
       "       [0., 0., 1., 0.],\n",
       "       [0., 0., 1., 0.],\n",
       "       [1., 0., 0., 0.],\n",
       "       [1., 0., 0., 0.],\n",
       "       [1., 0., 0., 0.],\n",
       "       [1., 0., 0., 0.],\n",
       "       [1., 0., 0., 0.],\n",
       "       [0., 0., 0., 1.],\n",
       "       [0., 0., 0., 1.],\n",
       "       [0., 0., 0., 1.],\n",
       "       [0., 0., 0., 1.],\n",
       "       [0., 0., 0., 1.],\n",
       "       [0., 1., 0., 0.],\n",
       "       [0., 1., 0., 0.],\n",
       "       [0., 1., 0., 0.],\n",
       "       [0., 1., 0., 0.],\n",
       "       [0., 1., 0., 0.],\n",
       "       [0., 0., 1., 0.],\n",
       "       [0., 0., 1., 0.],\n",
       "       [0., 0., 1., 0.],\n",
       "       [0., 0., 1., 0.],\n",
       "       [0., 0., 1., 0.],\n",
       "       [1., 0., 0., 0.],\n",
       "       [1., 0., 0., 0.],\n",
       "       [1., 0., 0., 0.],\n",
       "       [1., 0., 0., 0.],\n",
       "       [1., 0., 0., 0.],\n",
       "       [0., 0., 0., 1.],\n",
       "       [0., 0., 0., 1.],\n",
       "       [0., 0., 0., 1.],\n",
       "       [0., 0., 0., 1.],\n",
       "       [0., 0., 0., 1.],\n",
       "       [0., 1., 0., 0.],\n",
       "       [0., 1., 0., 0.],\n",
       "       [0., 1., 0., 0.],\n",
       "       [0., 1., 0., 0.],\n",
       "       [0., 1., 0., 0.],\n",
       "       [0., 0., 1., 0.],\n",
       "       [0., 0., 1., 0.],\n",
       "       [0., 0., 1., 0.],\n",
       "       [0., 0., 1., 0.],\n",
       "       [0., 0., 1., 0.],\n",
       "       [1., 0., 0., 0.],\n",
       "       [1., 0., 0., 0.],\n",
       "       [1., 0., 0., 0.],\n",
       "       [1., 0., 0., 0.],\n",
       "       [1., 0., 0., 0.]])"
      ]
     },
     "execution_count": 14,
     "metadata": {},
     "output_type": "execute_result"
    }
   ],
   "source": [
    "np.round(clf.labels_probability[0],2)"
   ]
  },
  {
   "cell_type": "code",
   "execution_count": 8,
   "metadata": {},
   "outputs": [],
   "source": [
    "labels_1 = data.layer.values"
   ]
  },
  {
   "cell_type": "code",
   "execution_count": 9,
   "metadata": {
    "scrolled": true
   },
   "outputs": [
    {
     "data": {
      "text/plain": [
       "array([3, 3, 3, 3, 3, 3, 3, 3, 3, 3, 3, 3, 0, 0, 0, 0, 0, 0, 0, 0, 0, 0,\n",
       "       0, 0, 2, 2, 2, 2, 2, 2, 2, 2, 2, 2, 2, 2, 1, 1, 1, 1, 1, 1, 1, 1,\n",
       "       1, 1, 1, 3, 3, 3, 3, 3, 3, 3, 3, 3, 3, 3, 3, 0, 0, 0, 0, 0, 0, 0,\n",
       "       0, 0, 0, 0, 0, 2, 2, 2, 2, 2, 2, 2, 2, 2, 2, 2, 2, 1, 1, 1, 1, 1,\n",
       "       1, 1, 1, 1, 1, 1, 3, 3, 3, 3, 3, 3, 3, 3, 3, 3, 3, 3, 0, 0, 0, 0,\n",
       "       0, 0, 0, 0, 0, 0, 0, 0, 2, 2, 2, 2, 2, 2, 2, 2, 2, 2, 2, 2, 1, 1,\n",
       "       1, 1, 1, 1, 1, 1, 1, 1, 1, 3, 3, 3, 3, 3, 3, 3, 3, 3, 3, 3, 3, 0,\n",
       "       0, 0, 0, 0, 0, 0, 0, 0, 0, 0, 0, 2, 2, 2, 2, 2, 2, 2, 2, 2, 2, 2,\n",
       "       2, 1, 1, 1, 1, 1, 1, 1, 1, 1, 1, 1, 3, 3, 3, 3, 3, 3, 3, 3, 3, 3,\n",
       "       3, 3, 0, 0, 0, 0, 0, 0, 0, 0, 0, 0, 0, 0, 2, 2, 2, 2, 2, 2, 2, 2,\n",
       "       2, 2, 2, 2, 1, 1, 1, 1, 1, 1, 1, 1, 1, 1, 1, 3, 3, 3, 3, 3, 3, 3,\n",
       "       3, 3, 3, 3, 3, 0, 0, 0, 0, 0, 0, 0, 0, 0, 0, 0, 0, 2, 2, 2, 2, 2,\n",
       "       2, 2, 2, 2, 2, 2, 2, 1, 1, 1, 1, 1, 1, 1, 1, 1, 1, 1, 3, 3, 3, 3,\n",
       "       3, 3, 3, 3, 3, 3, 3, 3, 0, 0, 0, 0, 0, 0, 0, 0, 0, 0, 0, 0, 2, 2,\n",
       "       2, 2, 2, 2, 2, 2, 2, 2, 2, 2, 1, 1, 1, 1, 1, 1, 1, 1, 1, 1, 1, 3,\n",
       "       3, 3, 3, 3, 3, 3, 3, 3, 3, 3, 3, 0, 0, 0, 0, 0, 0, 0, 0, 0, 0, 0,\n",
       "       0, 2, 2, 2, 2, 2, 2, 2, 2, 2, 2, 2, 2, 1, 1, 1, 1, 1, 1, 1, 1, 1,\n",
       "       1, 1], dtype=int64)"
      ]
     },
     "execution_count": 9,
     "metadata": {},
     "output_type": "execute_result"
    }
   ],
   "source": [
    "labels_1"
   ]
  },
  {
   "cell_type": "code",
   "execution_count": 11,
   "metadata": {},
   "outputs": [],
   "source": [
    "labels_1[np.where(labels_1 == 2)] = 12\n",
    "labels_1[np.where(labels_1 == 3)] = 10\n",
    "labels_1[np.where(labels_1 == 0)] = 13\n",
    "labels_1[np.where(labels_1 == 1)] = 11\n",
    "labels_1 = labels_1 -10"
   ]
  },
  {
   "cell_type": "code",
   "execution_count": 10,
   "metadata": {},
   "outputs": [
    {
     "data": {
      "text/plain": [
       "array([0, 0, 0, 0, 0, 0, 0, 0, 0, 0, 0, 0, 3, 3, 3, 3, 3, 3, 3, 3, 3, 3,\n",
       "       2, 3, 2, 2, 0, 2, 2, 2, 2, 2, 2, 2, 2, 3, 1, 1, 2, 1, 1, 1, 1, 1,\n",
       "       1, 2, 1, 0, 0, 0, 0, 0, 0, 1, 0, 0, 0, 0, 0, 3, 3, 3, 3, 0, 3, 3,\n",
       "       3, 3, 3, 3, 3, 2, 2, 2, 2, 2, 1, 2, 2, 2, 2, 0, 2, 1, 1, 1, 1, 1,\n",
       "       1, 1, 2, 1, 1, 1, 0, 0, 2, 0, 0, 0, 0, 0, 0, 0, 0, 3, 3, 3, 3, 3,\n",
       "       3, 3, 3, 2, 2, 3, 3, 3, 2, 2, 2, 2, 2, 2, 2, 0, 2, 2, 2, 1, 1, 2,\n",
       "       1, 1, 1, 1, 1, 1, 1, 1, 1, 0, 0, 0, 0, 0, 0, 0, 0, 0, 0, 0, 0, 3,\n",
       "       3, 3, 3, 3, 2, 3, 2, 3, 2, 2, 3, 2, 2, 2, 2, 2, 2, 2, 1, 2, 2, 2,\n",
       "       2, 1, 1, 1, 1, 1, 1, 1, 1, 1, 1, 1, 0, 0, 0, 0, 0, 0, 0, 0, 0, 0,\n",
       "       0, 0, 3, 3, 3, 3, 3, 3, 3, 2, 3, 3, 3, 3, 2, 2, 2, 2, 2, 2, 2, 2,\n",
       "       2, 2, 2, 1, 1, 1, 1, 1, 1, 1, 1, 2, 1, 0, 1, 0, 0, 0, 2, 0, 0, 2,\n",
       "       0, 0, 0, 0, 0, 3, 3, 3, 3, 3, 3, 3, 3, 3, 3, 3, 3, 2, 2, 2, 2, 1,\n",
       "       2, 0, 2, 2, 2, 0, 2, 1, 1, 1, 1, 1, 1, 1, 2, 1, 1, 1, 0, 0, 0, 0,\n",
       "       0, 0, 0, 0, 0, 0, 0, 0, 3, 3, 3, 3, 3, 3, 3, 3, 3, 3, 3, 2, 2, 2,\n",
       "       2, 2, 2, 2, 2, 2, 1, 2, 2, 2, 1, 1, 1, 1, 2, 1, 1, 1, 1, 1, 1, 0,\n",
       "       0, 0, 0, 0, 0, 0, 0, 0, 0, 0, 3, 3, 3, 3, 2, 3, 3, 3, 3, 3, 3, 3,\n",
       "       3, 2, 2, 3, 2, 2, 2, 2, 2, 2, 2, 2, 0, 1, 1, 1, 1, 1, 2, 1, 1, 1,\n",
       "       1, 1], dtype=int64)"
      ]
     },
     "execution_count": 10,
     "metadata": {},
     "output_type": "execute_result"
    }
   ],
   "source": [
    "clf.labels[-1]"
   ]
  },
  {
   "cell_type": "code",
   "execution_count": 12,
   "metadata": {},
   "outputs": [],
   "source": [
    "diff = []\n",
    "for i in range(len(clf.labels)):\n",
    "    diff.append(len(np.where(clf.labels[i] - labels_1 != 0)[0]))"
   ]
  },
  {
   "cell_type": "code",
   "execution_count": 13,
   "metadata": {},
   "outputs": [
    {
     "data": {
      "text/plain": [
       "[<matplotlib.lines.Line2D at 0x22f004e5b00>]"
      ]
     },
     "execution_count": 13,
     "metadata": {},
     "output_type": "execute_result"
    },
    {
     "data": {
      "image/png": "[encoded data removed]",
      "text/plain": [
       "<matplotlib.figure.Figure at 0x22f005096d8>"
      ]
     },
     "metadata": {},
     "output_type": "display_data"
    }
   ],
   "source": [
    "%matplotlib inline\n",
    "plt.plot(range(len(diff)),diff)"
   ]
  },
  {
   "cell_type": "code",
   "execution_count": 13,
   "metadata": {},
   "outputs": [
    {
     "data": {
      "text/plain": [
       "[<matplotlib.lines.Line2D at 0x2e6c86817b8>]"
      ]
     },
     "execution_count": 13,
     "metadata": {},
     "output_type": "execute_result"
    },
    {
     "data": {
      "image/png": "[encoded data removed]",
      "text/plain": [
       "<matplotlib.figure.Figure at 0x2e6c05a7630>"
      ]
     },
     "metadata": {},
     "output_type": "display_data"
    }
   ],
   "source": [
    "%matplotlib inline\n",
    "plt.plot(range(len(diff)),diff)"
   ]
  },
  {
   "cell_type": "code",
   "execution_count": 7,
   "metadata": {},
   "outputs": [
    {
     "data": {
      "text/plain": [
       "[array([0, 0, 0, 0, 0, 0, 2, 0, 0, 0, 0, 0, 3, 3, 3, 3, 3, 3, 3, 3, 3, 3,\n",
       "        3, 3, 2, 2, 2, 2, 2, 2, 2, 2, 2, 2, 2, 3, 1, 1, 1, 1, 1, 1, 1, 1,\n",
       "        1, 1, 1, 0, 0, 0, 0, 0, 0, 0, 0, 0, 0, 0, 0, 3, 2, 3, 3, 3, 3, 3,\n",
       "        3, 3, 3, 3, 3, 2, 2, 2, 2, 2, 2, 2, 2, 2, 2, 2, 2, 1, 1, 2, 1, 1,\n",
       "        1, 2, 1, 1, 1, 1, 0, 0, 0, 2, 0, 0, 0, 0, 0, 0, 0, 1, 3, 2, 3, 3,\n",
       "        3, 3, 3, 3, 3, 3, 2, 3, 2, 2, 2, 2, 2, 2, 2, 2, 2, 2, 2, 2, 2, 1,\n",
       "        1, 1, 1, 1, 1, 1, 1, 1, 1, 0, 0, 0, 0, 0, 0, 0, 0, 0, 2, 0, 0, 3,\n",
       "        0, 3, 3, 3, 3, 3, 3, 3, 2, 3, 3, 2, 2, 2, 1, 2, 2, 2, 2, 2, 2, 2,\n",
       "        2, 1, 1, 1, 1, 1, 1, 2, 2, 1, 1, 1, 0, 0, 0, 0, 0, 0, 0, 0, 0, 0,\n",
       "        2, 0, 3, 3, 3, 3, 3, 3, 3, 3, 3, 3, 3, 3, 2, 2, 2, 2, 2, 2, 2, 2,\n",
       "        2, 2, 2, 2, 2, 1, 1, 1, 1, 1, 1, 1, 1, 1, 1], dtype=int64),\n",
       " array([0, 0, 0, 0, 0, 0, 0, 0, 0, 0, 0, 0, 3, 3, 3, 3, 3, 3, 3, 3, 3, 3,\n",
       "        3, 3, 2, 2, 2, 2, 2, 2, 2, 2, 2, 2, 2, 3, 1, 1, 1, 1, 1, 1, 1, 1,\n",
       "        1, 1, 1, 0, 0, 0, 0, 0, 0, 0, 0, 0, 0, 0, 0, 3, 3, 3, 3, 3, 3, 3,\n",
       "        3, 3, 3, 3, 3, 2, 2, 2, 2, 2, 2, 2, 2, 2, 2, 2, 2, 1, 1, 1, 1, 1,\n",
       "        1, 1, 1, 1, 1, 1, 0, 0, 0, 0, 0, 0, 0, 0, 0, 0, 0, 2, 3, 2, 3, 3,\n",
       "        3, 3, 3, 0, 3, 3, 3, 3, 2, 2, 2, 2, 2, 2, 2, 2, 2, 2, 2, 2, 2, 1,\n",
       "        1, 1, 1, 1, 1, 1, 1, 1, 1, 1, 0, 0, 0, 0, 0, 0, 0, 0, 2, 0, 0, 3,\n",
       "        0, 3, 3, 3, 3, 3, 3, 3, 3, 3, 3, 2, 2, 2, 2, 2, 2, 2, 2, 2, 2, 2,\n",
       "        2, 1, 1, 1, 1, 1, 1, 2, 2, 1, 1, 1, 0, 0, 0, 0, 0, 0, 0, 0, 0, 0,\n",
       "        2, 0, 3, 3, 3, 3, 3, 3, 3, 3, 3, 3, 3, 3, 2, 2, 2, 2, 2, 2, 2, 2,\n",
       "        2, 2, 2, 2, 2, 1, 1, 1, 1, 1, 1, 1, 1, 1, 1], dtype=int64),\n",
       " array([0, 0, 0, 0, 0, 0, 0, 0, 0, 0, 0, 0, 3, 3, 3, 3, 3, 3, 2, 3, 3, 3,\n",
       "        3, 3, 2, 2, 2, 2, 2, 2, 2, 2, 2, 2, 2, 3, 1, 1, 1, 1, 1, 1, 1, 1,\n",
       "        1, 1, 1, 0, 0, 0, 0, 0, 0, 0, 0, 0, 0, 0, 0, 3, 3, 3, 3, 3, 3, 3,\n",
       "        3, 3, 3, 3, 3, 2, 2, 2, 2, 2, 2, 2, 2, 2, 2, 2, 2, 1, 1, 1, 1, 1,\n",
       "        1, 1, 1, 1, 1, 1, 0, 0, 0, 2, 0, 0, 0, 0, 0, 0, 0, 1, 3, 3, 3, 3,\n",
       "        3, 3, 3, 3, 3, 3, 3, 3, 2, 2, 2, 2, 2, 2, 2, 2, 2, 2, 2, 2, 2, 1,\n",
       "        1, 1, 1, 1, 1, 1, 1, 1, 1, 1, 0, 0, 0, 0, 0, 0, 0, 0, 2, 0, 0, 3,\n",
       "        0, 3, 3, 3, 3, 3, 3, 3, 2, 3, 3, 2, 2, 2, 1, 2, 2, 2, 2, 2, 2, 2,\n",
       "        2, 1, 1, 1, 1, 1, 1, 2, 2, 1, 1, 1, 0, 0, 0, 0, 0, 0, 0, 0, 0, 0,\n",
       "        0, 0, 3, 3, 3, 3, 3, 3, 3, 3, 3, 3, 3, 3, 2, 2, 2, 2, 2, 2, 2, 2,\n",
       "        2, 2, 2, 2, 2, 1, 1, 1, 1, 1, 1, 1, 1, 1, 1], dtype=int64),\n",
       " array([0, 0, 0, 0, 0, 0, 0, 0, 0, 0, 0, 0, 3, 3, 3, 3, 3, 3, 3, 3, 3, 3,\n",
       "        3, 3, 2, 2, 2, 2, 2, 2, 2, 2, 2, 2, 2, 3, 1, 1, 1, 1, 1, 1, 1, 1,\n",
       "        1, 1, 1, 0, 0, 0, 0, 0, 0, 0, 0, 0, 0, 0, 0, 3, 3, 3, 3, 3, 3, 3,\n",
       "        3, 3, 3, 3, 3, 2, 2, 2, 2, 2, 2, 2, 2, 2, 2, 2, 2, 1, 1, 1, 1, 1,\n",
       "        1, 1, 1, 1, 1, 1, 0, 0, 0, 0, 0, 0, 0, 0, 0, 0, 0, 0, 3, 3, 3, 3,\n",
       "        3, 3, 3, 3, 3, 3, 3, 3, 2, 2, 2, 2, 2, 2, 2, 2, 2, 2, 2, 2, 2, 1,\n",
       "        1, 1, 1, 1, 1, 1, 1, 1, 1, 0, 0, 0, 0, 0, 0, 0, 0, 0, 2, 0, 0, 3,\n",
       "        3, 3, 3, 3, 3, 3, 3, 3, 3, 3, 3, 2, 2, 2, 2, 2, 2, 2, 2, 2, 2, 2,\n",
       "        2, 1, 1, 1, 1, 1, 1, 2, 2, 1, 1, 1, 0, 0, 0, 0, 0, 0, 0, 0, 0, 0,\n",
       "        0, 0, 3, 3, 3, 3, 3, 3, 3, 3, 3, 3, 3, 3, 2, 2, 2, 2, 2, 2, 2, 2,\n",
       "        2, 2, 2, 2, 2, 1, 1, 1, 1, 1, 1, 1, 1, 1, 1], dtype=int64),\n",
       " array([0, 0, 0, 0, 0, 0, 0, 0, 0, 0, 0, 0, 3, 3, 3, 3, 3, 3, 3, 3, 3, 3,\n",
       "        3, 3, 2, 2, 2, 2, 2, 2, 2, 2, 2, 2, 2, 2, 1, 1, 1, 1, 1, 1, 1, 1,\n",
       "        1, 1, 1, 0, 0, 0, 0, 0, 0, 0, 0, 0, 0, 0, 0, 3, 3, 3, 3, 3, 3, 3,\n",
       "        3, 3, 3, 3, 3, 2, 2, 2, 2, 2, 2, 2, 2, 2, 2, 2, 2, 1, 1, 1, 1, 1,\n",
       "        1, 1, 1, 1, 1, 1, 0, 0, 0, 0, 0, 0, 0, 0, 0, 0, 0, 0, 3, 3, 3, 3,\n",
       "        3, 3, 3, 3, 3, 3, 3, 3, 2, 2, 2, 2, 2, 2, 2, 2, 2, 2, 2, 2, 2, 2,\n",
       "        1, 1, 1, 1, 1, 1, 1, 1, 1, 0, 0, 0, 0, 0, 0, 0, 0, 0, 0, 0, 0, 3,\n",
       "        3, 3, 3, 3, 3, 3, 3, 3, 3, 3, 3, 2, 2, 2, 2, 2, 2, 2, 2, 2, 2, 2,\n",
       "        2, 1, 1, 1, 1, 1, 1, 2, 2, 1, 1, 1, 0, 0, 0, 0, 0, 0, 0, 0, 0, 0,\n",
       "        0, 0, 3, 3, 3, 3, 3, 3, 3, 3, 3, 3, 3, 3, 2, 2, 2, 2, 2, 2, 2, 2,\n",
       "        2, 2, 2, 2, 2, 1, 1, 1, 1, 1, 1, 1, 1, 1, 1], dtype=int64),\n",
       " array([0, 0, 0, 0, 0, 0, 0, 0, 0, 0, 0, 0, 3, 3, 3, 3, 3, 3, 3, 3, 3, 3,\n",
       "        3, 3, 2, 2, 2, 2, 2, 2, 2, 2, 2, 2, 2, 3, 1, 1, 1, 1, 1, 1, 1, 1,\n",
       "        1, 1, 1, 0, 0, 0, 0, 0, 0, 0, 0, 0, 0, 0, 0, 3, 3, 3, 3, 3, 3, 3,\n",
       "        3, 3, 3, 3, 3, 2, 2, 2, 2, 2, 2, 2, 2, 2, 2, 2, 2, 1, 1, 1, 1, 1,\n",
       "        1, 1, 1, 1, 1, 1, 0, 0, 0, 0, 0, 0, 0, 0, 0, 0, 0, 0, 3, 3, 3, 3,\n",
       "        3, 3, 3, 3, 3, 3, 3, 3, 2, 2, 2, 2, 2, 2, 2, 2, 2, 2, 2, 2, 2, 1,\n",
       "        1, 1, 1, 1, 1, 1, 1, 1, 1, 0, 0, 0, 0, 0, 0, 0, 0, 0, 0, 0, 0, 3,\n",
       "        3, 3, 3, 3, 3, 3, 3, 3, 3, 3, 3, 2, 2, 2, 2, 2, 2, 2, 2, 2, 2, 2,\n",
       "        2, 1, 1, 1, 1, 1, 1, 2, 2, 1, 1, 1, 0, 0, 0, 0, 0, 0, 0, 0, 0, 0,\n",
       "        0, 0, 3, 3, 3, 3, 3, 3, 3, 3, 3, 3, 3, 3, 2, 2, 2, 2, 2, 2, 2, 2,\n",
       "        2, 2, 2, 2, 2, 1, 1, 1, 1, 1, 1, 1, 1, 1, 1], dtype=int64)]"
      ]
     },
     "execution_count": 7,
     "metadata": {},
     "output_type": "execute_result"
    }
   ],
   "source": [
    "clf.labels"
   ]
  },
  {
   "cell_type": "markdown",
   "metadata": {},
   "source": [
    "## Check the combination algorithm"
   ]
  },
  {
   "cell_type": "code",
   "execution_count": 8,
   "metadata": {},
   "outputs": [],
   "source": [
    "# gp.plotting.plot_data_3D(clf.geo_data)"
   ]
  },
  {
   "cell_type": "code",
   "execution_count": 9,
   "metadata": {},
   "outputs": [
    {
     "name": "stdout",
     "output_type": "stream",
     "text": [
      "Gempy coordinates        |      Well data coordinates\n",
      "_____________________________________________________\n",
      "[  50.8   50.8 -161.7]      |      [  50   50 -160]\n",
      "[  50.8   50.8 -191.1]      |      [  50   50 -190]\n",
      "[ 50.8 149.2 -18.9]      |      [ 50 150 -20]\n",
      "[ 50.8 149.2 -48.3]      |      [ 50 150 -50]\n",
      "[ 50.8 149.2 -81.9]      |      [ 50 150 -80]\n",
      "[  50.8  149.2 -111.3]      |      [  50  150 -110]\n",
      "[  50.8  149.2 -140.7]      |      [  50  150 -140]\n",
      "[  50.8  149.2 -170.1]      |      [  50  150 -170]\n",
      "[  50.8  149.2 -199.5]      |      [  50  150 -200]\n",
      "[149.2  50.8 -31.5]      |      [150  50 -30]\n",
      "[149.2  50.8 -60.9]      |      [150  50 -60]\n",
      "[149.2  50.8 -90.3]      |      [150  50 -90]\n",
      "[ 149.2   50.8 -119.7]      |      [ 150   50 -120]\n",
      "[ 149.2   50.8 -149.1]      |      [ 150   50 -150]\n",
      "[ 149.2   50.8 -178.5]      |      [ 150   50 -180]\n"
     ]
    }
   ],
   "source": [
    "# compare coordinates from GemPy grid and coordinates from raw well data (BaySeg)\n",
    "print('Gempy coordinates        |      Well data coordinates')\n",
    "print('_____________________________________________________')\n",
    "for i in range(15):    \n",
    "    print(clf.index_temp[clf.index_gempy[15+i*3]],'     |     ',clf.coords[15+i*3])"
   ]
  },
  {
   "cell_type": "code",
   "execution_count": 10,
   "metadata": {
    "scrolled": true
   },
   "outputs": [
    {
     "name": "stdout",
     "output_type": "stream",
     "text": [
      "Gibbs energy GemPy       |    Gibbs energy BaySeg      |     Likelihood\n",
      "______________________________________________________________________\n",
      "[4. 0. 4. 4.]    |    [1. 0. 1. 1.]    |    [580.5   -5.45 908.26 300.79]\n",
      "[4. 0. 4. 4.]    |    [2. 0. 2. 2.]    |    [672.9   -7.54 906.51 308.06]\n",
      "[4. 0. 4. 4.]    |    [2. 0. 2. 2.]    |    [ 648.75   -8.15 1037.39  389.39]\n",
      "[4. 0. 4. 4.]    |    [2. 0. 2. 2.]    |    [610.93  -6.75 979.83 329.8 ]\n",
      "[4. 0. 4. 4.]    |    [2. 1. 2. 1.]    |    [706.22  -7.17 974.01 342.89]\n",
      "[4. 4. 4. 0.]    |    [2. 1. 2. 1.]    |    [493.1  240.03 312.14  -6.84]\n",
      "[4. 4. 4. 0.]    |    [2. 2. 2. 0.]    |    [414.26 200.23 344.61  -6.71]\n",
      "[4. 4. 4. 0.]    |    [2. 2. 2. 0.]    |    [485.95 255.92 276.62  -5.74]\n",
      "[4. 4. 4. 0.]    |    [2. 2. 2. 0.]    |    [457.91 241.01 338.72  -7.85]\n",
      "[4. 4. 4. 0.]    |    [1. 2. 2. 1.]    |    [411.04 229.78 355.9   -6.8 ]\n",
      "[0. 4. 4. 4.]    |    [1. 2. 2. 1.]    |    [  -7.29  573.78 1090.62  372.84]\n",
      "[0. 4. 4. 4.]    |    [0. 2. 2. 2.]    |    [  -7.36  641.83 1078.38  419.26]\n",
      "[0. 4. 4. 4.]    |    [0. 2. 2. 2.]    |    [  -6.31  670.56 1203.87  483.4 ]\n",
      "[0. 4. 4. 4.]    |    [0. 2. 2. 2.]    |    [  -7.82  565.32 1088.27  385.09]\n",
      "[0. 4. 4. 4.]    |    [1. 2. 1. 2.]    |    [  -4.54  699.45 1257.68  484.67]\n",
      "[4. 4. 0. 4.]    |    [1. 2. 1. 2.]    |    [1321.37  756.81   -6.1   223.48]\n",
      "[4. 4. 0. 4.]    |    [2. 2. 0. 2.]    |    [1131.72  709.66   -7.59  182.04]\n",
      "[4. 4. 0. 4.]    |    [2. 2. 0. 2.]    |    [1216.78  753.55   -7.94  203.97]\n",
      "[4. 4. 0. 4.]    |    [2. 2. 0. 2.]    |    [1248.48  691.17   -8.32  196.46]\n",
      "[4. 4. 4. 4.]    |    [2. 1. 1. 2.]    |    [1312.78  831.17   -5.51  241.22]\n",
      "[4. 0. 4. 4.]    |    [2. 1. 1. 2.]    |    [623.58  -5.85 956.41 317.84]\n",
      "[4. 0. 4. 4.]    |    [2. 0. 2. 2.]    |    [627.92  -7.04 869.64 283.84]\n",
      "[4. 0. 4. 4.]    |    [2. 0. 2. 2.]    |    [637.67  -7.58 978.46 332.16]\n",
      "[4. 0. 4. 4.]    |    [2. 0. 2. 2.]    |    [756.5   -5.8  956.02 345.29]\n",
      "[4. 0. 4. 4.]    |    [2. 1. 2. 1.]    |    [638.75  -5.72 849.71 295.44]\n",
      "[4. 4. 4. 0.]    |    [2. 1. 2. 1.]    |    [452.95 244.11 350.65  -6.25]\n",
      "[4. 4. 4. 0.]    |    [2. 2. 2. 0.]    |    [458.82 238.68 347.73  -7.55]\n",
      "[4. 4. 4. 0.]    |    [2. 2. 2. 0.]    |    [429.28 244.54 338.77  -7.1 ]\n",
      "[4. 4. 4. 0.]    |    [2. 2. 2. 0.]    |    [437.89 233.57 301.63  -6.97]\n",
      "[4. 4. 4. 0.]    |    [1. 2. 2. 1.]    |    [449.64 226.92 364.68  -7.35]\n",
      "[0. 4. 4. 4.]    |    [1. 2. 2. 1.]    |    [  -8.38  645.55 1179.83  450.01]\n",
      "[0. 4. 4. 4.]    |    [0. 2. 2. 2.]    |    [  -8.5   604.5  1079.55  401.72]\n",
      "[0. 4. 4. 4.]    |    [0. 2. 2. 2.]    |    [  -8.12  619.22 1075.64  397.71]\n",
      "[0. 4. 4. 4.]    |    [0. 2. 2. 2.]    |    [  -5.74  660.92 1143.23  412.89]\n",
      "[0. 4. 4. 4.]    |    [1. 2. 1. 2.]    |    [  -8.35  658.67 1150.8   453.51]\n",
      "[4. 4. 0. 4.]    |    [1. 2. 1. 2.]    |    [1218.93  789.86   -6.49  220.3 ]\n",
      "[4. 4. 0. 4.]    |    [2. 2. 0. 2.]    |    [1244.34  781.44   -7.5   221.27]\n",
      "[4. 4. 0. 4.]    |    [2. 2. 0. 2.]    |    [1153.13  719.27   -8.37  188.93]\n",
      "[4. 4. 0. 4.]    |    [2. 2. 0. 2.]    |    [1191.96  747.59   -8.15  199.61]\n",
      "[4. 4. 4. 4.]    |    [2. 1. 1. 2.]    |    [1264.85  808.16   -5.61  223.91]\n",
      "[4. 0. 4. 4.]    |    [2. 1. 1. 2.]    |    [ 674.33   -6.35 1050.32  407.45]\n",
      "[4. 0. 4. 4.]    |    [2. 0. 2. 2.]    |    [594.05  -5.45 949.86 328.14]\n",
      "[4. 0. 4. 4.]    |    [2. 0. 2. 2.]    |    [656.86  -4.98 933.46 302.53]\n",
      "[4. 0. 4. 4.]    |    [2. 0. 2. 2.]    |    [661.64  -8.34 953.02 334.51]\n",
      "[4. 0. 4. 4.]    |    [2. 1. 2. 1.]    |    [ 718.78   -6.39 1014.96  391.78]\n",
      "[4. 4. 4. 0.]    |    [2. 1. 2. 1.]    |    [501.39 217.66 288.62  -5.3 ]\n",
      "[4. 4. 4. 0.]    |    [2. 2. 2. 0.]    |    [466.85 181.68 335.2   -4.68]\n",
      "[4. 4. 4. 0.]    |    [2. 2. 2. 0.]    |    [497.48 223.17 291.3   -7.96]\n",
      "[4. 4. 4. 0.]    |    [2. 2. 2. 0.]    |    [464.02 220.85 354.33  -8.06]\n",
      "[4. 4. 4. 0.]    |    [1. 2. 2. 1.]    |    [567.99 216.22 249.89  -4.56]\n",
      "[0. 4. 4. 4.]    |    [1. 2. 2. 1.]    |    [  -6.42  667.84 1197.19  458.93]\n",
      "[0. 4. 4. 4.]    |    [0. 2. 2. 2.]    |    [  -7.67  594.44 1082.39  418.78]\n",
      "[0. 4. 4. 4.]    |    [0. 2. 2. 2.]    |    [  -7.55  691.88 1151.77  457.48]\n",
      "[0. 4. 4. 4.]    |    [0. 2. 2. 2.]    |    [  -6.64  624.76 1097.33  430.32]\n",
      "[0. 4. 4. 4.]    |    [1. 2. 1. 2.]    |    [  -3.85  582.18 1185.9   441.31]\n",
      "[4. 4. 0. 4.]    |    [1. 2. 1. 2.]    |    [1125.73  663.44   -6.34  174.8 ]\n",
      "[4. 4. 0. 4.]    |    [2. 2. 0. 2.]    |    [1133.31  740.86   -5.34  197.86]\n",
      "[4. 4. 0. 4.]    |    [2. 2. 0. 2.]    |    [1147.89  715.05   -7.81  187.55]\n",
      "[4. 4. 0. 4.]    |    [2. 2. 0. 2.]    |    [1182.75  677.74   -7.88  181.04]\n",
      "[4. 4. 4. 4.]    |    [2. 1. 1. 2.]    |    [1210.31  661.74   -6.66  185.96]\n",
      "[4. 0. 4. 4.]    |    [2. 1. 1. 2.]    |    [654.92  -7.02 889.67 315.54]\n",
      "[4. 0. 4. 4.]    |    [2. 0. 2. 2.]    |    [ 600.95   -7.98 1008.9   356.2 ]\n",
      "[4. 0. 4. 4.]    |    [2. 0. 2. 2.]    |    [567.71  -6.49 989.11 360.64]\n",
      "[4. 0. 4. 4.]    |    [2. 0. 2. 2.]    |    [ 639.4    -6.47 1093.34  411.35]\n",
      "[4. 0. 4. 4.]    |    [2. 1. 2. 1.]    |    [703.47  -7.71 987.37 361.82]\n",
      "[4. 4. 4. 0.]    |    [2. 1. 2. 1.]    |    [446.63 219.34 310.36  -7.39]\n",
      "[4. 4. 4. 0.]    |    [2. 2. 2. 0.]    |    [480.07 184.27 349.89  -6.34]\n",
      "[4. 4. 4. 0.]    |    [2. 2. 2. 0.]    |    [535.39 217.2  314.02  -6.66]\n",
      "[4. 4. 4. 0.]    |    [2. 2. 2. 0.]    |    [455.71 218.5  274.19  -5.94]\n",
      "[4. 4. 4. 0.]    |    [1. 2. 2. 1.]    |    [454.07 225.11 354.53  -8.12]\n",
      "[0. 4. 4. 4.]    |    [1. 2. 2. 1.]    |    [  -8.08  617.8  1073.18  414.3 ]\n",
      "[0. 4. 4. 4.]    |    [0. 2. 2. 2.]    |    [  -7.46  559.46 1095.21  380.8 ]\n",
      "[0. 4. 4. 4.]    |    [0. 2. 2. 2.]    |    [  -7.39  681.97 1185.87  443.1 ]\n",
      "[0. 4. 4. 4.]    |    [0. 2. 2. 2.]    |    [  -7.29  603.17 1112.5   392.93]\n",
      "[0. 4. 4. 4.]    |    [1. 2. 1. 2.]    |    [  -7.72  640.5  1131.96  447.89]\n",
      "[4. 4. 0. 4.]    |    [1. 2. 1. 2.]    |    [1176.18  679.08   -6.8   179.7 ]\n",
      "[4. 4. 0. 4.]    |    [2. 2. 0. 2.]    |    [1273.41  733.62   -8.18  213.02]\n",
      "[4. 4. 0. 4.]    |    [2. 2. 0. 2.]    |    [1275.3   700.73   -7.97  203.1 ]\n",
      "[4. 4. 0. 4.]    |    [2. 2. 0. 2.]    |    [1257.16  711.05   -7.08  205.43]\n",
      "[4. 4. 4. 4.]    |    [2. 1. 1. 2.]    |    [1216.08  729.98   -6.83  201.19]\n",
      "[4. 0. 4. 4.]    |    [2. 1. 1. 2.]    |    [654.92  -7.02 889.67 315.54]\n",
      "[4. 0. 4. 4.]    |    [2. 0. 2. 2.]    |    [ 600.95   -7.98 1008.9   356.2 ]\n",
      "[4. 0. 4. 4.]    |    [2. 0. 2. 2.]    |    [567.71  -6.49 989.11 360.64]\n",
      "[4. 0. 4. 4.]    |    [2. 0. 2. 2.]    |    [ 639.4    -6.47 1093.34  411.35]\n",
      "[4. 0. 4. 4.]    |    [2. 1. 2. 1.]    |    [703.47  -7.71 987.37 361.82]\n",
      "[4. 4. 4. 0.]    |    [2. 1. 2. 1.]    |    [446.63 219.34 310.36  -7.39]\n",
      "[4. 4. 4. 0.]    |    [2. 2. 2. 0.]    |    [480.07 184.27 349.89  -6.34]\n",
      "[4. 4. 4. 0.]    |    [2. 2. 2. 0.]    |    [535.39 217.2  314.02  -6.66]\n",
      "[4. 4. 4. 0.]    |    [2. 2. 2. 0.]    |    [455.71 218.5  274.19  -5.94]\n",
      "[4. 4. 4. 0.]    |    [1. 2. 2. 1.]    |    [454.07 225.11 354.53  -8.12]\n",
      "[0. 4. 4. 4.]    |    [1. 2. 2. 1.]    |    [  -8.08  617.8  1073.18  414.3 ]\n",
      "[0. 4. 4. 4.]    |    [0. 2. 2. 2.]    |    [  -7.46  559.46 1095.21  380.8 ]\n",
      "[0. 4. 4. 4.]    |    [0. 2. 2. 2.]    |    [  -7.39  681.97 1185.87  443.1 ]\n",
      "[0. 4. 4. 4.]    |    [0. 2. 2. 2.]    |    [  -7.29  603.17 1112.5   392.93]\n",
      "[0. 4. 4. 4.]    |    [1. 2. 1. 2.]    |    [  -7.72  640.5  1131.96  447.89]\n",
      "[4. 4. 0. 4.]    |    [1. 2. 1. 2.]    |    [1176.18  679.08   -6.8   179.7 ]\n",
      "[4. 4. 0. 4.]    |    [2. 2. 0. 2.]    |    [1273.41  733.62   -8.18  213.02]\n",
      "[4. 4. 0. 4.]    |    [2. 2. 0. 2.]    |    [1275.3   700.73   -7.97  203.1 ]\n",
      "[4. 4. 0. 4.]    |    [2. 2. 0. 2.]    |    [1257.16  711.05   -7.08  205.43]\n",
      "[4. 4. 4. 4.]    |    [1. 1. 0. 1.]    |    [1216.08  729.98   -6.83  201.19]\n"
     ]
    }
   ],
   "source": [
    "# compare Gibbs energies calcluated from Gempy model 2D (X,Y) and BaySeg well data 1D (Z)\n",
    "print('Gibbs energy GemPy       |    Gibbs energy BaySeg      |     Likelihood')\n",
    "print('______________________________________________________________________')\n",
    "for i in range(100):# len(clf.gempy_energy)):\n",
    "    print(np.around(clf.storage_gempy_e[-1][i],2),'   |   ',\n",
    "          np.around(clf.storage_gibbs_e[-1][i],2),'   |   ',\n",
    "          np.around(clf.storage_like_e[-1][i],2))"
   ]
  },
  {
   "cell_type": "code",
   "execution_count": null,
   "metadata": {},
   "outputs": [],
   "source": []
  },
  {
   "cell_type": "markdown",
   "metadata": {},
   "source": [
    "# New approach"
   ]
  },
  {
   "cell_type": "code",
   "execution_count": 15,
   "metadata": {},
   "outputs": [],
   "source": [
    "label_prob = np.round(clf.labels_probability[0],2)"
   ]
  },
  {
   "cell_type": "code",
   "execution_count": 16,
   "metadata": {},
   "outputs": [],
   "source": [
    "# extract one borehole\n",
    "label_prob_1 = label_prob[0:20]"
   ]
  },
  {
   "cell_type": "code",
   "execution_count": 17,
   "metadata": {},
   "outputs": [
    {
     "data": {
      "text/plain": [
       "array([[0., 0., 0., 1.],\n",
       "       [0., 0., 0., 1.],\n",
       "       [0., 0., 0., 1.],\n",
       "       [0., 0., 0., 1.],\n",
       "       [0., 0., 0., 1.],\n",
       "       [0., 1., 0., 0.],\n",
       "       [0., 1., 0., 0.],\n",
       "       [0., 1., 0., 0.],\n",
       "       [0., 1., 0., 0.],\n",
       "       [0., 1., 0., 0.],\n",
       "       [0., 0., 1., 0.],\n",
       "       [0., 0., 1., 0.],\n",
       "       [0., 0., 1., 0.],\n",
       "       [0., 0., 1., 0.],\n",
       "       [0., 0., 1., 0.],\n",
       "       [1., 0., 0., 0.],\n",
       "       [1., 0., 0., 0.],\n",
       "       [1., 0., 0., 0.],\n",
       "       [1., 0., 0., 0.],\n",
       "       [1., 0., 0., 0.]])"
      ]
     },
     "execution_count": 17,
     "metadata": {},
     "output_type": "execute_result"
    }
   ],
   "source": [
    "label_prob_1"
   ]
  },
  {
   "cell_type": "code",
   "execution_count": 18,
   "metadata": {},
   "outputs": [],
   "source": [
    "max_prob = np.sum(label_prob_1, axis=0)"
   ]
  },
  {
   "cell_type": "code",
   "execution_count": 19,
   "metadata": {},
   "outputs": [
    {
     "data": {
      "text/plain": [
       "array([5., 5., 5., 5.])"
      ]
     },
     "execution_count": 19,
     "metadata": {},
     "output_type": "execute_result"
    }
   ],
   "source": [
    "max_prob"
   ]
  },
  {
   "cell_type": "code",
   "execution_count": 22,
   "metadata": {},
   "outputs": [],
   "source": [
    "likelihood_sum = []\n",
    "for i in range(len(label_prob_1)+1):\n",
    "    likelihood_sum.append(np.sum(label_prob_1[0:i], axis = 0))"
   ]
  },
  {
   "cell_type": "code",
   "execution_count": 24,
   "metadata": {},
   "outputs": [
    {
     "data": {
      "text/plain": [
       "[array([0., 0., 0., 0.]),\n",
       " array([0., 0., 0., 1.]),\n",
       " array([0., 0., 0., 2.]),\n",
       " array([0., 0., 0., 3.]),\n",
       " array([0., 0., 0., 4.]),\n",
       " array([0., 0., 0., 5.]),\n",
       " array([0., 1., 0., 5.]),\n",
       " array([0., 2., 0., 5.]),\n",
       " array([0., 3., 0., 5.]),\n",
       " array([0., 4., 0., 5.]),\n",
       " array([0., 5., 0., 5.]),\n",
       " array([0., 5., 1., 5.]),\n",
       " array([0., 5., 2., 5.]),\n",
       " array([0., 5., 3., 5.]),\n",
       " array([0., 5., 4., 5.]),\n",
       " array([0., 5., 5., 5.]),\n",
       " array([1., 5., 5., 5.]),\n",
       " array([2., 5., 5., 5.]),\n",
       " array([3., 5., 5., 5.]),\n",
       " array([4., 5., 5., 5.]),\n",
       " array([5., 5., 5., 5.])]"
      ]
     },
     "execution_count": 24,
     "metadata": {},
     "output_type": "execute_result"
    }
   ],
   "source": [
    "likelihood_sum"
   ]
  },
  {
   "cell_type": "code",
   "execution_count": 30,
   "metadata": {},
   "outputs": [],
   "source": [
    "b = np.round(likelihood_sum/max_prob, 2)"
   ]
  },
  {
   "cell_type": "code",
   "execution_count": 31,
   "metadata": {
    "scrolled": true
   },
   "outputs": [
    {
     "data": {
      "text/plain": [
       "array([[0. , 0. , 0. , 0. ],\n",
       "       [0. , 0. , 0. , 0.2],\n",
       "       [0. , 0. , 0. , 0.4],\n",
       "       [0. , 0. , 0. , 0.6],\n",
       "       [0. , 0. , 0. , 0.8],\n",
       "       [0. , 0. , 0. , 1. ],\n",
       "       [0. , 0.2, 0. , 1. ],\n",
       "       [0. , 0.4, 0. , 1. ],\n",
       "       [0. , 0.6, 0. , 1. ],\n",
       "       [0. , 0.8, 0. , 1. ],\n",
       "       [0. , 1. , 0. , 1. ],\n",
       "       [0. , 1. , 0.2, 1. ],\n",
       "       [0. , 1. , 0.4, 1. ],\n",
       "       [0. , 1. , 0.6, 1. ],\n",
       "       [0. , 1. , 0.8, 1. ],\n",
       "       [0. , 1. , 1. , 1. ],\n",
       "       [0.2, 1. , 1. , 1. ],\n",
       "       [0.4, 1. , 1. , 1. ],\n",
       "       [0.6, 1. , 1. , 1. ],\n",
       "       [0.8, 1. , 1. , 1. ],\n",
       "       [1. , 1. , 1. , 1. ]])"
      ]
     },
     "execution_count": 31,
     "metadata": {},
     "output_type": "execute_result"
    }
   ],
   "source": [
    "b"
   ]
  },
  {
   "cell_type": "code",
   "execution_count": 36,
   "metadata": {},
   "outputs": [],
   "source": [
    "n = 4"
   ]
  },
  {
   "cell_type": "code",
   "execution_count": null,
   "metadata": {},
   "outputs": [],
   "source": [
    "max_like = n*[b]"
   ]
  },
  {
   "cell_type": "code",
   "execution_count": 93,
   "metadata": {},
   "outputs": [],
   "source": [
    "boundary_temp = []\n",
    "for k in range(n):\n",
    "    lst = np.arange(n)\n",
    "    lst = np.delete(lst,k)\n",
    "    max_like = n*b[:,k] - np.sum(b[:,lst],axis=1)\n",
    "    boundary_temp.append(np.where(max_like == max(max_like))[0][0])"
   ]
  },
  {
   "cell_type": "code",
   "execution_count": 95,
   "metadata": {},
   "outputs": [],
   "source": [
    "boundary_temp.sort()"
   ]
  },
  {
   "cell_type": "code",
   "execution_count": 96,
   "metadata": {},
   "outputs": [
    {
     "data": {
      "text/plain": [
       "[5, 10, 15, 20]"
      ]
     },
     "execution_count": 96,
     "metadata": {},
     "output_type": "execute_result"
    }
   ],
   "source": [
    "boundary_temp"
   ]
  },
  {
   "cell_type": "code",
   "execution_count": 84,
   "metadata": {},
   "outputs": [
    {
     "data": {
      "text/plain": [
       "(5, 10, 15)"
      ]
     },
     "execution_count": 84,
     "metadata": {},
     "output_type": "execute_result"
    }
   ],
   "source": [
    "clf.boundary_temp"
   ]
  },
  {
   "cell_type": "code",
   "execution_count": 90,
   "metadata": {},
   "outputs": [
    {
     "data": {
      "text/plain": [
       "array([2, 2, 2, 2, 2, 2, 2, 2, 2, 2, 2, 2, 1, 1, 1, 1, 1, 1, 1, 1, 1, 1,\n",
       "       1, 1, 3, 3, 3, 3, 3, 3, 3, 3, 3, 3, 3, 3, 0, 0, 0, 0, 0, 0, 0, 0,\n",
       "       0, 0, 0], dtype=int64)"
      ]
     },
     "execution_count": 90,
     "metadata": {},
     "output_type": "execute_result"
    }
   ],
   "source": [
    "label_true[0:47]"
   ]
  },
  {
   "cell_type": "code",
   "execution_count": 16,
   "metadata": {
    "scrolled": true
   },
   "outputs": [
    {
     "ename": "NameError",
     "evalue": "name 'label_true' is not defined",
     "output_type": "error",
     "traceback": [
      "\u001b[1;31m---------------------------------------------------------------------------\u001b[0m",
      "\u001b[1;31mNameError\u001b[0m                                 Traceback (most recent call last)",
      "\u001b[1;32m<ipython-input-16-272c464c91a8>\u001b[0m in \u001b[0;36m<module>\u001b[1;34m()\u001b[0m\n\u001b[0;32m      1\u001b[0m \u001b[1;32mfor\u001b[0m \u001b[0mi\u001b[0m \u001b[1;32min\u001b[0m \u001b[0mrange\u001b[0m\u001b[1;33m(\u001b[0m\u001b[0mlen\u001b[0m\u001b[1;33m(\u001b[0m\u001b[0mb\u001b[0m\u001b[1;33m)\u001b[0m\u001b[1;33m)\u001b[0m\u001b[1;33m:\u001b[0m\u001b[1;33m\u001b[0m\u001b[0m\n\u001b[1;32m----> 2\u001b[1;33m     \u001b[0mprint\u001b[0m\u001b[1;33m(\u001b[0m\u001b[0mb\u001b[0m\u001b[1;33m[\u001b[0m\u001b[0mi\u001b[0m\u001b[1;33m]\u001b[0m\u001b[1;33m,\u001b[0m\u001b[0mlabel_true\u001b[0m\u001b[1;33m[\u001b[0m\u001b[0mi\u001b[0m\u001b[1;33m]\u001b[0m\u001b[1;33m)\u001b[0m\u001b[1;33m\u001b[0m\u001b[0m\n\u001b[0m",
      "\u001b[1;31mNameError\u001b[0m: name 'label_true' is not defined"
     ]
    }
   ],
   "source": [
    "for i in range(len(b)):    \n",
    "    print(b[i],label_true[i])"
   ]
  },
  {
   "cell_type": "code",
   "execution_count": 53,
   "metadata": {},
   "outputs": [
    {
     "ename": "AttributeError",
     "evalue": "'numpy.ndarray' object has no attribute 'delete'",
     "output_type": "error",
     "traceback": [
      "\u001b[1;31m---------------------------------------------------------------------------\u001b[0m",
      "\u001b[1;31mAttributeError\u001b[0m                            Traceback (most recent call last)",
      "\u001b[1;32m<ipython-input-53-181726d53d5d>\u001b[0m in \u001b[0;36m<module>\u001b[1;34m()\u001b[0m\n\u001b[1;32m----> 1\u001b[1;33m \u001b[0ml\u001b[0m \u001b[1;33m=\u001b[0m \u001b[0mnp\u001b[0m\u001b[1;33m.\u001b[0m\u001b[0marange\u001b[0m\u001b[1;33m(\u001b[0m\u001b[0mn\u001b[0m\u001b[1;33m)\u001b[0m\u001b[1;33m.\u001b[0m\u001b[0mdelete\u001b[0m\u001b[1;33m(\u001b[0m\u001b[1;34m'1'\u001b[0m\u001b[1;33m)\u001b[0m\u001b[1;33m\u001b[0m\u001b[0m\n\u001b[0m",
      "\u001b[1;31mAttributeError\u001b[0m: 'numpy.ndarray' object has no attribute 'delete'"
     ]
    }
   ],
   "source": [
    "l = np.arange(n)"
   ]
  },
  {
   "cell_type": "code",
   "execution_count": 54,
   "metadata": {},
   "outputs": [
    {
     "name": "stderr",
     "output_type": "stream",
     "text": [
      "C:\\Users\\Public\\Anaconda3\\lib\\site-packages\\ipykernel_launcher.py:1: DeprecationWarning: using a non-integer array as obj in delete will result in an error in the future\n",
      "  \"\"\"Entry point for launching an IPython kernel.\n"
     ]
    }
   ],
   "source": [
    "l1 = np.delete(l,'1')"
   ]
  },
  {
   "cell_type": "code",
   "execution_count": 55,
   "metadata": {},
   "outputs": [
    {
     "data": {
      "text/plain": [
       "array([0, 2, 3])"
      ]
     },
     "execution_count": 55,
     "metadata": {},
     "output_type": "execute_result"
    }
   ],
   "source": [
    "l1"
   ]
  },
  {
   "cell_type": "code",
   "execution_count": 50,
   "metadata": {},
   "outputs": [
    {
     "data": {
      "text/plain": [
       "array([[0. , 0. , 0. , 0. ],\n",
       "       [0. , 0. , 0. , 0.2],\n",
       "       [0. , 0. , 0. , 0.4],\n",
       "       [0. , 0. , 0. , 0.6],\n",
       "       [0. , 0. , 0. , 0.8],\n",
       "       [0. , 0. , 0. , 1. ],\n",
       "       [0. , 0.2, 0. , 1. ],\n",
       "       [0. , 0.4, 0. , 1. ],\n",
       "       [0. , 0.6, 0. , 1. ],\n",
       "       [0. , 0.8, 0. , 1. ],\n",
       "       [0. , 1. , 0. , 1. ],\n",
       "       [0. , 1. , 0.2, 1. ],\n",
       "       [0. , 1. , 0.4, 1. ],\n",
       "       [0. , 1. , 0.6, 1. ],\n",
       "       [0. , 1. , 0.8, 1. ],\n",
       "       [0. , 1. , 1. , 1. ],\n",
       "       [0.2, 1. , 1. , 1. ],\n",
       "       [0.4, 1. , 1. , 1. ],\n",
       "       [0.6, 1. , 1. , 1. ],\n",
       "       [0.8, 1. , 1. , 1. ],\n",
       "       [1. , 1. , 1. , 1. ]])"
      ]
     },
     "execution_count": 50,
     "metadata": {},
     "output_type": "execute_result"
    }
   ],
   "source": [
    "b[:,l]"
   ]
  },
  {
   "cell_type": "code",
   "execution_count": 63,
   "metadata": {},
   "outputs": [
    {
     "data": {
      "text/plain": [
       "array([[0. , 0. , 0. ],\n",
       "       [0. , 0. , 0.2],\n",
       "       [0. , 0. , 0.4],\n",
       "       [0. , 0. , 0.6],\n",
       "       [0. , 0. , 0.8],\n",
       "       [0. , 0. , 1. ],\n",
       "       [0. , 0. , 1. ],\n",
       "       [0. , 0. , 1. ],\n",
       "       [0. , 0. , 1. ],\n",
       "       [0. , 0. , 1. ],\n",
       "       [0. , 0. , 1. ],\n",
       "       [0. , 0.2, 1. ],\n",
       "       [0. , 0.4, 1. ],\n",
       "       [0. , 0.6, 1. ],\n",
       "       [0. , 0.8, 1. ],\n",
       "       [0. , 1. , 1. ],\n",
       "       [0.2, 1. , 1. ],\n",
       "       [0.4, 1. , 1. ],\n",
       "       [0.6, 1. , 1. ],\n",
       "       [0.8, 1. , 1. ],\n",
       "       [1. , 1. , 1. ]])"
      ]
     },
     "execution_count": 63,
     "metadata": {},
     "output_type": "execute_result"
    }
   ],
   "source": [
    "b[:,[0,2,3]]"
   ]
  },
  {
   "cell_type": "code",
   "execution_count": 79,
   "metadata": {},
   "outputs": [
    {
     "data": {
      "text/plain": [
       "(5, 10, 15)"
      ]
     },
     "execution_count": 79,
     "metadata": {},
     "output_type": "execute_result"
    }
   ],
   "source": [
    "clf.boundary_temp"
   ]
  },
  {
   "cell_type": "code",
   "execution_count": 62,
   "metadata": {},
   "outputs": [
    {
     "data": {
      "text/plain": [
       "array([0. , 0.2, 0.4, 0.6, 0.8, 1. , 1. , 1. , 1. , 1. , 1. , 1.2, 1.4,\n",
       "       1.6, 1.8, 2. , 2.2, 2.4, 2.6, 2.8, 3. ])"
      ]
     },
     "execution_count": 62,
     "metadata": {},
     "output_type": "execute_result"
    }
   ],
   "source": [
    "np.sum(b[:,[0,2,3]],axis=1)"
   ]
  },
  {
   "cell_type": "code",
   "execution_count": 64,
   "metadata": {},
   "outputs": [],
   "source": [
    "d = (3*b[:,1])-np.sum(b[:,[0,2,3]],axis=1)"
   ]
  },
  {
   "cell_type": "code",
   "execution_count": 65,
   "metadata": {},
   "outputs": [
    {
     "data": {
      "text/plain": [
       "array([ 0. , -0.2, -0.4, -0.6, -0.8, -1. , -0.4,  0.2,  0.8,  1.4,  2. ,\n",
       "        1.8,  1.6,  1.4,  1.2,  1. ,  0.8,  0.6,  0.4,  0.2,  0. ])"
      ]
     },
     "execution_count": 65,
     "metadata": {},
     "output_type": "execute_result"
    }
   ],
   "source": [
    "d"
   ]
  },
  {
   "cell_type": "code",
   "execution_count": 78,
   "metadata": {},
   "outputs": [
    {
     "data": {
      "text/plain": [
       "10"
      ]
     },
     "execution_count": 78,
     "metadata": {},
     "output_type": "execute_result"
    }
   ],
   "source": [
    "np.where(d == max(d))[0][0]"
   ]
  },
  {
   "cell_type": "code",
   "execution_count": 72,
   "metadata": {},
   "outputs": [
    {
     "data": {
      "text/plain": [
       "array([[0., 1., 0., 1.]])"
      ]
     },
     "execution_count": 72,
     "metadata": {},
     "output_type": "execute_result"
    }
   ],
   "source": [
    "b[np.where(d == max(d))[0]]"
   ]
  },
  {
   "cell_type": "code",
   "execution_count": 70,
   "metadata": {},
   "outputs": [
    {
     "data": {
      "text/plain": [
       "array([0.  , 0.  , 0.  , 0.  , 0.  , 0.  , 0.  , 0.  , 0.  , 0.  , 0.  ,\n",
       "       0.  , 0.  , 0.  , 0.  , 0.  , 0.  , 0.  , 0.  , 0.  , 0.  , 0.  ,\n",
       "       0.  , 0.  , 0.  , 0.  , 0.  , 0.02, 0.02, 0.02, 0.02, 0.02, 0.02,\n",
       "       0.02, 0.03, 0.03, 0.03, 0.12, 0.21, 0.3 , 0.37, 0.46, 0.55, 0.64,\n",
       "       0.73, 0.82, 0.91, 1.  ])"
      ]
     },
     "execution_count": 70,
     "metadata": {},
     "output_type": "execute_result"
    }
   ],
   "source": [
    "b[:,0]"
   ]
  },
  {
   "cell_type": "code",
   "execution_count": null,
   "metadata": {},
   "outputs": [],
   "source": []
  }
 ],
 "metadata": {
  "kernelspec": {
   "display_name": "Python 3",
   "language": "python",
   "name": "python3"
  },
  "language_info": {
   "codemirror_mode": {
    "name": "ipython",
    "version": 3
   },
   "file_extension": ".py",
   "mimetype": "text/x-python",
   "name": "python",
   "nbconvert_exporter": "python",
   "pygments_lexer": "ipython3",
   "version": "3.6.4"
  }
 },
 "nbformat": 4,
 "nbformat_minor": 2
}
