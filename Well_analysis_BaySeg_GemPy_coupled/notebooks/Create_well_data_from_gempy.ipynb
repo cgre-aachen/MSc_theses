{
 "cells": [
  {
   "cell_type": "markdown",
   "metadata": {},
   "source": [
    "# Create synthetic well data from gempy model"
   ]
  },
  {
   "cell_type": "code",
   "execution_count": 1,
   "metadata": {},
   "outputs": [],
   "source": [
    "%matplotlib inline\n",
    "import matplotlib.pyplot as plt\n",
    "import seaborn as sns; sns.set()\n",
    "import numpy as np\n",
    "import pandas as pd\n",
    "import random\n",
    "\n",
    "from sklearn.datasets.samples_generator import make_blobs"
   ]
  },
  {
   "cell_type": "markdown",
   "metadata": {},
   "source": [
    "### Safe GemPy model"
   ]
  },
  {
   "cell_type": "code",
   "execution_count": 2,
   "metadata": {},
   "outputs": [
    {
     "ename": "NameError",
     "evalue": "name 'clf' is not defined",
     "output_type": "error",
     "traceback": [
      "\u001b[1;31m---------------------------------------------------------------------------\u001b[0m",
      "\u001b[1;31mNameError\u001b[0m                                 Traceback (most recent call last)",
      "\u001b[1;32m<ipython-input-2-b26242cbc3c3>\u001b[0m in \u001b[0;36m<module>\u001b[1;34m()\u001b[0m\n\u001b[0;32m      1\u001b[0m \u001b[1;31m# extract gempy_model with coordinates and safe as file.csv\u001b[0m\u001b[1;33m\u001b[0m\u001b[1;33m\u001b[0m\u001b[0m\n\u001b[1;32m----> 2\u001b[1;33m gempy_model = {'layer': np.flipud(clf.lith_block[0]).astype(int), 'X': np.flipud(clf.geo_data.grid.values[:,0]), \n\u001b[0m\u001b[0;32m      3\u001b[0m                'Y': np.flipud(clf.geo_data.grid.values[:,1]),'Z': np.flipud(clf.geo_data.grid.values[:,2])}\n\u001b[0;32m      4\u001b[0m \u001b[0mlith_block\u001b[0m \u001b[1;33m=\u001b[0m \u001b[0mpd\u001b[0m\u001b[1;33m.\u001b[0m\u001b[0mDataFrame\u001b[0m\u001b[1;33m(\u001b[0m\u001b[0mgempy_model\u001b[0m\u001b[1;33m)\u001b[0m\u001b[1;33m\u001b[0m\u001b[0m\n\u001b[0;32m      5\u001b[0m \u001b[1;33m\u001b[0m\u001b[0m\n",
      "\u001b[1;31mNameError\u001b[0m: name 'clf' is not defined"
     ]
    }
   ],
   "source": [
    "# extract gempy_model with coordinates and safe as file.csv\n",
    "gempy_model = {'layer': np.flipud(clf.lith_block[0]).astype(int), 'X': np.flipud(clf.geo_data.grid.values[:,0]), \n",
    "               'Y': np.flipud(clf.geo_data.grid.values[:,1]),'Z': np.flipud(clf.geo_data.grid.values[:,2])}\n",
    "lith_block = pd.DataFrame(gempy_model)\n",
    "\n",
    "lith_block.to_csv('../data/gempy_model_3layers_tilted.csv', index= False)"
   ]
  },
  {
   "cell_type": "markdown",
   "metadata": {},
   "source": [
    "### Create random synthetic well logs from GemPy model"
   ]
  },
  {
   "cell_type": "code",
   "execution_count": 3,
   "metadata": {},
   "outputs": [],
   "source": [
    "def create_syn_well_data(well_model, n_boreholes ,n_features, form_std):\n",
    "    \n",
    "    # well_model.layer = np.asarray(well_model.layer) - min(well_model.layer)\n",
    "    gp_res = well_model.gp_res.loc[0]\n",
    "    len_boreholes = int(gp_res - len(np.where(well_model.layer < 0)[0])/(gp_res**2))\n",
    "    well_model = well_model.drop('gp_res',axis=1)\n",
    "    layer = list(set(well_model.layer))\n",
    "    n_layers = len(layer)-1\n",
    "    layer = layer[:n_layers]\n",
    "    \n",
    "    # drop basement values\n",
    "    ind = []\n",
    "    for i in range(len(layer)):\n",
    "        ind.append(list(np.where(well_model.layer == layer[i])[0]))\n",
    "    ind_flat = [item for sublist in ind for item in sublist]\n",
    "    well_model = well_model.loc[ind_flat].sort_index()\n",
    "    well_model = well_model.reset_index(drop=True)\n",
    "    \n",
    "    # extract random wells from the Gempy model\n",
    "    BH_total = pd.DataFrame()\n",
    "    for i in range(0,n_boreholes):\n",
    "        a = int(len_boreholes* random.randint(0, int(len(well_model)/len_boreholes)-1))\n",
    "        BH = well_model.loc[a : a + len_boreholes-1]\n",
    "        BH['Well Name'] = 'BH{0}'.format(i+1) \n",
    "        BH_total = pd.concat([BH,BH_total]) \n",
    "    BH_total = BH_total.reset_index(drop=True)\n",
    "    \n",
    "    length = []\n",
    "    for i in range(n_layers):\n",
    "        length.append(len(np.where(BH_total.layer == layer[i])[0]))\n",
    "        \n",
    "    X, y = make_blobs(n_samples = max(length) * n_layers, n_features = n_features, \n",
    "                  centers = n_layers,\n",
    "                      random_state=42, cluster_std=form_std)\n",
    "    \n",
    "    for j in range(n_features):\n",
    "        for i in range(n_layers):\n",
    "            BH_total.loc[np.where(BH_total.layer == layer[i])[0],'feature{0}'.format(j+1)] = (\n",
    "                    X[np.where(y ==layer[i])[0],j][:len(np.where(BH_total.layer == layer[i])[0])] )   \n",
    "\n",
    "    BH_total = np.round(BH_total,2)\n",
    "    return BH_total, well_model"
   ]
  },
  {
   "cell_type": "code",
   "execution_count": 4,
   "metadata": {},
   "outputs": [
    {
     "name": "stderr",
     "output_type": "stream",
     "text": [
      "C:\\Users\\Public\\Anaconda3\\lib\\site-packages\\ipykernel_launcher.py:24: SettingWithCopyWarning: \n",
      "A value is trying to be set on a copy of a slice from a DataFrame.\n",
      "Try using .loc[row_indexer,col_indexer] = value instead\n",
      "\n",
      "See the caveats in the documentation: http://pandas.pydata.org/pandas-docs/stable/indexing.html#indexing-view-versus-copy\n"
     ]
    }
   ],
   "source": [
    "# load GemPy model from file.csv\n",
    "gempy_model = pd.read_csv('../data/gempy_model_4layers_90deg.csv')\n",
    "\n",
    "# create random synthetic well logs\n",
    "well_data2, well_model2 = create_syn_well_data(gempy_model, n_boreholes = 5, \n",
    "                                            n_features = 4, form_std = 6)\n",
    "\n",
    "# safe well logs as file.csv\n",
    "well_data2.to_csv('../data/test.csv', index = False)"
   ]
  },
  {
   "cell_type": "code",
   "execution_count": null,
   "metadata": {},
   "outputs": [],
   "source": []
  }
 ],
 "metadata": {
  "kernelspec": {
   "display_name": "Python 3",
   "language": "python",
   "name": "python3"
  },
  "language_info": {
   "codemirror_mode": {
    "name": "ipython",
    "version": 3
   },
   "file_extension": ".py",
   "mimetype": "text/x-python",
   "name": "python",
   "nbconvert_exporter": "python",
   "pygments_lexer": "ipython3",
   "version": "3.6.4"
  }
 },
 "nbformat": 4,
 "nbformat_minor": 2
}
