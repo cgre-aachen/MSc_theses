{
 "cells": [
  {
   "cell_type": "code",
   "execution_count": 3,
   "metadata": {},
   "outputs": [],
   "source": [
    "import numpy as np\n",
    "import pandas as pd\n",
    "import itertools as it\n",
    "\n",
    "import importlib\n",
    "import matplotlib.pyplot as plt\n",
    "%matplotlib inline\n",
    "\n",
    "import sys\n",
    "sys.path.append(\"C:/Users/Tobias Giesgen/PycharmProjects/gempy\")\n",
    "sys.path.append(\"../\")\n",
    "import bayseg\n",
    "import gempy as gp"
   ]
  },
  {
   "cell_type": "code",
   "execution_count": 4,
   "metadata": {},
   "outputs": [],
   "source": [
    "# data import\n",
    "data = pd.read_csv(\"../data/synthetic_well_data_3_layers_tilted.csv\")   # load the data from excel sheet  \n",
    "feature_names =  ['GR','NEUDEN','PE','IND'] #['GR','PHIND','PE','DeltaPHI','ILD_log10']  # define data that are considered by headers from excel sheet(Gamma Ray,Induction, Neutron-density, delta Neutron-density, Photoelectric effect)\n",
    "boreholes = ['BH1','BH2','BH3','BH4','BH5'] \n",
    "# ['SHRIMPLIN','SHANKLE','LUKE G U','CROSS H CATTLE','NOLAN','Recruit F9','NEWBY','CHURCHMAN BIBLE'] \n",
    "# list(set(data.loc[:,'Well Name']))\n",
    "#BH1 = data.loc[np.where(data == boreholes[1])[0],feature_names]             # extract all feature of one borehole\n",
    "#coords = data.loc[np.where(data == boreholes[1])[0],'Z']"
   ]
  },
  {
   "cell_type": "code",
   "execution_count": 5,
   "metadata": {},
   "outputs": [],
   "source": [
    "feature_vectors_norm = bayseg.normalize_feature_vectors(data.loc[:,feature_names])"
   ]
  },
  {
   "cell_type": "code",
   "execution_count": 6,
   "metadata": {},
   "outputs": [
    {
     "name": "stdout",
     "output_type": "stream",
     "text": [
      "The optimal number of layers is:  3\n"
     ]
    }
   ],
   "source": [
    "# Investigate the number of labels (one label can include several cluster)\n",
    "n, nft = bayseg.test_bic(feature_vectors_norm,12)"
   ]
  },
  {
   "cell_type": "code",
   "execution_count": 8,
   "metadata": {
    "scrolled": false
   },
   "outputs": [
    {
     "name": "stdout",
     "output_type": "stream",
     "text": [
      "Gempy model under construction:\n",
      "Borehole zoning finished!\n",
      "Compiling theano function...\n",
      "Compilation Done!\n",
      "Level of Optimization:  fast_compile\n",
      "Device:  cpu\n",
      "Precision:  float64\n",
      "Number of faults:  0\n",
      "Gempy model finished!\n"
     ]
    }
   ],
   "source": [
    "# perform BaySeg clustering\n",
    "clf = bayseg.BaySeg(feature_vectors_norm, n, data ,feature_names, boreholes, gp_resolution = 50, plot = '3dx')"
   ]
  },
  {
   "cell_type": "code",
   "execution_count": 9,
   "metadata": {},
   "outputs": [
    {
     "data": {
      "text/html": [
       "<div>\n",
       "<style scoped>\n",
       "    .dataframe tbody tr th:only-of-type {\n",
       "        vertical-align: middle;\n",
       "    }\n",
       "\n",
       "    .dataframe tbody tr th {\n",
       "        vertical-align: top;\n",
       "    }\n",
       "\n",
       "    .dataframe thead th {\n",
       "        text-align: right;\n",
       "    }\n",
       "</style>\n",
       "<table border=\"1\" class=\"dataframe\">\n",
       "  <thead>\n",
       "    <tr style=\"text-align: right;\">\n",
       "      <th></th>\n",
       "      <th></th>\n",
       "      <th>G_x</th>\n",
       "      <th>G_y</th>\n",
       "      <th>G_z</th>\n",
       "      <th>X</th>\n",
       "      <th>Y</th>\n",
       "      <th>Z</th>\n",
       "      <th>azimuth</th>\n",
       "      <th>dip</th>\n",
       "      <th>formation</th>\n",
       "      <th>formation_number</th>\n",
       "      <th>isFault</th>\n",
       "      <th>order_series</th>\n",
       "      <th>polarity</th>\n",
       "      <th>series</th>\n",
       "    </tr>\n",
       "  </thead>\n",
       "  <tbody>\n",
       "    <tr>\n",
       "      <th rowspan=\"16\" valign=\"top\">interfaces</th>\n",
       "      <th>0</th>\n",
       "      <td>NaN</td>\n",
       "      <td>NaN</td>\n",
       "      <td>NaN</td>\n",
       "      <td>50.0</td>\n",
       "      <td>50.0</td>\n",
       "      <td>40.0</td>\n",
       "      <td>NaN</td>\n",
       "      <td>NaN</td>\n",
       "      <td>Layer 1</td>\n",
       "      <td>1</td>\n",
       "      <td>False</td>\n",
       "      <td>1</td>\n",
       "      <td>NaN</td>\n",
       "      <td>Strat_Series</td>\n",
       "    </tr>\n",
       "    <tr>\n",
       "      <th>1</th>\n",
       "      <td>NaN</td>\n",
       "      <td>NaN</td>\n",
       "      <td>NaN</td>\n",
       "      <td>50.0</td>\n",
       "      <td>150.0</td>\n",
       "      <td>40.0</td>\n",
       "      <td>NaN</td>\n",
       "      <td>NaN</td>\n",
       "      <td>Layer 1</td>\n",
       "      <td>1</td>\n",
       "      <td>False</td>\n",
       "      <td>1</td>\n",
       "      <td>NaN</td>\n",
       "      <td>Strat_Series</td>\n",
       "    </tr>\n",
       "    <tr>\n",
       "      <th>2</th>\n",
       "      <td>NaN</td>\n",
       "      <td>NaN</td>\n",
       "      <td>NaN</td>\n",
       "      <td>150.0</td>\n",
       "      <td>50.0</td>\n",
       "      <td>100.0</td>\n",
       "      <td>NaN</td>\n",
       "      <td>NaN</td>\n",
       "      <td>Layer 1</td>\n",
       "      <td>1</td>\n",
       "      <td>False</td>\n",
       "      <td>1</td>\n",
       "      <td>NaN</td>\n",
       "      <td>Strat_Series</td>\n",
       "    </tr>\n",
       "    <tr>\n",
       "      <th>3</th>\n",
       "      <td>NaN</td>\n",
       "      <td>NaN</td>\n",
       "      <td>NaN</td>\n",
       "      <td>150.0</td>\n",
       "      <td>150.0</td>\n",
       "      <td>100.0</td>\n",
       "      <td>NaN</td>\n",
       "      <td>NaN</td>\n",
       "      <td>Layer 1</td>\n",
       "      <td>1</td>\n",
       "      <td>False</td>\n",
       "      <td>1</td>\n",
       "      <td>NaN</td>\n",
       "      <td>Strat_Series</td>\n",
       "    </tr>\n",
       "    <tr>\n",
       "      <th>4</th>\n",
       "      <td>NaN</td>\n",
       "      <td>NaN</td>\n",
       "      <td>NaN</td>\n",
       "      <td>100.0</td>\n",
       "      <td>100.0</td>\n",
       "      <td>70.0</td>\n",
       "      <td>NaN</td>\n",
       "      <td>NaN</td>\n",
       "      <td>Layer 1</td>\n",
       "      <td>1</td>\n",
       "      <td>False</td>\n",
       "      <td>1</td>\n",
       "      <td>NaN</td>\n",
       "      <td>Strat_Series</td>\n",
       "    </tr>\n",
       "    <tr>\n",
       "      <th>5</th>\n",
       "      <td>NaN</td>\n",
       "      <td>NaN</td>\n",
       "      <td>NaN</td>\n",
       "      <td>50.0</td>\n",
       "      <td>50.0</td>\n",
       "      <td>90.0</td>\n",
       "      <td>NaN</td>\n",
       "      <td>NaN</td>\n",
       "      <td>Layer 3</td>\n",
       "      <td>2</td>\n",
       "      <td>False</td>\n",
       "      <td>1</td>\n",
       "      <td>NaN</td>\n",
       "      <td>Strat_Series</td>\n",
       "    </tr>\n",
       "    <tr>\n",
       "      <th>6</th>\n",
       "      <td>NaN</td>\n",
       "      <td>NaN</td>\n",
       "      <td>NaN</td>\n",
       "      <td>50.0</td>\n",
       "      <td>150.0</td>\n",
       "      <td>90.0</td>\n",
       "      <td>NaN</td>\n",
       "      <td>NaN</td>\n",
       "      <td>Layer 3</td>\n",
       "      <td>2</td>\n",
       "      <td>False</td>\n",
       "      <td>1</td>\n",
       "      <td>NaN</td>\n",
       "      <td>Strat_Series</td>\n",
       "    </tr>\n",
       "    <tr>\n",
       "      <th>7</th>\n",
       "      <td>NaN</td>\n",
       "      <td>NaN</td>\n",
       "      <td>NaN</td>\n",
       "      <td>150.0</td>\n",
       "      <td>50.0</td>\n",
       "      <td>150.0</td>\n",
       "      <td>NaN</td>\n",
       "      <td>NaN</td>\n",
       "      <td>Layer 3</td>\n",
       "      <td>2</td>\n",
       "      <td>False</td>\n",
       "      <td>1</td>\n",
       "      <td>NaN</td>\n",
       "      <td>Strat_Series</td>\n",
       "    </tr>\n",
       "    <tr>\n",
       "      <th>8</th>\n",
       "      <td>NaN</td>\n",
       "      <td>NaN</td>\n",
       "      <td>NaN</td>\n",
       "      <td>150.0</td>\n",
       "      <td>150.0</td>\n",
       "      <td>150.0</td>\n",
       "      <td>NaN</td>\n",
       "      <td>NaN</td>\n",
       "      <td>Layer 3</td>\n",
       "      <td>2</td>\n",
       "      <td>False</td>\n",
       "      <td>1</td>\n",
       "      <td>NaN</td>\n",
       "      <td>Strat_Series</td>\n",
       "    </tr>\n",
       "    <tr>\n",
       "      <th>9</th>\n",
       "      <td>NaN</td>\n",
       "      <td>NaN</td>\n",
       "      <td>NaN</td>\n",
       "      <td>100.0</td>\n",
       "      <td>100.0</td>\n",
       "      <td>120.0</td>\n",
       "      <td>NaN</td>\n",
       "      <td>NaN</td>\n",
       "      <td>Layer 3</td>\n",
       "      <td>2</td>\n",
       "      <td>False</td>\n",
       "      <td>1</td>\n",
       "      <td>NaN</td>\n",
       "      <td>Strat_Series</td>\n",
       "    </tr>\n",
       "    <tr>\n",
       "      <th>10</th>\n",
       "      <td>NaN</td>\n",
       "      <td>NaN</td>\n",
       "      <td>NaN</td>\n",
       "      <td>50.0</td>\n",
       "      <td>50.0</td>\n",
       "      <td>200.0</td>\n",
       "      <td>NaN</td>\n",
       "      <td>NaN</td>\n",
       "      <td>Layer 2</td>\n",
       "      <td>3</td>\n",
       "      <td>False</td>\n",
       "      <td>1</td>\n",
       "      <td>NaN</td>\n",
       "      <td>Strat_Series</td>\n",
       "    </tr>\n",
       "    <tr>\n",
       "      <th>11</th>\n",
       "      <td>NaN</td>\n",
       "      <td>NaN</td>\n",
       "      <td>NaN</td>\n",
       "      <td>50.0</td>\n",
       "      <td>150.0</td>\n",
       "      <td>200.0</td>\n",
       "      <td>NaN</td>\n",
       "      <td>NaN</td>\n",
       "      <td>Layer 2</td>\n",
       "      <td>3</td>\n",
       "      <td>False</td>\n",
       "      <td>1</td>\n",
       "      <td>NaN</td>\n",
       "      <td>Strat_Series</td>\n",
       "    </tr>\n",
       "    <tr>\n",
       "      <th>12</th>\n",
       "      <td>NaN</td>\n",
       "      <td>NaN</td>\n",
       "      <td>NaN</td>\n",
       "      <td>150.0</td>\n",
       "      <td>50.0</td>\n",
       "      <td>200.0</td>\n",
       "      <td>NaN</td>\n",
       "      <td>NaN</td>\n",
       "      <td>Layer 2</td>\n",
       "      <td>3</td>\n",
       "      <td>False</td>\n",
       "      <td>1</td>\n",
       "      <td>NaN</td>\n",
       "      <td>Strat_Series</td>\n",
       "    </tr>\n",
       "    <tr>\n",
       "      <th>13</th>\n",
       "      <td>NaN</td>\n",
       "      <td>NaN</td>\n",
       "      <td>NaN</td>\n",
       "      <td>150.0</td>\n",
       "      <td>150.0</td>\n",
       "      <td>200.0</td>\n",
       "      <td>NaN</td>\n",
       "      <td>NaN</td>\n",
       "      <td>Layer 2</td>\n",
       "      <td>3</td>\n",
       "      <td>False</td>\n",
       "      <td>1</td>\n",
       "      <td>NaN</td>\n",
       "      <td>Strat_Series</td>\n",
       "    </tr>\n",
       "    <tr>\n",
       "      <th>14</th>\n",
       "      <td>NaN</td>\n",
       "      <td>NaN</td>\n",
       "      <td>NaN</td>\n",
       "      <td>100.0</td>\n",
       "      <td>100.0</td>\n",
       "      <td>200.0</td>\n",
       "      <td>NaN</td>\n",
       "      <td>NaN</td>\n",
       "      <td>Layer 2</td>\n",
       "      <td>3</td>\n",
       "      <td>False</td>\n",
       "      <td>1</td>\n",
       "      <td>NaN</td>\n",
       "      <td>Strat_Series</td>\n",
       "    </tr>\n",
       "    <tr>\n",
       "      <th>15</th>\n",
       "      <td>NaN</td>\n",
       "      <td>NaN</td>\n",
       "      <td>NaN</td>\n",
       "      <td>40.0</td>\n",
       "      <td>40.0</td>\n",
       "      <td>30.0</td>\n",
       "      <td>NaN</td>\n",
       "      <td>NaN</td>\n",
       "      <td>basement</td>\n",
       "      <td>4</td>\n",
       "      <td>False</td>\n",
       "      <td>1</td>\n",
       "      <td>NaN</td>\n",
       "      <td>Strat_Series</td>\n",
       "    </tr>\n",
       "    <tr>\n",
       "      <th rowspan=\"3\" valign=\"top\">orientations</th>\n",
       "      <th>0</th>\n",
       "      <td>-4.028158e-01</td>\n",
       "      <td>3.200703e-01</td>\n",
       "      <td>0.857493</td>\n",
       "      <td>100.0</td>\n",
       "      <td>100.0</td>\n",
       "      <td>70.0</td>\n",
       "      <td>-46.170152</td>\n",
       "      <td>30.963723</td>\n",
       "      <td>Layer 1</td>\n",
       "      <td>1</td>\n",
       "      <td>False</td>\n",
       "      <td>1</td>\n",
       "      <td>1.0</td>\n",
       "      <td>Strat_Series</td>\n",
       "    </tr>\n",
       "    <tr>\n",
       "      <th>1</th>\n",
       "      <td>-4.463843e-01</td>\n",
       "      <td>2.558256e-01</td>\n",
       "      <td>0.857493</td>\n",
       "      <td>100.0</td>\n",
       "      <td>100.0</td>\n",
       "      <td>120.0</td>\n",
       "      <td>-51.529984</td>\n",
       "      <td>30.963734</td>\n",
       "      <td>Layer 3</td>\n",
       "      <td>2</td>\n",
       "      <td>False</td>\n",
       "      <td>1</td>\n",
       "      <td>1.0</td>\n",
       "      <td>Strat_Series</td>\n",
       "    </tr>\n",
       "    <tr>\n",
       "      <th>2</th>\n",
       "      <td>1.000000e-07</td>\n",
       "      <td>1.000000e-07</td>\n",
       "      <td>1.000000</td>\n",
       "      <td>100.0</td>\n",
       "      <td>100.0</td>\n",
       "      <td>200.0</td>\n",
       "      <td>0.000000</td>\n",
       "      <td>180.000000</td>\n",
       "      <td>Layer 2</td>\n",
       "      <td>3</td>\n",
       "      <td>False</td>\n",
       "      <td>1</td>\n",
       "      <td>1.0</td>\n",
       "      <td>Strat_Series</td>\n",
       "    </tr>\n",
       "  </tbody>\n",
       "</table>\n",
       "</div>"
      ],
      "text/plain": [
       "                          G_x           G_y       G_z      X      Y      Z  \\\n",
       "interfaces   0            NaN           NaN       NaN   50.0   50.0   40.0   \n",
       "             1            NaN           NaN       NaN   50.0  150.0   40.0   \n",
       "             2            NaN           NaN       NaN  150.0   50.0  100.0   \n",
       "             3            NaN           NaN       NaN  150.0  150.0  100.0   \n",
       "             4            NaN           NaN       NaN  100.0  100.0   70.0   \n",
       "             5            NaN           NaN       NaN   50.0   50.0   90.0   \n",
       "             6            NaN           NaN       NaN   50.0  150.0   90.0   \n",
       "             7            NaN           NaN       NaN  150.0   50.0  150.0   \n",
       "             8            NaN           NaN       NaN  150.0  150.0  150.0   \n",
       "             9            NaN           NaN       NaN  100.0  100.0  120.0   \n",
       "             10           NaN           NaN       NaN   50.0   50.0  200.0   \n",
       "             11           NaN           NaN       NaN   50.0  150.0  200.0   \n",
       "             12           NaN           NaN       NaN  150.0   50.0  200.0   \n",
       "             13           NaN           NaN       NaN  150.0  150.0  200.0   \n",
       "             14           NaN           NaN       NaN  100.0  100.0  200.0   \n",
       "             15           NaN           NaN       NaN   40.0   40.0   30.0   \n",
       "orientations 0  -4.028158e-01  3.200703e-01  0.857493  100.0  100.0   70.0   \n",
       "             1  -4.463843e-01  2.558256e-01  0.857493  100.0  100.0  120.0   \n",
       "             2   1.000000e-07  1.000000e-07  1.000000  100.0  100.0  200.0   \n",
       "\n",
       "                   azimuth         dip formation  formation_number  isFault  \\\n",
       "interfaces   0         NaN         NaN   Layer 1                 1    False   \n",
       "             1         NaN         NaN   Layer 1                 1    False   \n",
       "             2         NaN         NaN   Layer 1                 1    False   \n",
       "             3         NaN         NaN   Layer 1                 1    False   \n",
       "             4         NaN         NaN   Layer 1                 1    False   \n",
       "             5         NaN         NaN   Layer 3                 2    False   \n",
       "             6         NaN         NaN   Layer 3                 2    False   \n",
       "             7         NaN         NaN   Layer 3                 2    False   \n",
       "             8         NaN         NaN   Layer 3                 2    False   \n",
       "             9         NaN         NaN   Layer 3                 2    False   \n",
       "             10        NaN         NaN   Layer 2                 3    False   \n",
       "             11        NaN         NaN   Layer 2                 3    False   \n",
       "             12        NaN         NaN   Layer 2                 3    False   \n",
       "             13        NaN         NaN   Layer 2                 3    False   \n",
       "             14        NaN         NaN   Layer 2                 3    False   \n",
       "             15        NaN         NaN  basement                 4    False   \n",
       "orientations 0  -46.170152   30.963723   Layer 1                 1    False   \n",
       "             1  -51.529984   30.963734   Layer 3                 2    False   \n",
       "             2    0.000000  180.000000   Layer 2                 3    False   \n",
       "\n",
       "                 order_series  polarity        series  \n",
       "interfaces   0              1       NaN  Strat_Series  \n",
       "             1              1       NaN  Strat_Series  \n",
       "             2              1       NaN  Strat_Series  \n",
       "             3              1       NaN  Strat_Series  \n",
       "             4              1       NaN  Strat_Series  \n",
       "             5              1       NaN  Strat_Series  \n",
       "             6              1       NaN  Strat_Series  \n",
       "             7              1       NaN  Strat_Series  \n",
       "             8              1       NaN  Strat_Series  \n",
       "             9              1       NaN  Strat_Series  \n",
       "             10             1       NaN  Strat_Series  \n",
       "             11             1       NaN  Strat_Series  \n",
       "             12             1       NaN  Strat_Series  \n",
       "             13             1       NaN  Strat_Series  \n",
       "             14             1       NaN  Strat_Series  \n",
       "             15             1       NaN  Strat_Series  \n",
       "orientations 0              1       1.0  Strat_Series  \n",
       "             1              1       1.0  Strat_Series  \n",
       "             2              1       1.0  Strat_Series  "
      ]
     },
     "execution_count": 9,
     "metadata": {},
     "output_type": "execute_result"
    }
   ],
   "source": [
    "clf.geo_data.get_data('all')"
   ]
  },
  {
   "cell_type": "code",
   "execution_count": 6,
   "metadata": {},
   "outputs": [
    {
     "data": {
      "text/html": [
       "<div>\n",
       "<style scoped>\n",
       "    .dataframe tbody tr th:only-of-type {\n",
       "        vertical-align: middle;\n",
       "    }\n",
       "\n",
       "    .dataframe tbody tr th {\n",
       "        vertical-align: top;\n",
       "    }\n",
       "\n",
       "    .dataframe thead th {\n",
       "        text-align: right;\n",
       "    }\n",
       "</style>\n",
       "<table border=\"1\" class=\"dataframe\">\n",
       "  <thead>\n",
       "    <tr style=\"text-align: right;\">\n",
       "      <th></th>\n",
       "      <th>value</th>\n",
       "      <th>formation_number</th>\n",
       "    </tr>\n",
       "  </thead>\n",
       "  <tbody>\n",
       "    <tr>\n",
       "      <th>Layer 2</th>\n",
       "      <td>1</td>\n",
       "      <td>1</td>\n",
       "    </tr>\n",
       "    <tr>\n",
       "      <th>Layer 3</th>\n",
       "      <td>2</td>\n",
       "      <td>2</td>\n",
       "    </tr>\n",
       "    <tr>\n",
       "      <th>Layer 1</th>\n",
       "      <td>3</td>\n",
       "      <td>3</td>\n",
       "    </tr>\n",
       "    <tr>\n",
       "      <th>basement</th>\n",
       "      <td>4</td>\n",
       "      <td>4</td>\n",
       "    </tr>\n",
       "  </tbody>\n",
       "</table>\n",
       "</div>"
      ],
      "text/plain": [
       "          value  formation_number\n",
       "Layer 2       1                 1\n",
       "Layer 3       2                 2\n",
       "Layer 1       3                 3\n",
       "basement      4                 4"
      ]
     },
     "execution_count": 6,
     "metadata": {},
     "output_type": "execute_result"
    }
   ],
   "source": [
    "clf.geo_data.formations"
   ]
  },
  {
   "cell_type": "code",
   "execution_count": 14,
   "metadata": {},
   "outputs": [
    {
     "name": "stderr",
     "output_type": "stream",
     "text": [
      "C:\\Users\\Public\\Anaconda3\\lib\\site-packages\\gempy\\gempy_front.py:950: FutureWarning: gempy plotting functionality will be moved in version 1.2, use gempy.plotting module instead\n",
      "  \"use gempy.plotting module instead\", FutureWarning)\n"
     ]
    },
    {
     "data": {
      "text/plain": [
       "<gempy.plotting.visualization.vtkVisualization at 0x1cd30617fd0>"
      ]
     },
     "execution_count": 14,
     "metadata": {},
     "output_type": "execute_result"
    }
   ],
   "source": [
    "gp.plotting.plot_data_3D(clf.geo_data)"
   ]
  },
  {
   "cell_type": "code",
   "execution_count": 24,
   "metadata": {},
   "outputs": [
    {
     "name": "stdout",
     "output_type": "stream",
     "text": [
      "[-5.14495755e-01 -1.35009822e-18  8.57492926e-01]\n"
     ]
    }
   ],
   "source": [
    "gp.set_orientation_from_interfaces(clf.geo_data,[0,2,4])"
   ]
  },
  {
   "cell_type": "code",
   "execution_count": 15,
   "metadata": {},
   "outputs": [
    {
     "data": {
      "text/html": [
       "<div>\n",
       "<style scoped>\n",
       "    .dataframe tbody tr th:only-of-type {\n",
       "        vertical-align: middle;\n",
       "    }\n",
       "\n",
       "    .dataframe tbody tr th {\n",
       "        vertical-align: top;\n",
       "    }\n",
       "\n",
       "    .dataframe thead th {\n",
       "        text-align: right;\n",
       "    }\n",
       "</style>\n",
       "<table border=\"1\" class=\"dataframe\">\n",
       "  <thead>\n",
       "    <tr style=\"text-align: right;\">\n",
       "      <th></th>\n",
       "      <th>X</th>\n",
       "      <th>Y</th>\n",
       "      <th>Z</th>\n",
       "      <th>G_x</th>\n",
       "      <th>G_y</th>\n",
       "      <th>G_z</th>\n",
       "      <th>dip</th>\n",
       "      <th>azimuth</th>\n",
       "      <th>polarity</th>\n",
       "      <th>formation</th>\n",
       "      <th>series</th>\n",
       "      <th>formation_number</th>\n",
       "      <th>order_series</th>\n",
       "      <th>isFault</th>\n",
       "    </tr>\n",
       "  </thead>\n",
       "  <tbody>\n",
       "    <tr>\n",
       "      <th>0</th>\n",
       "      <td>50.000000</td>\n",
       "      <td>116.667</td>\n",
       "      <td>50.0</td>\n",
       "      <td>9.996076e-08</td>\n",
       "      <td>-1.133178e-05</td>\n",
       "      <td>-1.0</td>\n",
       "      <td>0.000447</td>\n",
       "      <td>-0.000223</td>\n",
       "      <td>-1.0</td>\n",
       "      <td>Layer 1</td>\n",
       "      <td>Strat_Series</td>\n",
       "      <td>1</td>\n",
       "      <td>1</td>\n",
       "      <td>False</td>\n",
       "    </tr>\n",
       "    <tr>\n",
       "      <th>1</th>\n",
       "      <td>150.000000</td>\n",
       "      <td>83.3333</td>\n",
       "      <td>100.0</td>\n",
       "      <td>-1.288302e-07</td>\n",
       "      <td>-4.784555e-04</td>\n",
       "      <td>-1.0</td>\n",
       "      <td>0.000655</td>\n",
       "      <td>0.000197</td>\n",
       "      <td>-1.0</td>\n",
       "      <td>Layer 4</td>\n",
       "      <td>Strat_Series</td>\n",
       "      <td>2</td>\n",
       "      <td>1</td>\n",
       "      <td>False</td>\n",
       "    </tr>\n",
       "    <tr>\n",
       "      <th>2</th>\n",
       "      <td>83.333333</td>\n",
       "      <td>83.3333</td>\n",
       "      <td>150.0</td>\n",
       "      <td>1.000000e-07</td>\n",
       "      <td>1.000000e-07</td>\n",
       "      <td>1.0</td>\n",
       "      <td>180.000000</td>\n",
       "      <td>0.000000</td>\n",
       "      <td>1.0</td>\n",
       "      <td>Layer 2</td>\n",
       "      <td>Strat_Series</td>\n",
       "      <td>3</td>\n",
       "      <td>1</td>\n",
       "      <td>False</td>\n",
       "    </tr>\n",
       "    <tr>\n",
       "      <th>3</th>\n",
       "      <td>116.666667</td>\n",
       "      <td>116.667</td>\n",
       "      <td>200.0</td>\n",
       "      <td>1.000000e-07</td>\n",
       "      <td>1.000000e-07</td>\n",
       "      <td>1.0</td>\n",
       "      <td>180.000000</td>\n",
       "      <td>0.000000</td>\n",
       "      <td>1.0</td>\n",
       "      <td>Layer 3</td>\n",
       "      <td>Strat_Series</td>\n",
       "      <td>4</td>\n",
       "      <td>1</td>\n",
       "      <td>False</td>\n",
       "    </tr>\n",
       "  </tbody>\n",
       "</table>\n",
       "</div>"
      ],
      "text/plain": [
       "            X        Y      Z           G_x           G_y  G_z         dip  \\\n",
       "0   50.000000  116.667   50.0  9.996076e-08 -1.133178e-05 -1.0    0.000447   \n",
       "1  150.000000  83.3333  100.0 -1.288302e-07 -4.784555e-04 -1.0    0.000655   \n",
       "2   83.333333  83.3333  150.0  1.000000e-07  1.000000e-07  1.0  180.000000   \n",
       "3  116.666667  116.667  200.0  1.000000e-07  1.000000e-07  1.0  180.000000   \n",
       "\n",
       "    azimuth  polarity formation        series  formation_number  order_series  \\\n",
       "0 -0.000223      -1.0   Layer 1  Strat_Series                 1             1   \n",
       "1  0.000197      -1.0   Layer 4  Strat_Series                 2             1   \n",
       "2  0.000000       1.0   Layer 2  Strat_Series                 3             1   \n",
       "3  0.000000       1.0   Layer 3  Strat_Series                 4             1   \n",
       "\n",
       "   isFault  \n",
       "0    False  \n",
       "1    False  \n",
       "2    False  \n",
       "3    False  "
      ]
     },
     "execution_count": 15,
     "metadata": {},
     "output_type": "execute_result"
    }
   ],
   "source": [
    "clf.geo_data.get_data('orientations')"
   ]
  },
  {
   "cell_type": "code",
   "execution_count": 20,
   "metadata": {
    "scrolled": false
   },
   "outputs": [
    {
     "name": "stderr",
     "output_type": "stream",
     "text": [
      "\r",
      "  0%|                                                                                            | 0/5 [00:00<?, ?it/s]"
     ]
    },
    {
     "name": "stdout",
     "output_type": "stream",
     "text": [
      "Gempy model under construction:\n",
      "Borehole 1 of 5 is zoned...\n",
      "Borehole 2 of 5 is zoned...\n",
      "Borehole 3 of 5 is zoned...\n",
      "Borehole 4 of 5 is zoned...\n",
      "Borehole 5 of 5 is zoned...\n",
      "Borehole zoning finished!\n",
      "[-0.51449576  0.          0.85749293]\n",
      "[-0.51449576  0.          0.85749293]\n",
      "[0. 0. 1.]\n"
     ]
    },
    {
     "name": "stderr",
     "output_type": "stream",
     "text": [
      "\r",
      " 20%|████████████████▊                                                                   | 1/5 [00:02<00:08,  2.12s/it]"
     ]
    },
    {
     "name": "stdout",
     "output_type": "stream",
     "text": [
      "Gempy model under construction:\n",
      "Borehole 1 of 5 is zoned...\n",
      "Borehole 2 of 5 is zoned...\n",
      "Borehole 3 of 5 is zoned...\n",
      "Borehole 4 of 5 is zoned...\n",
      "Borehole 5 of 5 is zoned...\n",
      "Borehole zoning finished!\n",
      "[-0.51449576  0.          0.85749293]\n",
      "[-0.51449576  0.          0.85749293]\n",
      "[0. 0. 1.]\n"
     ]
    },
    {
     "name": "stderr",
     "output_type": "stream",
     "text": [
      "\r",
      " 40%|█████████████████████████████████▌                                                  | 2/5 [00:04<00:06,  2.14s/it]"
     ]
    },
    {
     "name": "stdout",
     "output_type": "stream",
     "text": [
      "Gempy model under construction:\n",
      "Borehole 1 of 5 is zoned...\n",
      "Borehole 2 of 5 is zoned...\n",
      "Borehole 3 of 5 is zoned...\n",
      "Borehole 4 of 5 is zoned...\n",
      "Borehole 5 of 5 is zoned...\n",
      "Borehole zoning finished!\n",
      "[-0.51449576  0.          0.85749293]\n",
      "[-0.51449576  0.          0.85749293]\n",
      "[0. 0. 1.]\n"
     ]
    },
    {
     "name": "stderr",
     "output_type": "stream",
     "text": [
      "\r",
      " 60%|██████████████████████████████████████████████████▍                                 | 3/5 [00:06<00:04,  2.12s/it]"
     ]
    },
    {
     "name": "stdout",
     "output_type": "stream",
     "text": [
      "Gempy model under construction:\n",
      "Borehole 1 of 5 is zoned...\n",
      "Borehole 2 of 5 is zoned...\n",
      "Borehole 3 of 5 is zoned...\n",
      "Borehole 4 of 5 is zoned...\n",
      "Borehole 5 of 5 is zoned...\n",
      "Borehole zoning finished!\n",
      "[-0.51449576  0.          0.85749293]\n",
      "[-0.51449576  0.          0.85749293]\n",
      "[0. 0. 1.]\n"
     ]
    },
    {
     "name": "stderr",
     "output_type": "stream",
     "text": [
      "\r",
      " 80%|███████████████████████████████████████████████████████████████████▏                | 4/5 [00:08<00:02,  2.09s/it]"
     ]
    },
    {
     "name": "stdout",
     "output_type": "stream",
     "text": [
      "Gempy model under construction:\n",
      "Borehole 1 of 5 is zoned...\n",
      "Borehole 2 of 5 is zoned...\n",
      "Borehole 3 of 5 is zoned...\n",
      "Borehole 4 of 5 is zoned...\n",
      "Borehole 5 of 5 is zoned...\n",
      "Borehole zoning finished!\n",
      "[-0.51449576  0.          0.85749293]\n",
      "[-0.51449576  0.          0.85749293]\n",
      "[0. 0. 1.]\n"
     ]
    },
    {
     "name": "stderr",
     "output_type": "stream",
     "text": [
      "100%|████████████████████████████████████████████████████████████████████████████████████| 5/5 [00:10<00:00,  2.08s/it]\n"
     ]
    }
   ],
   "source": [
    "clf.fit(5, # number of iterations\n",
    "        beta_jump_length=2, \n",
    "        mu_jump_length=0.0005, \n",
    "        cov_volume_jump_length=0.00005, \n",
    "        theta_jump_length=0.0000005, verbose=False, plot=False)"
   ]
  },
  {
   "cell_type": "code",
   "execution_count": 14,
   "metadata": {},
   "outputs": [
    {
     "name": "stdout",
     "output_type": "stream",
     "text": [
      "Gempy coordinates        |      Well data coordinates\n",
      "_____________________________________________________\n",
      "[ 50.8  50.8 161.7]      |      [ 50  50 160]\n",
      "[ 50.8  50.8 191.1]      |      [ 50  50 190]\n",
      "[ 50.8 149.2  18.9]      |      [ 50 150  20]\n",
      "[ 50.8 149.2  48.3]      |      [ 50 150  50]\n",
      "[ 50.8 149.2  81.9]      |      [ 50 150  80]\n",
      "[ 50.8 149.2 111.3]      |      [ 50 150 110]\n",
      "[ 50.8 149.2 140.7]      |      [ 50 150 140]\n",
      "[ 50.8 149.2 170.1]      |      [ 50 150 170]\n",
      "[ 50.8 149.2 199.5]      |      [ 50 150 200]\n",
      "[149.2  50.8  31.5]      |      [150  50  30]\n",
      "[149.2  50.8  60.9]      |      [150  50  60]\n",
      "[149.2  50.8  90.3]      |      [150  50  90]\n",
      "[149.2  50.8 119.7]      |      [150  50 120]\n",
      "[149.2  50.8 149.1]      |      [150  50 150]\n",
      "[149.2  50.8 178.5]      |      [150  50 180]\n"
     ]
    }
   ],
   "source": [
    "# compare coordinates from GemPy grid and coordinates from raw well data (BaySeg)\n",
    "print('Gempy coordinates        |      Well data coordinates')\n",
    "print('_____________________________________________________')\n",
    "for i in range(15):    \n",
    "    print(clf.index_temp[clf.index_gempy[15+i*3]],'     |     ',clf.coords[15+i*3])"
   ]
  },
  {
   "cell_type": "code",
   "execution_count": 24,
   "metadata": {},
   "outputs": [
    {
     "name": "stdout",
     "output_type": "stream",
     "text": [
      "Gibbs energy GemPy  |  Gibbs energy BaySeg   |   Likelihood\n",
      "______________________________________________________________________\n",
      "[0.   2.61 2.61]    |    [0.   0.65 0.65]    |    [ -5.11 793.47 650.11]\n",
      "[0.   2.61 2.61]    |    [0.   1.31 1.31]    |    [ -7.59 742.98 643.51]\n",
      "[0.   2.61 2.61]    |    [0.   1.31 1.31]    |    [ -7.94 769.53 615.91]\n",
      "[0.65 2.61 1.96]    |    [0.65 1.31 0.65]    |    [ -7.34 753.49 623.94]\n",
      "[2.61 2.61 0.  ]    |    [0.65 1.31 0.65]    |    [ 776.4  2174.09   -7.01]\n",
      "[2.61 0.65 1.96]    |    [1.31 1.31 0.  ]    |    [ 779.27 2184.78   -8.08]\n",
      "[2.61 0.   2.61]    |    [1.31 1.31 0.  ]    |    [ 750.45 2149.11   -6.17]\n",
      "[2.61 0.   2.61]    |    [1.31 1.31 0.  ]    |    [ 782.32 2235.68   -6.21]\n",
      "[2.61 1.31 1.31]    |    [1.31 0.65 0.65]    |    [ 811.64 2298.55   -6.09]\n",
      "[2.61 2.61 0.  ]    |    [1.31 0.65 0.65]    |    [1264.29   -8.06 2296.51]\n",
      "[2.61 2.61 0.  ]    |    [1.31 0.   1.31]    |    [1198.01   -5.54 2263.08]\n",
      "[0.   2.61 2.61]    |    [1.31 0.   1.31]    |    [1225.85   -5.43 2263.41]\n",
      "[0.   2.61 2.61]    |    [1.31 0.   1.31]    |    [1183.8    -5.97 2265.36]\n",
      "[0.   2.61 2.61]    |    [1.31 0.   1.31]    |    [1244.75   -5.77 2321.65]\n",
      "[0.   2.61 2.61]    |    [1.31 0.   1.31]    |    [1280.16   -6.72 2371.55]\n"
     ]
    }
   ],
   "source": [
    "# compare Gibbs energies calcluated from Gempy model 2D (X,Y) and BaySeg well data 1D (Z)\n",
    "print('Gibbs energy GemPy  |  Gibbs energy BaySeg   |   Likelihood')\n",
    "print('______________________________________________________________________')\n",
    "for i in range(15):# len(clf.gempy_energy)):\n",
    "    print(np.around(clf.storage_gempy_e[-1][i],2),'   |   ',np.around(clf.storage_gibbs_e[-1][i],2),'   |   ',np.around(clf.storage_like_e[-1][i],2))"
   ]
  },
  {
   "cell_type": "code",
   "execution_count": 25,
   "metadata": {},
   "outputs": [],
   "source": [
    "# clf.storage_te[0]\n",
    "# total energy = energy likelihood + gibbs energy # + gempy_energy (100*4)"
   ]
  },
  {
   "cell_type": "code",
   "execution_count": 57,
   "metadata": {},
   "outputs": [],
   "source": [
    "# clf.storage_gibbs_e[0]  \n",
    "# Size of all storage_files:\n",
    "#  10 * 100 * 4  [iterations * data points * labels]"
   ]
  },
  {
   "cell_type": "code",
   "execution_count": 49,
   "metadata": {},
   "outputs": [],
   "source": [
    "# clf.storage_like_e[0] \n",
    "# The higher the energy likelihood of a label for an element, \n",
    "#   the lower the likelihood that it belongs to that label"
   ]
  },
  {
   "cell_type": "code",
   "execution_count": 53,
   "metadata": {},
   "outputs": [],
   "source": [
    "# clf.labels_probability[0]"
   ]
  },
  {
   "cell_type": "code",
   "execution_count": null,
   "metadata": {},
   "outputs": [],
   "source": [
    "#clf.interp_data.update_interpolator(new_geo_data) # you only need to update when the input data changes (check with miguel)"
   ]
  },
  {
   "cell_type": "code",
   "execution_count": 17,
   "metadata": {
    "scrolled": true
   },
   "outputs": [
    {
     "data": {
      "image/png": "[encoded data removed]",
      "text/plain": [
       "<matplotlib.figure.Figure at 0x1ebadac4828>"
      ]
     },
     "metadata": {},
     "output_type": "display_data"
    }
   ],
   "source": [
    "gp.plot_section(clf.geo_data, clf.lith_block[0], cell_number=10,  direction='y', plot_data=True)"
   ]
  },
  {
   "cell_type": "code",
   "execution_count": 96,
   "metadata": {},
   "outputs": [],
   "source": [
    "#clf.lith_block[0].reshape(30,30,30)"
   ]
  },
  {
   "cell_type": "code",
   "execution_count": 102,
   "metadata": {},
   "outputs": [],
   "source": [
    "coords = []\n",
    "for i in range(len(clf.gempy.X.values)):\n",
    "    coords.append( [item[i] for item in [clf.gempy.X.values, clf.gempy.Y.values, clf.gempy.Z.values]])"
   ]
  },
  {
   "cell_type": "markdown",
   "metadata": {},
   "source": [
    "n = 4 # number of labels\n",
    "var_t = []\n",
    "var_bz = []\n",
    "\n",
    "for i in range(2,len(BH1_norm)-(n-1)):\n",
    "    if n == 2:\n",
    "        var_t.append((np.sum(np.var(BH1_norm[0:i]))+np.sum(np.var(BH1_norm[i:-1])),i))\n",
    "        var_bz.append((np.var([np.mean(BH1_norm[0:i]),np.mean(BH1_norm[i:-1])]),i))\n",
    "    else:\n",
    "        for j in range(i+2,len(BH1_norm)-(n-2)):\n",
    "            if n == 3:\n",
    "                var_t.append((np.sum(np.var(BH1_norm[0:i])) + np.sum(np.var(BH1_norm[i:j])) + np.sum(np.var(BH1_norm[j:-1])),i,j))\n",
    "                var_bz.append((np.var([np.mean(BH1_norm[0:i]),np.mean(BH1_norm[i:j]),np.mean(BH1_norm[j:-1])]),i,j))\n",
    "                #boundaries = np.where(var_t == min(var_t))[0][0] + 2\n",
    "            else:\n",
    "                for k in range(j+2,len(BH1_norm)-(n-3)):\n",
    "                    if n == 4:\n",
    "                        var_t.append((np.sum(np.var(BH1_norm[0:i])) + np.sum(np.var(BH1_norm[i:j])) + np.sum(np.var(BH1_norm[j:k]))+ np.sum(np.var(BH1_norm[k:-1])),i,j,k))\n",
    "                        var_bz.append((np.var([np.mean(BH1_norm[0:i]),np.mean(BH1_norm[i:j]),np.mean(BH1_norm[j:k]),np.mean(BH1_norm[k:-1])]),i,j,k))\n",
    "                    else:\n",
    "                        for l in range(k+2,len(BH1_norm)-(n-4)): # check from here\n",
    "                            if n == 5:\n",
    "                                var_t.append((np.sum(np.var(BH1_norm[0:i])) + np.sum(np.var(BH1_norm[i:j])) + np.sum(np.var(BH1_norm[j:k]))+ np.sum(np.var(BH1_norm[k:l]))+ np.sum(np.var(BH1_norm[l:-1])),i,j,k,l))\n",
    "                                var_bz.append((np.var([np.mean(BH1_norm[0:i]),np.mean(BH1_norm[i:j]),np.mean(BH1_norm[j:k]),np.mean(BH1_norm[k:-1])]),i,j,k))\n",
    "                            else:\n",
    "                                for m in range(l+2,len(BH1_norm)-(n-5)):\n",
    "                                    if n == 6:\n",
    "                                        var_t.append((np.sum(np.var(BH1_norm[0:i])) + np.sum(np.var(BH1_norm[i:j])) + np.sum(np.var(BH1_norm[j:k]))+ + np.sum(np.var(BH1_norm[k:l]))+ np.sum(np.var(BH1_norm[l:m]))+ np.sum(np.var(BH1_norm[m:-1])),i,j,k,l,m))\n",
    "                                        var_bz.append((np.var([np.mean(BH1_norm[0:i]),np.mean(BH1_norm[i:j]),np.mean(BH1_norm[j:k]),np.mean(BH1_norm[k:-1])]),i,j,k))\n",
    "                                    else: pass\n",
    "                        \n",
    "boundaries = min(var_t)[1:n]\n",
    "boundaries2 = max(var_bz)[1:n]"
   ]
  },
  {
   "cell_type": "markdown",
   "metadata": {},
   "source": [
    "***Plotting***"
   ]
  },
  {
   "cell_type": "code",
   "execution_count": 140,
   "metadata": {},
   "outputs": [
    {
     "data": {
      "image/png": "[encoded data removed]",
      "text/plain": [
       "<matplotlib.figure.Figure at 0x2533bedaef0>"
      ]
     },
     "metadata": {},
     "output_type": "display_data"
    }
   ],
   "source": [
    "plt.figure(figsize = (3,16))\n",
    "plt.plot(BH1_norm.loc[:,'PE'],coords,'r')\n",
    "plt.plot(BH1_norm.loc[:,'GR'],coords,'b')\n",
    "plt.plot(BH1_norm.loc[:,'IND'],coords,'y')\n",
    "plt.plot(BH1_norm.loc[:,'NEUDEN'],coords,'g')\n",
    "plt.plot(clf.labels[-1],coords,'k--')\n",
    "for i in range(0,n-1):\n",
    "    plt.plot(np.arange(-2,max(clf.labels[-1])+1),np.ones(len(np.arange(-2,max(clf.labels[-1])+1)))*coords[boundaries[i]]-5,'k')\n",
    "for k in range(0,n-1):\n",
    "    plt.plot(np.arange(-2,max(clf.labels[-1])+1),np.ones(len(np.arange(-2,max(clf.labels[-1])+1)))*coords[boundaries2[k]]-5,'r--')\n",
    "plt.xlabel('normalized value')\n",
    "plt.ylabel('depth [m]')\n",
    "ax = plt.gca()\n",
    "ax.invert_yaxis()"
   ]
  },
  {
   "cell_type": "code",
   "execution_count": null,
   "metadata": {},
   "outputs": [],
   "source": []
  }
 ],
 "metadata": {
  "kernelspec": {
   "display_name": "Python 3",
   "language": "python",
   "name": "python3"
  },
  "language_info": {
   "codemirror_mode": {
    "name": "ipython",
    "version": 3
   },
   "file_extension": ".py",
   "mimetype": "text/x-python",
   "name": "python",
   "nbconvert_exporter": "python",
   "pygments_lexer": "ipython3",
   "version": "3.6.4"
  }
 },
 "nbformat": 4,
 "nbformat_minor": 2
}
